{
 "cells": [
  {
   "cell_type": "markdown",
   "metadata": {},
   "source": [
    "# DC-《野蛮时代》用户氪金预测分析"
   ]
  },
  {
   "cell_type": "markdown",
   "metadata": {},
   "source": [
    "**项目背景**\n",
    "\n",
    "移动互联网的崛起改变了游戏行业的面貌，从之前的街机、掌机psp发展到PC端游戏，现在手游已经成为人们最热爱的游戏形式，与之对应的游戏盈利模型的改变，从之前的线下售卖游戏版权、游戏时长(点卡)，到现在的游戏免费下载但是增值服务花样百出，对于手游来说，用户氪金已经成为了游戏公司重要的盈利来源之一，本项目针对《野蛮时代》这款SLG游戏进行用户氪金行为分析以及用户氪金金额预测。\n",
    "\n",
    "本项目分为两部分，第一部分为对用户的游玩行为和氪金行为进行探索性分析，第二部分为基于用户前7天的氪金数据和行为，对45天用户是否氪金、氪金金额进行分类与回归预测\n",
    "\n",
    "\n",
    "**探索性分析：游戏用户行为数据的深度探索**\n",
    "- 1. 导入数据，了解数据基本信息<br>\n",
    "    1.1 理解SLG游戏数据的特征<br>\n",
    "    1.2 缺失/重复值<br>\n",
    "- 2. 标签的探索：游戏经营的重要指标与经营现状<br>\n",
    "- 3. 特征的探索<br>\n",
    "    3.1 在线时长：用户是否以超出常规的速度流失？<br>\n",
    "    3.2 分布与偏度：游戏对新手友好吗？游戏难度设置是否合理？<br>\n",
    "    3.3 游戏平衡性：氪金对战斗系统的影响<br>\n",
    "    3.4 左偏带来长尾：谁是异常玩家？<br>\n",
    "\n",
    "\n",
    "**模型构筑：从0实现用户氪金行为预测**\n",
    "- 1. 导库、整合数据<br>\n",
    "- 2. 数据预处理：注册时间与氪金状况的关联<br>\n",
    "- 3. 模型选择，建立模型benchmark<br>\n",
    "- 4. 特征工程(1)：根据业务模式新增特征<br>\n",
    "    4.1 新增业务指标新增特征<br>\n",
    "    4.2 根据业务结论新增特征<br>\n",
    "- 5. 特征工程(2)：达成建模所需的统计假设<br>\n",
    "    5.1 相关性分析：筛选特征/特征重要性<br>\n",
    "    5.2 训练/测试集分割的调优<br>\n",
    "    5.3 异常值处理<br>\n",
    "    5.4 归一化处理<br>\n",
    "    5.5 正态化处理<br>\n",
    "- 6. 模型融合：处理极度偏态、异常以及数据量带来的问题<br>\n",
    "- 7. 模型调优<br> "
   ]
  },
  {
   "cell_type": "markdown",
   "metadata": {},
   "source": [
    "# 用户行为探索性分析"
   ]
  },
  {
   "cell_type": "markdown",
   "metadata": {},
   "source": [
    "### 1. 导入数据，了解数据基本信息"
   ]
  },
  {
   "cell_type": "code",
   "execution_count": 128,
   "metadata": {},
   "outputs": [],
   "source": [
    "import pandas as pd\n",
    "import numpy as np\n",
    "import matplotlib.pyplot as plt\n",
    "%matplotlib inline\n",
    "plt.rcParams['font.sans-serif']=['Simhei'] #让jupyter中的图画上的中文都显示出来\n",
    "plt.rcParams['axes.unicode_minus']=False\n",
    "\n",
    "import sklearn\n",
    "import time\n",
    "import datetime"
   ]
  },
  {
   "cell_type": "code",
   "execution_count": 5,
   "metadata": {},
   "outputs": [],
   "source": [
    "data = pd.read_csv(r\"tap_fun_train.csv\")"
   ]
  },
  {
   "cell_type": "code",
   "execution_count": 6,
   "metadata": {},
   "outputs": [
    {
     "data": {
      "text/html": [
       "<div>\n",
       "<style scoped>\n",
       "    .dataframe tbody tr th:only-of-type {\n",
       "        vertical-align: middle;\n",
       "    }\n",
       "\n",
       "    .dataframe tbody tr th {\n",
       "        vertical-align: top;\n",
       "    }\n",
       "\n",
       "    .dataframe thead th {\n",
       "        text-align: right;\n",
       "    }\n",
       "</style>\n",
       "<table border=\"1\" class=\"dataframe\">\n",
       "  <thead>\n",
       "    <tr style=\"text-align: right;\">\n",
       "      <th></th>\n",
       "      <th>user_id</th>\n",
       "      <th>register_time</th>\n",
       "      <th>wood_add_value</th>\n",
       "      <th>wood_reduce_value</th>\n",
       "      <th>stone_add_value</th>\n",
       "      <th>stone_reduce_value</th>\n",
       "      <th>ivory_add_value</th>\n",
       "      <th>ivory_reduce_value</th>\n",
       "      <th>meat_add_value</th>\n",
       "      <th>meat_reduce_value</th>\n",
       "      <th>...</th>\n",
       "      <th>pvp_battle_count</th>\n",
       "      <th>pvp_lanch_count</th>\n",
       "      <th>pvp_win_count</th>\n",
       "      <th>pve_battle_count</th>\n",
       "      <th>pve_lanch_count</th>\n",
       "      <th>pve_win_count</th>\n",
       "      <th>avg_online_minutes</th>\n",
       "      <th>pay_price</th>\n",
       "      <th>pay_count</th>\n",
       "      <th>prediction_pay_price</th>\n",
       "    </tr>\n",
       "  </thead>\n",
       "  <tbody>\n",
       "    <tr>\n",
       "      <th>0</th>\n",
       "      <td>1</td>\n",
       "      <td>2018-02-02 19:47:15</td>\n",
       "      <td>20125.0</td>\n",
       "      <td>3700.0</td>\n",
       "      <td>0.0</td>\n",
       "      <td>0.0</td>\n",
       "      <td>0.0</td>\n",
       "      <td>0.0</td>\n",
       "      <td>16375.0</td>\n",
       "      <td>2000.0</td>\n",
       "      <td>...</td>\n",
       "      <td>0</td>\n",
       "      <td>0</td>\n",
       "      <td>0</td>\n",
       "      <td>0</td>\n",
       "      <td>0</td>\n",
       "      <td>0</td>\n",
       "      <td>0.333333</td>\n",
       "      <td>0.0</td>\n",
       "      <td>0</td>\n",
       "      <td>0.0</td>\n",
       "    </tr>\n",
       "    <tr>\n",
       "      <th>1</th>\n",
       "      <td>1593</td>\n",
       "      <td>2018-01-26 00:01:05</td>\n",
       "      <td>0.0</td>\n",
       "      <td>0.0</td>\n",
       "      <td>0.0</td>\n",
       "      <td>0.0</td>\n",
       "      <td>0.0</td>\n",
       "      <td>0.0</td>\n",
       "      <td>0.0</td>\n",
       "      <td>0.0</td>\n",
       "      <td>...</td>\n",
       "      <td>0</td>\n",
       "      <td>0</td>\n",
       "      <td>0</td>\n",
       "      <td>0</td>\n",
       "      <td>0</td>\n",
       "      <td>0</td>\n",
       "      <td>0.333333</td>\n",
       "      <td>0.0</td>\n",
       "      <td>0</td>\n",
       "      <td>0.0</td>\n",
       "    </tr>\n",
       "    <tr>\n",
       "      <th>2</th>\n",
       "      <td>1594</td>\n",
       "      <td>2018-01-26 00:01:58</td>\n",
       "      <td>0.0</td>\n",
       "      <td>0.0</td>\n",
       "      <td>0.0</td>\n",
       "      <td>0.0</td>\n",
       "      <td>0.0</td>\n",
       "      <td>0.0</td>\n",
       "      <td>0.0</td>\n",
       "      <td>0.0</td>\n",
       "      <td>...</td>\n",
       "      <td>0</td>\n",
       "      <td>0</td>\n",
       "      <td>0</td>\n",
       "      <td>0</td>\n",
       "      <td>0</td>\n",
       "      <td>0</td>\n",
       "      <td>1.166667</td>\n",
       "      <td>0.0</td>\n",
       "      <td>0</td>\n",
       "      <td>0.0</td>\n",
       "    </tr>\n",
       "    <tr>\n",
       "      <th>3</th>\n",
       "      <td>1595</td>\n",
       "      <td>2018-01-26 00:02:13</td>\n",
       "      <td>0.0</td>\n",
       "      <td>0.0</td>\n",
       "      <td>0.0</td>\n",
       "      <td>0.0</td>\n",
       "      <td>0.0</td>\n",
       "      <td>0.0</td>\n",
       "      <td>0.0</td>\n",
       "      <td>0.0</td>\n",
       "      <td>...</td>\n",
       "      <td>0</td>\n",
       "      <td>0</td>\n",
       "      <td>0</td>\n",
       "      <td>0</td>\n",
       "      <td>0</td>\n",
       "      <td>0</td>\n",
       "      <td>3.166667</td>\n",
       "      <td>0.0</td>\n",
       "      <td>0</td>\n",
       "      <td>0.0</td>\n",
       "    </tr>\n",
       "    <tr>\n",
       "      <th>4</th>\n",
       "      <td>1596</td>\n",
       "      <td>2018-01-26 00:02:46</td>\n",
       "      <td>0.0</td>\n",
       "      <td>0.0</td>\n",
       "      <td>0.0</td>\n",
       "      <td>0.0</td>\n",
       "      <td>0.0</td>\n",
       "      <td>0.0</td>\n",
       "      <td>0.0</td>\n",
       "      <td>0.0</td>\n",
       "      <td>...</td>\n",
       "      <td>0</td>\n",
       "      <td>0</td>\n",
       "      <td>0</td>\n",
       "      <td>0</td>\n",
       "      <td>0</td>\n",
       "      <td>0</td>\n",
       "      <td>2.333333</td>\n",
       "      <td>0.0</td>\n",
       "      <td>0</td>\n",
       "      <td>0.0</td>\n",
       "    </tr>\n",
       "  </tbody>\n",
       "</table>\n",
       "<p>5 rows × 109 columns</p>\n",
       "</div>"
      ],
      "text/plain": [
       "   user_id        register_time  wood_add_value  wood_reduce_value  \\\n",
       "0        1  2018-02-02 19:47:15         20125.0             3700.0   \n",
       "1     1593  2018-01-26 00:01:05             0.0                0.0   \n",
       "2     1594  2018-01-26 00:01:58             0.0                0.0   \n",
       "3     1595  2018-01-26 00:02:13             0.0                0.0   \n",
       "4     1596  2018-01-26 00:02:46             0.0                0.0   \n",
       "\n",
       "   stone_add_value  stone_reduce_value  ivory_add_value  ivory_reduce_value  \\\n",
       "0              0.0                 0.0              0.0                 0.0   \n",
       "1              0.0                 0.0              0.0                 0.0   \n",
       "2              0.0                 0.0              0.0                 0.0   \n",
       "3              0.0                 0.0              0.0                 0.0   \n",
       "4              0.0                 0.0              0.0                 0.0   \n",
       "\n",
       "   meat_add_value  meat_reduce_value          ...           pvp_battle_count  \\\n",
       "0         16375.0             2000.0          ...                          0   \n",
       "1             0.0                0.0          ...                          0   \n",
       "2             0.0                0.0          ...                          0   \n",
       "3             0.0                0.0          ...                          0   \n",
       "4             0.0                0.0          ...                          0   \n",
       "\n",
       "   pvp_lanch_count  pvp_win_count  pve_battle_count  pve_lanch_count  \\\n",
       "0                0              0                 0                0   \n",
       "1                0              0                 0                0   \n",
       "2                0              0                 0                0   \n",
       "3                0              0                 0                0   \n",
       "4                0              0                 0                0   \n",
       "\n",
       "   pve_win_count  avg_online_minutes  pay_price  pay_count  \\\n",
       "0              0            0.333333        0.0          0   \n",
       "1              0            0.333333        0.0          0   \n",
       "2              0            1.166667        0.0          0   \n",
       "3              0            3.166667        0.0          0   \n",
       "4              0            2.333333        0.0          0   \n",
       "\n",
       "   prediction_pay_price  \n",
       "0                   0.0  \n",
       "1                   0.0  \n",
       "2                   0.0  \n",
       "3                   0.0  \n",
       "4                   0.0  \n",
       "\n",
       "[5 rows x 109 columns]"
      ]
     },
     "execution_count": 6,
     "metadata": {},
     "output_type": "execute_result"
    }
   ],
   "source": [
    "data.head() #查看数据的大致内容"
   ]
  },
  {
   "cell_type": "markdown",
   "metadata": {},
   "source": [
    "#### 查看样本数/特征数"
   ]
  },
  {
   "cell_type": "code",
   "execution_count": 7,
   "metadata": {},
   "outputs": [
    {
     "data": {
      "text/plain": [
       "(2288007, 109)"
      ]
     },
     "execution_count": 7,
     "metadata": {},
     "output_type": "execute_result"
    }
   ],
   "source": [
    "data.shape #109个特征中，第一列为玩家ID，最后一列为标签45日付费金额，因此实际特征量为107个特征"
   ]
  },
  {
   "cell_type": "markdown",
   "metadata": {},
   "source": [
    "#### 更换列名为中文"
   ]
  },
  {
   "cell_type": "code",
   "execution_count": 8,
   "metadata": {},
   "outputs": [],
   "source": [
    "column_name = pd.read_excel(r\"tap4fun 数据字段解释.xlsx\")"
   ]
  },
  {
   "cell_type": "code",
   "execution_count": 9,
   "metadata": {},
   "outputs": [
    {
     "data": {
      "text/html": [
       "<div>\n",
       "<style scoped>\n",
       "    .dataframe tbody tr th:only-of-type {\n",
       "        vertical-align: middle;\n",
       "    }\n",
       "\n",
       "    .dataframe tbody tr th {\n",
       "        vertical-align: top;\n",
       "    }\n",
       "\n",
       "    .dataframe thead th {\n",
       "        text-align: right;\n",
       "    }\n",
       "</style>\n",
       "<table border=\"1\" class=\"dataframe\">\n",
       "  <thead>\n",
       "    <tr style=\"text-align: right;\">\n",
       "      <th></th>\n",
       "      <th>字段名</th>\n",
       "      <th>字段解释</th>\n",
       "      <th>数据时间</th>\n",
       "      <th>变量性质</th>\n",
       "      <th>Unnamed: 4</th>\n",
       "      <th>Unnamed: 5</th>\n",
       "      <th>Unnamed: 6</th>\n",
       "    </tr>\n",
       "  </thead>\n",
       "  <tbody>\n",
       "    <tr>\n",
       "      <th>0</th>\n",
       "      <td>user_id</td>\n",
       "      <td>玩家唯一ID</td>\n",
       "      <td>永久</td>\n",
       "      <td>ID</td>\n",
       "      <td>目标：使用玩家在前7日的行为数据，预测玩家前45日付费金额。</td>\n",
       "      <td>NaN</td>\n",
       "      <td>NaN</td>\n",
       "    </tr>\n",
       "    <tr>\n",
       "      <th>1</th>\n",
       "      <td>register_time</td>\n",
       "      <td>玩家注册时间</td>\n",
       "      <td>永久</td>\n",
       "      <td>自变量</td>\n",
       "      <td>NaN</td>\n",
       "      <td>NaN</td>\n",
       "      <td>NaN</td>\n",
       "    </tr>\n",
       "    <tr>\n",
       "      <th>2</th>\n",
       "      <td>wood_add_value</td>\n",
       "      <td>木头获取数量</td>\n",
       "      <td>前七日</td>\n",
       "      <td>自变量</td>\n",
       "      <td>NaN</td>\n",
       "      <td>NaN</td>\n",
       "      <td>NaN</td>\n",
       "    </tr>\n",
       "    <tr>\n",
       "      <th>3</th>\n",
       "      <td>wood_reduce_value</td>\n",
       "      <td>木头消耗数量</td>\n",
       "      <td>前七日</td>\n",
       "      <td>自变量</td>\n",
       "      <td>NaN</td>\n",
       "      <td>NaN</td>\n",
       "      <td>NaN</td>\n",
       "    </tr>\n",
       "    <tr>\n",
       "      <th>4</th>\n",
       "      <td>stone_add_value</td>\n",
       "      <td>石头获取数量</td>\n",
       "      <td>前七日</td>\n",
       "      <td>自变量</td>\n",
       "      <td>NaN</td>\n",
       "      <td>NaN</td>\n",
       "      <td>NaN</td>\n",
       "    </tr>\n",
       "  </tbody>\n",
       "</table>\n",
       "</div>"
      ],
      "text/plain": [
       "                 字段名    字段解释 数据时间 变量性质                      Unnamed: 4  \\\n",
       "0            user_id  玩家唯一ID   永久   ID  目标：使用玩家在前7日的行为数据，预测玩家前45日付费金额。   \n",
       "1      register_time  玩家注册时间   永久  自变量                             NaN   \n",
       "2     wood_add_value  木头获取数量  前七日  自变量                             NaN   \n",
       "3  wood_reduce_value  木头消耗数量  前七日  自变量                             NaN   \n",
       "4    stone_add_value  石头获取数量  前七日  自变量                             NaN   \n",
       "\n",
       "   Unnamed: 5  Unnamed: 6  \n",
       "0         NaN         NaN  \n",
       "1         NaN         NaN  \n",
       "2         NaN         NaN  \n",
       "3         NaN         NaN  \n",
       "4         NaN         NaN  "
      ]
     },
     "execution_count": 9,
     "metadata": {},
     "output_type": "execute_result"
    }
   ],
   "source": [
    "column_name.head()"
   ]
  },
  {
   "cell_type": "code",
   "execution_count": 10,
   "metadata": {},
   "outputs": [
    {
     "data": {
      "text/plain": [
       "Index(['user_id', 'register_time', 'wood_add_value', 'wood_reduce_value',\n",
       "       'stone_add_value', 'stone_reduce_value', 'ivory_add_value',\n",
       "       'ivory_reduce_value', 'meat_add_value', 'meat_reduce_value',\n",
       "       ...\n",
       "       'pvp_battle_count', 'pvp_lanch_count', 'pvp_win_count',\n",
       "       'pve_battle_count', 'pve_lanch_count', 'pve_win_count',\n",
       "       'avg_online_minutes', 'pay_price', 'pay_count', 'prediction_pay_price'],\n",
       "      dtype='object', length=109)"
      ]
     },
     "execution_count": 10,
     "metadata": {},
     "output_type": "execute_result"
    }
   ],
   "source": [
    "data.columns"
   ]
  },
  {
   "cell_type": "code",
   "execution_count": 11,
   "metadata": {},
   "outputs": [],
   "source": [
    "data.columns = column_name[\"字段解释\"]"
   ]
  },
  {
   "cell_type": "code",
   "execution_count": 12,
   "metadata": {},
   "outputs": [
    {
     "data": {
      "text/html": [
       "<div>\n",
       "<style scoped>\n",
       "    .dataframe tbody tr th:only-of-type {\n",
       "        vertical-align: middle;\n",
       "    }\n",
       "\n",
       "    .dataframe tbody tr th {\n",
       "        vertical-align: top;\n",
       "    }\n",
       "\n",
       "    .dataframe thead th {\n",
       "        text-align: right;\n",
       "    }\n",
       "</style>\n",
       "<table border=\"1\" class=\"dataframe\">\n",
       "  <thead>\n",
       "    <tr style=\"text-align: right;\">\n",
       "      <th>字段解释</th>\n",
       "      <th>玩家唯一ID</th>\n",
       "      <th>玩家注册时间</th>\n",
       "      <th>木头获取数量</th>\n",
       "      <th>木头消耗数量</th>\n",
       "      <th>石头获取数量</th>\n",
       "      <th>石头消耗数量</th>\n",
       "      <th>象牙获取数量</th>\n",
       "      <th>象牙消耗数量</th>\n",
       "      <th>肉获取数量</th>\n",
       "      <th>肉消耗数量</th>\n",
       "      <th>...</th>\n",
       "      <th>PVP次数</th>\n",
       "      <th>主动发起PVP次数</th>\n",
       "      <th>PVP胜利次数</th>\n",
       "      <th>PVE次数</th>\n",
       "      <th>主动发起PVE次数</th>\n",
       "      <th>PVE胜利次数</th>\n",
       "      <th>在线时长</th>\n",
       "      <th>付费金额</th>\n",
       "      <th>付费次数</th>\n",
       "      <th>45日付费金额</th>\n",
       "    </tr>\n",
       "  </thead>\n",
       "  <tbody>\n",
       "    <tr>\n",
       "      <th>0</th>\n",
       "      <td>1</td>\n",
       "      <td>2018-02-02 19:47:15</td>\n",
       "      <td>20125.0</td>\n",
       "      <td>3700.0</td>\n",
       "      <td>0.0</td>\n",
       "      <td>0.0</td>\n",
       "      <td>0.0</td>\n",
       "      <td>0.0</td>\n",
       "      <td>16375.0</td>\n",
       "      <td>2000.0</td>\n",
       "      <td>...</td>\n",
       "      <td>0</td>\n",
       "      <td>0</td>\n",
       "      <td>0</td>\n",
       "      <td>0</td>\n",
       "      <td>0</td>\n",
       "      <td>0</td>\n",
       "      <td>0.333333</td>\n",
       "      <td>0.0</td>\n",
       "      <td>0</td>\n",
       "      <td>0.0</td>\n",
       "    </tr>\n",
       "    <tr>\n",
       "      <th>1</th>\n",
       "      <td>1593</td>\n",
       "      <td>2018-01-26 00:01:05</td>\n",
       "      <td>0.0</td>\n",
       "      <td>0.0</td>\n",
       "      <td>0.0</td>\n",
       "      <td>0.0</td>\n",
       "      <td>0.0</td>\n",
       "      <td>0.0</td>\n",
       "      <td>0.0</td>\n",
       "      <td>0.0</td>\n",
       "      <td>...</td>\n",
       "      <td>0</td>\n",
       "      <td>0</td>\n",
       "      <td>0</td>\n",
       "      <td>0</td>\n",
       "      <td>0</td>\n",
       "      <td>0</td>\n",
       "      <td>0.333333</td>\n",
       "      <td>0.0</td>\n",
       "      <td>0</td>\n",
       "      <td>0.0</td>\n",
       "    </tr>\n",
       "    <tr>\n",
       "      <th>2</th>\n",
       "      <td>1594</td>\n",
       "      <td>2018-01-26 00:01:58</td>\n",
       "      <td>0.0</td>\n",
       "      <td>0.0</td>\n",
       "      <td>0.0</td>\n",
       "      <td>0.0</td>\n",
       "      <td>0.0</td>\n",
       "      <td>0.0</td>\n",
       "      <td>0.0</td>\n",
       "      <td>0.0</td>\n",
       "      <td>...</td>\n",
       "      <td>0</td>\n",
       "      <td>0</td>\n",
       "      <td>0</td>\n",
       "      <td>0</td>\n",
       "      <td>0</td>\n",
       "      <td>0</td>\n",
       "      <td>1.166667</td>\n",
       "      <td>0.0</td>\n",
       "      <td>0</td>\n",
       "      <td>0.0</td>\n",
       "    </tr>\n",
       "    <tr>\n",
       "      <th>3</th>\n",
       "      <td>1595</td>\n",
       "      <td>2018-01-26 00:02:13</td>\n",
       "      <td>0.0</td>\n",
       "      <td>0.0</td>\n",
       "      <td>0.0</td>\n",
       "      <td>0.0</td>\n",
       "      <td>0.0</td>\n",
       "      <td>0.0</td>\n",
       "      <td>0.0</td>\n",
       "      <td>0.0</td>\n",
       "      <td>...</td>\n",
       "      <td>0</td>\n",
       "      <td>0</td>\n",
       "      <td>0</td>\n",
       "      <td>0</td>\n",
       "      <td>0</td>\n",
       "      <td>0</td>\n",
       "      <td>3.166667</td>\n",
       "      <td>0.0</td>\n",
       "      <td>0</td>\n",
       "      <td>0.0</td>\n",
       "    </tr>\n",
       "    <tr>\n",
       "      <th>4</th>\n",
       "      <td>1596</td>\n",
       "      <td>2018-01-26 00:02:46</td>\n",
       "      <td>0.0</td>\n",
       "      <td>0.0</td>\n",
       "      <td>0.0</td>\n",
       "      <td>0.0</td>\n",
       "      <td>0.0</td>\n",
       "      <td>0.0</td>\n",
       "      <td>0.0</td>\n",
       "      <td>0.0</td>\n",
       "      <td>...</td>\n",
       "      <td>0</td>\n",
       "      <td>0</td>\n",
       "      <td>0</td>\n",
       "      <td>0</td>\n",
       "      <td>0</td>\n",
       "      <td>0</td>\n",
       "      <td>2.333333</td>\n",
       "      <td>0.0</td>\n",
       "      <td>0</td>\n",
       "      <td>0.0</td>\n",
       "    </tr>\n",
       "  </tbody>\n",
       "</table>\n",
       "<p>5 rows × 109 columns</p>\n",
       "</div>"
      ],
      "text/plain": [
       "字段解释  玩家唯一ID               玩家注册时间   木头获取数量  木头消耗数量  石头获取数量  石头消耗数量  象牙获取数量  \\\n",
       "0          1  2018-02-02 19:47:15  20125.0  3700.0     0.0     0.0     0.0   \n",
       "1       1593  2018-01-26 00:01:05      0.0     0.0     0.0     0.0     0.0   \n",
       "2       1594  2018-01-26 00:01:58      0.0     0.0     0.0     0.0     0.0   \n",
       "3       1595  2018-01-26 00:02:13      0.0     0.0     0.0     0.0     0.0   \n",
       "4       1596  2018-01-26 00:02:46      0.0     0.0     0.0     0.0     0.0   \n",
       "\n",
       "字段解释  象牙消耗数量    肉获取数量   肉消耗数量   ...     PVP次数  主动发起PVP次数  PVP胜利次数  PVE次数  \\\n",
       "0        0.0  16375.0  2000.0   ...         0          0        0      0   \n",
       "1        0.0      0.0     0.0   ...         0          0        0      0   \n",
       "2        0.0      0.0     0.0   ...         0          0        0      0   \n",
       "3        0.0      0.0     0.0   ...         0          0        0      0   \n",
       "4        0.0      0.0     0.0   ...         0          0        0      0   \n",
       "\n",
       "字段解释  主动发起PVE次数  PVE胜利次数      在线时长  付费金额  付费次数  45日付费金额  \n",
       "0             0        0  0.333333   0.0     0      0.0  \n",
       "1             0        0  0.333333   0.0     0      0.0  \n",
       "2             0        0  1.166667   0.0     0      0.0  \n",
       "3             0        0  3.166667   0.0     0      0.0  \n",
       "4             0        0  2.333333   0.0     0      0.0  \n",
       "\n",
       "[5 rows x 109 columns]"
      ]
     },
     "execution_count": 12,
     "metadata": {},
     "output_type": "execute_result"
    }
   ],
   "source": [
    "data.head()"
   ]
  },
  {
   "cell_type": "code",
   "execution_count": 14,
   "metadata": {},
   "outputs": [
    {
     "name": "stdout",
     "output_type": "stream",
     "text": [
      "<class 'pandas.core.frame.DataFrame'>\n",
      "RangeIndex: 2288007 entries, 0 to 2288006\n",
      "Columns: 109 entries, 玩家唯一ID to 45日付费金额\n",
      "dtypes: float64(13), int64(95), object(1)\n",
      "memory usage: 1.9+ GB\n"
     ]
    }
   ],
   "source": [
    "data.info()"
   ]
  },
  {
   "cell_type": "code",
   "execution_count": 13,
   "metadata": {},
   "outputs": [
    {
     "data": {
      "text/plain": [
       "['玩家唯一ID',\n",
       " '玩家注册时间',\n",
       " '木头获取数量',\n",
       " '木头消耗数量',\n",
       " '石头获取数量',\n",
       " '石头消耗数量',\n",
       " '象牙获取数量',\n",
       " '象牙消耗数量',\n",
       " '肉获取数量',\n",
       " '肉消耗数量',\n",
       " '魔法获取数量',\n",
       " '魔法消耗数量',\n",
       " '勇士招募数量',\n",
       " '勇士损失数量',\n",
       " '驯兽师招募数量',\n",
       " '驯兽师损失数量',\n",
       " '萨满招募数量',\n",
       " '萨满损失数量',\n",
       " '勇士伤兵产生数量',\n",
       " '勇士伤兵恢复数量',\n",
       " '驯兽师伤兵产生数量',\n",
       " '驯兽师伤兵恢复数量',\n",
       " '萨满伤兵产生数量',\n",
       " '萨满伤兵恢复数量',\n",
       " '通用加速获取数量',\n",
       " '通用加速使用数量',\n",
       " '建筑加速获取数量',\n",
       " '建筑加速使用数量',\n",
       " '科研加速获取数量',\n",
       " '科研加速使用数量',\n",
       " '训练加速获取数量',\n",
       " '训练加速使用数量',\n",
       " '治疗加速获取数量',\n",
       " '治疗加速使用数量',\n",
       " '建筑：士兵小屋等级',\n",
       " '建筑：治疗小井等级',\n",
       " '建筑：要塞等级',\n",
       " '建筑：据点传送门等级',\n",
       " '建筑：兵营等级',\n",
       " '建筑：治疗之泉等级',\n",
       " '建筑：智慧神庙等级',\n",
       " '建筑：联盟大厅等级',\n",
       " '建筑：仓库等级',\n",
       " '建筑：瞭望塔等级',\n",
       " '建筑：魔法幸运树等级',\n",
       " '建筑：战争大厅等级',\n",
       " '建筑：联盟货车等级',\n",
       " '建筑：占卜台等级',\n",
       " '建筑：祭坛等级',\n",
       " '建筑：冒险传送门等级',\n",
       " '科研：侦查等级',\n",
       " '科研：训练速度等级',\n",
       " '科研：守护者',\n",
       " '科研：巨兽驯兽师',\n",
       " '科研：吟唱者',\n",
       " '科研：勇士攻击',\n",
       " '科研：驯兽师攻击',\n",
       " '科研：萨满攻击',\n",
       " '科研：战斗大师',\n",
       " '科研：高阶巨兽骑兵',\n",
       " '科研：图腾大师',\n",
       " '科研：部队防御',\n",
       " '科研：勇士防御',\n",
       " '科研：驯兽师防御',\n",
       " '科研：萨满防御',\n",
       " '科研：勇士生命',\n",
       " '科研：驯兽师生命',\n",
       " '科研：萨满生命',\n",
       " '科研：狂战士',\n",
       " '科研：龙骑兵',\n",
       " '科研：神谕者',\n",
       " '科研：部队攻击',\n",
       " '科研：建造速度',\n",
       " '科研：资源保护',\n",
       " '科研：部队消耗',\n",
       " '科研：木材生产',\n",
       " '科研：石头生产',\n",
       " '科研：象牙生产',\n",
       " '科研：肉类生产',\n",
       " '科研：木材采集',\n",
       " '科研：石头采集',\n",
       " '科研：象牙采集',\n",
       " '科研：肉类生产',\n",
       " '科研：部队负重',\n",
       " '科研：魔法采集',\n",
       " '科研：魔法生产',\n",
       " '科研：据点耐久',\n",
       " '科研：据点二',\n",
       " '科研：医院容量',\n",
       " '科研：领土采集奖励',\n",
       " '科研：治疗速度',\n",
       " '科研：据点三',\n",
       " '科研：联盟行军速度',\n",
       " '科研：战斗行军速度',\n",
       " '科研：采集行军速度',\n",
       " '科研：据点四',\n",
       " '科研：增援部队容量',\n",
       " '科研：行军大小',\n",
       " '科研：资源帮助容量',\n",
       " 'PVP次数',\n",
       " '主动发起PVP次数',\n",
       " 'PVP胜利次数',\n",
       " 'PVE次数',\n",
       " '主动发起PVE次数',\n",
       " 'PVE胜利次数',\n",
       " '在线时长',\n",
       " '付费金额',\n",
       " '付费次数',\n",
       " '45日付费金额']"
      ]
     },
     "execution_count": 13,
     "metadata": {},
     "output_type": "execute_result"
    }
   ],
   "source": [
    "#看看完整的特征列表\n",
    "data.columns.tolist()"
   ]
  },
  {
   "cell_type": "markdown",
   "metadata": {},
   "source": [
    "- 数据中包括了大量可获得的资源（也可消耗）、可能达到的等级、可能获得的道具、可能获得的技能等特征，**在之后的课程中，我们统称所有的资源/等级/道具/技能等特征为资源**。\n",
    "- 值得一提的是，除了最后的标签“45日付费金额”之外，**所有特征都是用户在服前7日**或与时间无关的数据（如用户ID）。"
   ]
  },
  {
   "cell_type": "markdown",
   "metadata": {},
   "source": [
    "- 数据量巨大，以至于info函数都无法显示出缺失值情况<br>\n",
    "- 1列数据是对象类型，也就是注册时间。<br>\n",
    "- 有95列的数据类型都为整数，这需要注意。通常来说，当一个结构化数据中的特征数据类型是整数时，可以认为该特征可能是离散型特征<br>\n",
    "- 但从游戏业务的独特性、以及特征含义来看，资源数量/等级/发起PVP次数等信息一般不会以浮点数表示，因此显示为整数也十分正常<br>\n",
    "- 从特征含义来看，该数据集中没有任何离散型特征<br>"
   ]
  },
  {
   "cell_type": "markdown",
   "metadata": {},
   "source": [
    "#### 检查是否存在缺失值/重复值"
   ]
  },
  {
   "cell_type": "code",
   "execution_count": 15,
   "metadata": {},
   "outputs": [
    {
     "data": {
      "text/plain": [
       "0"
      ]
     },
     "execution_count": 15,
     "metadata": {},
     "output_type": "execute_result"
    }
   ],
   "source": [
    "data.isnull().sum().sum() #不存在缺失值"
   ]
  },
  {
   "cell_type": "code",
   "execution_count": 16,
   "metadata": {},
   "outputs": [
    {
     "data": {
      "text/plain": [
       "0"
      ]
     },
     "execution_count": 16,
     "metadata": {},
     "output_type": "execute_result"
    }
   ],
   "source": [
    "data.duplicated().sum() #不存在重复值"
   ]
  },
  {
   "cell_type": "code",
   "execution_count": 17,
   "metadata": {},
   "outputs": [
    {
     "data": {
      "text/plain": [
       "0"
      ]
     },
     "execution_count": 17,
     "metadata": {},
     "output_type": "execute_result"
    }
   ],
   "source": [
    "data[\"玩家唯一ID\"].duplicated().sum() #查看是否有重复ID的两种记录"
   ]
  },
  {
   "cell_type": "markdown",
   "metadata": {},
   "source": [
    "#### 查看分布和统计信息"
   ]
  },
  {
   "cell_type": "code",
   "execution_count": 18,
   "metadata": {},
   "outputs": [
    {
     "data": {
      "text/html": [
       "<div>\n",
       "<style scoped>\n",
       "    .dataframe tbody tr th:only-of-type {\n",
       "        vertical-align: middle;\n",
       "    }\n",
       "\n",
       "    .dataframe tbody tr th {\n",
       "        vertical-align: top;\n",
       "    }\n",
       "\n",
       "    .dataframe thead th {\n",
       "        text-align: right;\n",
       "    }\n",
       "</style>\n",
       "<table border=\"1\" class=\"dataframe\">\n",
       "  <thead>\n",
       "    <tr style=\"text-align: right;\">\n",
       "      <th></th>\n",
       "      <th>count</th>\n",
       "      <th>mean</th>\n",
       "      <th>std</th>\n",
       "      <th>min</th>\n",
       "      <th>25%</th>\n",
       "      <th>50%</th>\n",
       "      <th>75%</th>\n",
       "      <th>max</th>\n",
       "    </tr>\n",
       "    <tr>\n",
       "      <th>字段解释</th>\n",
       "      <th></th>\n",
       "      <th></th>\n",
       "      <th></th>\n",
       "      <th></th>\n",
       "      <th></th>\n",
       "      <th></th>\n",
       "      <th></th>\n",
       "      <th></th>\n",
       "    </tr>\n",
       "  </thead>\n",
       "  <tbody>\n",
       "    <tr>\n",
       "      <th>玩家唯一ID</th>\n",
       "      <td>2288007.0</td>\n",
       "      <td>1.529543e+06</td>\n",
       "      <td>9.399393e+05</td>\n",
       "      <td>1.0</td>\n",
       "      <td>749992.5</td>\n",
       "      <td>1.419095e+06</td>\n",
       "      <td>2.299006e+06</td>\n",
       "      <td>3.190530e+06</td>\n",
       "    </tr>\n",
       "    <tr>\n",
       "      <th>木头获取数量</th>\n",
       "      <td>2288007.0</td>\n",
       "      <td>4.543069e+05</td>\n",
       "      <td>4.958667e+06</td>\n",
       "      <td>0.0</td>\n",
       "      <td>0.0</td>\n",
       "      <td>4.203800e+04</td>\n",
       "      <td>1.531180e+05</td>\n",
       "      <td>1.239962e+09</td>\n",
       "    </tr>\n",
       "    <tr>\n",
       "      <th>木头消耗数量</th>\n",
       "      <td>2288007.0</td>\n",
       "      <td>3.698433e+05</td>\n",
       "      <td>3.737720e+06</td>\n",
       "      <td>0.0</td>\n",
       "      <td>0.0</td>\n",
       "      <td>9.830000e+03</td>\n",
       "      <td>9.855700e+04</td>\n",
       "      <td>7.995875e+08</td>\n",
       "    </tr>\n",
       "    <tr>\n",
       "      <th>石头获取数量</th>\n",
       "      <td>2288007.0</td>\n",
       "      <td>1.897788e+05</td>\n",
       "      <td>4.670620e+06</td>\n",
       "      <td>0.0</td>\n",
       "      <td>0.0</td>\n",
       "      <td>0.000000e+00</td>\n",
       "      <td>0.000000e+00</td>\n",
       "      <td>1.214869e+09</td>\n",
       "    </tr>\n",
       "    <tr>\n",
       "      <th>石头消耗数量</th>\n",
       "      <td>2288007.0</td>\n",
       "      <td>1.376074e+05</td>\n",
       "      <td>3.370166e+06</td>\n",
       "      <td>0.0</td>\n",
       "      <td>0.0</td>\n",
       "      <td>0.000000e+00</td>\n",
       "      <td>0.000000e+00</td>\n",
       "      <td>7.962378e+08</td>\n",
       "    </tr>\n",
       "    <tr>\n",
       "      <th>象牙获取数量</th>\n",
       "      <td>2288007.0</td>\n",
       "      <td>8.075623e+04</td>\n",
       "      <td>2.220540e+06</td>\n",
       "      <td>0.0</td>\n",
       "      <td>0.0</td>\n",
       "      <td>0.000000e+00</td>\n",
       "      <td>0.000000e+00</td>\n",
       "      <td>5.744961e+08</td>\n",
       "    </tr>\n",
       "    <tr>\n",
       "      <th>象牙消耗数量</th>\n",
       "      <td>2288007.0</td>\n",
       "      <td>3.613170e+04</td>\n",
       "      <td>1.782499e+06</td>\n",
       "      <td>0.0</td>\n",
       "      <td>0.0</td>\n",
       "      <td>0.000000e+00</td>\n",
       "      <td>0.000000e+00</td>\n",
       "      <td>4.481972e+08</td>\n",
       "    </tr>\n",
       "    <tr>\n",
       "      <th>肉获取数量</th>\n",
       "      <td>2288007.0</td>\n",
       "      <td>5.855155e+05</td>\n",
       "      <td>5.868629e+06</td>\n",
       "      <td>0.0</td>\n",
       "      <td>0.0</td>\n",
       "      <td>3.458700e+04</td>\n",
       "      <td>1.360010e+05</td>\n",
       "      <td>1.470644e+09</td>\n",
       "    </tr>\n",
       "    <tr>\n",
       "      <th>肉消耗数量</th>\n",
       "      <td>2288007.0</td>\n",
       "      <td>3.548102e+05</td>\n",
       "      <td>3.400632e+06</td>\n",
       "      <td>0.0</td>\n",
       "      <td>0.0</td>\n",
       "      <td>6.470000e+03</td>\n",
       "      <td>6.605400e+04</td>\n",
       "      <td>8.889537e+08</td>\n",
       "    </tr>\n",
       "    <tr>\n",
       "      <th>魔法获取数量</th>\n",
       "      <td>2288007.0</td>\n",
       "      <td>7.538954e+04</td>\n",
       "      <td>9.662892e+05</td>\n",
       "      <td>0.0</td>\n",
       "      <td>0.0</td>\n",
       "      <td>0.000000e+00</td>\n",
       "      <td>0.000000e+00</td>\n",
       "      <td>2.637228e+08</td>\n",
       "    </tr>\n",
       "    <tr>\n",
       "      <th>魔法消耗数量</th>\n",
       "      <td>2288007.0</td>\n",
       "      <td>4.725399e+04</td>\n",
       "      <td>8.811223e+05</td>\n",
       "      <td>0.0</td>\n",
       "      <td>0.0</td>\n",
       "      <td>0.000000e+00</td>\n",
       "      <td>0.000000e+00</td>\n",
       "      <td>2.637229e+08</td>\n",
       "    </tr>\n",
       "    <tr>\n",
       "      <th>勇士招募数量</th>\n",
       "      <td>2288007.0</td>\n",
       "      <td>1.436104e+02</td>\n",
       "      <td>1.781468e+03</td>\n",
       "      <td>0.0</td>\n",
       "      <td>0.0</td>\n",
       "      <td>0.000000e+00</td>\n",
       "      <td>0.000000e+00</td>\n",
       "      <td>8.749180e+05</td>\n",
       "    </tr>\n",
       "    <tr>\n",
       "      <th>勇士损失数量</th>\n",
       "      <td>2288007.0</td>\n",
       "      <td>2.267821e+02</td>\n",
       "      <td>1.738488e+03</td>\n",
       "      <td>0.0</td>\n",
       "      <td>0.0</td>\n",
       "      <td>0.000000e+00</td>\n",
       "      <td>0.000000e+00</td>\n",
       "      <td>8.788830e+05</td>\n",
       "    </tr>\n",
       "    <tr>\n",
       "      <th>驯兽师招募数量</th>\n",
       "      <td>2288007.0</td>\n",
       "      <td>1.282639e+02</td>\n",
       "      <td>1.334977e+03</td>\n",
       "      <td>0.0</td>\n",
       "      <td>0.0</td>\n",
       "      <td>0.000000e+00</td>\n",
       "      <td>0.000000e+00</td>\n",
       "      <td>3.538520e+05</td>\n",
       "    </tr>\n",
       "    <tr>\n",
       "      <th>驯兽师损失数量</th>\n",
       "      <td>2288007.0</td>\n",
       "      <td>1.780055e+02</td>\n",
       "      <td>1.347096e+03</td>\n",
       "      <td>0.0</td>\n",
       "      <td>0.0</td>\n",
       "      <td>0.000000e+00</td>\n",
       "      <td>0.000000e+00</td>\n",
       "      <td>3.703750e+05</td>\n",
       "    </tr>\n",
       "    <tr>\n",
       "      <th>萨满招募数量</th>\n",
       "      <td>2288007.0</td>\n",
       "      <td>1.195425e+02</td>\n",
       "      <td>5.958519e+03</td>\n",
       "      <td>0.0</td>\n",
       "      <td>0.0</td>\n",
       "      <td>0.000000e+00</td>\n",
       "      <td>0.000000e+00</td>\n",
       "      <td>8.767537e+06</td>\n",
       "    </tr>\n",
       "    <tr>\n",
       "      <th>萨满损失数量</th>\n",
       "      <td>2288007.0</td>\n",
       "      <td>1.568530e+02</td>\n",
       "      <td>5.958508e+03</td>\n",
       "      <td>0.0</td>\n",
       "      <td>0.0</td>\n",
       "      <td>0.000000e+00</td>\n",
       "      <td>0.000000e+00</td>\n",
       "      <td>8.769162e+06</td>\n",
       "    </tr>\n",
       "    <tr>\n",
       "      <th>勇士伤兵产生数量</th>\n",
       "      <td>2288007.0</td>\n",
       "      <td>1.353035e+02</td>\n",
       "      <td>1.333236e+03</td>\n",
       "      <td>0.0</td>\n",
       "      <td>0.0</td>\n",
       "      <td>0.000000e+00</td>\n",
       "      <td>0.000000e+00</td>\n",
       "      <td>8.039960e+05</td>\n",
       "    </tr>\n",
       "    <tr>\n",
       "      <th>勇士伤兵恢复数量</th>\n",
       "      <td>2288007.0</td>\n",
       "      <td>9.198413e+01</td>\n",
       "      <td>1.287586e+03</td>\n",
       "      <td>0.0</td>\n",
       "      <td>0.0</td>\n",
       "      <td>0.000000e+00</td>\n",
       "      <td>0.000000e+00</td>\n",
       "      <td>8.039960e+05</td>\n",
       "    </tr>\n",
       "    <tr>\n",
       "      <th>驯兽师伤兵产生数量</th>\n",
       "      <td>2288007.0</td>\n",
       "      <td>1.165028e+02</td>\n",
       "      <td>1.009972e+03</td>\n",
       "      <td>0.0</td>\n",
       "      <td>0.0</td>\n",
       "      <td>0.000000e+00</td>\n",
       "      <td>0.000000e+00</td>\n",
       "      <td>3.479670e+05</td>\n",
       "    </tr>\n",
       "    <tr>\n",
       "      <th>驯兽师伤兵恢复数量</th>\n",
       "      <td>2288007.0</td>\n",
       "      <td>8.434621e+01</td>\n",
       "      <td>9.503750e+02</td>\n",
       "      <td>0.0</td>\n",
       "      <td>0.0</td>\n",
       "      <td>0.000000e+00</td>\n",
       "      <td>0.000000e+00</td>\n",
       "      <td>3.479670e+05</td>\n",
       "    </tr>\n",
       "    <tr>\n",
       "      <th>萨满伤兵产生数量</th>\n",
       "      <td>2288007.0</td>\n",
       "      <td>1.104308e+02</td>\n",
       "      <td>5.890129e+03</td>\n",
       "      <td>0.0</td>\n",
       "      <td>0.0</td>\n",
       "      <td>0.000000e+00</td>\n",
       "      <td>0.000000e+00</td>\n",
       "      <td>8.763256e+06</td>\n",
       "    </tr>\n",
       "    <tr>\n",
       "      <th>萨满伤兵恢复数量</th>\n",
       "      <td>2288007.0</td>\n",
       "      <td>8.476289e+01</td>\n",
       "      <td>5.841053e+03</td>\n",
       "      <td>0.0</td>\n",
       "      <td>0.0</td>\n",
       "      <td>0.000000e+00</td>\n",
       "      <td>0.000000e+00</td>\n",
       "      <td>8.704561e+06</td>\n",
       "    </tr>\n",
       "    <tr>\n",
       "      <th>通用加速获取数量</th>\n",
       "      <td>2288007.0</td>\n",
       "      <td>2.825446e+02</td>\n",
       "      <td>3.001938e+03</td>\n",
       "      <td>0.0</td>\n",
       "      <td>0.0</td>\n",
       "      <td>0.000000e+00</td>\n",
       "      <td>5.300000e+01</td>\n",
       "      <td>7.954840e+05</td>\n",
       "    </tr>\n",
       "    <tr>\n",
       "      <th>通用加速使用数量</th>\n",
       "      <td>2288007.0</td>\n",
       "      <td>1.920313e+02</td>\n",
       "      <td>2.619487e+03</td>\n",
       "      <td>0.0</td>\n",
       "      <td>0.0</td>\n",
       "      <td>0.000000e+00</td>\n",
       "      <td>0.000000e+00</td>\n",
       "      <td>7.646370e+05</td>\n",
       "    </tr>\n",
       "    <tr>\n",
       "      <th>建筑加速获取数量</th>\n",
       "      <td>2288007.0</td>\n",
       "      <td>2.055574e+02</td>\n",
       "      <td>1.427626e+03</td>\n",
       "      <td>0.0</td>\n",
       "      <td>0.0</td>\n",
       "      <td>0.000000e+00</td>\n",
       "      <td>2.320000e+02</td>\n",
       "      <td>4.113620e+05</td>\n",
       "    </tr>\n",
       "    <tr>\n",
       "      <th>建筑加速使用数量</th>\n",
       "      <td>2288007.0</td>\n",
       "      <td>1.427759e+02</td>\n",
       "      <td>1.283584e+03</td>\n",
       "      <td>0.0</td>\n",
       "      <td>0.0</td>\n",
       "      <td>0.000000e+00</td>\n",
       "      <td>4.600000e+01</td>\n",
       "      <td>3.065150e+05</td>\n",
       "    </tr>\n",
       "    <tr>\n",
       "      <th>科研加速获取数量</th>\n",
       "      <td>2288007.0</td>\n",
       "      <td>1.326712e+02</td>\n",
       "      <td>1.516142e+03</td>\n",
       "      <td>0.0</td>\n",
       "      <td>0.0</td>\n",
       "      <td>0.000000e+00</td>\n",
       "      <td>5.000000e+01</td>\n",
       "      <td>3.777960e+05</td>\n",
       "    </tr>\n",
       "    <tr>\n",
       "      <th>科研加速使用数量</th>\n",
       "      <td>2288007.0</td>\n",
       "      <td>7.365257e+01</td>\n",
       "      <td>1.339241e+03</td>\n",
       "      <td>0.0</td>\n",
       "      <td>0.0</td>\n",
       "      <td>0.000000e+00</td>\n",
       "      <td>0.000000e+00</td>\n",
       "      <td>3.384370e+05</td>\n",
       "    </tr>\n",
       "    <tr>\n",
       "      <th>训练加速获取数量</th>\n",
       "      <td>2288007.0</td>\n",
       "      <td>2.108085e+02</td>\n",
       "      <td>1.942369e+03</td>\n",
       "      <td>0.0</td>\n",
       "      <td>0.0</td>\n",
       "      <td>4.500000e+01</td>\n",
       "      <td>1.000000e+02</td>\n",
       "      <td>6.716070e+05</td>\n",
       "    </tr>\n",
       "    <tr>\n",
       "      <th>...</th>\n",
       "      <td>...</td>\n",
       "      <td>...</td>\n",
       "      <td>...</td>\n",
       "      <td>...</td>\n",
       "      <td>...</td>\n",
       "      <td>...</td>\n",
       "      <td>...</td>\n",
       "      <td>...</td>\n",
       "    </tr>\n",
       "    <tr>\n",
       "      <th>科研：木材采集</th>\n",
       "      <td>2288007.0</td>\n",
       "      <td>2.153971e-02</td>\n",
       "      <td>2.309065e-01</td>\n",
       "      <td>0.0</td>\n",
       "      <td>0.0</td>\n",
       "      <td>0.000000e+00</td>\n",
       "      <td>0.000000e+00</td>\n",
       "      <td>9.000000e+00</td>\n",
       "    </tr>\n",
       "    <tr>\n",
       "      <th>科研：石头采集</th>\n",
       "      <td>2288007.0</td>\n",
       "      <td>1.700170e-03</td>\n",
       "      <td>6.119213e-02</td>\n",
       "      <td>0.0</td>\n",
       "      <td>0.0</td>\n",
       "      <td>0.000000e+00</td>\n",
       "      <td>0.000000e+00</td>\n",
       "      <td>9.000000e+00</td>\n",
       "    </tr>\n",
       "    <tr>\n",
       "      <th>科研：象牙采集</th>\n",
       "      <td>2288007.0</td>\n",
       "      <td>4.160826e-04</td>\n",
       "      <td>2.830898e-02</td>\n",
       "      <td>0.0</td>\n",
       "      <td>0.0</td>\n",
       "      <td>0.000000e+00</td>\n",
       "      <td>0.000000e+00</td>\n",
       "      <td>7.000000e+00</td>\n",
       "    </tr>\n",
       "    <tr>\n",
       "      <th>科研：肉类生产</th>\n",
       "      <td>2288007.0</td>\n",
       "      <td>1.793876e-02</td>\n",
       "      <td>1.939576e-01</td>\n",
       "      <td>0.0</td>\n",
       "      <td>0.0</td>\n",
       "      <td>0.000000e+00</td>\n",
       "      <td>0.000000e+00</td>\n",
       "      <td>9.000000e+00</td>\n",
       "    </tr>\n",
       "    <tr>\n",
       "      <th>科研：部队负重</th>\n",
       "      <td>2288007.0</td>\n",
       "      <td>2.884388e-02</td>\n",
       "      <td>3.072257e-01</td>\n",
       "      <td>0.0</td>\n",
       "      <td>0.0</td>\n",
       "      <td>0.000000e+00</td>\n",
       "      <td>0.000000e+00</td>\n",
       "      <td>1.000000e+01</td>\n",
       "    </tr>\n",
       "    <tr>\n",
       "      <th>科研：魔法采集</th>\n",
       "      <td>2288007.0</td>\n",
       "      <td>1.925693e-03</td>\n",
       "      <td>6.361588e-02</td>\n",
       "      <td>0.0</td>\n",
       "      <td>0.0</td>\n",
       "      <td>0.000000e+00</td>\n",
       "      <td>0.000000e+00</td>\n",
       "      <td>9.000000e+00</td>\n",
       "    </tr>\n",
       "    <tr>\n",
       "      <th>科研：魔法生产</th>\n",
       "      <td>2288007.0</td>\n",
       "      <td>7.764836e-03</td>\n",
       "      <td>1.408421e-01</td>\n",
       "      <td>0.0</td>\n",
       "      <td>0.0</td>\n",
       "      <td>0.000000e+00</td>\n",
       "      <td>0.000000e+00</td>\n",
       "      <td>9.000000e+00</td>\n",
       "    </tr>\n",
       "    <tr>\n",
       "      <th>科研：据点耐久</th>\n",
       "      <td>2288007.0</td>\n",
       "      <td>1.104227e-01</td>\n",
       "      <td>4.808994e-01</td>\n",
       "      <td>0.0</td>\n",
       "      <td>0.0</td>\n",
       "      <td>0.000000e+00</td>\n",
       "      <td>0.000000e+00</td>\n",
       "      <td>1.000000e+01</td>\n",
       "    </tr>\n",
       "    <tr>\n",
       "      <th>科研：据点二</th>\n",
       "      <td>2288007.0</td>\n",
       "      <td>4.435432e-02</td>\n",
       "      <td>2.058811e-01</td>\n",
       "      <td>0.0</td>\n",
       "      <td>0.0</td>\n",
       "      <td>0.000000e+00</td>\n",
       "      <td>0.000000e+00</td>\n",
       "      <td>1.000000e+00</td>\n",
       "    </tr>\n",
       "    <tr>\n",
       "      <th>科研：医院容量</th>\n",
       "      <td>2288007.0</td>\n",
       "      <td>2.869703e-02</td>\n",
       "      <td>2.384797e-01</td>\n",
       "      <td>0.0</td>\n",
       "      <td>0.0</td>\n",
       "      <td>0.000000e+00</td>\n",
       "      <td>0.000000e+00</td>\n",
       "      <td>1.100000e+01</td>\n",
       "    </tr>\n",
       "    <tr>\n",
       "      <th>科研：领土采集奖励</th>\n",
       "      <td>2288007.0</td>\n",
       "      <td>3.393871e-02</td>\n",
       "      <td>2.508571e-01</td>\n",
       "      <td>0.0</td>\n",
       "      <td>0.0</td>\n",
       "      <td>0.000000e+00</td>\n",
       "      <td>0.000000e+00</td>\n",
       "      <td>1.000000e+01</td>\n",
       "    </tr>\n",
       "    <tr>\n",
       "      <th>科研：治疗速度</th>\n",
       "      <td>2288007.0</td>\n",
       "      <td>2.206287e-02</td>\n",
       "      <td>2.021670e-01</td>\n",
       "      <td>0.0</td>\n",
       "      <td>0.0</td>\n",
       "      <td>0.000000e+00</td>\n",
       "      <td>0.000000e+00</td>\n",
       "      <td>9.000000e+00</td>\n",
       "    </tr>\n",
       "    <tr>\n",
       "      <th>科研：据点三</th>\n",
       "      <td>2288007.0</td>\n",
       "      <td>8.789309e-04</td>\n",
       "      <td>2.963374e-02</td>\n",
       "      <td>0.0</td>\n",
       "      <td>0.0</td>\n",
       "      <td>0.000000e+00</td>\n",
       "      <td>0.000000e+00</td>\n",
       "      <td>1.000000e+00</td>\n",
       "    </tr>\n",
       "    <tr>\n",
       "      <th>科研：联盟行军速度</th>\n",
       "      <td>2288007.0</td>\n",
       "      <td>4.077785e-04</td>\n",
       "      <td>3.922663e-02</td>\n",
       "      <td>0.0</td>\n",
       "      <td>0.0</td>\n",
       "      <td>0.000000e+00</td>\n",
       "      <td>0.000000e+00</td>\n",
       "      <td>1.000000e+01</td>\n",
       "    </tr>\n",
       "    <tr>\n",
       "      <th>科研：战斗行军速度</th>\n",
       "      <td>2288007.0</td>\n",
       "      <td>6.643336e-04</td>\n",
       "      <td>5.136670e-02</td>\n",
       "      <td>0.0</td>\n",
       "      <td>0.0</td>\n",
       "      <td>0.000000e+00</td>\n",
       "      <td>0.000000e+00</td>\n",
       "      <td>1.100000e+01</td>\n",
       "    </tr>\n",
       "    <tr>\n",
       "      <th>科研：采集行军速度</th>\n",
       "      <td>2288007.0</td>\n",
       "      <td>6.070786e-04</td>\n",
       "      <td>4.809365e-02</td>\n",
       "      <td>0.0</td>\n",
       "      <td>0.0</td>\n",
       "      <td>0.000000e+00</td>\n",
       "      <td>0.000000e+00</td>\n",
       "      <td>1.000000e+01</td>\n",
       "    </tr>\n",
       "    <tr>\n",
       "      <th>科研：据点四</th>\n",
       "      <td>2288007.0</td>\n",
       "      <td>5.681801e-06</td>\n",
       "      <td>2.383647e-03</td>\n",
       "      <td>0.0</td>\n",
       "      <td>0.0</td>\n",
       "      <td>0.000000e+00</td>\n",
       "      <td>0.000000e+00</td>\n",
       "      <td>1.000000e+00</td>\n",
       "    </tr>\n",
       "    <tr>\n",
       "      <th>科研：增援部队容量</th>\n",
       "      <td>2288007.0</td>\n",
       "      <td>2.185308e-06</td>\n",
       "      <td>2.192641e-03</td>\n",
       "      <td>0.0</td>\n",
       "      <td>0.0</td>\n",
       "      <td>0.000000e+00</td>\n",
       "      <td>0.000000e+00</td>\n",
       "      <td>3.000000e+00</td>\n",
       "    </tr>\n",
       "    <tr>\n",
       "      <th>科研：行军大小</th>\n",
       "      <td>2288007.0</td>\n",
       "      <td>1.398597e-05</td>\n",
       "      <td>8.967674e-03</td>\n",
       "      <td>0.0</td>\n",
       "      <td>0.0</td>\n",
       "      <td>0.000000e+00</td>\n",
       "      <td>0.000000e+00</td>\n",
       "      <td>9.000000e+00</td>\n",
       "    </tr>\n",
       "    <tr>\n",
       "      <th>科研：资源帮助容量</th>\n",
       "      <td>2288007.0</td>\n",
       "      <td>6.118862e-06</td>\n",
       "      <td>6.271804e-03</td>\n",
       "      <td>0.0</td>\n",
       "      <td>0.0</td>\n",
       "      <td>0.000000e+00</td>\n",
       "      <td>0.000000e+00</td>\n",
       "      <td>8.000000e+00</td>\n",
       "    </tr>\n",
       "    <tr>\n",
       "      <th>PVP次数</th>\n",
       "      <td>2288007.0</td>\n",
       "      <td>2.148313e+00</td>\n",
       "      <td>1.167797e+01</td>\n",
       "      <td>0.0</td>\n",
       "      <td>0.0</td>\n",
       "      <td>0.000000e+00</td>\n",
       "      <td>1.000000e+00</td>\n",
       "      <td>2.054000e+03</td>\n",
       "    </tr>\n",
       "    <tr>\n",
       "      <th>主动发起PVP次数</th>\n",
       "      <td>2288007.0</td>\n",
       "      <td>1.059639e+00</td>\n",
       "      <td>9.074459e+00</td>\n",
       "      <td>0.0</td>\n",
       "      <td>0.0</td>\n",
       "      <td>0.000000e+00</td>\n",
       "      <td>0.000000e+00</td>\n",
       "      <td>2.051000e+03</td>\n",
       "    </tr>\n",
       "    <tr>\n",
       "      <th>PVP胜利次数</th>\n",
       "      <td>2288007.0</td>\n",
       "      <td>9.838589e-01</td>\n",
       "      <td>8.951280e+00</td>\n",
       "      <td>0.0</td>\n",
       "      <td>0.0</td>\n",
       "      <td>0.000000e+00</td>\n",
       "      <td>0.000000e+00</td>\n",
       "      <td>1.904000e+03</td>\n",
       "    </tr>\n",
       "    <tr>\n",
       "      <th>PVE次数</th>\n",
       "      <td>2288007.0</td>\n",
       "      <td>2.844738e+00</td>\n",
       "      <td>1.276245e+01</td>\n",
       "      <td>0.0</td>\n",
       "      <td>0.0</td>\n",
       "      <td>0.000000e+00</td>\n",
       "      <td>1.000000e+00</td>\n",
       "      <td>5.090000e+02</td>\n",
       "    </tr>\n",
       "    <tr>\n",
       "      <th>主动发起PVE次数</th>\n",
       "      <td>2288007.0</td>\n",
       "      <td>2.832409e+00</td>\n",
       "      <td>1.271820e+01</td>\n",
       "      <td>0.0</td>\n",
       "      <td>0.0</td>\n",
       "      <td>0.000000e+00</td>\n",
       "      <td>1.000000e+00</td>\n",
       "      <td>5.090000e+02</td>\n",
       "    </tr>\n",
       "    <tr>\n",
       "      <th>PVE胜利次数</th>\n",
       "      <td>2288007.0</td>\n",
       "      <td>2.556749e+00</td>\n",
       "      <td>1.184737e+01</td>\n",
       "      <td>0.0</td>\n",
       "      <td>0.0</td>\n",
       "      <td>0.000000e+00</td>\n",
       "      <td>1.000000e+00</td>\n",
       "      <td>4.880000e+02</td>\n",
       "    </tr>\n",
       "    <tr>\n",
       "      <th>在线时长</th>\n",
       "      <td>2288007.0</td>\n",
       "      <td>1.020749e+01</td>\n",
       "      <td>3.895946e+01</td>\n",
       "      <td>0.0</td>\n",
       "      <td>0.5</td>\n",
       "      <td>1.833333e+00</td>\n",
       "      <td>4.833333e+00</td>\n",
       "      <td>2.049667e+03</td>\n",
       "    </tr>\n",
       "    <tr>\n",
       "      <th>付费金额</th>\n",
       "      <td>2288007.0</td>\n",
       "      <td>5.346691e-01</td>\n",
       "      <td>2.263835e+01</td>\n",
       "      <td>0.0</td>\n",
       "      <td>0.0</td>\n",
       "      <td>0.000000e+00</td>\n",
       "      <td>0.000000e+00</td>\n",
       "      <td>7.457950e+03</td>\n",
       "    </tr>\n",
       "    <tr>\n",
       "      <th>付费次数</th>\n",
       "      <td>2288007.0</td>\n",
       "      <td>5.770699e-02</td>\n",
       "      <td>7.090886e-01</td>\n",
       "      <td>0.0</td>\n",
       "      <td>0.0</td>\n",
       "      <td>0.000000e+00</td>\n",
       "      <td>0.000000e+00</td>\n",
       "      <td>1.050000e+02</td>\n",
       "    </tr>\n",
       "    <tr>\n",
       "      <th>45日付费金额</th>\n",
       "      <td>2288007.0</td>\n",
       "      <td>1.793146e+00</td>\n",
       "      <td>8.846303e+01</td>\n",
       "      <td>0.0</td>\n",
       "      <td>0.0</td>\n",
       "      <td>0.000000e+00</td>\n",
       "      <td>0.000000e+00</td>\n",
       "      <td>3.297781e+04</td>\n",
       "    </tr>\n",
       "  </tbody>\n",
       "</table>\n",
       "<p>108 rows × 8 columns</p>\n",
       "</div>"
      ],
      "text/plain": [
       "               count          mean           std  min       25%           50%  \\\n",
       "字段解释                                                                            \n",
       "玩家唯一ID     2288007.0  1.529543e+06  9.399393e+05  1.0  749992.5  1.419095e+06   \n",
       "木头获取数量     2288007.0  4.543069e+05  4.958667e+06  0.0       0.0  4.203800e+04   \n",
       "木头消耗数量     2288007.0  3.698433e+05  3.737720e+06  0.0       0.0  9.830000e+03   \n",
       "石头获取数量     2288007.0  1.897788e+05  4.670620e+06  0.0       0.0  0.000000e+00   \n",
       "石头消耗数量     2288007.0  1.376074e+05  3.370166e+06  0.0       0.0  0.000000e+00   \n",
       "象牙获取数量     2288007.0  8.075623e+04  2.220540e+06  0.0       0.0  0.000000e+00   \n",
       "象牙消耗数量     2288007.0  3.613170e+04  1.782499e+06  0.0       0.0  0.000000e+00   \n",
       "肉获取数量      2288007.0  5.855155e+05  5.868629e+06  0.0       0.0  3.458700e+04   \n",
       "肉消耗数量      2288007.0  3.548102e+05  3.400632e+06  0.0       0.0  6.470000e+03   \n",
       "魔法获取数量     2288007.0  7.538954e+04  9.662892e+05  0.0       0.0  0.000000e+00   \n",
       "魔法消耗数量     2288007.0  4.725399e+04  8.811223e+05  0.0       0.0  0.000000e+00   \n",
       "勇士招募数量     2288007.0  1.436104e+02  1.781468e+03  0.0       0.0  0.000000e+00   \n",
       "勇士损失数量     2288007.0  2.267821e+02  1.738488e+03  0.0       0.0  0.000000e+00   \n",
       "驯兽师招募数量    2288007.0  1.282639e+02  1.334977e+03  0.0       0.0  0.000000e+00   \n",
       "驯兽师损失数量    2288007.0  1.780055e+02  1.347096e+03  0.0       0.0  0.000000e+00   \n",
       "萨满招募数量     2288007.0  1.195425e+02  5.958519e+03  0.0       0.0  0.000000e+00   \n",
       "萨满损失数量     2288007.0  1.568530e+02  5.958508e+03  0.0       0.0  0.000000e+00   \n",
       "勇士伤兵产生数量   2288007.0  1.353035e+02  1.333236e+03  0.0       0.0  0.000000e+00   \n",
       "勇士伤兵恢复数量   2288007.0  9.198413e+01  1.287586e+03  0.0       0.0  0.000000e+00   \n",
       "驯兽师伤兵产生数量  2288007.0  1.165028e+02  1.009972e+03  0.0       0.0  0.000000e+00   \n",
       "驯兽师伤兵恢复数量  2288007.0  8.434621e+01  9.503750e+02  0.0       0.0  0.000000e+00   \n",
       "萨满伤兵产生数量   2288007.0  1.104308e+02  5.890129e+03  0.0       0.0  0.000000e+00   \n",
       "萨满伤兵恢复数量   2288007.0  8.476289e+01  5.841053e+03  0.0       0.0  0.000000e+00   \n",
       "通用加速获取数量   2288007.0  2.825446e+02  3.001938e+03  0.0       0.0  0.000000e+00   \n",
       "通用加速使用数量   2288007.0  1.920313e+02  2.619487e+03  0.0       0.0  0.000000e+00   \n",
       "建筑加速获取数量   2288007.0  2.055574e+02  1.427626e+03  0.0       0.0  0.000000e+00   \n",
       "建筑加速使用数量   2288007.0  1.427759e+02  1.283584e+03  0.0       0.0  0.000000e+00   \n",
       "科研加速获取数量   2288007.0  1.326712e+02  1.516142e+03  0.0       0.0  0.000000e+00   \n",
       "科研加速使用数量   2288007.0  7.365257e+01  1.339241e+03  0.0       0.0  0.000000e+00   \n",
       "训练加速获取数量   2288007.0  2.108085e+02  1.942369e+03  0.0       0.0  4.500000e+01   \n",
       "...              ...           ...           ...  ...       ...           ...   \n",
       "科研：木材采集    2288007.0  2.153971e-02  2.309065e-01  0.0       0.0  0.000000e+00   \n",
       "科研：石头采集    2288007.0  1.700170e-03  6.119213e-02  0.0       0.0  0.000000e+00   \n",
       "科研：象牙采集    2288007.0  4.160826e-04  2.830898e-02  0.0       0.0  0.000000e+00   \n",
       "科研：肉类生产    2288007.0  1.793876e-02  1.939576e-01  0.0       0.0  0.000000e+00   \n",
       "科研：部队负重    2288007.0  2.884388e-02  3.072257e-01  0.0       0.0  0.000000e+00   \n",
       "科研：魔法采集    2288007.0  1.925693e-03  6.361588e-02  0.0       0.0  0.000000e+00   \n",
       "科研：魔法生产    2288007.0  7.764836e-03  1.408421e-01  0.0       0.0  0.000000e+00   \n",
       "科研：据点耐久    2288007.0  1.104227e-01  4.808994e-01  0.0       0.0  0.000000e+00   \n",
       "科研：据点二     2288007.0  4.435432e-02  2.058811e-01  0.0       0.0  0.000000e+00   \n",
       "科研：医院容量    2288007.0  2.869703e-02  2.384797e-01  0.0       0.0  0.000000e+00   \n",
       "科研：领土采集奖励  2288007.0  3.393871e-02  2.508571e-01  0.0       0.0  0.000000e+00   \n",
       "科研：治疗速度    2288007.0  2.206287e-02  2.021670e-01  0.0       0.0  0.000000e+00   \n",
       "科研：据点三     2288007.0  8.789309e-04  2.963374e-02  0.0       0.0  0.000000e+00   \n",
       "科研：联盟行军速度  2288007.0  4.077785e-04  3.922663e-02  0.0       0.0  0.000000e+00   \n",
       "科研：战斗行军速度  2288007.0  6.643336e-04  5.136670e-02  0.0       0.0  0.000000e+00   \n",
       "科研：采集行军速度  2288007.0  6.070786e-04  4.809365e-02  0.0       0.0  0.000000e+00   \n",
       "科研：据点四     2288007.0  5.681801e-06  2.383647e-03  0.0       0.0  0.000000e+00   \n",
       "科研：增援部队容量  2288007.0  2.185308e-06  2.192641e-03  0.0       0.0  0.000000e+00   \n",
       "科研：行军大小    2288007.0  1.398597e-05  8.967674e-03  0.0       0.0  0.000000e+00   \n",
       "科研：资源帮助容量  2288007.0  6.118862e-06  6.271804e-03  0.0       0.0  0.000000e+00   \n",
       "PVP次数      2288007.0  2.148313e+00  1.167797e+01  0.0       0.0  0.000000e+00   \n",
       "主动发起PVP次数  2288007.0  1.059639e+00  9.074459e+00  0.0       0.0  0.000000e+00   \n",
       "PVP胜利次数    2288007.0  9.838589e-01  8.951280e+00  0.0       0.0  0.000000e+00   \n",
       "PVE次数      2288007.0  2.844738e+00  1.276245e+01  0.0       0.0  0.000000e+00   \n",
       "主动发起PVE次数  2288007.0  2.832409e+00  1.271820e+01  0.0       0.0  0.000000e+00   \n",
       "PVE胜利次数    2288007.0  2.556749e+00  1.184737e+01  0.0       0.0  0.000000e+00   \n",
       "在线时长       2288007.0  1.020749e+01  3.895946e+01  0.0       0.5  1.833333e+00   \n",
       "付费金额       2288007.0  5.346691e-01  2.263835e+01  0.0       0.0  0.000000e+00   \n",
       "付费次数       2288007.0  5.770699e-02  7.090886e-01  0.0       0.0  0.000000e+00   \n",
       "45日付费金额    2288007.0  1.793146e+00  8.846303e+01  0.0       0.0  0.000000e+00   \n",
       "\n",
       "                    75%           max  \n",
       "字段解释                                   \n",
       "玩家唯一ID     2.299006e+06  3.190530e+06  \n",
       "木头获取数量     1.531180e+05  1.239962e+09  \n",
       "木头消耗数量     9.855700e+04  7.995875e+08  \n",
       "石头获取数量     0.000000e+00  1.214869e+09  \n",
       "石头消耗数量     0.000000e+00  7.962378e+08  \n",
       "象牙获取数量     0.000000e+00  5.744961e+08  \n",
       "象牙消耗数量     0.000000e+00  4.481972e+08  \n",
       "肉获取数量      1.360010e+05  1.470644e+09  \n",
       "肉消耗数量      6.605400e+04  8.889537e+08  \n",
       "魔法获取数量     0.000000e+00  2.637228e+08  \n",
       "魔法消耗数量     0.000000e+00  2.637229e+08  \n",
       "勇士招募数量     0.000000e+00  8.749180e+05  \n",
       "勇士损失数量     0.000000e+00  8.788830e+05  \n",
       "驯兽师招募数量    0.000000e+00  3.538520e+05  \n",
       "驯兽师损失数量    0.000000e+00  3.703750e+05  \n",
       "萨满招募数量     0.000000e+00  8.767537e+06  \n",
       "萨满损失数量     0.000000e+00  8.769162e+06  \n",
       "勇士伤兵产生数量   0.000000e+00  8.039960e+05  \n",
       "勇士伤兵恢复数量   0.000000e+00  8.039960e+05  \n",
       "驯兽师伤兵产生数量  0.000000e+00  3.479670e+05  \n",
       "驯兽师伤兵恢复数量  0.000000e+00  3.479670e+05  \n",
       "萨满伤兵产生数量   0.000000e+00  8.763256e+06  \n",
       "萨满伤兵恢复数量   0.000000e+00  8.704561e+06  \n",
       "通用加速获取数量   5.300000e+01  7.954840e+05  \n",
       "通用加速使用数量   0.000000e+00  7.646370e+05  \n",
       "建筑加速获取数量   2.320000e+02  4.113620e+05  \n",
       "建筑加速使用数量   4.600000e+01  3.065150e+05  \n",
       "科研加速获取数量   5.000000e+01  3.777960e+05  \n",
       "科研加速使用数量   0.000000e+00  3.384370e+05  \n",
       "训练加速获取数量   1.000000e+02  6.716070e+05  \n",
       "...                 ...           ...  \n",
       "科研：木材采集    0.000000e+00  9.000000e+00  \n",
       "科研：石头采集    0.000000e+00  9.000000e+00  \n",
       "科研：象牙采集    0.000000e+00  7.000000e+00  \n",
       "科研：肉类生产    0.000000e+00  9.000000e+00  \n",
       "科研：部队负重    0.000000e+00  1.000000e+01  \n",
       "科研：魔法采集    0.000000e+00  9.000000e+00  \n",
       "科研：魔法生产    0.000000e+00  9.000000e+00  \n",
       "科研：据点耐久    0.000000e+00  1.000000e+01  \n",
       "科研：据点二     0.000000e+00  1.000000e+00  \n",
       "科研：医院容量    0.000000e+00  1.100000e+01  \n",
       "科研：领土采集奖励  0.000000e+00  1.000000e+01  \n",
       "科研：治疗速度    0.000000e+00  9.000000e+00  \n",
       "科研：据点三     0.000000e+00  1.000000e+00  \n",
       "科研：联盟行军速度  0.000000e+00  1.000000e+01  \n",
       "科研：战斗行军速度  0.000000e+00  1.100000e+01  \n",
       "科研：采集行军速度  0.000000e+00  1.000000e+01  \n",
       "科研：据点四     0.000000e+00  1.000000e+00  \n",
       "科研：增援部队容量  0.000000e+00  3.000000e+00  \n",
       "科研：行军大小    0.000000e+00  9.000000e+00  \n",
       "科研：资源帮助容量  0.000000e+00  8.000000e+00  \n",
       "PVP次数      1.000000e+00  2.054000e+03  \n",
       "主动发起PVP次数  0.000000e+00  2.051000e+03  \n",
       "PVP胜利次数    0.000000e+00  1.904000e+03  \n",
       "PVE次数      1.000000e+00  5.090000e+02  \n",
       "主动发起PVE次数  1.000000e+00  5.090000e+02  \n",
       "PVE胜利次数    1.000000e+00  4.880000e+02  \n",
       "在线时长       4.833333e+00  2.049667e+03  \n",
       "付费金额       0.000000e+00  7.457950e+03  \n",
       "付费次数       0.000000e+00  1.050000e+02  \n",
       "45日付费金额    0.000000e+00  3.297781e+04  \n",
       "\n",
       "[108 rows x 8 columns]"
      ]
     },
     "execution_count": 18,
     "metadata": {},
     "output_type": "execute_result"
    }
   ],
   "source": [
    "data.describe().T #查看分布和基本统计信息，其中25%，50%，75%分别代表1/4，1/2和3/4分位数"
   ]
  },
  {
   "cell_type": "markdown",
   "metadata": {},
   "source": [
    "- 7日可以积攒的游戏资源量过亿，游戏本身可能被定为成低成本捞金游戏\n",
    "- 游戏资源数据往往都是正偏的，因为大于50%的新增用户会在第二天就流失掉，因此大部分用户所掌握的资源量都很少。\n",
    "- 然而现在的数据正偏的程度过高，最典型的，对于“石头”这样明显是基础资源的特征来说，位于上四分位数的值依然是0，至少有75%的玩家没有坚持到开采出木头以外的资源，玩家流失情况可能比我们想象得要严重很多，稍后可以深入探索一下\n",
    "- 高度偏态的信息不利于异常值检测，可以预见大量的长尾数据会被归为异常值"
   ]
  },
  {
   "cell_type": "markdown",
   "metadata": {},
   "source": [
    "### 2. 标签的探索：游戏经营的重要指标与经营现状"
   ]
  },
  {
   "cell_type": "code",
   "execution_count": 19,
   "metadata": {},
   "outputs": [
    {
     "data": {
      "text/plain": [
       "Index(['玩家唯一ID', '玩家注册时间', '木头获取数量', '木头消耗数量', '石头获取数量', '石头消耗数量', '象牙获取数量',\n",
       "       '象牙消耗数量', '肉获取数量', '肉消耗数量',\n",
       "       ...\n",
       "       'PVP次数', '主动发起PVP次数', 'PVP胜利次数', 'PVE次数', '主动发起PVE次数', 'PVE胜利次数',\n",
       "       '在线时长', '付费金额', '付费次数', '45日付费金额'],\n",
       "      dtype='object', name='字段解释', length=109)"
      ]
     },
     "execution_count": 19,
     "metadata": {},
     "output_type": "execute_result"
    }
   ],
   "source": [
    "data.columns"
   ]
  },
  {
   "cell_type": "code",
   "execution_count": 20,
   "metadata": {},
   "outputs": [],
   "source": [
    "y = data.iloc[:,-1] #最后一列：45日时的付费金额\n",
    "SevenDayPayAmount = data.loc[:,\"付费金额\"] #另外也想探索一下7天内的经营状况"
   ]
  },
  {
   "cell_type": "code",
   "execution_count": 21,
   "metadata": {
    "scrolled": true
   },
   "outputs": [
    {
     "data": {
      "text/plain": [
       "0          0.00\n",
       "1          0.00\n",
       "2          0.00\n",
       "3          0.00\n",
       "4          0.00\n",
       "5          0.00\n",
       "6          0.00\n",
       "7          0.00\n",
       "8          0.00\n",
       "9          0.00\n",
       "10         0.00\n",
       "11         0.00\n",
       "12         0.00\n",
       "13         0.00\n",
       "14         0.00\n",
       "15         0.00\n",
       "16         0.00\n",
       "17         0.00\n",
       "18         0.00\n",
       "19         0.00\n",
       "20         0.00\n",
       "21         0.00\n",
       "22         0.00\n",
       "23         0.00\n",
       "24         0.00\n",
       "25         0.99\n",
       "26         0.00\n",
       "27         0.00\n",
       "28         0.00\n",
       "29         0.00\n",
       "           ... \n",
       "2287977    0.00\n",
       "2287978    0.00\n",
       "2287979    0.00\n",
       "2287980    0.00\n",
       "2287981    0.00\n",
       "2287982    0.00\n",
       "2287983    0.00\n",
       "2287984    1.98\n",
       "2287985    0.00\n",
       "2287986    0.00\n",
       "2287987    0.00\n",
       "2287988    0.00\n",
       "2287989    0.00\n",
       "2287990    0.00\n",
       "2287991    0.00\n",
       "2287992    0.00\n",
       "2287993    0.00\n",
       "2287994    0.00\n",
       "2287995    0.00\n",
       "2287996    0.00\n",
       "2287997    0.00\n",
       "2287998    0.00\n",
       "2287999    0.00\n",
       "2288000    0.00\n",
       "2288001    0.00\n",
       "2288002    0.00\n",
       "2288003    0.00\n",
       "2288004    0.00\n",
       "2288005    0.00\n",
       "2288006    0.00\n",
       "Name: 45日付费金额, Length: 2288007, dtype: float64"
      ]
     },
     "execution_count": 21,
     "metadata": {},
     "output_type": "execute_result"
    }
   ],
   "source": [
    "y"
   ]
  },
  {
   "cell_type": "code",
   "execution_count": 22,
   "metadata": {},
   "outputs": [
    {
     "data": {
      "text/plain": [
       "count    2.288007e+06\n",
       "mean     1.793146e+00\n",
       "std      8.846303e+01\n",
       "min      0.000000e+00\n",
       "50%      0.000000e+00\n",
       "75%      0.000000e+00\n",
       "90%      0.000000e+00\n",
       "99%      3.970000e+00\n",
       "max      3.297781e+04\n",
       "Name: 45日付费金额, dtype: float64"
      ]
     },
     "execution_count": 22,
     "metadata": {},
     "output_type": "execute_result"
    }
   ],
   "source": [
    "#分布探索\n",
    "y.describe([0.75,0.9,0.99]) #游戏中常有10%的付费用户养全服的情况，因此添加0.9及0.99两个选项"
   ]
  },
  {
   "cell_type": "markdown",
   "metadata": {},
   "source": [
    "从分布来看接近99%的用户都没有付费，游戏转化可能存在大问题"
   ]
  },
  {
   "cell_type": "code",
   "execution_count": 23,
   "metadata": {},
   "outputs": [],
   "source": [
    "def RevenueFocus(RevenueSeries):\n",
    "    #用于展示7日与45日氪金情况的关键指标\n",
    "    #RevenueSeries只能是Series结构\n",
    "    \n",
    "    #中间变量\n",
    "    AllUsers = len(RevenueSeries) #全部用户\n",
    "    PaidUsers = (RevenueSeries != 0).sum() #付费用户量\n",
    "    TotalPayment = RevenueSeries.sum() #总付费金额\n",
    "    \n",
    "    #打印结果\n",
    "    print(\"付费率：{:.3f}%\".format(100*PaidUsers/AllUsers))\n",
    "    print(\"付费人数：{}\".format(PaidUsers))\n",
    "    print(\"转化总金额：{:.3f}\".format(TotalPayment))\n",
    "    print(\"ARPU：{:.3f}\".format(TotalPayment/AllUsers)) #ARPU:Average Revenue Per User 用户平均收入\n",
    "    print(\"ARPPU：{:.3f}\".format(TotalPayment/PaidUsers)) #ARPPU: Average Revenue Per Paying User 付费用户平均收入\n",
    "    print(\"前500高氪用户金额占比：{:.3f}%\".format(100*RevenueSeries.sort_values(ascending=False)[:500].sum()/TotalPayment))\n",
    "    print(\"前1000高氪用户金额占比：{:.3f}%\".format(100*RevenueSeries.sort_values(ascending=False)[:1000].sum()/TotalPayment))\n",
    "    print(\"前5000高氪用户金额占比：{:.3f}%\".format(100*RevenueSeries.sort_values(ascending=False)[:5000].sum()/TotalPayment))"
   ]
  },
  {
   "cell_type": "code",
   "execution_count": 24,
   "metadata": {},
   "outputs": [
    {
     "name": "stdout",
     "output_type": "stream",
     "text": [
      "付费率：2.010%\n",
      "付费人数：45988\n",
      "转化总金额：4102730.110\n",
      "ARPU：1.793\n",
      "ARPPU：89.213\n",
      "前500高氪用户金额占比：51.618%\n",
      "前1000高氪用户金额占比：64.878%\n",
      "前5000高氪用户金额占比：89.375%\n"
     ]
    }
   ],
   "source": [
    "#45日转化情况\n",
    "RevenueFocus(y)"
   ]
  },
  {
   "cell_type": "code",
   "execution_count": 25,
   "metadata": {},
   "outputs": [
    {
     "data": {
      "text/plain": [
       "0.002185307999494757"
      ]
     },
     "execution_count": 25,
     "metadata": {},
     "output_type": "execute_result"
    }
   ],
   "source": [
    "5000/data.shape[0]"
   ]
  },
  {
   "cell_type": "code",
   "execution_count": 26,
   "metadata": {},
   "outputs": [
    {
     "name": "stdout",
     "output_type": "stream",
     "text": [
      "付费率：1.811%\n",
      "付费人数：41439\n",
      "转化总金额：1223326.660\n",
      "ARPU：0.535\n",
      "ARPPU：29.521\n",
      "前500高氪用户金额占比：45.211%\n",
      "前1000高氪用户金额占比：57.231%\n",
      "前5000高氪用户金额占比：83.002%\n"
     ]
    }
   ],
   "source": [
    "#7日转化情况\n",
    "RevenueFocus(SevenDayPayAmount)"
   ]
  },
  {
   "cell_type": "markdown",
   "metadata": {},
   "source": [
    "- 整体来看付费率是**偏低**的，2016年时全球F2P(free to play)手游的付费率就有2.3%，《野蛮时代》的制作公司Tap4fun具有丰富的SLG手游经验，并且在开服测试阶段就有200w用户数据，转化率应该更高。2020年SLG手游的平均付费率大约在5%左右，顶级手游的付费率能够接近15%。（另外，在流量昂贵的现在，一个月400w的收入，或许还不能覆盖掉200w用户的流量成本，收入状况不算特别理想）"
   ]
  },
  {
   "cell_type": "code",
   "execution_count": 27,
   "metadata": {},
   "outputs": [
    {
     "data": {
      "text/plain": [
       "4549"
      ]
     },
     "execution_count": 27,
     "metadata": {},
     "output_type": "execute_result"
    }
   ],
   "source": [
    "#7-45日新增付费用户数\n",
    "45988 - 41439"
   ]
  },
  {
   "cell_type": "code",
   "execution_count": 28,
   "metadata": {},
   "outputs": [
    {
     "data": {
      "text/plain": [
       "2246568"
      ]
     },
     "execution_count": 28,
     "metadata": {},
     "output_type": "execute_result"
    }
   ],
   "source": [
    "(SevenDayPayAmount == 0).sum() #前7天没有氪金的用户"
   ]
  },
  {
   "cell_type": "code",
   "execution_count": 29,
   "metadata": {},
   "outputs": [
    {
     "data": {
      "text/plain": [
       "0.2024866373953515"
      ]
     },
     "execution_count": 29,
     "metadata": {},
     "output_type": "execute_result"
    }
   ],
   "source": [
    "#7-45日新增付费用户占7日前未氪金用户的占比\n",
    "100*(45988 - 41439)/(SevenDayPayAmount == 0).sum()"
   ]
  },
  {
   "cell_type": "markdown",
   "metadata": {},
   "source": [
    "- 从数据逻辑来看，45日总付费不为0的用户一定包括前7日内付过费的用户。从7日到45日，新增付费用户仅有4549人（占不氪金用户的0.2%），即是说如果**一个新玩家在服的前七天没有氪金，那他/她在未来一个月内99.8%的可能性都不会氪金**。这可能时由于如下原因导致的：\n",
    "> 1. 所有的用户都留存到了45日之后，这说明新用户福利过去后，游戏中的转化手段非常贫瘠，转化刺激严重不足\n",
    "> 2. 大部分用户在45日之前已经流失，因此才没有继续转化为氪金用户的机会"
   ]
  },
  {
   "cell_type": "markdown",
   "metadata": {},
   "source": [
    "计算7日之后再也没有付费的用户："
   ]
  },
  {
   "cell_type": "code",
   "execution_count": 30,
   "metadata": {},
   "outputs": [],
   "source": [
    "#7日之后再也没有付费的用户\n",
    "#即，45日时付费金额与7日付费金额相同、且7日时付过费的用户"
   ]
  },
  {
   "cell_type": "code",
   "execution_count": 31,
   "metadata": {},
   "outputs": [
    {
     "data": {
      "text/plain": [
       "0          0.00\n",
       "1          0.00\n",
       "2          0.00\n",
       "3          0.00\n",
       "4          0.00\n",
       "5          0.00\n",
       "6          0.00\n",
       "7          0.00\n",
       "8          0.00\n",
       "9          0.00\n",
       "10         0.00\n",
       "11         0.00\n",
       "12         0.00\n",
       "13         0.00\n",
       "14         0.00\n",
       "15         0.00\n",
       "16         0.00\n",
       "17         0.00\n",
       "18         0.00\n",
       "19         0.00\n",
       "20         0.00\n",
       "21         0.00\n",
       "22         0.00\n",
       "23         0.00\n",
       "24         0.00\n",
       "25         0.99\n",
       "26         0.00\n",
       "27         0.00\n",
       "28         0.00\n",
       "29         0.00\n",
       "           ... \n",
       "2287977    0.00\n",
       "2287978    0.00\n",
       "2287979    0.00\n",
       "2287980    0.00\n",
       "2287981    0.00\n",
       "2287982    0.00\n",
       "2287983    0.00\n",
       "2287984    1.98\n",
       "2287985    0.00\n",
       "2287986    0.00\n",
       "2287987    0.00\n",
       "2287988    0.00\n",
       "2287989    0.00\n",
       "2287990    0.00\n",
       "2287991    0.00\n",
       "2287992    0.00\n",
       "2287993    0.00\n",
       "2287994    0.00\n",
       "2287995    0.00\n",
       "2287996    0.00\n",
       "2287997    0.00\n",
       "2287998    0.00\n",
       "2287999    0.00\n",
       "2288000    0.00\n",
       "2288001    0.00\n",
       "2288002    0.00\n",
       "2288003    0.00\n",
       "2288004    0.00\n",
       "2288005    0.00\n",
       "2288006    0.00\n",
       "Name: 付费金额, Length: 2272149, dtype: float64"
      ]
     },
     "execution_count": 31,
     "metadata": {},
     "output_type": "execute_result"
    }
   ],
   "source": [
    "SevenDayPayAmount[SevenDayPayAmount == y] #筛选除了7天付费金额与45天付费金额一致的用户"
   ]
  },
  {
   "cell_type": "code",
   "execution_count": 32,
   "metadata": {},
   "outputs": [
    {
     "data": {
      "text/plain": [
       "30130"
      ]
     },
     "execution_count": 32,
     "metadata": {},
     "output_type": "execute_result"
    }
   ],
   "source": [
    "SevenDayPayAmount[SevenDayPayAmount == y][SevenDayPayAmount != 0].count()"
   ]
  },
  {
   "cell_type": "code",
   "execution_count": 33,
   "metadata": {},
   "outputs": [
    {
     "data": {
      "text/plain": [
       "72.70928352518159"
      ]
     },
     "execution_count": 33,
     "metadata": {},
     "output_type": "execute_result"
    }
   ],
   "source": [
    "#占前7天总付费人数的占比\n",
    "100*30130/41439"
   ]
  },
  {
   "cell_type": "markdown",
   "metadata": {},
   "source": [
    "不难发现，7日之前付过费，并且7日之后再也没有付费的用户有3万多人，占到前7天总付费用户的72%，**即一个新玩家在服前七天有氪金，但她/他在未来一个月还是有7成的概率不再继续氪金**。这可能说明（按可能性排序）：\n",
    "> 1. 对大部分用户而言，最初氪的是超低价/超实惠新手礼包，后续氪金礼包中的福利/以及价格超出了大部分用户对游戏氪金的心理预期\n",
    "> 2. 新手礼包力度过大，导致后续氪金礼包中的福利看起来不够实惠，用户再付费门槛较高\n",
    "> 3. 游戏本身粘性不足，无论用户是否氪金，大部分人都在7-45日内自然流失了（甚至在前7日就流失了大部分）\n",
    "> 4. 开局需要发育时玩家更愿意氪金解决问题（痒感充足），发育起来之后便不再具有强烈氪金需求/发育不起来直接退服了\n",
    "> 5. （可能性较小，仅针对少部分前7日巨氪但7日后却不再氪的大佬）氪金后体验一般甚至较差，例如，发现氪几百、上千元后对玩家竞争力无明显提升"
   ]
  },
  {
   "cell_type": "code",
   "execution_count": 34,
   "metadata": {},
   "outputs": [
    {
     "data": {
      "text/plain": [
       "count    30130.000000\n",
       "mean        11.407407\n",
       "std         71.134875\n",
       "min          0.990000\n",
       "25%          0.990000\n",
       "50%          1.980000\n",
       "75%          5.980000\n",
       "max       4086.520000\n",
       "Name: 付费金额, dtype: float64"
      ]
     },
     "execution_count": 34,
     "metadata": {},
     "output_type": "execute_result"
    }
   ],
   "source": [
    "#7日后再也没有付过费的用户前7日的氪金概况\n",
    "SevenDayPayAmount[SevenDayPayAmount == y][SevenDayPayAmount != 0].describe()"
   ]
  },
  {
   "cell_type": "code",
   "execution_count": 35,
   "metadata": {},
   "outputs": [
    {
     "data": {
      "text/plain": [
       "343705.17000000004"
      ]
     },
     "execution_count": 35,
     "metadata": {},
     "output_type": "execute_result"
    }
   ],
   "source": [
    "SevenDayPayAmount[SevenDayPayAmount == y][SevenDayPayAmount != 0].sum()"
   ]
  },
  {
   "cell_type": "code",
   "execution_count": 36,
   "metadata": {},
   "outputs": [
    {
     "data": {
      "text/plain": [
       "count    11309.000000\n",
       "mean        77.780661\n",
       "std        289.610458\n",
       "min          0.990000\n",
       "25%          2.980000\n",
       "50%         15.970000\n",
       "75%         45.940000\n",
       "max       7457.950000\n",
       "Name: 付费金额, dtype: float64"
      ]
     },
     "execution_count": 36,
     "metadata": {},
     "output_type": "execute_result"
    }
   ],
   "source": [
    "#7日后继续付费的用户前7日的氪金概况\n",
    "SevenDayPayAmount[SevenDayPayAmount != y][SevenDayPayAmount != 0].describe()"
   ]
  },
  {
   "cell_type": "code",
   "execution_count": 37,
   "metadata": {},
   "outputs": [
    {
     "data": {
      "text/plain": [
       "879621.4900000001"
      ]
     },
     "execution_count": 37,
     "metadata": {},
     "output_type": "execute_result"
    }
   ],
   "source": [
    "SevenDayPayAmount[SevenDayPayAmount != y][SevenDayPayAmount != 0].sum()"
   ]
  },
  {
   "cell_type": "code",
   "execution_count": 38,
   "metadata": {},
   "outputs": [
    {
     "data": {
      "text/plain": [
       "count    11309.000000\n",
       "mean       315.963475\n",
       "std       1202.828424\n",
       "min          1.980000\n",
       "25%         16.940000\n",
       "50%         48.920000\n",
       "75%        163.760000\n",
       "max      32977.810000\n",
       "Name: 45日付费金额, dtype: float64"
      ]
     },
     "execution_count": 38,
     "metadata": {},
     "output_type": "execute_result"
    }
   ],
   "source": [
    "#7日后继续付费的用户在45日时的氪金概况\n",
    "y[SevenDayPayAmount != y][SevenDayPayAmount != 0].describe()"
   ]
  },
  {
   "cell_type": "markdown",
   "metadata": {},
   "source": [
    "从以上数据可以看出，7日后继续氪金的玩家在前7日会氪更多的金额，7日后不再氪金的玩家中有75%都只氪了6元以下的金额，而7日后继续氪金的玩家中有50%以上都磕了16元左右，这极大地印证了我们提出的第一条理由：大部分人氪新手礼包，而后续礼包的价格在大部分人的心理预期之外。同时，7日后不再氪金的玩家中也有不少氪过百过千的玩家，最终放弃游戏可能是因为自然流失/氪金后体验不足以满足部分用户的想象。但从7日后继续付费的用户氪金情况来看，用户是倾向于越氪越多的，因此大部分用户对于氪金后的感受应该是满意的。（后续我们会看到，结合ARPU和ARPPU的数据，可以推测氪金后的游戏体验是很不错的）。"
   ]
  },
  {
   "cell_type": "code",
   "execution_count": 39,
   "metadata": {},
   "outputs": [],
   "source": [
    "#使用箱线图来对比两类用户在前7日的氪金情况"
   ]
  },
  {
   "cell_type": "code",
   "execution_count": 42,
   "metadata": {},
   "outputs": [
    {
     "data": {
      "image/png": "[encoded data removed]",
      "text/plain": [
       "<Figure size 1080x504 with 1 Axes>"
      ]
     },
     "metadata": {
      "needs_background": "light"
     },
     "output_type": "display_data"
    }
   ],
   "source": [
    "plt.figure(figsize=(15,7))\n",
    "plt.boxplot([SevenDayPayAmount[SevenDayPayAmount != y][SevenDayPayAmount != 0],SevenDayPayAmount[SevenDayPayAmount == y][SevenDayPayAmount != 0]],labels=[\"7日后继续付费\",\"7日后不再付费\"],vert=False,showmeans=False)\n",
    "plt.xlim(-1,50)\n",
    "plt.title('前7日消费金额分布图',fontsize=20.0)\n",
    "plt.yticks(fontsize=15.0)\n",
    "plt.xticks(range(0,50,2),fontsize=15.0)\n",
    "#plt.vlines(6.0,ymin = plt.ylim()[0]+0.1,ymax = plt.ylim()[1]-0.1,colors=\"red\",linestyles=\"dotted\")\n",
    "plt.show()"
   ]
  },
  {
   "cell_type": "markdown",
   "metadata": {},
   "source": [
    "不难发现，氪金的范围虽然一样，但继续付费用户的分布要靠右许多，说明7日后付费用户在前7日消费更多。"
   ]
  },
  {
   "cell_type": "markdown",
   "metadata": {},
   "source": [
    "考虑到后续付费用户有50%都付了16元及以上，我们推测这个金额点应该是在16元以下的，因此我们设置潜在金额的范围为1-16。"
   ]
  },
  {
   "cell_type": "code",
   "execution_count": 43,
   "metadata": {},
   "outputs": [],
   "source": [
    "PotentialPoints = range(1,16)"
   ]
  },
  {
   "cell_type": "code",
   "execution_count": 44,
   "metadata": {},
   "outputs": [
    {
     "name": "stdout",
     "output_type": "stream",
     "text": [
      "1\n",
      "37.683%\n",
      "62.317%\n",
      "-0.246%\n",
      "2\n",
      "43.720%\n",
      "56.280%\n",
      "-0.126%\n",
      "3\n",
      "45.759%\n",
      "54.241%\n",
      "-0.085%\n",
      "4\n",
      "46.532%\n",
      "53.468%\n",
      "-0.069%\n",
      "5\n",
      "48.094%\n",
      "51.906%\n",
      "-0.038%\n",
      "6\n",
      "50.778%\n",
      "49.222%\n",
      "0.016%\n",
      "当7日内付费金额大于6.00时，用户继续氪金的可能性比不再氪金的可能性更高！\n"
     ]
    }
   ],
   "source": [
    "for i in PotentialPoints:\n",
    "    #取出所有7天内付费金额超出i的付费用户\n",
    "    HigherThanPoint = SevenDayPayAmount[SevenDayPayAmount>=i] \n",
    "    #这些用户中，继续付费的用户所占的比例\n",
    "    KeepPaid = len(HigherThanPoint[SevenDayPayAmount != y])/len(HigherThanPoint) \n",
    "    #这些用户中，停止付费的用户所占的比例，其实就是1-KeepPaid\n",
    "    StopPaid = len(HigherThanPoint[SevenDayPayAmount == y])/len(HigherThanPoint)\n",
    "    print(i)\n",
    "    print(\"{:.3f}%\".format(100*KeepPaid))\n",
    "    print(\"{:.3f}%\".format(100*StopPaid))\n",
    "    print(\"{:.3f}%\".format(KeepPaid - StopPaid))\n",
    "    if KeepPaid - StopPaid > 0:\n",
    "        print(\"当7日内付费金额大于{:.2f}时，用户继续氪金的可能性比不再氪金的可能性更高！\".format(i))\n",
    "        break"
   ]
  },
  {
   "cell_type": "markdown",
   "metadata": {},
   "source": [
    "用图像来呈现则更加明显："
   ]
  },
  {
   "cell_type": "code",
   "execution_count": 45,
   "metadata": {},
   "outputs": [
    {
     "data": {
      "image/png": "[encoded data removed]",
      "text/plain": [
       "<Figure size 1080x504 with 1 Axes>"
      ]
     },
     "metadata": {
      "needs_background": "light"
     },
     "output_type": "display_data"
    }
   ],
   "source": [
    "KeepPaidList = []\n",
    "StopPaidList = []\n",
    "for i in PotentialPoints:\n",
    "    #取出所有7天内付费金额超出i的付费用户\n",
    "    HigherThanPoint = SevenDayPayAmount[SevenDayPayAmount>=i] \n",
    "    #这些用户中，继续付费的用户所占的比例\n",
    "    KeepPaid = len(HigherThanPoint[SevenDayPayAmount != y])/len(HigherThanPoint) \n",
    "    #这些用户中，停止付费的用户所占的比例\n",
    "    StopPaid = len(HigherThanPoint[SevenDayPayAmount == y])/len(HigherThanPoint)\n",
    "    KeepPaidList.append(100*KeepPaid)\n",
    "    StopPaidList.append(100*StopPaid)\n",
    "\n",
    "plt.figure(figsize=(15,7))\n",
    "plt.plot(PotentialPoints,KeepPaidList,label=\"7日后继续付费的概率\",color=\"red\")\n",
    "plt.plot(PotentialPoints,StopPaidList,label=\"7日后停止付费的概率\",color=\"k\")\n",
    "#plt.xlim(-1,50)\n",
    "plt.title('前7日氪金数额增加，继续付费概率/不再付费概率的变化',fontsize=20.0)\n",
    "plt.yticks(fontsize=15.0)\n",
    "plt.xticks(range(0,16,1),fontsize=15.0)\n",
    "plt.legend(fontsize = 15.0, frameon = False)\n",
    "plt.vlines(5.7,ymin = plt.ylim()[0]+0.1,ymax = plt.ylim()[1]-0.1,colors=\"red\",linestyles=\"dotted\")\n",
    "plt.show()"
   ]
  },
  {
   "cell_type": "markdown",
   "metadata": {},
   "source": [
    " - <font color=\"#dd0000\"> **高价值用户评判的第一个可能的标准：前7日氪金超过6元的用户是更有价值的用户**</font><br><br>\n",
    "以此推测，新手礼包设置为5-7元，或许可以明确辨析出用户的付费能力。"
   ]
  },
  {
   "cell_type": "markdown",
   "metadata": {},
   "source": [
    "在前7日内付费6元以下的用户，无论是否自然流失，未来氪金的可能性都是小于不再付费的可能性的。可以通过设置游戏体验，给与付费5元左右的用户更多的“刺激”，让他们后续继续付费。也可选择直接放弃6元以下的付费用户，体验维持现状或减少资源分配，让更多的资源/服务围绕更有可能付费的用户展开。"
   ]
  },
  {
   "cell_type": "markdown",
   "metadata": {},
   "source": [
    "接下来是收入分析"
   ]
  },
  {
   "cell_type": "code",
   "execution_count": 46,
   "metadata": {},
   "outputs": [
    {
     "name": "stdout",
     "output_type": "stream",
     "text": [
      "付费率：2.010%\n",
      "付费人数：45988\n",
      "转化总金额：4102730.110\n",
      "ARPU：1.793\n",
      "ARPPU：89.213\n",
      "前500高氪用户金额占比：51.618%\n",
      "前1000高氪用户金额占比：64.878%\n",
      "前5000高氪用户金额占比：89.375%\n"
     ]
    }
   ],
   "source": [
    "#45日转化情况\n",
    "RevenueFocus(y)"
   ]
  },
  {
   "cell_type": "code",
   "execution_count": 47,
   "metadata": {},
   "outputs": [
    {
     "data": {
      "text/plain": [
       "32977.81"
      ]
     },
     "execution_count": 47,
     "metadata": {},
     "output_type": "execute_result"
    }
   ],
   "source": [
    "y.max()"
   ]
  },
  {
   "cell_type": "code",
   "execution_count": 48,
   "metadata": {},
   "outputs": [
    {
     "name": "stdout",
     "output_type": "stream",
     "text": [
      "付费率：1.811%\n",
      "付费人数：41439\n",
      "转化总金额：1223326.660\n",
      "ARPU：0.535\n",
      "ARPPU：29.521\n",
      "前500高氪用户金额占比：45.211%\n",
      "前1000高氪用户金额占比：57.231%\n",
      "前5000高氪用户金额占比：83.002%\n"
     ]
    }
   ],
   "source": [
    "#7日转化情况\n",
    "RevenueFocus(SevenDayPayAmount)"
   ]
  },
  {
   "cell_type": "markdown",
   "metadata": {},
   "source": [
    "来看ARPU与ARPPU数据。ARPU是全服用户平均收入，ARPPU是全服付费用户平均收入，目前来看全服的ARPU较低，但ARPPU还不错，这说明虽然付费人数不多，但是大R（大人民币玩家）的付费能力相对较强。从前5000高氪用户金额占比来看，45日时全服氪金前5000的人(z占比小于0.22%)提供了全服89%的收入，大R们贡献巨大。这令我猜测，《野蛮时代》中的氪金行为应该与玩家竞争力有较为直接的联系，因为许多大R玩家非常偏爱强PK类游戏，付费可以直接让PVP变得异常简单，不过全服最氪玩家在一个月内的消费只有3w2，在SLG手游领域并非一个很高的数字，如果游戏体验优秀，应该还有很大的上升空间。而付费人数不多的问题还可以改善，游戏整体的经营成果还可以上一个台阶。"
   ]
  },
  {
   "cell_type": "markdown",
   "metadata": {},
   "source": [
    "### 3. 特征的探索"
   ]
  },
  {
   "cell_type": "markdown",
   "metadata": {},
   "source": [
    "#### 3.1 在线时长：用户是否以超出常规的速度流失？"
   ]
  },
  {
   "cell_type": "code",
   "execution_count": 49,
   "metadata": {},
   "outputs": [
    {
     "data": {
      "text/plain": [
       "Index(['玩家唯一ID', '玩家注册时间', '木头获取数量', '木头消耗数量', '石头获取数量', '石头消耗数量', '象牙获取数量',\n",
       "       '象牙消耗数量', '肉获取数量', '肉消耗数量',\n",
       "       ...\n",
       "       'PVP次数', '主动发起PVP次数', 'PVP胜利次数', 'PVE次数', '主动发起PVE次数', 'PVE胜利次数',\n",
       "       '在线时长', '付费金额', '付费次数', '45日付费金额'],\n",
       "      dtype='object', name='字段解释', length=109)"
      ]
     },
     "execution_count": 49,
     "metadata": {},
     "output_type": "execute_result"
    }
   ],
   "source": [
    "data.columns"
   ]
  },
  {
   "cell_type": "code",
   "execution_count": 50,
   "metadata": {},
   "outputs": [],
   "source": [
    "PlayTime = data.loc[:,\"在线时长\"]"
   ]
  },
  {
   "cell_type": "code",
   "execution_count": 51,
   "metadata": {},
   "outputs": [
    {
     "data": {
      "text/plain": [
       "2049.666667"
      ]
     },
     "execution_count": 51,
     "metadata": {},
     "output_type": "execute_result"
    }
   ],
   "source": [
    "PlayTime.max()"
   ]
  },
  {
   "cell_type": "markdown",
   "metadata": {},
   "source": [
    "原数据并未说明这个衡量时间的特征的单位，但7日为168小时，因此该特征的单位应该是分钟。前7日内游戏时长最长的玩家玩了2049分钟，即34个小时，每日玩5个小时以上，也是铁杆玩家可以达得到的数据，单位为分钟是合理的。"
   ]
  },
  {
   "cell_type": "code",
   "execution_count": 52,
   "metadata": {},
   "outputs": [
    {
     "data": {
      "text/plain": [
       "count   2288007.000\n",
       "mean         10.207\n",
       "std          38.959\n",
       "min           0.000\n",
       "25%           0.500\n",
       "50%           1.833\n",
       "75%           4.833\n",
       "max        2049.667\n",
       "Name: 在线时长, dtype: float64"
      ]
     },
     "execution_count": 52,
     "metadata": {},
     "output_type": "execute_result"
    }
   ],
   "source": [
    "pd.set_option(\"display.float_format\", lambda x: \"%.3f\" % x) #避免显示问题，设置不显示科学计数法\n",
    "PlayTime.describe()"
   ]
  },
  {
   "cell_type": "markdown",
   "metadata": {},
   "source": [
    "75%的人在前7日一共只玩了4.8分钟或以下，这是说超过75%的用户只是稍微看了一眼游戏就被劝退了。"
   ]
  },
  {
   "cell_type": "code",
   "execution_count": 53,
   "metadata": {},
   "outputs": [
    {
     "data": {
      "text/plain": [
       "count   2288007.000\n",
       "mean         10.207\n",
       "std          38.959\n",
       "min           0.000\n",
       "50%           1.833\n",
       "75%           4.833\n",
       "90%          15.000\n",
       "95%          41.333\n",
       "99%         183.657\n",
       "max        2049.667\n",
       "Name: 在线时长, dtype: float64"
      ]
     },
     "execution_count": 53,
     "metadata": {},
     "output_type": "execute_result"
    }
   ],
   "source": [
    "PlayTime.describe(percentiles=[0.75,.9,0.95,.99]) #查看一下90%以上的分布"
   ]
  },
  {
   "cell_type": "markdown",
   "metadata": {},
   "source": [
    "SLG游戏天生会充满许多任务、奖励和剧情，除非用户登录即退出，否则登入一次至少应该停留5分钟以上，新用户停留的时间应当更长（有非常多的内容需要探索、任务列表也很长）。如果一个用户在注册游戏后第二天依然被留存下来、并参与到游戏当中，那两天在线时长至少也应该有15-20分钟。75%的用户在前7日内只玩了4.8分钟，而如下所示，90%的用户在7日内只玩了15分钟以下。据推断，大约只有10~15%的用户在第二天依然留存下来，同时每天大约玩10分钟，7日后依然留存下来的用户大约少于5%。用户的确以超出常规的方式流失，在这种流失方式下，付费率也很难被拯救。"
   ]
  },
  {
   "cell_type": "code",
   "execution_count": 54,
   "metadata": {},
   "outputs": [],
   "source": [
    "#谁是这个玩了2049分钟的用户？"
   ]
  },
  {
   "cell_type": "code",
   "execution_count": 55,
   "metadata": {},
   "outputs": [
    {
     "data": {
      "text/plain": [
       "1"
      ]
     },
     "execution_count": 55,
     "metadata": {},
     "output_type": "execute_result"
    }
   ],
   "source": [
    " (data[\"在线时长\"] > 2000).sum() #可能测试人员，GM"
   ]
  },
  {
   "cell_type": "code",
   "execution_count": 56,
   "metadata": {},
   "outputs": [
    {
     "data": {
      "text/html": [
       "<div>\n",
       "<style scoped>\n",
       "    .dataframe tbody tr th:only-of-type {\n",
       "        vertical-align: middle;\n",
       "    }\n",
       "\n",
       "    .dataframe tbody tr th {\n",
       "        vertical-align: top;\n",
       "    }\n",
       "\n",
       "    .dataframe thead th {\n",
       "        text-align: right;\n",
       "    }\n",
       "</style>\n",
       "<table border=\"1\" class=\"dataframe\">\n",
       "  <thead>\n",
       "    <tr style=\"text-align: right;\">\n",
       "      <th>字段解释</th>\n",
       "      <th>玩家唯一ID</th>\n",
       "      <th>玩家注册时间</th>\n",
       "      <th>木头获取数量</th>\n",
       "      <th>木头消耗数量</th>\n",
       "      <th>石头获取数量</th>\n",
       "      <th>石头消耗数量</th>\n",
       "      <th>象牙获取数量</th>\n",
       "      <th>象牙消耗数量</th>\n",
       "      <th>肉获取数量</th>\n",
       "      <th>肉消耗数量</th>\n",
       "      <th>...</th>\n",
       "      <th>PVP次数</th>\n",
       "      <th>主动发起PVP次数</th>\n",
       "      <th>PVP胜利次数</th>\n",
       "      <th>PVE次数</th>\n",
       "      <th>主动发起PVE次数</th>\n",
       "      <th>PVE胜利次数</th>\n",
       "      <th>在线时长</th>\n",
       "      <th>付费金额</th>\n",
       "      <th>付费次数</th>\n",
       "      <th>45日付费金额</th>\n",
       "    </tr>\n",
       "  </thead>\n",
       "  <tbody>\n",
       "    <tr>\n",
       "      <th>488497</th>\n",
       "      <td>645487</td>\n",
       "      <td>2018-03-04 13:43:36</td>\n",
       "      <td>697852.000</td>\n",
       "      <td>300255.000</td>\n",
       "      <td>0.000</td>\n",
       "      <td>0.000</td>\n",
       "      <td>6000.000</td>\n",
       "      <td>0.000</td>\n",
       "      <td>690379.000</td>\n",
       "      <td>196602.000</td>\n",
       "      <td>...</td>\n",
       "      <td>5</td>\n",
       "      <td>0</td>\n",
       "      <td>0</td>\n",
       "      <td>2</td>\n",
       "      <td>2</td>\n",
       "      <td>2</td>\n",
       "      <td>2049.667</td>\n",
       "      <td>0.000</td>\n",
       "      <td>0</td>\n",
       "      <td>0.000</td>\n",
       "    </tr>\n",
       "  </tbody>\n",
       "</table>\n",
       "<p>1 rows × 109 columns</p>\n",
       "</div>"
      ],
      "text/plain": [
       "字段解释    玩家唯一ID               玩家注册时间     木头获取数量     木头消耗数量  石头获取数量  石头消耗数量  \\\n",
       "488497  645487  2018-03-04 13:43:36 697852.000 300255.000   0.000   0.000   \n",
       "\n",
       "字段解释     象牙获取数量  象牙消耗数量      肉获取数量      肉消耗数量   ...     PVP次数  主动发起PVP次数  \\\n",
       "488497 6000.000   0.000 690379.000 196602.000   ...         5          0   \n",
       "\n",
       "字段解释    PVP胜利次数  PVE次数  主动发起PVE次数  PVE胜利次数     在线时长  付费金额  付费次数  45日付费金额  \n",
       "488497        0      2          2        2 2049.667 0.000     0    0.000  \n",
       "\n",
       "[1 rows x 109 columns]"
      ]
     },
     "execution_count": 56,
     "metadata": {},
     "output_type": "execute_result"
    }
   ],
   "source": [
    "data.loc[data[\"在线时长\"] > 2049,:] #69木头获取，69w肉获取"
   ]
  },
  {
   "cell_type": "code",
   "execution_count": 57,
   "metadata": {},
   "outputs": [
    {
     "data": {
      "text/html": [
       "<div>\n",
       "<style scoped>\n",
       "    .dataframe tbody tr th:only-of-type {\n",
       "        vertical-align: middle;\n",
       "    }\n",
       "\n",
       "    .dataframe tbody tr th {\n",
       "        vertical-align: top;\n",
       "    }\n",
       "\n",
       "    .dataframe thead th {\n",
       "        text-align: right;\n",
       "    }\n",
       "</style>\n",
       "<table border=\"1\" class=\"dataframe\">\n",
       "  <thead>\n",
       "    <tr style=\"text-align: right;\">\n",
       "      <th>字段解释</th>\n",
       "      <th>玩家唯一ID</th>\n",
       "      <th>玩家注册时间</th>\n",
       "      <th>木头获取数量</th>\n",
       "      <th>木头消耗数量</th>\n",
       "      <th>石头获取数量</th>\n",
       "      <th>石头消耗数量</th>\n",
       "      <th>象牙获取数量</th>\n",
       "      <th>象牙消耗数量</th>\n",
       "      <th>肉获取数量</th>\n",
       "      <th>肉消耗数量</th>\n",
       "      <th>...</th>\n",
       "      <th>PVP次数</th>\n",
       "      <th>主动发起PVP次数</th>\n",
       "      <th>PVP胜利次数</th>\n",
       "      <th>PVE次数</th>\n",
       "      <th>主动发起PVE次数</th>\n",
       "      <th>PVE胜利次数</th>\n",
       "      <th>在线时长</th>\n",
       "      <th>付费金额</th>\n",
       "      <th>付费次数</th>\n",
       "      <th>45日付费金额</th>\n",
       "    </tr>\n",
       "  </thead>\n",
       "  <tbody>\n",
       "    <tr>\n",
       "      <th>488497</th>\n",
       "      <td>645487</td>\n",
       "      <td>2018-03-04 13:43:36</td>\n",
       "      <td>697852.000</td>\n",
       "      <td>300255.000</td>\n",
       "      <td>0.000</td>\n",
       "      <td>0.000</td>\n",
       "      <td>6000.000</td>\n",
       "      <td>0.000</td>\n",
       "      <td>690379.000</td>\n",
       "      <td>196602.000</td>\n",
       "      <td>...</td>\n",
       "      <td>5</td>\n",
       "      <td>0</td>\n",
       "      <td>0</td>\n",
       "      <td>2</td>\n",
       "      <td>2</td>\n",
       "      <td>2</td>\n",
       "      <td>2049.667</td>\n",
       "      <td>0.000</td>\n",
       "      <td>0</td>\n",
       "      <td>0.000</td>\n",
       "    </tr>\n",
       "    <tr>\n",
       "      <th>1263615</th>\n",
       "      <td>1579134</td>\n",
       "      <td>2018-03-05 11:04:18</td>\n",
       "      <td>15722711.000</td>\n",
       "      <td>15269965.000</td>\n",
       "      <td>8895972.000</td>\n",
       "      <td>7952637.000</td>\n",
       "      <td>4554662.000</td>\n",
       "      <td>3025143.000</td>\n",
       "      <td>23321313.000</td>\n",
       "      <td>21071538.000</td>\n",
       "      <td>...</td>\n",
       "      <td>48</td>\n",
       "      <td>25</td>\n",
       "      <td>11</td>\n",
       "      <td>100</td>\n",
       "      <td>100</td>\n",
       "      <td>86</td>\n",
       "      <td>1674.667</td>\n",
       "      <td>2.980</td>\n",
       "      <td>2</td>\n",
       "      <td>514.680</td>\n",
       "    </tr>\n",
       "  </tbody>\n",
       "</table>\n",
       "<p>2 rows × 109 columns</p>\n",
       "</div>"
      ],
      "text/plain": [
       "字段解释      玩家唯一ID               玩家注册时间       木头获取数量       木头消耗数量      石头获取数量  \\\n",
       "488497    645487  2018-03-04 13:43:36   697852.000   300255.000       0.000   \n",
       "1263615  1579134  2018-03-05 11:04:18 15722711.000 15269965.000 8895972.000   \n",
       "\n",
       "字段解释         石头消耗数量      象牙获取数量      象牙消耗数量        肉获取数量        肉消耗数量  \\\n",
       "488497        0.000    6000.000       0.000   690379.000   196602.000   \n",
       "1263615 7952637.000 4554662.000 3025143.000 23321313.000 21071538.000   \n",
       "\n",
       "字段解释      ...     PVP次数  主动发起PVP次数  PVP胜利次数  PVE次数  主动发起PVE次数  PVE胜利次数  \\\n",
       "488497    ...         5          0        0      2          2        2   \n",
       "1263615   ...        48         25       11    100        100       86   \n",
       "\n",
       "字段解释        在线时长  付费金额  付费次数  45日付费金额  \n",
       "488497  2049.667 0.000     0    0.000  \n",
       "1263615 1674.667 2.980     2  514.680  \n",
       "\n",
       "[2 rows x 109 columns]"
      ]
     },
     "execution_count": 57,
     "metadata": {},
     "output_type": "execute_result"
    }
   ],
   "source": [
    "data.loc[data[\"在线时长\"] > 1500,:] #比起时长，是否更加深度参与游戏或许才与氪金更相关"
   ]
  },
  {
   "cell_type": "code",
   "execution_count": 58,
   "metadata": {},
   "outputs": [],
   "source": [
    "#尝试查找氪金用户们前7日的游戏时间"
   ]
  },
  {
   "cell_type": "code",
   "execution_count": 59,
   "metadata": {},
   "outputs": [],
   "source": [
    "PaidPlayTime = data.loc[data[\"付费金额\"] != 0,\"在线时长\"]"
   ]
  },
  {
   "cell_type": "code",
   "execution_count": 60,
   "metadata": {},
   "outputs": [
    {
     "data": {
      "text/plain": [
       "count   41439.000\n",
       "mean      140.188\n",
       "std       149.973\n",
       "min         0.000\n",
       "25%        33.000\n",
       "50%        88.833\n",
       "75%       194.667\n",
       "max      1674.667\n",
       "Name: 在线时长, dtype: float64"
      ]
     },
     "execution_count": 60,
     "metadata": {},
     "output_type": "execute_result"
    }
   ],
   "source": [
    "PaidPlayTime.describe().T #只有25%以下的用户在线时间在半小时以下，游戏时间明显比非氪金用户多很多"
   ]
  },
  {
   "cell_type": "code",
   "execution_count": 61,
   "metadata": {},
   "outputs": [],
   "source": [
    "#在线时长甚至不足1分钟的闭眼氪玩家们，有40人氪了0.99"
   ]
  },
  {
   "cell_type": "code",
   "execution_count": 62,
   "metadata": {},
   "outputs": [
    {
     "data": {
      "text/plain": [
       "0.000     896061\n",
       "0.990         51\n",
       "9.990          4\n",
       "36.960         3\n",
       "5.980          3\n",
       "4.990          3\n",
       "99.990         2\n",
       "56.950         2\n",
       "19.990         1\n",
       "26.970         1\n",
       "25.970         1\n",
       "6.980          1\n",
       "49.990         1\n",
       "1.990          1\n",
       "Name: 付费金额, dtype: int64"
      ]
     },
     "execution_count": 62,
     "metadata": {},
     "output_type": "execute_result"
    }
   ],
   "source": [
    "data.loc[data[\"在线时长\"]<=1,\"付费金额\"].value_counts()"
   ]
  },
  {
   "cell_type": "code",
   "execution_count": 63,
   "metadata": {},
   "outputs": [],
   "source": [
    "#在线时间很长的用户也不一定就是高氪大佬\n",
    "#在线时间很短的用户也不一定就完全不氪\n",
    "#如何就在线时间这个点来进行用户价值判断呢？"
   ]
  },
  {
   "cell_type": "code",
   "execution_count": 64,
   "metadata": {},
   "outputs": [
    {
     "name": "stdout",
     "output_type": "stream",
     "text": [
      "一周在线时长不足1分钟\n",
      "\t45日平均消费额为0.022元，45日总消费额为18323.490元\n",
      "\t7日平均消费额为0.001元，7日总消费额为574.180元\n",
      "\t7日氪金占比0.047%，45日氪金占比0.447%\n",
      "一周在线时长不足5分钟\n",
      "\t45日平均消费额为0.019元，45日总消费额为32572.700元\n",
      "\t7日平均消费额为0.003元，7日总消费额为4519.280元\n",
      "\t7日氪金占比0.369%，45日氪金占比0.794%\n",
      "一周在线时长不足15分钟\n",
      "\t45日平均消费额为0.028元，45日总消费额为57753.190元\n",
      "\t7日平均消费额为0.009元，7日总消费额为18428.260元\n",
      "\t7日氪金占比1.506%，45日氪金占比1.408%\n",
      "一周在线时长不足20分钟\n",
      "\t45日平均消费额为0.038元，45日总消费额为79124.920元\n",
      "\t7日平均消费额为0.012元，7日总消费额为25904.310元\n",
      "\t7日氪金占比2.118%，45日氪金占比1.929%\n",
      "一周在线时长不足25分钟\n",
      "\t45日平均消费额为0.044元，45日总消费额为94650.110元\n",
      "\t7日平均消费额为0.016元，7日总消费额为34217.390元\n",
      "\t7日氪金占比2.797%，45日氪金占比2.307%\n",
      "一周在线时长不足30分钟\n",
      "\t45日平均消费额为0.050元，45日总消费额为107763.140元\n",
      "\t7日平均消费额为0.019元，7日总消费额为40862.200元\n",
      "\t7日氪金占比3.340%，45日氪金占比2.627%\n"
     ]
    }
   ],
   "source": [
    "#在线时长很少的玩家们贡献的氪金数额\n",
    "for playtime in [1,5,15,20,25,30]:\n",
    "    \n",
    "    MeanPay45 = data.loc[data[\"在线时长\"]<playtime,\"45日付费金额\"].mean()\n",
    "    TotalPay45 = data.loc[data[\"在线时长\"]<playtime,\"45日付费金额\"].sum()\n",
    "    MeanPay7 = data.loc[data[\"在线时长\"]<playtime,\"付费金额\"].mean()\n",
    "    TotalPay7 = data.loc[data[\"在线时长\"]<playtime,\"付费金额\"].sum()\n",
    "    \n",
    "    print(\"一周在线时长不足{}分钟\".format(playtime))\n",
    "    print(\"\\t45日平均消费额为{:.3f}元，45日总消费额为{:.3f}元\".format(MeanPay45,TotalPay45))\n",
    "    print(\"\\t7日平均消费额为{:.3f}元，7日总消费额为{:.3f}元\".format(MeanPay7,TotalPay7))\n",
    "    print(\"\\t7日氪金占比{:.3f}%，45日氪金占比{:.3f}%\".format(100*TotalPay7/(data[\"付费金额\"].sum())\n",
    "                                                  ,100*TotalPay45/(data[\"45日付费金额\"].sum())))"
   ]
  },
  {
   "cell_type": "markdown",
   "metadata": {},
   "source": [
    "不难发现，在线时长很少的玩家们贡献的氪金数额很少，在对200w人进行建模时，我们可以忽略一部分在线时间很短的用户。在这里，我们可以将一周在线时长不足15或20分钟的用户判断为低价值用户。"
   ]
  },
  {
   "cell_type": "code",
   "execution_count": 65,
   "metadata": {},
   "outputs": [
    {
     "data": {
      "text/plain": [
       "488497    2049.667\n",
       "1263615   1674.667\n",
       "882241    1482.000\n",
       "1558221   1452.333\n",
       "1335561   1452.333\n",
       "62992     1394.667\n",
       "992862    1388.333\n",
       "1158840   1383.167\n",
       "1746227   1345.167\n",
       "213886    1341.833\n",
       "2112374   1330.667\n",
       "1837738   1325.667\n",
       "417755    1323.833\n",
       "64686     1322.833\n",
       "776433    1285.000\n",
       "1763509   1276.667\n",
       "2266680   1248.333\n",
       "1219364   1247.333\n",
       "1184770   1244.333\n",
       "2153338   1238.333\n",
       "1957221   1230.500\n",
       "528092    1219.167\n",
       "191989    1213.000\n",
       "2264330   1211.167\n",
       "1663872   1209.167\n",
       "1967566   1187.833\n",
       "949514    1174.833\n",
       "782598    1174.333\n",
       "999433    1174.333\n",
       "1808100   1174.333\n",
       "            ...   \n",
       "362232     505.833\n",
       "1133306    505.833\n",
       "2231031    505.833\n",
       "317627     505.667\n",
       "470937     505.500\n",
       "702426     505.333\n",
       "2048176    505.167\n",
       "1754395    505.167\n",
       "1327108    505.167\n",
       "1801066    505.167\n",
       "420148     505.167\n",
       "1643023    505.167\n",
       "251957     505.000\n",
       "1220040    505.000\n",
       "1136641    505.000\n",
       "1568059    505.000\n",
       "935225     505.000\n",
       "2080258    504.833\n",
       "47954      504.833\n",
       "976535     504.833\n",
       "666284     504.833\n",
       "793268     504.833\n",
       "2031974    504.667\n",
       "291381     504.667\n",
       "1092754    504.667\n",
       "527722     504.500\n",
       "2065723    504.333\n",
       "1815137    504.333\n",
       "1257763    504.333\n",
       "2145496    504.333\n",
       "Name: 在线时长, Length: 2288, dtype: float64"
      ]
     },
     "execution_count": 65,
     "metadata": {},
     "output_type": "execute_result"
    }
   ],
   "source": [
    "data[\"在线时长\"].sort_values(ascending=False)[:2288] #最肝的前0.1%的用户的7日在线时长"
   ]
  },
  {
   "cell_type": "code",
   "execution_count": 66,
   "metadata": {},
   "outputs": [
    {
     "name": "stdout",
     "output_type": "stream",
     "text": [
      "一周在线时长超过500分钟\n",
      "\t45日平均消费额为377.113元，45日总消费额为885839.060元\n",
      "\t7日平均消费额为110.492元，7日总消费额为259544.740元\n",
      "\t7日氪金占比21.216%，45日氪金占比21.591%\n",
      "一周在线时长超过600分钟\n",
      "\t45日平均消费额为437.753元，45日总消费额为515673.070元\n",
      "\t7日平均消费额为130.699元，7日总消费额为153963.300元\n",
      "\t7日氪金占比12.586%，45日氪金占比12.569%\n",
      "一周在线时长超过700分钟\n",
      "\t45日平均消费额为427.776元，45日总消费额为272921.300元\n",
      "\t7日平均消费额为120.904元，7日总消费额为77136.600元\n",
      "\t7日氪金占比6.305%，45日氪金占比6.652%\n",
      "一周在线时长超过800分钟\n",
      "\t45日平均消费额为359.040元，45日总消费额为113815.780元\n",
      "\t7日平均消费额为104.344元，7日总消费额为33076.950元\n",
      "\t7日氪金占比2.704%，45日氪金占比2.774%\n",
      "一周在线时长超过900分钟\n",
      "\t45日平均消费额为218.907元，45日总消费额为36557.400元\n",
      "\t7日平均消费额为43.819元，7日总消费额为7317.770元\n",
      "\t7日氪金占比0.598%，45日氪金占比0.891%\n",
      "一周在线时长超过1000分钟\n",
      "\t45日平均消费额为139.194元，45日总消费额为12109.910元\n",
      "\t7日平均消费额为40.055元，7日总消费额为3484.820元\n",
      "\t7日氪金占比0.285%，45日氪金占比0.295%\n",
      "一周在线时长超过1200分钟\n",
      "\t45日平均消费额为25.492元，45日总消费额为637.300元\n",
      "\t7日平均消费额为2.869元，7日总消费额为71.730元\n",
      "\t7日氪金占比0.006%，45日氪金占比0.016%\n"
     ]
    }
   ],
   "source": [
    "#在线时长超长的玩家们贡献的氪金数额\n",
    "for playtime in [500,600,700,800,900,1000,1200]:\n",
    "    \n",
    "    MeanPay45 = data.loc[data[\"在线时长\"]>=playtime,\"45日付费金额\"].mean()\n",
    "    TotalPay45 = data.loc[data[\"在线时长\"]>=playtime,\"45日付费金额\"].sum()\n",
    "    MeanPay7 = data.loc[data[\"在线时长\"]>=playtime,\"付费金额\"].mean()\n",
    "    TotalPay7 = data.loc[data[\"在线时长\"]>=playtime,\"付费金额\"].sum()\n",
    "    \n",
    "    print(\"一周在线时长超过{}分钟\".format(playtime))\n",
    "    print(\"\\t45日平均消费额为{:.3f}元，45日总消费额为{:.3f}元\".format(MeanPay45,TotalPay45))\n",
    "    print(\"\\t7日平均消费额为{:.3f}元，7日总消费额为{:.3f}元\".format(MeanPay7,TotalPay7))\n",
    "    print(\"\\t7日氪金占比{:.3f}%，45日氪金占比{:.3f}%\".format(100*TotalPay7/(data[\"付费金额\"].sum())\n",
    "                                                  ,100*TotalPay45/(data[\"45日付费金额\"].sum())))"
   ]
  },
  {
   "cell_type": "markdown",
   "metadata": {},
   "source": [
    "许多用户虽然深度参与游戏，但是“好肝不好氪”，所以过于肝的用户也不是高价值用户。我们可以规定，一周在线时长超出800分钟的用户为（氪金层面）低价值用户。同样的，氪金用户一般在资源上占绝对的主导，但是资源很多的用户不一定是氪金用户。"
   ]
  },
  {
   "cell_type": "code",
   "execution_count": 67,
   "metadata": {},
   "outputs": [
    {
     "data": {
      "text/plain": [
       "count        41439.000\n",
       "mean      10712783.554\n",
       "std       34752584.812\n",
       "min              0.000\n",
       "25%        2132829.500\n",
       "50%        5267091.000\n",
       "75%       10249321.000\n",
       "max     1239962311.000\n",
       "Name: 木头获取数量, dtype: float64"
      ]
     },
     "execution_count": 67,
     "metadata": {},
     "output_type": "execute_result"
    }
   ],
   "source": [
    "data.loc[data[\"付费金额\"] != 0,\"木头获取数量\"].describe() #资源量上氪金用户站绝对的主导"
   ]
  },
  {
   "cell_type": "code",
   "execution_count": 68,
   "metadata": {},
   "outputs": [
    {
     "data": {
      "text/plain": [
       "count     2246568.000\n",
       "mean       265084.447\n",
       "std        887773.641\n",
       "min             0.000\n",
       "25%             0.000\n",
       "50%         40088.000\n",
       "75%        144657.000\n",
       "max     158249380.000\n",
       "Name: 木头获取数量, dtype: float64"
      ]
     },
     "execution_count": 68,
     "metadata": {},
     "output_type": "execute_result"
    }
   ],
   "source": [
    "data.loc[data[\"付费金额\"] == 0,\"木头获取数量\"].describe()"
   ]
  },
  {
   "cell_type": "code",
   "execution_count": 69,
   "metadata": {},
   "outputs": [
    {
     "data": {
      "text/html": [
       "<div>\n",
       "<style scoped>\n",
       "    .dataframe tbody tr th:only-of-type {\n",
       "        vertical-align: middle;\n",
       "    }\n",
       "\n",
       "    .dataframe tbody tr th {\n",
       "        vertical-align: top;\n",
       "    }\n",
       "\n",
       "    .dataframe thead th {\n",
       "        text-align: right;\n",
       "    }\n",
       "</style>\n",
       "<table border=\"1\" class=\"dataframe\">\n",
       "  <thead>\n",
       "    <tr style=\"text-align: right;\">\n",
       "      <th>字段解释</th>\n",
       "      <th>玩家唯一ID</th>\n",
       "      <th>玩家注册时间</th>\n",
       "      <th>木头获取数量</th>\n",
       "      <th>木头消耗数量</th>\n",
       "      <th>石头获取数量</th>\n",
       "      <th>石头消耗数量</th>\n",
       "      <th>象牙获取数量</th>\n",
       "      <th>象牙消耗数量</th>\n",
       "      <th>肉获取数量</th>\n",
       "      <th>肉消耗数量</th>\n",
       "      <th>...</th>\n",
       "      <th>PVP次数</th>\n",
       "      <th>主动发起PVP次数</th>\n",
       "      <th>PVP胜利次数</th>\n",
       "      <th>PVE次数</th>\n",
       "      <th>主动发起PVE次数</th>\n",
       "      <th>PVE胜利次数</th>\n",
       "      <th>在线时长</th>\n",
       "      <th>付费金额</th>\n",
       "      <th>付费次数</th>\n",
       "      <th>45日付费金额</th>\n",
       "    </tr>\n",
       "  </thead>\n",
       "  <tbody>\n",
       "    <tr>\n",
       "      <th>2046401</th>\n",
       "      <td>2907550</td>\n",
       "      <td>2018-03-04 14:41:57</td>\n",
       "      <td>158249380.000</td>\n",
       "      <td>157202081.000</td>\n",
       "      <td>129870402.000</td>\n",
       "      <td>129357887.000</td>\n",
       "      <td>3000.000</td>\n",
       "      <td>0.000</td>\n",
       "      <td>69427801.000</td>\n",
       "      <td>68360181.000</td>\n",
       "      <td>...</td>\n",
       "      <td>282</td>\n",
       "      <td>0</td>\n",
       "      <td>0</td>\n",
       "      <td>2</td>\n",
       "      <td>1</td>\n",
       "      <td>1</td>\n",
       "      <td>125.000</td>\n",
       "      <td>0.000</td>\n",
       "      <td>0</td>\n",
       "      <td>0.000</td>\n",
       "    </tr>\n",
       "  </tbody>\n",
       "</table>\n",
       "<p>1 rows × 109 columns</p>\n",
       "</div>"
      ],
      "text/plain": [
       "字段解释      玩家唯一ID               玩家注册时间        木头获取数量        木头消耗数量  \\\n",
       "2046401  2907550  2018-03-04 14:41:57 158249380.000 157202081.000   \n",
       "\n",
       "字段解释           石头获取数量        石头消耗数量   象牙获取数量  象牙消耗数量        肉获取数量  \\\n",
       "2046401 129870402.000 129357887.000 3000.000   0.000 69427801.000   \n",
       "\n",
       "字段解释           肉消耗数量   ...     PVP次数  主动发起PVP次数  PVP胜利次数  PVE次数  主动发起PVE次数  \\\n",
       "2046401 68360181.000   ...       282          0        0      2          1   \n",
       "\n",
       "字段解释     PVE胜利次数    在线时长  付费金额  付费次数  45日付费金额  \n",
       "2046401        1 125.000 0.000     0    0.000  \n",
       "\n",
       "[1 rows x 109 columns]"
      ]
     },
     "execution_count": 69,
     "metadata": {},
     "output_type": "execute_result"
    }
   ],
   "source": [
    "data[data[\"木头获取数量\"] == 158249380] #异常用户，非常牛的用户"
   ]
  },
  {
   "cell_type": "markdown",
   "metadata": {},
   "source": [
    "不难发现，拥有众多资源、但在7日内却没有付费过的用户，是（氪金层面上）的低价值用户。"
   ]
  },
  {
   "cell_type": "markdown",
   "metadata": {},
   "source": [
    "#### 3.2 分布与偏度：游戏是否对新手不友好？资源获取难度设置合理吗？"
   ]
  },
  {
   "cell_type": "markdown",
   "metadata": {},
   "source": [
    "大量的特征都是严重正偏的（即大部分值集中在左侧，分布上的高峰偏左严重）。"
   ]
  },
  {
   "cell_type": "code",
   "execution_count": 70,
   "metadata": {},
   "outputs": [
    {
     "data": {
      "text/html": [
       "<div>\n",
       "<style scoped>\n",
       "    .dataframe tbody tr th:only-of-type {\n",
       "        vertical-align: middle;\n",
       "    }\n",
       "\n",
       "    .dataframe tbody tr th {\n",
       "        vertical-align: top;\n",
       "    }\n",
       "\n",
       "    .dataframe thead th {\n",
       "        text-align: right;\n",
       "    }\n",
       "</style>\n",
       "<table border=\"1\" class=\"dataframe\">\n",
       "  <thead>\n",
       "    <tr style=\"text-align: right;\">\n",
       "      <th></th>\n",
       "      <th>count</th>\n",
       "      <th>mean</th>\n",
       "      <th>std</th>\n",
       "      <th>min</th>\n",
       "      <th>25%</th>\n",
       "      <th>50%</th>\n",
       "      <th>75%</th>\n",
       "      <th>max</th>\n",
       "    </tr>\n",
       "    <tr>\n",
       "      <th>字段解释</th>\n",
       "      <th></th>\n",
       "      <th></th>\n",
       "      <th></th>\n",
       "      <th></th>\n",
       "      <th></th>\n",
       "      <th></th>\n",
       "      <th></th>\n",
       "      <th></th>\n",
       "    </tr>\n",
       "  </thead>\n",
       "  <tbody>\n",
       "    <tr>\n",
       "      <th>玩家唯一ID</th>\n",
       "      <td>2288007.000</td>\n",
       "      <td>1529543.498</td>\n",
       "      <td>939939.279</td>\n",
       "      <td>1.000</td>\n",
       "      <td>749992.500</td>\n",
       "      <td>1419095.000</td>\n",
       "      <td>2299006.500</td>\n",
       "      <td>3190530.000</td>\n",
       "    </tr>\n",
       "    <tr>\n",
       "      <th>木头获取数量</th>\n",
       "      <td>2288007.000</td>\n",
       "      <td>454306.859</td>\n",
       "      <td>4958667.146</td>\n",
       "      <td>0.000</td>\n",
       "      <td>0.000</td>\n",
       "      <td>42038.000</td>\n",
       "      <td>153118.000</td>\n",
       "      <td>1239962311.000</td>\n",
       "    </tr>\n",
       "    <tr>\n",
       "      <th>木头消耗数量</th>\n",
       "      <td>2288007.000</td>\n",
       "      <td>369843.252</td>\n",
       "      <td>3737720.038</td>\n",
       "      <td>0.000</td>\n",
       "      <td>0.000</td>\n",
       "      <td>9830.000</td>\n",
       "      <td>98557.000</td>\n",
       "      <td>799587506.000</td>\n",
       "    </tr>\n",
       "    <tr>\n",
       "      <th>石头获取数量</th>\n",
       "      <td>2288007.000</td>\n",
       "      <td>189778.774</td>\n",
       "      <td>4670619.517</td>\n",
       "      <td>0.000</td>\n",
       "      <td>0.000</td>\n",
       "      <td>0.000</td>\n",
       "      <td>0.000</td>\n",
       "      <td>1214869437.000</td>\n",
       "    </tr>\n",
       "    <tr>\n",
       "      <th>石头消耗数量</th>\n",
       "      <td>2288007.000</td>\n",
       "      <td>137607.363</td>\n",
       "      <td>3370166.356</td>\n",
       "      <td>0.000</td>\n",
       "      <td>0.000</td>\n",
       "      <td>0.000</td>\n",
       "      <td>0.000</td>\n",
       "      <td>796237770.000</td>\n",
       "    </tr>\n",
       "    <tr>\n",
       "      <th>象牙获取数量</th>\n",
       "      <td>2288007.000</td>\n",
       "      <td>80756.230</td>\n",
       "      <td>2220540.322</td>\n",
       "      <td>0.000</td>\n",
       "      <td>0.000</td>\n",
       "      <td>0.000</td>\n",
       "      <td>0.000</td>\n",
       "      <td>574496104.000</td>\n",
       "    </tr>\n",
       "    <tr>\n",
       "      <th>象牙消耗数量</th>\n",
       "      <td>2288007.000</td>\n",
       "      <td>36131.699</td>\n",
       "      <td>1782498.688</td>\n",
       "      <td>0.000</td>\n",
       "      <td>0.000</td>\n",
       "      <td>0.000</td>\n",
       "      <td>0.000</td>\n",
       "      <td>448197157.000</td>\n",
       "    </tr>\n",
       "    <tr>\n",
       "      <th>肉获取数量</th>\n",
       "      <td>2288007.000</td>\n",
       "      <td>585515.505</td>\n",
       "      <td>5868629.397</td>\n",
       "      <td>0.000</td>\n",
       "      <td>0.000</td>\n",
       "      <td>34587.000</td>\n",
       "      <td>136001.000</td>\n",
       "      <td>1470643810.000</td>\n",
       "    </tr>\n",
       "    <tr>\n",
       "      <th>肉消耗数量</th>\n",
       "      <td>2288007.000</td>\n",
       "      <td>354810.206</td>\n",
       "      <td>3400632.455</td>\n",
       "      <td>0.000</td>\n",
       "      <td>0.000</td>\n",
       "      <td>6470.000</td>\n",
       "      <td>66054.000</td>\n",
       "      <td>888953714.000</td>\n",
       "    </tr>\n",
       "    <tr>\n",
       "      <th>魔法获取数量</th>\n",
       "      <td>2288007.000</td>\n",
       "      <td>75389.535</td>\n",
       "      <td>966289.236</td>\n",
       "      <td>0.000</td>\n",
       "      <td>0.000</td>\n",
       "      <td>0.000</td>\n",
       "      <td>0.000</td>\n",
       "      <td>263722820.000</td>\n",
       "    </tr>\n",
       "    <tr>\n",
       "      <th>魔法消耗数量</th>\n",
       "      <td>2288007.000</td>\n",
       "      <td>47253.994</td>\n",
       "      <td>881122.273</td>\n",
       "      <td>0.000</td>\n",
       "      <td>0.000</td>\n",
       "      <td>0.000</td>\n",
       "      <td>0.000</td>\n",
       "      <td>263722891.000</td>\n",
       "    </tr>\n",
       "    <tr>\n",
       "      <th>勇士招募数量</th>\n",
       "      <td>2288007.000</td>\n",
       "      <td>143.610</td>\n",
       "      <td>1781.468</td>\n",
       "      <td>0.000</td>\n",
       "      <td>0.000</td>\n",
       "      <td>0.000</td>\n",
       "      <td>0.000</td>\n",
       "      <td>874918.000</td>\n",
       "    </tr>\n",
       "    <tr>\n",
       "      <th>勇士损失数量</th>\n",
       "      <td>2288007.000</td>\n",
       "      <td>226.782</td>\n",
       "      <td>1738.488</td>\n",
       "      <td>0.000</td>\n",
       "      <td>0.000</td>\n",
       "      <td>0.000</td>\n",
       "      <td>0.000</td>\n",
       "      <td>878883.000</td>\n",
       "    </tr>\n",
       "    <tr>\n",
       "      <th>驯兽师招募数量</th>\n",
       "      <td>2288007.000</td>\n",
       "      <td>128.264</td>\n",
       "      <td>1334.977</td>\n",
       "      <td>0.000</td>\n",
       "      <td>0.000</td>\n",
       "      <td>0.000</td>\n",
       "      <td>0.000</td>\n",
       "      <td>353852.000</td>\n",
       "    </tr>\n",
       "    <tr>\n",
       "      <th>驯兽师损失数量</th>\n",
       "      <td>2288007.000</td>\n",
       "      <td>178.006</td>\n",
       "      <td>1347.096</td>\n",
       "      <td>0.000</td>\n",
       "      <td>0.000</td>\n",
       "      <td>0.000</td>\n",
       "      <td>0.000</td>\n",
       "      <td>370375.000</td>\n",
       "    </tr>\n",
       "    <tr>\n",
       "      <th>萨满招募数量</th>\n",
       "      <td>2288007.000</td>\n",
       "      <td>119.543</td>\n",
       "      <td>5958.519</td>\n",
       "      <td>0.000</td>\n",
       "      <td>0.000</td>\n",
       "      <td>0.000</td>\n",
       "      <td>0.000</td>\n",
       "      <td>8767537.000</td>\n",
       "    </tr>\n",
       "    <tr>\n",
       "      <th>萨满损失数量</th>\n",
       "      <td>2288007.000</td>\n",
       "      <td>156.853</td>\n",
       "      <td>5958.508</td>\n",
       "      <td>0.000</td>\n",
       "      <td>0.000</td>\n",
       "      <td>0.000</td>\n",
       "      <td>0.000</td>\n",
       "      <td>8769162.000</td>\n",
       "    </tr>\n",
       "    <tr>\n",
       "      <th>勇士伤兵产生数量</th>\n",
       "      <td>2288007.000</td>\n",
       "      <td>135.304</td>\n",
       "      <td>1333.236</td>\n",
       "      <td>0.000</td>\n",
       "      <td>0.000</td>\n",
       "      <td>0.000</td>\n",
       "      <td>0.000</td>\n",
       "      <td>803996.000</td>\n",
       "    </tr>\n",
       "    <tr>\n",
       "      <th>勇士伤兵恢复数量</th>\n",
       "      <td>2288007.000</td>\n",
       "      <td>91.984</td>\n",
       "      <td>1287.586</td>\n",
       "      <td>0.000</td>\n",
       "      <td>0.000</td>\n",
       "      <td>0.000</td>\n",
       "      <td>0.000</td>\n",
       "      <td>803996.000</td>\n",
       "    </tr>\n",
       "    <tr>\n",
       "      <th>驯兽师伤兵产生数量</th>\n",
       "      <td>2288007.000</td>\n",
       "      <td>116.503</td>\n",
       "      <td>1009.972</td>\n",
       "      <td>0.000</td>\n",
       "      <td>0.000</td>\n",
       "      <td>0.000</td>\n",
       "      <td>0.000</td>\n",
       "      <td>347967.000</td>\n",
       "    </tr>\n",
       "    <tr>\n",
       "      <th>驯兽师伤兵恢复数量</th>\n",
       "      <td>2288007.000</td>\n",
       "      <td>84.346</td>\n",
       "      <td>950.375</td>\n",
       "      <td>0.000</td>\n",
       "      <td>0.000</td>\n",
       "      <td>0.000</td>\n",
       "      <td>0.000</td>\n",
       "      <td>347967.000</td>\n",
       "    </tr>\n",
       "    <tr>\n",
       "      <th>萨满伤兵产生数量</th>\n",
       "      <td>2288007.000</td>\n",
       "      <td>110.431</td>\n",
       "      <td>5890.129</td>\n",
       "      <td>0.000</td>\n",
       "      <td>0.000</td>\n",
       "      <td>0.000</td>\n",
       "      <td>0.000</td>\n",
       "      <td>8763256.000</td>\n",
       "    </tr>\n",
       "    <tr>\n",
       "      <th>萨满伤兵恢复数量</th>\n",
       "      <td>2288007.000</td>\n",
       "      <td>84.763</td>\n",
       "      <td>5841.053</td>\n",
       "      <td>0.000</td>\n",
       "      <td>0.000</td>\n",
       "      <td>0.000</td>\n",
       "      <td>0.000</td>\n",
       "      <td>8704561.000</td>\n",
       "    </tr>\n",
       "    <tr>\n",
       "      <th>通用加速获取数量</th>\n",
       "      <td>2288007.000</td>\n",
       "      <td>282.545</td>\n",
       "      <td>3001.938</td>\n",
       "      <td>0.000</td>\n",
       "      <td>0.000</td>\n",
       "      <td>0.000</td>\n",
       "      <td>53.000</td>\n",
       "      <td>795484.000</td>\n",
       "    </tr>\n",
       "    <tr>\n",
       "      <th>通用加速使用数量</th>\n",
       "      <td>2288007.000</td>\n",
       "      <td>192.031</td>\n",
       "      <td>2619.487</td>\n",
       "      <td>0.000</td>\n",
       "      <td>0.000</td>\n",
       "      <td>0.000</td>\n",
       "      <td>0.000</td>\n",
       "      <td>764637.000</td>\n",
       "    </tr>\n",
       "    <tr>\n",
       "      <th>建筑加速获取数量</th>\n",
       "      <td>2288007.000</td>\n",
       "      <td>205.557</td>\n",
       "      <td>1427.626</td>\n",
       "      <td>0.000</td>\n",
       "      <td>0.000</td>\n",
       "      <td>0.000</td>\n",
       "      <td>232.000</td>\n",
       "      <td>411362.000</td>\n",
       "    </tr>\n",
       "    <tr>\n",
       "      <th>建筑加速使用数量</th>\n",
       "      <td>2288007.000</td>\n",
       "      <td>142.776</td>\n",
       "      <td>1283.584</td>\n",
       "      <td>0.000</td>\n",
       "      <td>0.000</td>\n",
       "      <td>0.000</td>\n",
       "      <td>46.000</td>\n",
       "      <td>306515.000</td>\n",
       "    </tr>\n",
       "    <tr>\n",
       "      <th>科研加速获取数量</th>\n",
       "      <td>2288007.000</td>\n",
       "      <td>132.671</td>\n",
       "      <td>1516.142</td>\n",
       "      <td>0.000</td>\n",
       "      <td>0.000</td>\n",
       "      <td>0.000</td>\n",
       "      <td>50.000</td>\n",
       "      <td>377796.000</td>\n",
       "    </tr>\n",
       "    <tr>\n",
       "      <th>科研加速使用数量</th>\n",
       "      <td>2288007.000</td>\n",
       "      <td>73.653</td>\n",
       "      <td>1339.241</td>\n",
       "      <td>0.000</td>\n",
       "      <td>0.000</td>\n",
       "      <td>0.000</td>\n",
       "      <td>0.000</td>\n",
       "      <td>338437.000</td>\n",
       "    </tr>\n",
       "    <tr>\n",
       "      <th>训练加速获取数量</th>\n",
       "      <td>2288007.000</td>\n",
       "      <td>210.808</td>\n",
       "      <td>1942.369</td>\n",
       "      <td>0.000</td>\n",
       "      <td>0.000</td>\n",
       "      <td>45.000</td>\n",
       "      <td>100.000</td>\n",
       "      <td>671607.000</td>\n",
       "    </tr>\n",
       "    <tr>\n",
       "      <th>...</th>\n",
       "      <td>...</td>\n",
       "      <td>...</td>\n",
       "      <td>...</td>\n",
       "      <td>...</td>\n",
       "      <td>...</td>\n",
       "      <td>...</td>\n",
       "      <td>...</td>\n",
       "      <td>...</td>\n",
       "    </tr>\n",
       "    <tr>\n",
       "      <th>科研：木材采集</th>\n",
       "      <td>2288007.000</td>\n",
       "      <td>0.022</td>\n",
       "      <td>0.231</td>\n",
       "      <td>0.000</td>\n",
       "      <td>0.000</td>\n",
       "      <td>0.000</td>\n",
       "      <td>0.000</td>\n",
       "      <td>9.000</td>\n",
       "    </tr>\n",
       "    <tr>\n",
       "      <th>科研：石头采集</th>\n",
       "      <td>2288007.000</td>\n",
       "      <td>0.002</td>\n",
       "      <td>0.061</td>\n",
       "      <td>0.000</td>\n",
       "      <td>0.000</td>\n",
       "      <td>0.000</td>\n",
       "      <td>0.000</td>\n",
       "      <td>9.000</td>\n",
       "    </tr>\n",
       "    <tr>\n",
       "      <th>科研：象牙采集</th>\n",
       "      <td>2288007.000</td>\n",
       "      <td>0.000</td>\n",
       "      <td>0.028</td>\n",
       "      <td>0.000</td>\n",
       "      <td>0.000</td>\n",
       "      <td>0.000</td>\n",
       "      <td>0.000</td>\n",
       "      <td>7.000</td>\n",
       "    </tr>\n",
       "    <tr>\n",
       "      <th>科研：肉类生产</th>\n",
       "      <td>2288007.000</td>\n",
       "      <td>0.018</td>\n",
       "      <td>0.194</td>\n",
       "      <td>0.000</td>\n",
       "      <td>0.000</td>\n",
       "      <td>0.000</td>\n",
       "      <td>0.000</td>\n",
       "      <td>9.000</td>\n",
       "    </tr>\n",
       "    <tr>\n",
       "      <th>科研：部队负重</th>\n",
       "      <td>2288007.000</td>\n",
       "      <td>0.029</td>\n",
       "      <td>0.307</td>\n",
       "      <td>0.000</td>\n",
       "      <td>0.000</td>\n",
       "      <td>0.000</td>\n",
       "      <td>0.000</td>\n",
       "      <td>10.000</td>\n",
       "    </tr>\n",
       "    <tr>\n",
       "      <th>科研：魔法采集</th>\n",
       "      <td>2288007.000</td>\n",
       "      <td>0.002</td>\n",
       "      <td>0.064</td>\n",
       "      <td>0.000</td>\n",
       "      <td>0.000</td>\n",
       "      <td>0.000</td>\n",
       "      <td>0.000</td>\n",
       "      <td>9.000</td>\n",
       "    </tr>\n",
       "    <tr>\n",
       "      <th>科研：魔法生产</th>\n",
       "      <td>2288007.000</td>\n",
       "      <td>0.008</td>\n",
       "      <td>0.141</td>\n",
       "      <td>0.000</td>\n",
       "      <td>0.000</td>\n",
       "      <td>0.000</td>\n",
       "      <td>0.000</td>\n",
       "      <td>9.000</td>\n",
       "    </tr>\n",
       "    <tr>\n",
       "      <th>科研：据点耐久</th>\n",
       "      <td>2288007.000</td>\n",
       "      <td>0.110</td>\n",
       "      <td>0.481</td>\n",
       "      <td>0.000</td>\n",
       "      <td>0.000</td>\n",
       "      <td>0.000</td>\n",
       "      <td>0.000</td>\n",
       "      <td>10.000</td>\n",
       "    </tr>\n",
       "    <tr>\n",
       "      <th>科研：据点二</th>\n",
       "      <td>2288007.000</td>\n",
       "      <td>0.044</td>\n",
       "      <td>0.206</td>\n",
       "      <td>0.000</td>\n",
       "      <td>0.000</td>\n",
       "      <td>0.000</td>\n",
       "      <td>0.000</td>\n",
       "      <td>1.000</td>\n",
       "    </tr>\n",
       "    <tr>\n",
       "      <th>科研：医院容量</th>\n",
       "      <td>2288007.000</td>\n",
       "      <td>0.029</td>\n",
       "      <td>0.238</td>\n",
       "      <td>0.000</td>\n",
       "      <td>0.000</td>\n",
       "      <td>0.000</td>\n",
       "      <td>0.000</td>\n",
       "      <td>11.000</td>\n",
       "    </tr>\n",
       "    <tr>\n",
       "      <th>科研：领土采集奖励</th>\n",
       "      <td>2288007.000</td>\n",
       "      <td>0.034</td>\n",
       "      <td>0.251</td>\n",
       "      <td>0.000</td>\n",
       "      <td>0.000</td>\n",
       "      <td>0.000</td>\n",
       "      <td>0.000</td>\n",
       "      <td>10.000</td>\n",
       "    </tr>\n",
       "    <tr>\n",
       "      <th>科研：治疗速度</th>\n",
       "      <td>2288007.000</td>\n",
       "      <td>0.022</td>\n",
       "      <td>0.202</td>\n",
       "      <td>0.000</td>\n",
       "      <td>0.000</td>\n",
       "      <td>0.000</td>\n",
       "      <td>0.000</td>\n",
       "      <td>9.000</td>\n",
       "    </tr>\n",
       "    <tr>\n",
       "      <th>科研：据点三</th>\n",
       "      <td>2288007.000</td>\n",
       "      <td>0.001</td>\n",
       "      <td>0.030</td>\n",
       "      <td>0.000</td>\n",
       "      <td>0.000</td>\n",
       "      <td>0.000</td>\n",
       "      <td>0.000</td>\n",
       "      <td>1.000</td>\n",
       "    </tr>\n",
       "    <tr>\n",
       "      <th>科研：联盟行军速度</th>\n",
       "      <td>2288007.000</td>\n",
       "      <td>0.000</td>\n",
       "      <td>0.039</td>\n",
       "      <td>0.000</td>\n",
       "      <td>0.000</td>\n",
       "      <td>0.000</td>\n",
       "      <td>0.000</td>\n",
       "      <td>10.000</td>\n",
       "    </tr>\n",
       "    <tr>\n",
       "      <th>科研：战斗行军速度</th>\n",
       "      <td>2288007.000</td>\n",
       "      <td>0.001</td>\n",
       "      <td>0.051</td>\n",
       "      <td>0.000</td>\n",
       "      <td>0.000</td>\n",
       "      <td>0.000</td>\n",
       "      <td>0.000</td>\n",
       "      <td>11.000</td>\n",
       "    </tr>\n",
       "    <tr>\n",
       "      <th>科研：采集行军速度</th>\n",
       "      <td>2288007.000</td>\n",
       "      <td>0.001</td>\n",
       "      <td>0.048</td>\n",
       "      <td>0.000</td>\n",
       "      <td>0.000</td>\n",
       "      <td>0.000</td>\n",
       "      <td>0.000</td>\n",
       "      <td>10.000</td>\n",
       "    </tr>\n",
       "    <tr>\n",
       "      <th>科研：据点四</th>\n",
       "      <td>2288007.000</td>\n",
       "      <td>0.000</td>\n",
       "      <td>0.002</td>\n",
       "      <td>0.000</td>\n",
       "      <td>0.000</td>\n",
       "      <td>0.000</td>\n",
       "      <td>0.000</td>\n",
       "      <td>1.000</td>\n",
       "    </tr>\n",
       "    <tr>\n",
       "      <th>科研：增援部队容量</th>\n",
       "      <td>2288007.000</td>\n",
       "      <td>0.000</td>\n",
       "      <td>0.002</td>\n",
       "      <td>0.000</td>\n",
       "      <td>0.000</td>\n",
       "      <td>0.000</td>\n",
       "      <td>0.000</td>\n",
       "      <td>3.000</td>\n",
       "    </tr>\n",
       "    <tr>\n",
       "      <th>科研：行军大小</th>\n",
       "      <td>2288007.000</td>\n",
       "      <td>0.000</td>\n",
       "      <td>0.009</td>\n",
       "      <td>0.000</td>\n",
       "      <td>0.000</td>\n",
       "      <td>0.000</td>\n",
       "      <td>0.000</td>\n",
       "      <td>9.000</td>\n",
       "    </tr>\n",
       "    <tr>\n",
       "      <th>科研：资源帮助容量</th>\n",
       "      <td>2288007.000</td>\n",
       "      <td>0.000</td>\n",
       "      <td>0.006</td>\n",
       "      <td>0.000</td>\n",
       "      <td>0.000</td>\n",
       "      <td>0.000</td>\n",
       "      <td>0.000</td>\n",
       "      <td>8.000</td>\n",
       "    </tr>\n",
       "    <tr>\n",
       "      <th>PVP次数</th>\n",
       "      <td>2288007.000</td>\n",
       "      <td>2.148</td>\n",
       "      <td>11.678</td>\n",
       "      <td>0.000</td>\n",
       "      <td>0.000</td>\n",
       "      <td>0.000</td>\n",
       "      <td>1.000</td>\n",
       "      <td>2054.000</td>\n",
       "    </tr>\n",
       "    <tr>\n",
       "      <th>主动发起PVP次数</th>\n",
       "      <td>2288007.000</td>\n",
       "      <td>1.060</td>\n",
       "      <td>9.074</td>\n",
       "      <td>0.000</td>\n",
       "      <td>0.000</td>\n",
       "      <td>0.000</td>\n",
       "      <td>0.000</td>\n",
       "      <td>2051.000</td>\n",
       "    </tr>\n",
       "    <tr>\n",
       "      <th>PVP胜利次数</th>\n",
       "      <td>2288007.000</td>\n",
       "      <td>0.984</td>\n",
       "      <td>8.951</td>\n",
       "      <td>0.000</td>\n",
       "      <td>0.000</td>\n",
       "      <td>0.000</td>\n",
       "      <td>0.000</td>\n",
       "      <td>1904.000</td>\n",
       "    </tr>\n",
       "    <tr>\n",
       "      <th>PVE次数</th>\n",
       "      <td>2288007.000</td>\n",
       "      <td>2.845</td>\n",
       "      <td>12.762</td>\n",
       "      <td>0.000</td>\n",
       "      <td>0.000</td>\n",
       "      <td>0.000</td>\n",
       "      <td>1.000</td>\n",
       "      <td>509.000</td>\n",
       "    </tr>\n",
       "    <tr>\n",
       "      <th>主动发起PVE次数</th>\n",
       "      <td>2288007.000</td>\n",
       "      <td>2.832</td>\n",
       "      <td>12.718</td>\n",
       "      <td>0.000</td>\n",
       "      <td>0.000</td>\n",
       "      <td>0.000</td>\n",
       "      <td>1.000</td>\n",
       "      <td>509.000</td>\n",
       "    </tr>\n",
       "    <tr>\n",
       "      <th>PVE胜利次数</th>\n",
       "      <td>2288007.000</td>\n",
       "      <td>2.557</td>\n",
       "      <td>11.847</td>\n",
       "      <td>0.000</td>\n",
       "      <td>0.000</td>\n",
       "      <td>0.000</td>\n",
       "      <td>1.000</td>\n",
       "      <td>488.000</td>\n",
       "    </tr>\n",
       "    <tr>\n",
       "      <th>在线时长</th>\n",
       "      <td>2288007.000</td>\n",
       "      <td>10.207</td>\n",
       "      <td>38.959</td>\n",
       "      <td>0.000</td>\n",
       "      <td>0.500</td>\n",
       "      <td>1.833</td>\n",
       "      <td>4.833</td>\n",
       "      <td>2049.667</td>\n",
       "    </tr>\n",
       "    <tr>\n",
       "      <th>付费金额</th>\n",
       "      <td>2288007.000</td>\n",
       "      <td>0.535</td>\n",
       "      <td>22.638</td>\n",
       "      <td>0.000</td>\n",
       "      <td>0.000</td>\n",
       "      <td>0.000</td>\n",
       "      <td>0.000</td>\n",
       "      <td>7457.950</td>\n",
       "    </tr>\n",
       "    <tr>\n",
       "      <th>付费次数</th>\n",
       "      <td>2288007.000</td>\n",
       "      <td>0.058</td>\n",
       "      <td>0.709</td>\n",
       "      <td>0.000</td>\n",
       "      <td>0.000</td>\n",
       "      <td>0.000</td>\n",
       "      <td>0.000</td>\n",
       "      <td>105.000</td>\n",
       "    </tr>\n",
       "    <tr>\n",
       "      <th>45日付费金额</th>\n",
       "      <td>2288007.000</td>\n",
       "      <td>1.793</td>\n",
       "      <td>88.463</td>\n",
       "      <td>0.000</td>\n",
       "      <td>0.000</td>\n",
       "      <td>0.000</td>\n",
       "      <td>0.000</td>\n",
       "      <td>32977.810</td>\n",
       "    </tr>\n",
       "  </tbody>\n",
       "</table>\n",
       "<p>108 rows × 8 columns</p>\n",
       "</div>"
      ],
      "text/plain": [
       "                count        mean         std   min        25%         50%  \\\n",
       "字段解释                                                                         \n",
       "玩家唯一ID    2288007.000 1529543.498  939939.279 1.000 749992.500 1419095.000   \n",
       "木头获取数量    2288007.000  454306.859 4958667.146 0.000      0.000   42038.000   \n",
       "木头消耗数量    2288007.000  369843.252 3737720.038 0.000      0.000    9830.000   \n",
       "石头获取数量    2288007.000  189778.774 4670619.517 0.000      0.000       0.000   \n",
       "石头消耗数量    2288007.000  137607.363 3370166.356 0.000      0.000       0.000   \n",
       "象牙获取数量    2288007.000   80756.230 2220540.322 0.000      0.000       0.000   \n",
       "象牙消耗数量    2288007.000   36131.699 1782498.688 0.000      0.000       0.000   \n",
       "肉获取数量     2288007.000  585515.505 5868629.397 0.000      0.000   34587.000   \n",
       "肉消耗数量     2288007.000  354810.206 3400632.455 0.000      0.000    6470.000   \n",
       "魔法获取数量    2288007.000   75389.535  966289.236 0.000      0.000       0.000   \n",
       "魔法消耗数量    2288007.000   47253.994  881122.273 0.000      0.000       0.000   \n",
       "勇士招募数量    2288007.000     143.610    1781.468 0.000      0.000       0.000   \n",
       "勇士损失数量    2288007.000     226.782    1738.488 0.000      0.000       0.000   \n",
       "驯兽师招募数量   2288007.000     128.264    1334.977 0.000      0.000       0.000   \n",
       "驯兽师损失数量   2288007.000     178.006    1347.096 0.000      0.000       0.000   \n",
       "萨满招募数量    2288007.000     119.543    5958.519 0.000      0.000       0.000   \n",
       "萨满损失数量    2288007.000     156.853    5958.508 0.000      0.000       0.000   \n",
       "勇士伤兵产生数量  2288007.000     135.304    1333.236 0.000      0.000       0.000   \n",
       "勇士伤兵恢复数量  2288007.000      91.984    1287.586 0.000      0.000       0.000   \n",
       "驯兽师伤兵产生数量 2288007.000     116.503    1009.972 0.000      0.000       0.000   \n",
       "驯兽师伤兵恢复数量 2288007.000      84.346     950.375 0.000      0.000       0.000   \n",
       "萨满伤兵产生数量  2288007.000     110.431    5890.129 0.000      0.000       0.000   \n",
       "萨满伤兵恢复数量  2288007.000      84.763    5841.053 0.000      0.000       0.000   \n",
       "通用加速获取数量  2288007.000     282.545    3001.938 0.000      0.000       0.000   \n",
       "通用加速使用数量  2288007.000     192.031    2619.487 0.000      0.000       0.000   \n",
       "建筑加速获取数量  2288007.000     205.557    1427.626 0.000      0.000       0.000   \n",
       "建筑加速使用数量  2288007.000     142.776    1283.584 0.000      0.000       0.000   \n",
       "科研加速获取数量  2288007.000     132.671    1516.142 0.000      0.000       0.000   \n",
       "科研加速使用数量  2288007.000      73.653    1339.241 0.000      0.000       0.000   \n",
       "训练加速获取数量  2288007.000     210.808    1942.369 0.000      0.000      45.000   \n",
       "...               ...         ...         ...   ...        ...         ...   \n",
       "科研：木材采集   2288007.000       0.022       0.231 0.000      0.000       0.000   \n",
       "科研：石头采集   2288007.000       0.002       0.061 0.000      0.000       0.000   \n",
       "科研：象牙采集   2288007.000       0.000       0.028 0.000      0.000       0.000   \n",
       "科研：肉类生产   2288007.000       0.018       0.194 0.000      0.000       0.000   \n",
       "科研：部队负重   2288007.000       0.029       0.307 0.000      0.000       0.000   \n",
       "科研：魔法采集   2288007.000       0.002       0.064 0.000      0.000       0.000   \n",
       "科研：魔法生产   2288007.000       0.008       0.141 0.000      0.000       0.000   \n",
       "科研：据点耐久   2288007.000       0.110       0.481 0.000      0.000       0.000   \n",
       "科研：据点二    2288007.000       0.044       0.206 0.000      0.000       0.000   \n",
       "科研：医院容量   2288007.000       0.029       0.238 0.000      0.000       0.000   \n",
       "科研：领土采集奖励 2288007.000       0.034       0.251 0.000      0.000       0.000   \n",
       "科研：治疗速度   2288007.000       0.022       0.202 0.000      0.000       0.000   \n",
       "科研：据点三    2288007.000       0.001       0.030 0.000      0.000       0.000   \n",
       "科研：联盟行军速度 2288007.000       0.000       0.039 0.000      0.000       0.000   \n",
       "科研：战斗行军速度 2288007.000       0.001       0.051 0.000      0.000       0.000   \n",
       "科研：采集行军速度 2288007.000       0.001       0.048 0.000      0.000       0.000   \n",
       "科研：据点四    2288007.000       0.000       0.002 0.000      0.000       0.000   \n",
       "科研：增援部队容量 2288007.000       0.000       0.002 0.000      0.000       0.000   \n",
       "科研：行军大小   2288007.000       0.000       0.009 0.000      0.000       0.000   \n",
       "科研：资源帮助容量 2288007.000       0.000       0.006 0.000      0.000       0.000   \n",
       "PVP次数     2288007.000       2.148      11.678 0.000      0.000       0.000   \n",
       "主动发起PVP次数 2288007.000       1.060       9.074 0.000      0.000       0.000   \n",
       "PVP胜利次数   2288007.000       0.984       8.951 0.000      0.000       0.000   \n",
       "PVE次数     2288007.000       2.845      12.762 0.000      0.000       0.000   \n",
       "主动发起PVE次数 2288007.000       2.832      12.718 0.000      0.000       0.000   \n",
       "PVE胜利次数   2288007.000       2.557      11.847 0.000      0.000       0.000   \n",
       "在线时长      2288007.000      10.207      38.959 0.000      0.500       1.833   \n",
       "付费金额      2288007.000       0.535      22.638 0.000      0.000       0.000   \n",
       "付费次数      2288007.000       0.058       0.709 0.000      0.000       0.000   \n",
       "45日付费金额   2288007.000       1.793      88.463 0.000      0.000       0.000   \n",
       "\n",
       "                  75%            max  \n",
       "字段解释                                  \n",
       "玩家唯一ID    2299006.500    3190530.000  \n",
       "木头获取数量     153118.000 1239962311.000  \n",
       "木头消耗数量      98557.000  799587506.000  \n",
       "石头获取数量          0.000 1214869437.000  \n",
       "石头消耗数量          0.000  796237770.000  \n",
       "象牙获取数量          0.000  574496104.000  \n",
       "象牙消耗数量          0.000  448197157.000  \n",
       "肉获取数量      136001.000 1470643810.000  \n",
       "肉消耗数量       66054.000  888953714.000  \n",
       "魔法获取数量          0.000  263722820.000  \n",
       "魔法消耗数量          0.000  263722891.000  \n",
       "勇士招募数量          0.000     874918.000  \n",
       "勇士损失数量          0.000     878883.000  \n",
       "驯兽师招募数量         0.000     353852.000  \n",
       "驯兽师损失数量         0.000     370375.000  \n",
       "萨满招募数量          0.000    8767537.000  \n",
       "萨满损失数量          0.000    8769162.000  \n",
       "勇士伤兵产生数量        0.000     803996.000  \n",
       "勇士伤兵恢复数量        0.000     803996.000  \n",
       "驯兽师伤兵产生数量       0.000     347967.000  \n",
       "驯兽师伤兵恢复数量       0.000     347967.000  \n",
       "萨满伤兵产生数量        0.000    8763256.000  \n",
       "萨满伤兵恢复数量        0.000    8704561.000  \n",
       "通用加速获取数量       53.000     795484.000  \n",
       "通用加速使用数量        0.000     764637.000  \n",
       "建筑加速获取数量      232.000     411362.000  \n",
       "建筑加速使用数量       46.000     306515.000  \n",
       "科研加速获取数量       50.000     377796.000  \n",
       "科研加速使用数量        0.000     338437.000  \n",
       "训练加速获取数量      100.000     671607.000  \n",
       "...               ...            ...  \n",
       "科研：木材采集         0.000          9.000  \n",
       "科研：石头采集         0.000          9.000  \n",
       "科研：象牙采集         0.000          7.000  \n",
       "科研：肉类生产         0.000          9.000  \n",
       "科研：部队负重         0.000         10.000  \n",
       "科研：魔法采集         0.000          9.000  \n",
       "科研：魔法生产         0.000          9.000  \n",
       "科研：据点耐久         0.000         10.000  \n",
       "科研：据点二          0.000          1.000  \n",
       "科研：医院容量         0.000         11.000  \n",
       "科研：领土采集奖励       0.000         10.000  \n",
       "科研：治疗速度         0.000          9.000  \n",
       "科研：据点三          0.000          1.000  \n",
       "科研：联盟行军速度       0.000         10.000  \n",
       "科研：战斗行军速度       0.000         11.000  \n",
       "科研：采集行军速度       0.000         10.000  \n",
       "科研：据点四          0.000          1.000  \n",
       "科研：增援部队容量       0.000          3.000  \n",
       "科研：行军大小         0.000          9.000  \n",
       "科研：资源帮助容量       0.000          8.000  \n",
       "PVP次数           1.000       2054.000  \n",
       "主动发起PVP次数       0.000       2051.000  \n",
       "PVP胜利次数         0.000       1904.000  \n",
       "PVE次数           1.000        509.000  \n",
       "主动发起PVE次数       1.000        509.000  \n",
       "PVE胜利次数         1.000        488.000  \n",
       "在线时长            4.833       2049.667  \n",
       "付费金额            0.000       7457.950  \n",
       "付费次数            0.000        105.000  \n",
       "45日付费金额         0.000      32977.810  \n",
       "\n",
       "[108 rows x 8 columns]"
      ]
     },
     "execution_count": 70,
     "metadata": {},
     "output_type": "execute_result"
    }
   ],
   "source": [
    "#pd.set_option(\"display.max_rows\",120) #避免显示问题，设置一下最大行数\n",
    "data.describe().T"
   ]
  },
  {
   "cell_type": "markdown",
   "metadata": {},
   "source": [
    "- **数据正偏说明游戏中拥有大量资源人较少，因为相比起中线，大部分人在资源/等级上都值离原点更近**。"
   ]
  },
  {
   "cell_type": "markdown",
   "metadata": {},
   "source": [
    "**如果所有的用户都留存到7日之后，资源数据分布应该是接近正太分布**，现在已经知道用户在前7天是严重流失的，资源分布会左偏也合理，但为何用户会流失如此严重呢？可能从流量端开始就有问题（比如投放到了不太合适的流量渠道）、投放的广告可能有问题（比如让用户误以为是其他类型游戏），也可能是游戏美工不足、吸引力较低等方面（在75%的用户看一眼就被劝退的前提下，有理由相信游戏美工和流畅度有较大问题）。"
   ]
  },
  {
   "cell_type": "markdown",
   "metadata": {},
   "source": [
    "除了上述理由，用户大量流失还可能是游戏对新手不太友好或者游戏平衡性严重受氪金影响导致的。如果游戏中资源获取很困难，比如大部分资源都需要较长的时间或氪金来进行积累（这可能是刺激氪金的策略：新手阶段不友好，游戏上手难度大），大部分玩家在10~15分钟内无法获得足够的刺激与获得感，那用户在半小时内流失的可能性就很高。我们可以尝试着观察几个资源层次的平均游戏时间，以此来判断游戏中的资源是否难以获得："
   ]
  },
  {
   "cell_type": "code",
   "execution_count": 71,
   "metadata": {},
   "outputs": [
    {
     "data": {
      "text/plain": [
       "count      2288007.000\n",
       "mean        454306.859\n",
       "std        4958667.146\n",
       "min              0.000\n",
       "25%              0.000\n",
       "50%          42038.000\n",
       "75%         153118.000\n",
       "max     1239962311.000\n",
       "Name: 木头获取数量, dtype: float64"
      ]
     },
     "execution_count": 71,
     "metadata": {},
     "output_type": "execute_result"
    }
   ],
   "source": [
    "data[\"木头获取数量\"].describe()"
   ]
  },
  {
   "cell_type": "code",
   "execution_count": 72,
   "metadata": {},
   "outputs": [
    {
     "data": {
      "text/plain": [
       "1423324   697.333\n",
       "Name: 在线时长, dtype: float64"
      ]
     },
     "execution_count": 72,
     "metadata": {},
     "output_type": "execute_result"
    }
   ],
   "source": [
    "data.loc[data[\"木头获取数量\"] > 1239962310,\"在线时长\"] #在线时长约10个小时，即每天玩1个多小时，一周即可获得木头资源过亿"
   ]
  },
  {
   "cell_type": "code",
   "execution_count": 73,
   "metadata": {},
   "outputs": [
    {
     "data": {
      "text/plain": [
       "3.75"
      ]
     },
     "execution_count": 73,
     "metadata": {},
     "output_type": "execute_result"
    }
   ],
   "source": [
    "data.loc[data[\"木头获取数量\"] == 153118,\"在线时长\"].mean() #平均在线约3.75分钟即可获得15w木头"
   ]
  },
  {
   "cell_type": "code",
   "execution_count": 74,
   "metadata": {},
   "outputs": [
    {
     "data": {
      "text/plain": [
       "1.2527109844413018"
      ]
     },
     "execution_count": 74,
     "metadata": {},
     "output_type": "execute_result"
    }
   ],
   "source": [
    "data.loc[data[\"木头获取数量\"] == 42038,\"在线时长\"].mean() #平均在线1分钟即可获得4w2木头"
   ]
  },
  {
   "cell_type": "markdown",
   "metadata": {},
   "source": [
    "从结果来看，至少木头资源一点也不难获得，反而来得太容易了。在手游界，可以轻松拥有百万资源、上亿资源的游戏一般都不太高级。\n",
    "\n",
    "那是否其他资源非常难以获得呢？在现有数据下，我们可以通过分析资源存量来分析游戏中资源获取难度分类的合理性。"
   ]
  },
  {
   "cell_type": "markdown",
   "metadata": {},
   "source": [
    "资源的分布本身就可以帮助进行分析。由于数据量的缘故，无法对所有的特征都绘制分布图，但可以计算所有特征的偏度与峰度。\n",
    "\n",
    "> 1. 偏度的中间值为0，正偏度则说明分布左偏，负偏度则说明分布右偏\n",
    "> 2. 偏度值越大，则说明分布偏移得越厉害。例如，偏度远远大于0时，说明大部分数据都集中在原点附近。\n",
    "> 3. 正态分布的峰度为3（和巨大峰度相比约等于0），大于3的峰度说明山峰陡峭，小于3的峰度说明山峰平缓\n",
    "> 4. 峰度值越大，则说明数据的分布越不均匀、越集中于某些值。"
   ]
  },
  {
   "cell_type": "markdown",
   "metadata": {},
   "source": [
    "对游戏数据而言，偏度与峰度衡量的内容是类似的：偏度说明分布对称的情况，峰度说明分布集中在少数点的情况，巨大的正偏态和巨大的峰度都指向“大部分玩家只能收集到很少资源/或无资源”的状态。结合单一资源的均值，我们可以进一步判断资源获取的真实情况。在这里，我们只衡量资源/技能等级，不衡量PVP次数等涉及到对战的因素。"
   ]
  },
  {
   "cell_type": "code",
   "execution_count": 75,
   "metadata": {},
   "outputs": [
    {
     "data": {
      "text/plain": [
       "Index(['玩家唯一ID', '玩家注册时间', '木头获取数量', '木头消耗数量', '石头获取数量', '石头消耗数量', '象牙获取数量',\n",
       "       '象牙消耗数量', '肉获取数量', '肉消耗数量',\n",
       "       ...\n",
       "       'PVP次数', '主动发起PVP次数', 'PVP胜利次数', 'PVE次数', '主动发起PVE次数', 'PVE胜利次数',\n",
       "       '在线时长', '付费金额', '付费次数', '45日付费金额'],\n",
       "      dtype='object', name='字段解释', length=109)"
      ]
     },
     "execution_count": 75,
     "metadata": {},
     "output_type": "execute_result"
    }
   ],
   "source": [
    "data.columns"
   ]
  },
  {
   "cell_type": "code",
   "execution_count": 76,
   "metadata": {},
   "outputs": [],
   "source": [
    "resource = data.iloc[:,2:-10]"
   ]
  },
  {
   "cell_type": "code",
   "execution_count": 77,
   "metadata": {},
   "outputs": [
    {
     "data": {
      "text/plain": [
       "Index(['木头获取数量', '木头消耗数量', '石头获取数量', '石头消耗数量', '象牙获取数量', '象牙消耗数量', '肉获取数量',\n",
       "       '肉消耗数量', '魔法获取数量', '魔法消耗数量', '勇士招募数量', '勇士损失数量', '驯兽师招募数量', '驯兽师损失数量',\n",
       "       '萨满招募数量', '萨满损失数量', '勇士伤兵产生数量', '勇士伤兵恢复数量', '驯兽师伤兵产生数量', '驯兽师伤兵恢复数量',\n",
       "       '萨满伤兵产生数量', '萨满伤兵恢复数量', '通用加速获取数量', '通用加速使用数量', '建筑加速获取数量', '建筑加速使用数量',\n",
       "       '科研加速获取数量', '科研加速使用数量', '训练加速获取数量', '训练加速使用数量', '治疗加速获取数量', '治疗加速使用数量',\n",
       "       '建筑：士兵小屋等级', '建筑：治疗小井等级', '建筑：要塞等级', '建筑：据点传送门等级', '建筑：兵营等级',\n",
       "       '建筑：治疗之泉等级', '建筑：智慧神庙等级', '建筑：联盟大厅等级', '建筑：仓库等级', '建筑：瞭望塔等级',\n",
       "       '建筑：魔法幸运树等级', '建筑：战争大厅等级', '建筑：联盟货车等级', '建筑：占卜台等级', '建筑：祭坛等级',\n",
       "       '建筑：冒险传送门等级', '科研：侦查等级', '科研：训练速度等级', '科研：守护者', '科研：巨兽驯兽师', '科研：吟唱者',\n",
       "       '科研：勇士攻击', '科研：驯兽师攻击', '科研：萨满攻击', '科研：战斗大师', '科研：高阶巨兽骑兵', '科研：图腾大师',\n",
       "       '科研：部队防御', '科研：勇士防御', '科研：驯兽师防御', '科研：萨满防御', '科研：勇士生命', '科研：驯兽师生命',\n",
       "       '科研：萨满生命', '科研：狂战士', '科研：龙骑兵', '科研：神谕者', '科研：部队攻击', '科研：建造速度',\n",
       "       '科研：资源保护', '科研：部队消耗', '科研：木材生产', '科研：石头生产', '科研：象牙生产', '科研：肉类生产',\n",
       "       '科研：木材采集', '科研：石头采集', '科研：象牙采集', '科研：肉类生产', '科研：部队负重', '科研：魔法采集',\n",
       "       '科研：魔法生产', '科研：据点耐久', '科研：据点二', '科研：医院容量', '科研：领土采集奖励', '科研：治疗速度',\n",
       "       '科研：据点三', '科研：联盟行军速度', '科研：战斗行军速度', '科研：采集行军速度', '科研：据点四', '科研：增援部队容量',\n",
       "       '科研：行军大小', '科研：资源帮助容量'],\n",
       "      dtype='object', name='字段解释')"
      ]
     },
     "execution_count": 77,
     "metadata": {},
     "output_type": "execute_result"
    }
   ],
   "source": [
    "resource.columns"
   ]
  },
  {
   "cell_type": "code",
   "execution_count": 79,
   "metadata": {},
   "outputs": [
    {
     "ename": "ValueError",
     "evalue": "Incompatible indexer with Series",
     "output_type": "error",
     "traceback": [
      "\u001b[0;31m---------------------------------------------------------------------------\u001b[0m",
      "\u001b[0;31mValueError\u001b[0m                                Traceback (most recent call last)",
      "\u001b[0;32m<ipython-input-79-63d630535bde>\u001b[0m in \u001b[0;36m<module>\u001b[0;34m\u001b[0m\n\u001b[1;32m      3\u001b[0m     \u001b[0msak\u001b[0m\u001b[0;34m.\u001b[0m\u001b[0mloc\u001b[0m\u001b[0;34m[\u001b[0m\u001b[0midx\u001b[0m\u001b[0;34m,\u001b[0m\u001b[0;34m\"特征\"\u001b[0m\u001b[0;34m]\u001b[0m \u001b[0;34m=\u001b[0m \u001b[0mColName\u001b[0m\u001b[0;34m\u001b[0m\u001b[0;34m\u001b[0m\u001b[0m\n\u001b[1;32m      4\u001b[0m     \u001b[0mcolumn\u001b[0m \u001b[0;34m=\u001b[0m \u001b[0mdata\u001b[0m\u001b[0;34m.\u001b[0m\u001b[0mloc\u001b[0m\u001b[0;34m[\u001b[0m\u001b[0;34m:\u001b[0m\u001b[0;34m,\u001b[0m\u001b[0mColName\u001b[0m\u001b[0;34m]\u001b[0m\u001b[0;34m\u001b[0m\u001b[0;34m\u001b[0m\u001b[0m\n\u001b[0;32m----> 5\u001b[0;31m     \u001b[0msak\u001b[0m\u001b[0;34m.\u001b[0m\u001b[0mloc\u001b[0m\u001b[0;34m[\u001b[0m\u001b[0midx\u001b[0m\u001b[0;34m,\u001b[0m\u001b[0;34m\"偏度\"\u001b[0m\u001b[0;34m]\u001b[0m \u001b[0;34m=\u001b[0m \u001b[0mcolumn\u001b[0m\u001b[0;34m.\u001b[0m\u001b[0mskew\u001b[0m\u001b[0;34m(\u001b[0m\u001b[0;34m)\u001b[0m \u001b[0;31m#偏度\u001b[0m\u001b[0;34m\u001b[0m\u001b[0;34m\u001b[0m\u001b[0m\n\u001b[0m\u001b[1;32m      6\u001b[0m     \u001b[0msak\u001b[0m\u001b[0;34m.\u001b[0m\u001b[0mloc\u001b[0m\u001b[0;34m[\u001b[0m\u001b[0midx\u001b[0m\u001b[0;34m,\u001b[0m\u001b[0;34m\"峰度\"\u001b[0m\u001b[0;34m]\u001b[0m \u001b[0;34m=\u001b[0m \u001b[0mcolumn\u001b[0m\u001b[0;34m.\u001b[0m\u001b[0mkurt\u001b[0m\u001b[0;34m(\u001b[0m\u001b[0;34m)\u001b[0m \u001b[0;31m#峰度\u001b[0m\u001b[0;34m\u001b[0m\u001b[0;34m\u001b[0m\u001b[0m\n\u001b[1;32m      7\u001b[0m     \u001b[0msak\u001b[0m\u001b[0;34m.\u001b[0m\u001b[0mloc\u001b[0m\u001b[0;34m[\u001b[0m\u001b[0midx\u001b[0m\u001b[0;34m,\u001b[0m\u001b[0;34m\"均值\"\u001b[0m\u001b[0;34m]\u001b[0m \u001b[0;34m=\u001b[0m \u001b[0mcolumn\u001b[0m\u001b[0;34m.\u001b[0m\u001b[0mmean\u001b[0m\u001b[0;34m(\u001b[0m\u001b[0;34m)\u001b[0m \u001b[0;31m#均值\u001b[0m\u001b[0;34m\u001b[0m\u001b[0;34m\u001b[0m\u001b[0m\n",
      "\u001b[0;32m~/anaconda3/lib/python3.7/site-packages/pandas/core/indexing.py\u001b[0m in \u001b[0;36m__setitem__\u001b[0;34m(self, key, value)\u001b[0m\n\u001b[1;32m    187\u001b[0m             \u001b[0mkey\u001b[0m \u001b[0;34m=\u001b[0m \u001b[0mcom\u001b[0m\u001b[0;34m.\u001b[0m\u001b[0m_apply_if_callable\u001b[0m\u001b[0;34m(\u001b[0m\u001b[0mkey\u001b[0m\u001b[0;34m,\u001b[0m \u001b[0mself\u001b[0m\u001b[0;34m.\u001b[0m\u001b[0mobj\u001b[0m\u001b[0;34m)\u001b[0m\u001b[0;34m\u001b[0m\u001b[0;34m\u001b[0m\u001b[0m\n\u001b[1;32m    188\u001b[0m         \u001b[0mindexer\u001b[0m \u001b[0;34m=\u001b[0m \u001b[0mself\u001b[0m\u001b[0;34m.\u001b[0m\u001b[0m_get_setitem_indexer\u001b[0m\u001b[0;34m(\u001b[0m\u001b[0mkey\u001b[0m\u001b[0;34m)\u001b[0m\u001b[0;34m\u001b[0m\u001b[0;34m\u001b[0m\u001b[0m\n\u001b[0;32m--> 189\u001b[0;31m         \u001b[0mself\u001b[0m\u001b[0;34m.\u001b[0m\u001b[0m_setitem_with_indexer\u001b[0m\u001b[0;34m(\u001b[0m\u001b[0mindexer\u001b[0m\u001b[0;34m,\u001b[0m \u001b[0mvalue\u001b[0m\u001b[0;34m)\u001b[0m\u001b[0;34m\u001b[0m\u001b[0;34m\u001b[0m\u001b[0m\n\u001b[0m\u001b[1;32m    190\u001b[0m \u001b[0;34m\u001b[0m\u001b[0m\n\u001b[1;32m    191\u001b[0m     \u001b[0;32mdef\u001b[0m \u001b[0m_validate_key\u001b[0m\u001b[0;34m(\u001b[0m\u001b[0mself\u001b[0m\u001b[0;34m,\u001b[0m \u001b[0mkey\u001b[0m\u001b[0;34m,\u001b[0m \u001b[0maxis\u001b[0m\u001b[0;34m)\u001b[0m\u001b[0;34m:\u001b[0m\u001b[0;34m\u001b[0m\u001b[0;34m\u001b[0m\u001b[0m\n",
      "\u001b[0;32m~/anaconda3/lib/python3.7/site-packages/pandas/core/indexing.py\u001b[0m in \u001b[0;36m_setitem_with_indexer\u001b[0;34m(self, indexer, value)\u001b[0m\n\u001b[1;32m    467\u001b[0m \u001b[0;34m\u001b[0m\u001b[0m\n\u001b[1;32m    468\u001b[0m             \u001b[0;32mif\u001b[0m \u001b[0misinstance\u001b[0m\u001b[0;34m(\u001b[0m\u001b[0mvalue\u001b[0m\u001b[0;34m,\u001b[0m \u001b[0mABCSeries\u001b[0m\u001b[0;34m)\u001b[0m\u001b[0;34m:\u001b[0m\u001b[0;34m\u001b[0m\u001b[0;34m\u001b[0m\u001b[0m\n\u001b[0;32m--> 469\u001b[0;31m                 \u001b[0mvalue\u001b[0m \u001b[0;34m=\u001b[0m \u001b[0mself\u001b[0m\u001b[0;34m.\u001b[0m\u001b[0m_align_series\u001b[0m\u001b[0;34m(\u001b[0m\u001b[0mindexer\u001b[0m\u001b[0;34m,\u001b[0m \u001b[0mvalue\u001b[0m\u001b[0;34m)\u001b[0m\u001b[0;34m\u001b[0m\u001b[0;34m\u001b[0m\u001b[0m\n\u001b[0m\u001b[1;32m    470\u001b[0m \u001b[0;34m\u001b[0m\u001b[0m\n\u001b[1;32m    471\u001b[0m             \u001b[0minfo_idx\u001b[0m \u001b[0;34m=\u001b[0m \u001b[0mindexer\u001b[0m\u001b[0;34m[\u001b[0m\u001b[0minfo_axis\u001b[0m\u001b[0;34m]\u001b[0m\u001b[0;34m\u001b[0m\u001b[0;34m\u001b[0m\u001b[0m\n",
      "\u001b[0;32m~/anaconda3/lib/python3.7/site-packages/pandas/core/indexing.py\u001b[0m in \u001b[0;36m_align_series\u001b[0;34m(self, indexer, ser, multiindex_indexer)\u001b[0m\n\u001b[1;32m    775\u001b[0m             \u001b[0;32mreturn\u001b[0m \u001b[0mser\u001b[0m\u001b[0;34m.\u001b[0m\u001b[0mreindex\u001b[0m\u001b[0;34m(\u001b[0m\u001b[0max\u001b[0m\u001b[0;34m)\u001b[0m\u001b[0;34m.\u001b[0m\u001b[0m_values\u001b[0m\u001b[0;34m\u001b[0m\u001b[0;34m\u001b[0m\u001b[0m\n\u001b[1;32m    776\u001b[0m \u001b[0;34m\u001b[0m\u001b[0m\n\u001b[0;32m--> 777\u001b[0;31m         \u001b[0;32mraise\u001b[0m \u001b[0mValueError\u001b[0m\u001b[0;34m(\u001b[0m\u001b[0;34m'Incompatible indexer with Series'\u001b[0m\u001b[0;34m)\u001b[0m\u001b[0;34m\u001b[0m\u001b[0;34m\u001b[0m\u001b[0m\n\u001b[0m\u001b[1;32m    778\u001b[0m \u001b[0;34m\u001b[0m\u001b[0m\n\u001b[1;32m    779\u001b[0m     \u001b[0;32mdef\u001b[0m \u001b[0m_align_frame\u001b[0m\u001b[0;34m(\u001b[0m\u001b[0mself\u001b[0m\u001b[0;34m,\u001b[0m \u001b[0mindexer\u001b[0m\u001b[0;34m,\u001b[0m \u001b[0mdf\u001b[0m\u001b[0;34m)\u001b[0m\u001b[0;34m:\u001b[0m\u001b[0;34m\u001b[0m\u001b[0;34m\u001b[0m\u001b[0m\n",
      "\u001b[0;31mValueError\u001b[0m: Incompatible indexer with Series"
     ]
    }
   ],
   "source": [
    "sak = pd.DataFrame()\n",
    "for idx,ColName in enumerate(resource.columns):\n",
    "    sak.loc[idx,\"特征\"] = ColName\n",
    "    column = data.loc[:,ColName]\n",
    "    sak.loc[idx,\"偏度\"] = column.skew() #偏度\n",
    "    sak.loc[idx,\"峰度\"] = column.kurt() #峰度\n",
    "    sak.loc[idx,\"均值\"] = column.mean() #均值"
   ]
  },
  {
   "cell_type": "code",
   "execution_count": null,
   "metadata": {},
   "outputs": [],
   "source": [
    "sak.head()"
   ]
  },
  {
   "cell_type": "code",
   "execution_count": null,
   "metadata": {},
   "outputs": [],
   "source": [
    "pd.set_option(\"display.max_rows\",120) #避免显示问题，设置一下最大行数\n",
    "sak.sort_values(\"偏度\")"
   ]
  },
  {
   "cell_type": "code",
   "execution_count": null,
   "metadata": {},
   "outputs": [],
   "source": [
    "#峰度和偏度似乎呈现高度一致的趋势——当偏度很大时，峰度也倾向于很大，我们可以绘图来看一看\n",
    "plt.figure(figsize=(3,6),dpi=100)\n",
    "plt.scatter(\"偏度\",\"峰度\", data = sak\n",
    "           ,s = 50\n",
    "           ,c = \"red\"\n",
    "           ,edgecolors = \"k\"\n",
    "           ,linewidth = 0.3);\n",
    "plt.xlim(0, 200) #控制横纵坐标的范围\n",
    "plt.ylim(0, 30000)\n",
    "plt.show()"
   ]
  },
  {
   "cell_type": "markdown",
   "metadata": {},
   "source": [
    "因此可以只考虑偏度与均值，不再考虑峰度的情况了。**如果我们能够绘制横坐标为偏度，纵坐标为均值的散点图，就可以概括出偏度与均值之间的关系，并总结出不同资源/不同等级的设置类型，以此来判断游戏中的各项资源的获得难易程度是否合理**。在绘图之前，大致可以判断，均值与偏度应该可以以如下方式分割特征的类型："
   ]
  },
  {
   "cell_type": "markdown",
   "metadata": {},
   "source": [
    "> - A类 **均值高，偏度低**：用户拥有该资源的分布较为均匀，并且大家都拥有很多这个资源，这类资源是最容易获取的"
   ]
  },
  {
   "cell_type": "markdown",
   "metadata": {},
   "source": [
    "> - B类 **均值高，偏度也高**：用户拥有该资源的分布不均匀，少量玩家掌握巨量资源（长尾会非常非常长），拉高了均值，这类资源可能是氪金资源，也可能是爆肝才能获得的资源"
   ]
  },
  {
   "cell_type": "markdown",
   "metadata": {},
   "source": [
    "> - C类 **均值低，偏度也低**：用户拥有该资源的分布较为均匀，但大家都没有这个资源，这类资源可能是需要时间来积累才能够获得的，随着开服时间变长，这类资源应该会逐渐变成其他类型的资源"
   ]
  },
  {
   "cell_type": "markdown",
   "metadata": {},
   "source": [
    "> - D类 **均值低，偏度高**：用户拥有该资源的分布不均匀，只有少量玩家掌握该资源，但是掌握的总量也不多。这类资源天生稀缺并且无法靠氪金获得（比如必须触发特定剧情/达到特定成就才能够获得的资源），只有少数人能够拥有"
   ]
  },
  {
   "cell_type": "markdown",
   "metadata": {},
   "source": [
    "在一个健康的游戏中，A类资源应该是最多的，这类资源决定了剧本能够被推进的程度、决定了大部分玩家的游戏体验，B类资源主要用于付费，收入的主要来源，但可能严重破坏游戏平衡，D类资源主要在于增加游戏的趣味和公平性，应该是最少的。一个游戏的A类资源要足够多，才算是对新手比较友好，只要我们绘制出散点图，四类资源的分布情况就目了然了。"
   ]
  },
  {
   "cell_type": "code",
   "execution_count": 80,
   "metadata": {},
   "outputs": [
    {
     "name": "stdout",
     "output_type": "stream",
     "text": [
      "1446.870493367135\n",
      "1.229280867942684\n",
      "585515.5045294879\n",
      "1.4860094396564347e-05\n"
     ]
    }
   ],
   "source": [
    "print(sak[\"偏度\"].max())\n",
    "print(sak[\"偏度\"].min())\n",
    "print(sak[\"均值\"].max())\n",
    "print(sak[\"均值\"].min())"
   ]
  },
  {
   "cell_type": "code",
   "execution_count": 81,
   "metadata": {},
   "outputs": [
    {
     "name": "stderr",
     "output_type": "stream",
     "text": [
      "/Users/songbeibei/anaconda3/lib/python3.7/site-packages/matplotlib/font_manager.py:1241: UserWarning: findfont: Font family ['sans-serif'] not found. Falling back to DejaVu Sans.\n",
      "  (prop.get_family(), self.defaultFamily[fontext]))\n"
     ]
    },
    {
     "data": {
      "image/png": "[encoded data removed]",
      "text/plain": [
       "<Figure size 432x288 with 1 Axes>"
      ]
     },
     "metadata": {
      "needs_background": "light"
     },
     "output_type": "display_data"
    }
   ],
   "source": [
    "plt.scatter(\"偏度\",\"均值\", data = sak)\n",
    "plt.show() #所有数据点都堆在一起，看不出任何规律"
   ]
  },
  {
   "cell_type": "markdown",
   "metadata": {},
   "source": [
    "为解决这个问题，绘制三个纵坐标数值不同的图像——"
   ]
  },
  {
   "cell_type": "code",
   "execution_count": 82,
   "metadata": {},
   "outputs": [
    {
     "data": {
      "image/png": "[encoded data removed]",
      "text/plain": [
       "<Figure size 1500x900 with 3 Axes>"
      ]
     },
     "metadata": {
      "needs_background": "light"
     },
     "output_type": "display_data"
    }
   ],
   "source": [
    "plt.figure(figsize=(15,9),dpi=100)\n",
    "#绘制三个坐标轴不一样的图像\n",
    "\n",
    "#上\n",
    "plt.subplot(311)\n",
    "plt.scatter(\"偏度\",\"均值\", data = sak\n",
    "           ,s = 45\n",
    "           ,c = \"red\"\n",
    "           ,edgecolors = \"k\"\n",
    "           ,linewidth = 0.3);\n",
    "plt.xlim(-15, 1500) #控制横纵坐标的范围\n",
    "plt.ylim(20000, 600000)\n",
    "plt.vlines(300, 20000, 600000,colors=\"red\",linestyles=\"dotted\")\n",
    "ax = plt.gca()\n",
    "ax.spines['top'].set_visible(False)\n",
    "ax.spines['right'].set_visible(False)\n",
    "ax.spines['bottom'].set_visible(False)\n",
    "plt.yticks(fontsize=10)\n",
    "plt.text(130,450000,s=\"A类\")\n",
    "plt.text(130,400000,s=\"均值很高，偏度较低\")\n",
    "plt.text(130,350000,s=\"容易获取的资源\")\n",
    "plt.text(130,300000,s=\"容易达到的等级\")\n",
    "plt.xticks([])\n",
    "\n",
    "#中\n",
    "plt.subplot(312)\n",
    "plt.scatter(\"偏度\",\"均值\", data = sak\n",
    "           ,s = 45\n",
    "           ,c = \"red\"\n",
    "           ,edgecolors = \"k\"\n",
    "           ,linewidth = 0.3);\n",
    "plt.xlim(-15, 1500)\n",
    "plt.ylim(40, 300)\n",
    "plt.vlines(300, 50, 300,colors=\"red\",linestyles=\"dotted\")\n",
    "plt.hlines(40,-10, 1500,colors=\"red\",linestyles=\"dotted\")\n",
    "ax = plt.gca()\n",
    "ax.spines['top'].set_visible(False)\n",
    "ax.spines['right'].set_visible(False)\n",
    "ax.spines['bottom'].set_visible(False)\n",
    "plt.yticks(fontsize=10)\n",
    "plt.ylabel(\"资源均值\", fontsize=15)\n",
    "plt.text(1200,200,s=\"B类\")\n",
    "plt.text(1200,175,s=\"均值偏高/居中，偏度很高\")\n",
    "plt.text(1200,150,s=\"有少数玩家\")\n",
    "plt.text(1200,125,s=\"把控巨量资源\")\n",
    "plt.xticks([])\n",
    "\n",
    "#下\n",
    "plt.subplot(313)\n",
    "plt.scatter(\"偏度\",\"均值\", data = sak\n",
    "           ,s = 45\n",
    "           ,c = \"red\"\n",
    "           ,edgecolors = \"k\"\n",
    "           ,linewidth = 0.3);\n",
    "plt.xlim(-15, 1500)\n",
    "plt.ylim(-0.15, 3)\n",
    "plt.vlines(300, -0.1, 5,colors=\"red\",linestyles=\"dotted\")\n",
    "ax = plt.gca()\n",
    "ax.spines['top'].set_visible(False)\n",
    "ax.spines['right'].set_visible(False)\n",
    "plt.xlabel(\"偏度\", fontsize=15)\n",
    "plt.yticks(fontsize=10)\n",
    "plt.text(70,2.8,s=\"C类资源\")\n",
    "plt.text(70,2.5,s=\"均值很低，偏度也很低\")\n",
    "plt.text(70,2.2,s=\"几乎没有玩家拥有该资源\")\n",
    "plt.text(70,1.9,s=\"可能需要时间积累\")\n",
    "plt.text(340,2.8,s=\"D类资源\")\n",
    "plt.text(340,2.5,s=\"均值很低，偏度较高或很高\")\n",
    "plt.text(340,2.2,s=\"只有少量玩家掌握该资源\")\n",
    "plt.text(340,1.9,s=\"并且资源本身也比较稀缺\")\n",
    "plt.subplots_adjust(hspace=0.05)\n",
    "plt.show()"
   ]
  },
  {
   "cell_type": "markdown",
   "metadata": {},
   "source": [
    "查看一下四类资源分别有哪些，以及数量是否合理："
   ]
  },
  {
   "cell_type": "code",
   "execution_count": 83,
   "metadata": {},
   "outputs": [],
   "source": [
    "#A类\n",
    "A = sak.loc[sak[\"均值\"] > 3,:].loc[sak[\"偏度\"]<300,:]"
   ]
  },
  {
   "cell_type": "code",
   "execution_count": 84,
   "metadata": {},
   "outputs": [
    {
     "data": {
      "text/html": [
       "<div>\n",
       "<style scoped>\n",
       "    .dataframe tbody tr th:only-of-type {\n",
       "        vertical-align: middle;\n",
       "    }\n",
       "\n",
       "    .dataframe tbody tr th {\n",
       "        vertical-align: top;\n",
       "    }\n",
       "\n",
       "    .dataframe thead th {\n",
       "        text-align: right;\n",
       "    }\n",
       "</style>\n",
       "<table border=\"1\" class=\"dataframe\">\n",
       "  <thead>\n",
       "    <tr style=\"text-align: right;\">\n",
       "      <th></th>\n",
       "      <th>特征</th>\n",
       "      <th>偏度</th>\n",
       "      <th>峰度</th>\n",
       "      <th>均值</th>\n",
       "    </tr>\n",
       "  </thead>\n",
       "  <tbody>\n",
       "    <tr>\n",
       "      <th>0</th>\n",
       "      <td>木头获取数量</td>\n",
       "      <td>100.635</td>\n",
       "      <td>15449.582</td>\n",
       "      <td>454306.859</td>\n",
       "    </tr>\n",
       "    <tr>\n",
       "      <th>1</th>\n",
       "      <td>木头消耗数量</td>\n",
       "      <td>86.310</td>\n",
       "      <td>11367.448</td>\n",
       "      <td>369843.252</td>\n",
       "    </tr>\n",
       "    <tr>\n",
       "      <th>2</th>\n",
       "      <td>石头获取数量</td>\n",
       "      <td>113.794</td>\n",
       "      <td>18489.107</td>\n",
       "      <td>189778.774</td>\n",
       "    </tr>\n",
       "    <tr>\n",
       "      <th>3</th>\n",
       "      <td>石头消耗数量</td>\n",
       "      <td>105.043</td>\n",
       "      <td>15515.988</td>\n",
       "      <td>137607.363</td>\n",
       "    </tr>\n",
       "    <tr>\n",
       "      <th>4</th>\n",
       "      <td>象牙获取数量</td>\n",
       "      <td>112.636</td>\n",
       "      <td>17682.030</td>\n",
       "      <td>80756.230</td>\n",
       "    </tr>\n",
       "    <tr>\n",
       "      <th>5</th>\n",
       "      <td>象牙消耗数量</td>\n",
       "      <td>113.405</td>\n",
       "      <td>16974.594</td>\n",
       "      <td>36131.699</td>\n",
       "    </tr>\n",
       "    <tr>\n",
       "      <th>6</th>\n",
       "      <td>肉获取数量</td>\n",
       "      <td>106.645</td>\n",
       "      <td>17907.029</td>\n",
       "      <td>585515.505</td>\n",
       "    </tr>\n",
       "    <tr>\n",
       "      <th>7</th>\n",
       "      <td>肉消耗数量</td>\n",
       "      <td>89.403</td>\n",
       "      <td>13600.967</td>\n",
       "      <td>354810.206</td>\n",
       "    </tr>\n",
       "    <tr>\n",
       "      <th>8</th>\n",
       "      <td>魔法获取数量</td>\n",
       "      <td>97.762</td>\n",
       "      <td>14958.235</td>\n",
       "      <td>75389.535</td>\n",
       "    </tr>\n",
       "    <tr>\n",
       "      <th>9</th>\n",
       "      <td>魔法消耗数量</td>\n",
       "      <td>109.334</td>\n",
       "      <td>18322.774</td>\n",
       "      <td>47253.994</td>\n",
       "    </tr>\n",
       "    <tr>\n",
       "      <th>10</th>\n",
       "      <td>勇士招募数量</td>\n",
       "      <td>150.291</td>\n",
       "      <td>56627.286</td>\n",
       "      <td>143.610</td>\n",
       "    </tr>\n",
       "    <tr>\n",
       "      <th>11</th>\n",
       "      <td>勇士损失数量</td>\n",
       "      <td>142.013</td>\n",
       "      <td>59680.484</td>\n",
       "      <td>226.782</td>\n",
       "    </tr>\n",
       "    <tr>\n",
       "      <th>12</th>\n",
       "      <td>驯兽师招募数量</td>\n",
       "      <td>52.394</td>\n",
       "      <td>6653.517</td>\n",
       "      <td>128.264</td>\n",
       "    </tr>\n",
       "    <tr>\n",
       "      <th>13</th>\n",
       "      <td>驯兽师损失数量</td>\n",
       "      <td>37.613</td>\n",
       "      <td>4799.376</td>\n",
       "      <td>178.006</td>\n",
       "    </tr>\n",
       "    <tr>\n",
       "      <th>16</th>\n",
       "      <td>勇士伤兵产生数量</td>\n",
       "      <td>201.952</td>\n",
       "      <td>96877.947</td>\n",
       "      <td>135.304</td>\n",
       "    </tr>\n",
       "    <tr>\n",
       "      <th>17</th>\n",
       "      <td>勇士伤兵恢复数量</td>\n",
       "      <td>223.474</td>\n",
       "      <td>111369.002</td>\n",
       "      <td>91.984</td>\n",
       "    </tr>\n",
       "    <tr>\n",
       "      <th>18</th>\n",
       "      <td>驯兽师伤兵产生数量</td>\n",
       "      <td>58.235</td>\n",
       "      <td>10995.135</td>\n",
       "      <td>116.503</td>\n",
       "    </tr>\n",
       "    <tr>\n",
       "      <th>19</th>\n",
       "      <td>驯兽师伤兵恢复数量</td>\n",
       "      <td>67.356</td>\n",
       "      <td>13844.793</td>\n",
       "      <td>84.346</td>\n",
       "    </tr>\n",
       "    <tr>\n",
       "      <th>22</th>\n",
       "      <td>通用加速获取数量</td>\n",
       "      <td>76.190</td>\n",
       "      <td>10461.629</td>\n",
       "      <td>282.545</td>\n",
       "    </tr>\n",
       "    <tr>\n",
       "      <th>23</th>\n",
       "      <td>通用加速使用数量</td>\n",
       "      <td>78.756</td>\n",
       "      <td>10571.988</td>\n",
       "      <td>192.031</td>\n",
       "    </tr>\n",
       "    <tr>\n",
       "      <th>24</th>\n",
       "      <td>建筑加速获取数量</td>\n",
       "      <td>75.562</td>\n",
       "      <td>11468.080</td>\n",
       "      <td>205.557</td>\n",
       "    </tr>\n",
       "    <tr>\n",
       "      <th>25</th>\n",
       "      <td>建筑加速使用数量</td>\n",
       "      <td>73.617</td>\n",
       "      <td>9912.930</td>\n",
       "      <td>142.776</td>\n",
       "    </tr>\n",
       "    <tr>\n",
       "      <th>26</th>\n",
       "      <td>科研加速获取数量</td>\n",
       "      <td>75.606</td>\n",
       "      <td>10038.624</td>\n",
       "      <td>132.671</td>\n",
       "    </tr>\n",
       "    <tr>\n",
       "      <th>27</th>\n",
       "      <td>科研加速使用数量</td>\n",
       "      <td>86.781</td>\n",
       "      <td>12166.169</td>\n",
       "      <td>73.653</td>\n",
       "    </tr>\n",
       "    <tr>\n",
       "      <th>28</th>\n",
       "      <td>训练加速获取数量</td>\n",
       "      <td>99.010</td>\n",
       "      <td>17738.981</td>\n",
       "      <td>210.808</td>\n",
       "    </tr>\n",
       "    <tr>\n",
       "      <th>29</th>\n",
       "      <td>训练加速使用数量</td>\n",
       "      <td>105.763</td>\n",
       "      <td>18411.777</td>\n",
       "      <td>65.022</td>\n",
       "    </tr>\n",
       "    <tr>\n",
       "      <th>30</th>\n",
       "      <td>治疗加速获取数量</td>\n",
       "      <td>26.467</td>\n",
       "      <td>3883.361</td>\n",
       "      <td>10.416</td>\n",
       "    </tr>\n",
       "  </tbody>\n",
       "</table>\n",
       "</div>"
      ],
      "text/plain": [
       "           特征      偏度         峰度         均值\n",
       "0      木头获取数量 100.635  15449.582 454306.859\n",
       "1      木头消耗数量  86.310  11367.448 369843.252\n",
       "2      石头获取数量 113.794  18489.107 189778.774\n",
       "3      石头消耗数量 105.043  15515.988 137607.363\n",
       "4      象牙获取数量 112.636  17682.030  80756.230\n",
       "5      象牙消耗数量 113.405  16974.594  36131.699\n",
       "6       肉获取数量 106.645  17907.029 585515.505\n",
       "7       肉消耗数量  89.403  13600.967 354810.206\n",
       "8      魔法获取数量  97.762  14958.235  75389.535\n",
       "9      魔法消耗数量 109.334  18322.774  47253.994\n",
       "10     勇士招募数量 150.291  56627.286    143.610\n",
       "11     勇士损失数量 142.013  59680.484    226.782\n",
       "12    驯兽师招募数量  52.394   6653.517    128.264\n",
       "13    驯兽师损失数量  37.613   4799.376    178.006\n",
       "16   勇士伤兵产生数量 201.952  96877.947    135.304\n",
       "17   勇士伤兵恢复数量 223.474 111369.002     91.984\n",
       "18  驯兽师伤兵产生数量  58.235  10995.135    116.503\n",
       "19  驯兽师伤兵恢复数量  67.356  13844.793     84.346\n",
       "22   通用加速获取数量  76.190  10461.629    282.545\n",
       "23   通用加速使用数量  78.756  10571.988    192.031\n",
       "24   建筑加速获取数量  75.562  11468.080    205.557\n",
       "25   建筑加速使用数量  73.617   9912.930    142.776\n",
       "26   科研加速获取数量  75.606  10038.624    132.671\n",
       "27   科研加速使用数量  86.781  12166.169     73.653\n",
       "28   训练加速获取数量  99.010  17738.981    210.808\n",
       "29   训练加速使用数量 105.763  18411.777     65.022\n",
       "30   治疗加速获取数量  26.467   3883.361     10.416"
      ]
     },
     "execution_count": 84,
     "metadata": {},
     "output_type": "execute_result"
    }
   ],
   "source": [
    "A"
   ]
  },
  {
   "cell_type": "code",
   "execution_count": 85,
   "metadata": {},
   "outputs": [
    {
     "data": {
      "text/plain": [
       "(27, 4)"
      ]
     },
     "execution_count": 85,
     "metadata": {},
     "output_type": "execute_result"
    }
   ],
   "source": [
    "A.shape"
   ]
  },
  {
   "cell_type": "code",
   "execution_count": 86,
   "metadata": {},
   "outputs": [
    {
     "data": {
      "text/html": [
       "<div>\n",
       "<style scoped>\n",
       "    .dataframe tbody tr th:only-of-type {\n",
       "        vertical-align: middle;\n",
       "    }\n",
       "\n",
       "    .dataframe tbody tr th {\n",
       "        vertical-align: top;\n",
       "    }\n",
       "\n",
       "    .dataframe thead th {\n",
       "        text-align: right;\n",
       "    }\n",
       "</style>\n",
       "<table border=\"1\" class=\"dataframe\">\n",
       "  <thead>\n",
       "    <tr style=\"text-align: right;\">\n",
       "      <th></th>\n",
       "      <th>特征</th>\n",
       "      <th>偏度</th>\n",
       "      <th>峰度</th>\n",
       "      <th>均值</th>\n",
       "    </tr>\n",
       "  </thead>\n",
       "  <tbody>\n",
       "    <tr>\n",
       "      <th>14</th>\n",
       "      <td>萨满招募数量</td>\n",
       "      <td>1393.339</td>\n",
       "      <td>2048745.112</td>\n",
       "      <td>119.543</td>\n",
       "    </tr>\n",
       "    <tr>\n",
       "      <th>15</th>\n",
       "      <td>萨满损失数量</td>\n",
       "      <td>1394.118</td>\n",
       "      <td>2050265.411</td>\n",
       "      <td>156.853</td>\n",
       "    </tr>\n",
       "    <tr>\n",
       "      <th>20</th>\n",
       "      <td>萨满伤兵产生数量</td>\n",
       "      <td>1439.747</td>\n",
       "      <td>2141351.573</td>\n",
       "      <td>110.431</td>\n",
       "    </tr>\n",
       "    <tr>\n",
       "      <th>21</th>\n",
       "      <td>萨满伤兵恢复数量</td>\n",
       "      <td>1446.870</td>\n",
       "      <td>2155525.025</td>\n",
       "      <td>84.763</td>\n",
       "    </tr>\n",
       "  </tbody>\n",
       "</table>\n",
       "</div>"
      ],
      "text/plain": [
       "          特征       偏度          峰度      均值\n",
       "14    萨满招募数量 1393.339 2048745.112 119.543\n",
       "15    萨满损失数量 1394.118 2050265.411 156.853\n",
       "20  萨满伤兵产生数量 1439.747 2141351.573 110.431\n",
       "21  萨满伤兵恢复数量 1446.870 2155525.025  84.763"
      ]
     },
     "execution_count": 86,
     "metadata": {},
     "output_type": "execute_result"
    }
   ],
   "source": [
    "#B类\n",
    "sak.loc[sak[\"均值\"] > 3,:].loc[sak[\"偏度\"]>300,:]"
   ]
  },
  {
   "cell_type": "code",
   "execution_count": 87,
   "metadata": {},
   "outputs": [
    {
     "data": {
      "text/plain": [
       "43"
      ]
     },
     "execution_count": 87,
     "metadata": {},
     "output_type": "execute_result"
    }
   ],
   "source": [
    "#C类 - 大量还未开发的资源 & 大量的等级 - 比较容易获得的资源\n",
    "sak.loc[sak[\"均值\"] < 3,:].loc[sak[\"偏度\"]<300,:].shape[0]"
   ]
  },
  {
   "cell_type": "code",
   "execution_count": 88,
   "metadata": {},
   "outputs": [
    {
     "data": {
      "text/plain": [
       "2"
      ]
     },
     "execution_count": 88,
     "metadata": {},
     "output_type": "execute_result"
    }
   ],
   "source": [
    "#D类 - 极度稀缺的资源\n",
    "sak.loc[sak[\"均值\"] < 3,:].loc[sak[\"偏度\"]>300,:].shape[0]"
   ]
  },
  {
   "cell_type": "code",
   "execution_count": 89,
   "metadata": {},
   "outputs": [
    {
     "data": {
      "text/html": [
       "<div>\n",
       "<style scoped>\n",
       "    .dataframe tbody tr th:only-of-type {\n",
       "        vertical-align: middle;\n",
       "    }\n",
       "\n",
       "    .dataframe tbody tr th {\n",
       "        vertical-align: top;\n",
       "    }\n",
       "\n",
       "    .dataframe thead th {\n",
       "        text-align: right;\n",
       "    }\n",
       "</style>\n",
       "<table border=\"1\" class=\"dataframe\">\n",
       "  <thead>\n",
       "    <tr style=\"text-align: right;\">\n",
       "      <th></th>\n",
       "      <th>count</th>\n",
       "      <th>mean</th>\n",
       "      <th>std</th>\n",
       "      <th>min</th>\n",
       "      <th>25%</th>\n",
       "      <th>50%</th>\n",
       "      <th>75%</th>\n",
       "      <th>max</th>\n",
       "    </tr>\n",
       "    <tr>\n",
       "      <th>字段解释</th>\n",
       "      <th></th>\n",
       "      <th></th>\n",
       "      <th></th>\n",
       "      <th></th>\n",
       "      <th></th>\n",
       "      <th></th>\n",
       "      <th></th>\n",
       "      <th></th>\n",
       "    </tr>\n",
       "  </thead>\n",
       "  <tbody>\n",
       "    <tr>\n",
       "      <th>木头获取数量</th>\n",
       "      <td>2288007.000</td>\n",
       "      <td>454306.859</td>\n",
       "      <td>4958667.146</td>\n",
       "      <td>0.000</td>\n",
       "      <td>0.000</td>\n",
       "      <td>42038.000</td>\n",
       "      <td>153118.000</td>\n",
       "      <td>1239962311.000</td>\n",
       "    </tr>\n",
       "    <tr>\n",
       "      <th>木头消耗数量</th>\n",
       "      <td>2288007.000</td>\n",
       "      <td>369843.252</td>\n",
       "      <td>3737720.038</td>\n",
       "      <td>0.000</td>\n",
       "      <td>0.000</td>\n",
       "      <td>9830.000</td>\n",
       "      <td>98557.000</td>\n",
       "      <td>799587506.000</td>\n",
       "    </tr>\n",
       "    <tr>\n",
       "      <th>石头获取数量</th>\n",
       "      <td>2288007.000</td>\n",
       "      <td>189778.774</td>\n",
       "      <td>4670619.517</td>\n",
       "      <td>0.000</td>\n",
       "      <td>0.000</td>\n",
       "      <td>0.000</td>\n",
       "      <td>0.000</td>\n",
       "      <td>1214869437.000</td>\n",
       "    </tr>\n",
       "    <tr>\n",
       "      <th>石头消耗数量</th>\n",
       "      <td>2288007.000</td>\n",
       "      <td>137607.363</td>\n",
       "      <td>3370166.356</td>\n",
       "      <td>0.000</td>\n",
       "      <td>0.000</td>\n",
       "      <td>0.000</td>\n",
       "      <td>0.000</td>\n",
       "      <td>796237770.000</td>\n",
       "    </tr>\n",
       "    <tr>\n",
       "      <th>象牙获取数量</th>\n",
       "      <td>2288007.000</td>\n",
       "      <td>80756.230</td>\n",
       "      <td>2220540.322</td>\n",
       "      <td>0.000</td>\n",
       "      <td>0.000</td>\n",
       "      <td>0.000</td>\n",
       "      <td>0.000</td>\n",
       "      <td>574496104.000</td>\n",
       "    </tr>\n",
       "    <tr>\n",
       "      <th>象牙消耗数量</th>\n",
       "      <td>2288007.000</td>\n",
       "      <td>36131.699</td>\n",
       "      <td>1782498.688</td>\n",
       "      <td>0.000</td>\n",
       "      <td>0.000</td>\n",
       "      <td>0.000</td>\n",
       "      <td>0.000</td>\n",
       "      <td>448197157.000</td>\n",
       "    </tr>\n",
       "    <tr>\n",
       "      <th>肉获取数量</th>\n",
       "      <td>2288007.000</td>\n",
       "      <td>585515.505</td>\n",
       "      <td>5868629.397</td>\n",
       "      <td>0.000</td>\n",
       "      <td>0.000</td>\n",
       "      <td>34587.000</td>\n",
       "      <td>136001.000</td>\n",
       "      <td>1470643810.000</td>\n",
       "    </tr>\n",
       "    <tr>\n",
       "      <th>肉消耗数量</th>\n",
       "      <td>2288007.000</td>\n",
       "      <td>354810.206</td>\n",
       "      <td>3400632.455</td>\n",
       "      <td>0.000</td>\n",
       "      <td>0.000</td>\n",
       "      <td>6470.000</td>\n",
       "      <td>66054.000</td>\n",
       "      <td>888953714.000</td>\n",
       "    </tr>\n",
       "    <tr>\n",
       "      <th>魔法获取数量</th>\n",
       "      <td>2288007.000</td>\n",
       "      <td>75389.535</td>\n",
       "      <td>966289.236</td>\n",
       "      <td>0.000</td>\n",
       "      <td>0.000</td>\n",
       "      <td>0.000</td>\n",
       "      <td>0.000</td>\n",
       "      <td>263722820.000</td>\n",
       "    </tr>\n",
       "    <tr>\n",
       "      <th>魔法消耗数量</th>\n",
       "      <td>2288007.000</td>\n",
       "      <td>47253.994</td>\n",
       "      <td>881122.273</td>\n",
       "      <td>0.000</td>\n",
       "      <td>0.000</td>\n",
       "      <td>0.000</td>\n",
       "      <td>0.000</td>\n",
       "      <td>263722891.000</td>\n",
       "    </tr>\n",
       "    <tr>\n",
       "      <th>勇士招募数量</th>\n",
       "      <td>2288007.000</td>\n",
       "      <td>143.610</td>\n",
       "      <td>1781.468</td>\n",
       "      <td>0.000</td>\n",
       "      <td>0.000</td>\n",
       "      <td>0.000</td>\n",
       "      <td>0.000</td>\n",
       "      <td>874918.000</td>\n",
       "    </tr>\n",
       "    <tr>\n",
       "      <th>勇士损失数量</th>\n",
       "      <td>2288007.000</td>\n",
       "      <td>226.782</td>\n",
       "      <td>1738.488</td>\n",
       "      <td>0.000</td>\n",
       "      <td>0.000</td>\n",
       "      <td>0.000</td>\n",
       "      <td>0.000</td>\n",
       "      <td>878883.000</td>\n",
       "    </tr>\n",
       "    <tr>\n",
       "      <th>驯兽师招募数量</th>\n",
       "      <td>2288007.000</td>\n",
       "      <td>128.264</td>\n",
       "      <td>1334.977</td>\n",
       "      <td>0.000</td>\n",
       "      <td>0.000</td>\n",
       "      <td>0.000</td>\n",
       "      <td>0.000</td>\n",
       "      <td>353852.000</td>\n",
       "    </tr>\n",
       "    <tr>\n",
       "      <th>驯兽师损失数量</th>\n",
       "      <td>2288007.000</td>\n",
       "      <td>178.006</td>\n",
       "      <td>1347.096</td>\n",
       "      <td>0.000</td>\n",
       "      <td>0.000</td>\n",
       "      <td>0.000</td>\n",
       "      <td>0.000</td>\n",
       "      <td>370375.000</td>\n",
       "    </tr>\n",
       "    <tr>\n",
       "      <th>勇士伤兵产生数量</th>\n",
       "      <td>2288007.000</td>\n",
       "      <td>135.304</td>\n",
       "      <td>1333.236</td>\n",
       "      <td>0.000</td>\n",
       "      <td>0.000</td>\n",
       "      <td>0.000</td>\n",
       "      <td>0.000</td>\n",
       "      <td>803996.000</td>\n",
       "    </tr>\n",
       "    <tr>\n",
       "      <th>勇士伤兵恢复数量</th>\n",
       "      <td>2288007.000</td>\n",
       "      <td>91.984</td>\n",
       "      <td>1287.586</td>\n",
       "      <td>0.000</td>\n",
       "      <td>0.000</td>\n",
       "      <td>0.000</td>\n",
       "      <td>0.000</td>\n",
       "      <td>803996.000</td>\n",
       "    </tr>\n",
       "    <tr>\n",
       "      <th>驯兽师伤兵产生数量</th>\n",
       "      <td>2288007.000</td>\n",
       "      <td>116.503</td>\n",
       "      <td>1009.972</td>\n",
       "      <td>0.000</td>\n",
       "      <td>0.000</td>\n",
       "      <td>0.000</td>\n",
       "      <td>0.000</td>\n",
       "      <td>347967.000</td>\n",
       "    </tr>\n",
       "    <tr>\n",
       "      <th>驯兽师伤兵恢复数量</th>\n",
       "      <td>2288007.000</td>\n",
       "      <td>84.346</td>\n",
       "      <td>950.375</td>\n",
       "      <td>0.000</td>\n",
       "      <td>0.000</td>\n",
       "      <td>0.000</td>\n",
       "      <td>0.000</td>\n",
       "      <td>347967.000</td>\n",
       "    </tr>\n",
       "    <tr>\n",
       "      <th>通用加速获取数量</th>\n",
       "      <td>2288007.000</td>\n",
       "      <td>282.545</td>\n",
       "      <td>3001.938</td>\n",
       "      <td>0.000</td>\n",
       "      <td>0.000</td>\n",
       "      <td>0.000</td>\n",
       "      <td>53.000</td>\n",
       "      <td>795484.000</td>\n",
       "    </tr>\n",
       "    <tr>\n",
       "      <th>通用加速使用数量</th>\n",
       "      <td>2288007.000</td>\n",
       "      <td>192.031</td>\n",
       "      <td>2619.487</td>\n",
       "      <td>0.000</td>\n",
       "      <td>0.000</td>\n",
       "      <td>0.000</td>\n",
       "      <td>0.000</td>\n",
       "      <td>764637.000</td>\n",
       "    </tr>\n",
       "    <tr>\n",
       "      <th>建筑加速获取数量</th>\n",
       "      <td>2288007.000</td>\n",
       "      <td>205.557</td>\n",
       "      <td>1427.626</td>\n",
       "      <td>0.000</td>\n",
       "      <td>0.000</td>\n",
       "      <td>0.000</td>\n",
       "      <td>232.000</td>\n",
       "      <td>411362.000</td>\n",
       "    </tr>\n",
       "    <tr>\n",
       "      <th>建筑加速使用数量</th>\n",
       "      <td>2288007.000</td>\n",
       "      <td>142.776</td>\n",
       "      <td>1283.584</td>\n",
       "      <td>0.000</td>\n",
       "      <td>0.000</td>\n",
       "      <td>0.000</td>\n",
       "      <td>46.000</td>\n",
       "      <td>306515.000</td>\n",
       "    </tr>\n",
       "    <tr>\n",
       "      <th>科研加速获取数量</th>\n",
       "      <td>2288007.000</td>\n",
       "      <td>132.671</td>\n",
       "      <td>1516.142</td>\n",
       "      <td>0.000</td>\n",
       "      <td>0.000</td>\n",
       "      <td>0.000</td>\n",
       "      <td>50.000</td>\n",
       "      <td>377796.000</td>\n",
       "    </tr>\n",
       "    <tr>\n",
       "      <th>科研加速使用数量</th>\n",
       "      <td>2288007.000</td>\n",
       "      <td>73.653</td>\n",
       "      <td>1339.241</td>\n",
       "      <td>0.000</td>\n",
       "      <td>0.000</td>\n",
       "      <td>0.000</td>\n",
       "      <td>0.000</td>\n",
       "      <td>338437.000</td>\n",
       "    </tr>\n",
       "    <tr>\n",
       "      <th>训练加速获取数量</th>\n",
       "      <td>2288007.000</td>\n",
       "      <td>210.808</td>\n",
       "      <td>1942.369</td>\n",
       "      <td>0.000</td>\n",
       "      <td>0.000</td>\n",
       "      <td>45.000</td>\n",
       "      <td>100.000</td>\n",
       "      <td>671607.000</td>\n",
       "    </tr>\n",
       "    <tr>\n",
       "      <th>训练加速使用数量</th>\n",
       "      <td>2288007.000</td>\n",
       "      <td>65.022</td>\n",
       "      <td>1554.042</td>\n",
       "      <td>0.000</td>\n",
       "      <td>0.000</td>\n",
       "      <td>0.000</td>\n",
       "      <td>0.000</td>\n",
       "      <td>529587.000</td>\n",
       "    </tr>\n",
       "    <tr>\n",
       "      <th>治疗加速获取数量</th>\n",
       "      <td>2288007.000</td>\n",
       "      <td>10.416</td>\n",
       "      <td>49.638</td>\n",
       "      <td>0.000</td>\n",
       "      <td>0.000</td>\n",
       "      <td>0.000</td>\n",
       "      <td>0.000</td>\n",
       "      <td>14048.000</td>\n",
       "    </tr>\n",
       "  </tbody>\n",
       "</table>\n",
       "</div>"
      ],
      "text/plain": [
       "                count       mean         std   min   25%       50%        75%  \\\n",
       "字段解释                                                                            \n",
       "木头获取数量    2288007.000 454306.859 4958667.146 0.000 0.000 42038.000 153118.000   \n",
       "木头消耗数量    2288007.000 369843.252 3737720.038 0.000 0.000  9830.000  98557.000   \n",
       "石头获取数量    2288007.000 189778.774 4670619.517 0.000 0.000     0.000      0.000   \n",
       "石头消耗数量    2288007.000 137607.363 3370166.356 0.000 0.000     0.000      0.000   \n",
       "象牙获取数量    2288007.000  80756.230 2220540.322 0.000 0.000     0.000      0.000   \n",
       "象牙消耗数量    2288007.000  36131.699 1782498.688 0.000 0.000     0.000      0.000   \n",
       "肉获取数量     2288007.000 585515.505 5868629.397 0.000 0.000 34587.000 136001.000   \n",
       "肉消耗数量     2288007.000 354810.206 3400632.455 0.000 0.000  6470.000  66054.000   \n",
       "魔法获取数量    2288007.000  75389.535  966289.236 0.000 0.000     0.000      0.000   \n",
       "魔法消耗数量    2288007.000  47253.994  881122.273 0.000 0.000     0.000      0.000   \n",
       "勇士招募数量    2288007.000    143.610    1781.468 0.000 0.000     0.000      0.000   \n",
       "勇士损失数量    2288007.000    226.782    1738.488 0.000 0.000     0.000      0.000   \n",
       "驯兽师招募数量   2288007.000    128.264    1334.977 0.000 0.000     0.000      0.000   \n",
       "驯兽师损失数量   2288007.000    178.006    1347.096 0.000 0.000     0.000      0.000   \n",
       "勇士伤兵产生数量  2288007.000    135.304    1333.236 0.000 0.000     0.000      0.000   \n",
       "勇士伤兵恢复数量  2288007.000     91.984    1287.586 0.000 0.000     0.000      0.000   \n",
       "驯兽师伤兵产生数量 2288007.000    116.503    1009.972 0.000 0.000     0.000      0.000   \n",
       "驯兽师伤兵恢复数量 2288007.000     84.346     950.375 0.000 0.000     0.000      0.000   \n",
       "通用加速获取数量  2288007.000    282.545    3001.938 0.000 0.000     0.000     53.000   \n",
       "通用加速使用数量  2288007.000    192.031    2619.487 0.000 0.000     0.000      0.000   \n",
       "建筑加速获取数量  2288007.000    205.557    1427.626 0.000 0.000     0.000    232.000   \n",
       "建筑加速使用数量  2288007.000    142.776    1283.584 0.000 0.000     0.000     46.000   \n",
       "科研加速获取数量  2288007.000    132.671    1516.142 0.000 0.000     0.000     50.000   \n",
       "科研加速使用数量  2288007.000     73.653    1339.241 0.000 0.000     0.000      0.000   \n",
       "训练加速获取数量  2288007.000    210.808    1942.369 0.000 0.000    45.000    100.000   \n",
       "训练加速使用数量  2288007.000     65.022    1554.042 0.000 0.000     0.000      0.000   \n",
       "治疗加速获取数量  2288007.000     10.416      49.638 0.000 0.000     0.000      0.000   \n",
       "\n",
       "                     max  \n",
       "字段解释                      \n",
       "木头获取数量    1239962311.000  \n",
       "木头消耗数量     799587506.000  \n",
       "石头获取数量    1214869437.000  \n",
       "石头消耗数量     796237770.000  \n",
       "象牙获取数量     574496104.000  \n",
       "象牙消耗数量     448197157.000  \n",
       "肉获取数量     1470643810.000  \n",
       "肉消耗数量      888953714.000  \n",
       "魔法获取数量     263722820.000  \n",
       "魔法消耗数量     263722891.000  \n",
       "勇士招募数量        874918.000  \n",
       "勇士损失数量        878883.000  \n",
       "驯兽师招募数量       353852.000  \n",
       "驯兽师损失数量       370375.000  \n",
       "勇士伤兵产生数量      803996.000  \n",
       "勇士伤兵恢复数量      803996.000  \n",
       "驯兽师伤兵产生数量     347967.000  \n",
       "驯兽师伤兵恢复数量     347967.000  \n",
       "通用加速获取数量      795484.000  \n",
       "通用加速使用数量      764637.000  \n",
       "建筑加速获取数量      411362.000  \n",
       "建筑加速使用数量      306515.000  \n",
       "科研加速获取数量      377796.000  \n",
       "科研加速使用数量      338437.000  \n",
       "训练加速获取数量      671607.000  \n",
       "训练加速使用数量      529587.000  \n",
       "治疗加速获取数量       14048.000  "
      ]
     },
     "execution_count": 89,
     "metadata": {},
     "output_type": "execute_result"
    }
   ],
   "source": [
    "data.loc[:,A[\"特征\"]].describe().T"
   ]
  },
  {
   "cell_type": "markdown",
   "metadata": {},
   "source": [
    "从分析的结果来看，各项资源的配比数量其实还算合理。假设一款游戏只想服务氪金玩家，那B类资源会很多、大量A类资源的获取渠道也会转向氪金方向，但《野蛮时代》明显没有这样的设计，在游戏早期只有兵种萨满相关的集中资源和技能是需要氪金的，说明游戏依然在致力于为普通玩家提供较好的体验，所以大部分用户应该不是因为新手关太难、剧情无法推进才退游的。然而，各类资源的可获取量其实有很大的差异，基础资源动辄就上百万甚至上亿，可能会让用户获得感严重不足。而从A类资源的分布来看，只有木头和肉这两种最最最基础的资源是分布较为正常的，其他资源都是严重正偏，**说明“留存率低”是原因，“资源数据的异常”是结果**。最有可能的情况就是产品逻辑不顺、获得感不足、美工不足、系统BUG（比如疯狂闪退等等）、或者强烈的捞金感/不高级感让大部分用户在第一天就流失掉了。"
   ]
  },
  {
   "cell_type": "markdown",
   "metadata": {},
   "source": [
    "#### 3.平衡性影响：氪金与战斗优势"
   ]
  },
  {
   "cell_type": "markdown",
   "metadata": {},
   "source": [
    "如果游戏对于新手并非很难上手，那是否是战斗力系统的设置让非氪玩家感觉不太友好呢？过于强大的角色、过于强大的技能和道具都可能影响游戏平衡性，平衡性这个复杂的指标其实可以从很多方面来进行考虑，可惜在现有数据下，我们能够考虑的唯有胜率。我们可以分析氪金用户与不氪金用户的战力差异，来判断氪金对游戏平衡性的影响。"
   ]
  },
  {
   "cell_type": "code",
   "execution_count": 90,
   "metadata": {
    "jupyter": {
     "outputs_hidden": true
    }
   },
   "outputs": [
    {
     "data": {
      "text/plain": [
       "['玩家唯一ID',\n",
       " '玩家注册时间',\n",
       " '木头获取数量',\n",
       " '木头消耗数量',\n",
       " '石头获取数量',\n",
       " '石头消耗数量',\n",
       " '象牙获取数量',\n",
       " '象牙消耗数量',\n",
       " '肉获取数量',\n",
       " '肉消耗数量',\n",
       " '魔法获取数量',\n",
       " '魔法消耗数量',\n",
       " '勇士招募数量',\n",
       " '勇士损失数量',\n",
       " '驯兽师招募数量',\n",
       " '驯兽师损失数量',\n",
       " '萨满招募数量',\n",
       " '萨满损失数量',\n",
       " '勇士伤兵产生数量',\n",
       " '勇士伤兵恢复数量',\n",
       " '驯兽师伤兵产生数量',\n",
       " '驯兽师伤兵恢复数量',\n",
       " '萨满伤兵产生数量',\n",
       " '萨满伤兵恢复数量',\n",
       " '通用加速获取数量',\n",
       " '通用加速使用数量',\n",
       " '建筑加速获取数量',\n",
       " '建筑加速使用数量',\n",
       " '科研加速获取数量',\n",
       " '科研加速使用数量',\n",
       " '训练加速获取数量',\n",
       " '训练加速使用数量',\n",
       " '治疗加速获取数量',\n",
       " '治疗加速使用数量',\n",
       " '建筑：士兵小屋等级',\n",
       " '建筑：治疗小井等级',\n",
       " '建筑：要塞等级',\n",
       " '建筑：据点传送门等级',\n",
       " '建筑：兵营等级',\n",
       " '建筑：治疗之泉等级',\n",
       " '建筑：智慧神庙等级',\n",
       " '建筑：联盟大厅等级',\n",
       " '建筑：仓库等级',\n",
       " '建筑：瞭望塔等级',\n",
       " '建筑：魔法幸运树等级',\n",
       " '建筑：战争大厅等级',\n",
       " '建筑：联盟货车等级',\n",
       " '建筑：占卜台等级',\n",
       " '建筑：祭坛等级',\n",
       " '建筑：冒险传送门等级',\n",
       " '科研：侦查等级',\n",
       " '科研：训练速度等级',\n",
       " '科研：守护者',\n",
       " '科研：巨兽驯兽师',\n",
       " '科研：吟唱者',\n",
       " '科研：勇士攻击',\n",
       " '科研：驯兽师攻击',\n",
       " '科研：萨满攻击',\n",
       " '科研：战斗大师',\n",
       " '科研：高阶巨兽骑兵',\n",
       " '科研：图腾大师',\n",
       " '科研：部队防御',\n",
       " '科研：勇士防御',\n",
       " '科研：驯兽师防御',\n",
       " '科研：萨满防御',\n",
       " '科研：勇士生命',\n",
       " '科研：驯兽师生命',\n",
       " '科研：萨满生命',\n",
       " '科研：狂战士',\n",
       " '科研：龙骑兵',\n",
       " '科研：神谕者',\n",
       " '科研：部队攻击',\n",
       " '科研：建造速度',\n",
       " '科研：资源保护',\n",
       " '科研：部队消耗',\n",
       " '科研：木材生产',\n",
       " '科研：石头生产',\n",
       " '科研：象牙生产',\n",
       " '科研：肉类生产',\n",
       " '科研：木材采集',\n",
       " '科研：石头采集',\n",
       " '科研：象牙采集',\n",
       " '科研：肉类生产',\n",
       " '科研：部队负重',\n",
       " '科研：魔法采集',\n",
       " '科研：魔法生产',\n",
       " '科研：据点耐久',\n",
       " '科研：据点二',\n",
       " '科研：医院容量',\n",
       " '科研：领土采集奖励',\n",
       " '科研：治疗速度',\n",
       " '科研：据点三',\n",
       " '科研：联盟行军速度',\n",
       " '科研：战斗行军速度',\n",
       " '科研：采集行军速度',\n",
       " '科研：据点四',\n",
       " '科研：增援部队容量',\n",
       " '科研：行军大小',\n",
       " '科研：资源帮助容量',\n",
       " 'PVP次数',\n",
       " '主动发起PVP次数',\n",
       " 'PVP胜利次数',\n",
       " 'PVE次数',\n",
       " '主动发起PVE次数',\n",
       " 'PVE胜利次数',\n",
       " '在线时长',\n",
       " '付费金额',\n",
       " '付费次数',\n",
       " '45日付费金额']"
      ]
     },
     "execution_count": 90,
     "metadata": {},
     "output_type": "execute_result"
    }
   ],
   "source": [
    "data.columns.tolist()"
   ]
  },
  {
   "cell_type": "code",
   "execution_count": 91,
   "metadata": {},
   "outputs": [
    {
     "data": {
      "text/plain": [
       "25.193802939260117"
      ]
     },
     "execution_count": 91,
     "metadata": {},
     "output_type": "execute_result"
    }
   ],
   "source": [
    "#7日氪金玩家的人均PVP次数 - 氪金玩家是否热衷于战斗\n",
    "data[data[\"付费金额\"] !=0][\"PVP次数\"].mean()"
   ]
  },
  {
   "cell_type": "code",
   "execution_count": 92,
   "metadata": {},
   "outputs": [
    {
     "data": {
      "text/plain": [
       "count   35755.000\n",
       "mean        0.533\n",
       "std         0.360\n",
       "min         0.000\n",
       "25%         0.200\n",
       "50%         0.600\n",
       "75%         0.865\n",
       "max         1.000\n",
       "dtype: float64"
      ]
     },
     "execution_count": 92,
     "metadata": {},
     "output_type": "execute_result"
    }
   ],
   "source": [
    "#7日氪金玩家PVP胜率分布\n",
    "(data[data[\"付费金额\"] !=0][\"PVP胜利次数\"]/data[data[\"付费金额\"] !=0][\"PVP次数\"]).describe()"
   ]
  },
  {
   "cell_type": "markdown",
   "metadata": {},
   "source": [
    "可以看到，人均PVP胜率是53.27%，对手游付费玩家来说是个可以接受的数字，但并不是特别大的优势。其中count数是少于总付费玩家的人数的，说明有部分玩家的PVP次数为0，为避免除0错误因此剔除了这些玩家。不参与PVP的玩家占比为："
   ]
  },
  {
   "cell_type": "code",
   "execution_count": 93,
   "metadata": {},
   "outputs": [
    {
     "data": {
      "text/plain": [
       "0.1371654721397717"
      ]
     },
     "execution_count": 93,
     "metadata": {},
     "output_type": "execute_result"
    }
   ],
   "source": [
    "1 - 35755/data[data[\"付费金额\"] !=0].shape[0] #13%的付费玩家从不玩PVP"
   ]
  },
  {
   "cell_type": "code",
   "execution_count": 94,
   "metadata": {},
   "outputs": [
    {
     "data": {
      "text/plain": [
       "1.723228497868749"
      ]
     },
     "execution_count": 94,
     "metadata": {},
     "output_type": "execute_result"
    }
   ],
   "source": [
    "#不氪金玩家的人均PVP次数\n",
    "data[data[\"付费金额\"] == 0][\"PVP次数\"].mean()"
   ]
  },
  {
   "cell_type": "code",
   "execution_count": 95,
   "metadata": {},
   "outputs": [
    {
     "data": {
      "text/plain": [
       "count   539947.000\n",
       "mean         0.254\n",
       "std          0.355\n",
       "min          0.000\n",
       "25%          0.000\n",
       "50%          0.000\n",
       "75%          0.500\n",
       "max          1.000\n",
       "dtype: float64"
      ]
     },
     "execution_count": 95,
     "metadata": {},
     "output_type": "execute_result"
    }
   ],
   "source": [
    "#不氪金玩家PVP胜率分布\n",
    "(data[data[\"付费金额\"] == 0][\"PVP胜利次数\"]/data[data[\"付费金额\"] ==0][\"PVP次数\"]).describe()"
   ]
  },
  {
   "cell_type": "markdown",
   "metadata": {},
   "source": [
    "对非付费玩家而言，人均PVP胜率只有25%，并且75%的人的场均胜率不到50%，这个条件对非付费玩家来说的确比较苛刻。同样，不氪金玩家中也有部分玩家的PVP次数为0，即一次也没有参与。来看不氪金玩家中参与PVP的人数占比："
   ]
  },
  {
   "cell_type": "code",
   "execution_count": 96,
   "metadata": {},
   "outputs": [
    {
     "data": {
      "text/plain": [
       "0.7596569522934539"
      ]
     },
     "execution_count": 96,
     "metadata": {},
     "output_type": "execute_result"
    }
   ],
   "source": [
    "1 - 539947/data[data[\"付费金额\"] ==0].shape[0]"
   ]
  },
  {
   "cell_type": "markdown",
   "metadata": {},
   "source": [
    "这个比例奇高，当然，不氪金用户中有许多人可能是已经流失的用户，因此当然不会参与PVP对战。"
   ]
  },
  {
   "cell_type": "code",
   "execution_count": 97,
   "metadata": {},
   "outputs": [
    {
     "data": {
      "text/plain": [
       "count   35755.000\n",
       "mean        0.452\n",
       "std         0.357\n",
       "min         0.000\n",
       "25%         0.000\n",
       "50%         0.500\n",
       "75%         0.783\n",
       "max         1.000\n",
       "dtype: float64"
      ]
     },
     "execution_count": 97,
     "metadata": {},
     "output_type": "execute_result"
    }
   ],
   "source": [
    "#氪金玩家会更好战？不氪玩家更佛系？\n",
    "(data[data[\"付费金额\"] !=0][\"主动发起PVP次数\"]/data[data[\"付费金额\"] !=0][\"PVP次数\"]).describe()"
   ]
  },
  {
   "cell_type": "markdown",
   "metadata": {},
   "source": [
    "对付费玩家而言，平均有45%的PVP对战是由他们主动发起的。"
   ]
  },
  {
   "cell_type": "code",
   "execution_count": 98,
   "metadata": {},
   "outputs": [
    {
     "data": {
      "text/plain": [
       "count   539947.000\n",
       "mean         0.262\n",
       "std          0.365\n",
       "min          0.000\n",
       "25%          0.000\n",
       "50%          0.000\n",
       "75%          0.500\n",
       "max          1.000\n",
       "dtype: float64"
      ]
     },
     "execution_count": 98,
     "metadata": {},
     "output_type": "execute_result"
    }
   ],
   "source": [
    "(data[data[\"付费金额\"] ==0][\"主动发起PVP次数\"]/data[data[\"付费金额\"] ==0][\"PVP次数\"]).describe()"
   ]
  },
  {
   "cell_type": "markdown",
   "metadata": {},
   "source": [
    "不付费玩家则有26%的时候主动发起对战，不过大多数时候75%的人都不会发起对战。"
   ]
  },
  {
   "cell_type": "markdown",
   "metadata": {},
   "source": [
    "如果PVP状况下是付费玩家占绝对优势，那PVE也是相同的情况吗？"
   ]
  },
  {
   "cell_type": "code",
   "execution_count": 99,
   "metadata": {},
   "outputs": [
    {
     "data": {
      "text/plain": [
       "count   37389.000\n",
       "mean        0.885\n",
       "std         0.141\n",
       "min         0.000\n",
       "25%         0.840\n",
       "50%         0.926\n",
       "75%         0.988\n",
       "max         1.000\n",
       "dtype: float64"
      ]
     },
     "execution_count": 99,
     "metadata": {},
     "output_type": "execute_result"
    }
   ],
   "source": [
    "#氪金玩家PVE胜率分布\n",
    "(data[data[\"付费金额\"] !=0][\"PVE胜利次数\"]/data[data[\"付费金额\"] !=0][\"PVE次数\"]).describe()"
   ]
  },
  {
   "cell_type": "code",
   "execution_count": 100,
   "metadata": {},
   "outputs": [
    {
     "data": {
      "text/plain": [
       "count   703148.000\n",
       "mean         0.921\n",
       "std          0.179\n",
       "min          0.000\n",
       "25%          0.965\n",
       "50%          1.000\n",
       "75%          1.000\n",
       "max          1.000\n",
       "dtype: float64"
      ]
     },
     "execution_count": 100,
     "metadata": {},
     "output_type": "execute_result"
    }
   ],
   "source": [
    "#不氪金玩家PVE胜率分布\n",
    "(data[data[\"付费金额\"] ==0][\"PVE胜利次数\"]/data[data[\"付费金额\"] ==0][\"PVE次数\"]).describe()"
   ]
  },
  {
   "cell_type": "markdown",
   "metadata": {},
   "source": [
    "不难发现，不氪金玩家的PVE平均胜率有92%，是高于氪金玩家的品滚胜率88%的，看来环境怪兽都比较弱小，大部分玩家都能够轻松战胜。当PVP上氪金玩家有绝对优势时，不氪金玩家许多会选择在PVE环境中进行战斗，因此我们推断不氪金玩家主动发起PVE战斗的情况会更多："
   ]
  },
  {
   "cell_type": "code",
   "execution_count": 101,
   "metadata": {},
   "outputs": [
    {
     "data": {
      "text/plain": [
       "count   37389.000\n",
       "mean        0.991\n",
       "std         0.067\n",
       "min         0.000\n",
       "25%         1.000\n",
       "50%         1.000\n",
       "75%         1.000\n",
       "max         1.000\n",
       "dtype: float64"
      ]
     },
     "execution_count": 101,
     "metadata": {},
     "output_type": "execute_result"
    }
   ],
   "source": [
    "#在PVE系统中，付费玩家主动发起战斗的概率\n",
    "(data[data[\"付费金额\"] !=0][\"主动发起PVE次数\"]/data[data[\"付费金额\"] !=0][\"PVE次数\"]).describe()"
   ]
  },
  {
   "cell_type": "code",
   "execution_count": 102,
   "metadata": {},
   "outputs": [
    {
     "data": {
      "text/plain": [
       "count   703148.000\n",
       "mean         0.996\n",
       "std          0.056\n",
       "min          0.000\n",
       "25%          1.000\n",
       "50%          1.000\n",
       "75%          1.000\n",
       "max          1.000\n",
       "dtype: float64"
      ]
     },
     "execution_count": 102,
     "metadata": {},
     "output_type": "execute_result"
    }
   ],
   "source": [
    "#在PVE系统中，不付费玩家主动发起战斗的概率\n",
    "(data[data[\"付费金额\"] == 0][\"主动发起PVE次数\"]/data[data[\"付费金额\"] ==0][\"PVE次数\"]).describe()"
   ]
  },
  {
   "cell_type": "markdown",
   "metadata": {},
   "source": [
    "氪金与不氪金玩家主动放弃PVE的可能性都非常高，几乎所有人都是主动发起PVE战斗，这可能说明PVE战斗是发展城市必须的环节（比如收集资源肉类需要猎杀野猪等生物、获取魔法道具需要猎杀龙、哥布林等生物）。从分析的结果来看，氪金并不会对PVE战斗有影响，主要是影响PVP。《野蛮时代》中玩家或许可以夺取其他玩家的领地和城池，因此PVP对战的平衡性对玩家流失有重要的影响。前期留存下来，但后期逐渐流失的非氪金用户有一定的可能是因为PVP胜率太低而离开。"
   ]
  },
  {
   "cell_type": "markdown",
   "metadata": {},
   "source": [
    "#### 4. 正偏带来长尾：谁是异常玩家？"
   ]
  },
  {
   "cell_type": "markdown",
   "metadata": {},
   "source": [
    "在特征高度正偏的情况下，数据中必然含有大量的异常值，这些异常值可能代表着某些特殊的人群，但带入异常值进行建模会严重影响模型的稳定性，导致模型容易过拟合。因此在建模之前，我们需要对异常值进行简单的探索，以确定异常值的处理方法。"
   ]
  },
  {
   "cell_type": "markdown",
   "metadata": {},
   "source": [
    " - 查看业务上的异常值"
   ]
  },
  {
   "cell_type": "markdown",
   "metadata": {},
   "source": [
    "> 从游戏业务角度而言，所有的资源/人物等级/胜利次数/金额等不应该出现负数，因此首先排查负数<br>\n",
    "> 如果存在用户信息，则需要排查年龄不为负，年龄不过高或过低等状况<br>\n",
    "> 查看是否有上线时间较短，但是资源量异常丰富的账号，可能是GM，也可能有人作弊"
   ]
  },
  {
   "cell_type": "code",
   "execution_count": 103,
   "metadata": {},
   "outputs": [
    {
     "data": {
      "text/plain": [
       "Index(['木头获取数量', '木头消耗数量', '石头获取数量', '石头消耗数量', '象牙获取数量', '象牙消耗数量', '肉获取数量',\n",
       "       '肉消耗数量', '魔法获取数量', '魔法消耗数量',\n",
       "       ...\n",
       "       '科研：资源帮助容量', 'PVP次数', '主动发起PVP次数', 'PVP胜利次数', 'PVE次数', '主动发起PVE次数',\n",
       "       'PVE胜利次数', '在线时长', '付费金额', '付费次数'],\n",
       "      dtype='object', name='字段解释', length=106)"
      ]
     },
     "execution_count": 103,
     "metadata": {},
     "output_type": "execute_result"
    }
   ],
   "source": [
    "data.columns[2:-1] #不对ID，注册时间和标签（45日付费金额）计算异常值"
   ]
  },
  {
   "cell_type": "code",
   "execution_count": 104,
   "metadata": {},
   "outputs": [],
   "source": [
    "AbnormalCheck = data.iloc[:,2:-1]"
   ]
  },
  {
   "cell_type": "code",
   "execution_count": 105,
   "metadata": {},
   "outputs": [
    {
     "name": "stdout",
     "output_type": "stream",
     "text": [
      "<class 'pandas.core.frame.DataFrame'>\n",
      "RangeIndex: 2288007 entries, 0 to 2288006\n",
      "Columns: 106 entries, 木头获取数量 to 付费次数\n",
      "dtypes: float64(12), int64(94)\n",
      "memory usage: 1.8 GB\n"
     ]
    }
   ],
   "source": [
    "AbnormalCheck.info() #确认已没有任何object对象"
   ]
  },
  {
   "cell_type": "code",
   "execution_count": 106,
   "metadata": {},
   "outputs": [
    {
     "data": {
      "text/plain": [
       "0"
      ]
     },
     "execution_count": 106,
     "metadata": {},
     "output_type": "execute_result"
    }
   ],
   "source": [
    "(AbnormalCheck < 0).sum().sum() #无小于0的值"
   ]
  },
  {
   "cell_type": "code",
   "execution_count": 107,
   "metadata": {},
   "outputs": [],
   "source": [
    "#通常我们还会检查在线时间很短但却拥有很多资源的账号，可能是作弊账号\n",
    "#但以目前游戏1分钟积累4w资源、3分钟积累十几万资源的状况来看，很难去判断资源出现异常的“阈值”"
   ]
  },
  {
   "cell_type": "code",
   "execution_count": 108,
   "metadata": {},
   "outputs": [
    {
     "data": {
      "text/html": [
       "<div>\n",
       "<style scoped>\n",
       "    .dataframe tbody tr th:only-of-type {\n",
       "        vertical-align: middle;\n",
       "    }\n",
       "\n",
       "    .dataframe tbody tr th {\n",
       "        vertical-align: top;\n",
       "    }\n",
       "\n",
       "    .dataframe thead th {\n",
       "        text-align: right;\n",
       "    }\n",
       "</style>\n",
       "<table border=\"1\" class=\"dataframe\">\n",
       "  <thead>\n",
       "    <tr style=\"text-align: right;\">\n",
       "      <th>字段解释</th>\n",
       "      <th>木头获取数量</th>\n",
       "      <th>木头消耗数量</th>\n",
       "      <th>石头获取数量</th>\n",
       "      <th>石头消耗数量</th>\n",
       "      <th>象牙获取数量</th>\n",
       "      <th>象牙消耗数量</th>\n",
       "      <th>肉获取数量</th>\n",
       "      <th>肉消耗数量</th>\n",
       "      <th>魔法获取数量</th>\n",
       "      <th>魔法消耗数量</th>\n",
       "      <th>...</th>\n",
       "      <th>科研：资源帮助容量</th>\n",
       "      <th>PVP次数</th>\n",
       "      <th>主动发起PVP次数</th>\n",
       "      <th>PVP胜利次数</th>\n",
       "      <th>PVE次数</th>\n",
       "      <th>主动发起PVE次数</th>\n",
       "      <th>PVE胜利次数</th>\n",
       "      <th>在线时长</th>\n",
       "      <th>付费金额</th>\n",
       "      <th>付费次数</th>\n",
       "    </tr>\n",
       "  </thead>\n",
       "  <tbody>\n",
       "    <tr>\n",
       "      <th>0</th>\n",
       "      <td>20125.000</td>\n",
       "      <td>3700.000</td>\n",
       "      <td>0.000</td>\n",
       "      <td>0.000</td>\n",
       "      <td>0.000</td>\n",
       "      <td>0.000</td>\n",
       "      <td>16375.000</td>\n",
       "      <td>2000.000</td>\n",
       "      <td>0.000</td>\n",
       "      <td>0.000</td>\n",
       "      <td>...</td>\n",
       "      <td>0</td>\n",
       "      <td>0</td>\n",
       "      <td>0</td>\n",
       "      <td>0</td>\n",
       "      <td>0</td>\n",
       "      <td>0</td>\n",
       "      <td>0</td>\n",
       "      <td>0.333</td>\n",
       "      <td>0.000</td>\n",
       "      <td>0</td>\n",
       "    </tr>\n",
       "    <tr>\n",
       "      <th>1</th>\n",
       "      <td>0.000</td>\n",
       "      <td>0.000</td>\n",
       "      <td>0.000</td>\n",
       "      <td>0.000</td>\n",
       "      <td>0.000</td>\n",
       "      <td>0.000</td>\n",
       "      <td>0.000</td>\n",
       "      <td>0.000</td>\n",
       "      <td>0.000</td>\n",
       "      <td>0.000</td>\n",
       "      <td>...</td>\n",
       "      <td>0</td>\n",
       "      <td>0</td>\n",
       "      <td>0</td>\n",
       "      <td>0</td>\n",
       "      <td>0</td>\n",
       "      <td>0</td>\n",
       "      <td>0</td>\n",
       "      <td>0.333</td>\n",
       "      <td>0.000</td>\n",
       "      <td>0</td>\n",
       "    </tr>\n",
       "    <tr>\n",
       "      <th>2</th>\n",
       "      <td>0.000</td>\n",
       "      <td>0.000</td>\n",
       "      <td>0.000</td>\n",
       "      <td>0.000</td>\n",
       "      <td>0.000</td>\n",
       "      <td>0.000</td>\n",
       "      <td>0.000</td>\n",
       "      <td>0.000</td>\n",
       "      <td>0.000</td>\n",
       "      <td>0.000</td>\n",
       "      <td>...</td>\n",
       "      <td>0</td>\n",
       "      <td>0</td>\n",
       "      <td>0</td>\n",
       "      <td>0</td>\n",
       "      <td>0</td>\n",
       "      <td>0</td>\n",
       "      <td>0</td>\n",
       "      <td>1.167</td>\n",
       "      <td>0.000</td>\n",
       "      <td>0</td>\n",
       "    </tr>\n",
       "    <tr>\n",
       "      <th>3</th>\n",
       "      <td>0.000</td>\n",
       "      <td>0.000</td>\n",
       "      <td>0.000</td>\n",
       "      <td>0.000</td>\n",
       "      <td>0.000</td>\n",
       "      <td>0.000</td>\n",
       "      <td>0.000</td>\n",
       "      <td>0.000</td>\n",
       "      <td>0.000</td>\n",
       "      <td>0.000</td>\n",
       "      <td>...</td>\n",
       "      <td>0</td>\n",
       "      <td>0</td>\n",
       "      <td>0</td>\n",
       "      <td>0</td>\n",
       "      <td>0</td>\n",
       "      <td>0</td>\n",
       "      <td>0</td>\n",
       "      <td>3.167</td>\n",
       "      <td>0.000</td>\n",
       "      <td>0</td>\n",
       "    </tr>\n",
       "    <tr>\n",
       "      <th>4</th>\n",
       "      <td>0.000</td>\n",
       "      <td>0.000</td>\n",
       "      <td>0.000</td>\n",
       "      <td>0.000</td>\n",
       "      <td>0.000</td>\n",
       "      <td>0.000</td>\n",
       "      <td>0.000</td>\n",
       "      <td>0.000</td>\n",
       "      <td>0.000</td>\n",
       "      <td>0.000</td>\n",
       "      <td>...</td>\n",
       "      <td>0</td>\n",
       "      <td>0</td>\n",
       "      <td>0</td>\n",
       "      <td>0</td>\n",
       "      <td>0</td>\n",
       "      <td>0</td>\n",
       "      <td>0</td>\n",
       "      <td>2.333</td>\n",
       "      <td>0.000</td>\n",
       "      <td>0</td>\n",
       "    </tr>\n",
       "    <tr>\n",
       "      <th>5</th>\n",
       "      <td>0.000</td>\n",
       "      <td>0.000</td>\n",
       "      <td>0.000</td>\n",
       "      <td>0.000</td>\n",
       "      <td>0.000</td>\n",
       "      <td>0.000</td>\n",
       "      <td>0.000</td>\n",
       "      <td>0.000</td>\n",
       "      <td>0.000</td>\n",
       "      <td>0.000</td>\n",
       "      <td>...</td>\n",
       "      <td>0</td>\n",
       "      <td>0</td>\n",
       "      <td>0</td>\n",
       "      <td>0</td>\n",
       "      <td>0</td>\n",
       "      <td>0</td>\n",
       "      <td>0</td>\n",
       "      <td>0.167</td>\n",
       "      <td>0.000</td>\n",
       "      <td>0</td>\n",
       "    </tr>\n",
       "    <tr>\n",
       "      <th>6</th>\n",
       "      <td>0.000</td>\n",
       "      <td>0.000</td>\n",
       "      <td>0.000</td>\n",
       "      <td>0.000</td>\n",
       "      <td>0.000</td>\n",
       "      <td>0.000</td>\n",
       "      <td>0.000</td>\n",
       "      <td>0.000</td>\n",
       "      <td>0.000</td>\n",
       "      <td>0.000</td>\n",
       "      <td>...</td>\n",
       "      <td>0</td>\n",
       "      <td>0</td>\n",
       "      <td>0</td>\n",
       "      <td>0</td>\n",
       "      <td>0</td>\n",
       "      <td>0</td>\n",
       "      <td>0</td>\n",
       "      <td>4.000</td>\n",
       "      <td>0.000</td>\n",
       "      <td>0</td>\n",
       "    </tr>\n",
       "    <tr>\n",
       "      <th>7</th>\n",
       "      <td>0.000</td>\n",
       "      <td>0.000</td>\n",
       "      <td>0.000</td>\n",
       "      <td>0.000</td>\n",
       "      <td>0.000</td>\n",
       "      <td>0.000</td>\n",
       "      <td>0.000</td>\n",
       "      <td>0.000</td>\n",
       "      <td>0.000</td>\n",
       "      <td>0.000</td>\n",
       "      <td>...</td>\n",
       "      <td>0</td>\n",
       "      <td>0</td>\n",
       "      <td>0</td>\n",
       "      <td>0</td>\n",
       "      <td>0</td>\n",
       "      <td>0</td>\n",
       "      <td>0</td>\n",
       "      <td>0.667</td>\n",
       "      <td>0.000</td>\n",
       "      <td>0</td>\n",
       "    </tr>\n",
       "    <tr>\n",
       "      <th>8</th>\n",
       "      <td>0.000</td>\n",
       "      <td>0.000</td>\n",
       "      <td>0.000</td>\n",
       "      <td>0.000</td>\n",
       "      <td>0.000</td>\n",
       "      <td>0.000</td>\n",
       "      <td>0.000</td>\n",
       "      <td>0.000</td>\n",
       "      <td>0.000</td>\n",
       "      <td>0.000</td>\n",
       "      <td>...</td>\n",
       "      <td>0</td>\n",
       "      <td>0</td>\n",
       "      <td>0</td>\n",
       "      <td>0</td>\n",
       "      <td>0</td>\n",
       "      <td>0</td>\n",
       "      <td>0</td>\n",
       "      <td>1.833</td>\n",
       "      <td>0.000</td>\n",
       "      <td>0</td>\n",
       "    </tr>\n",
       "    <tr>\n",
       "      <th>9</th>\n",
       "      <td>0.000</td>\n",
       "      <td>0.000</td>\n",
       "      <td>0.000</td>\n",
       "      <td>0.000</td>\n",
       "      <td>0.000</td>\n",
       "      <td>0.000</td>\n",
       "      <td>0.000</td>\n",
       "      <td>0.000</td>\n",
       "      <td>0.000</td>\n",
       "      <td>0.000</td>\n",
       "      <td>...</td>\n",
       "      <td>0</td>\n",
       "      <td>0</td>\n",
       "      <td>0</td>\n",
       "      <td>0</td>\n",
       "      <td>0</td>\n",
       "      <td>0</td>\n",
       "      <td>0</td>\n",
       "      <td>0.500</td>\n",
       "      <td>0.000</td>\n",
       "      <td>0</td>\n",
       "    </tr>\n",
       "    <tr>\n",
       "      <th>10</th>\n",
       "      <td>0.000</td>\n",
       "      <td>0.000</td>\n",
       "      <td>0.000</td>\n",
       "      <td>0.000</td>\n",
       "      <td>0.000</td>\n",
       "      <td>0.000</td>\n",
       "      <td>0.000</td>\n",
       "      <td>0.000</td>\n",
       "      <td>0.000</td>\n",
       "      <td>0.000</td>\n",
       "      <td>...</td>\n",
       "      <td>0</td>\n",
       "      <td>0</td>\n",
       "      <td>0</td>\n",
       "      <td>0</td>\n",
       "      <td>0</td>\n",
       "      <td>0</td>\n",
       "      <td>0</td>\n",
       "      <td>0.833</td>\n",
       "      <td>0.000</td>\n",
       "      <td>0</td>\n",
       "    </tr>\n",
       "    <tr>\n",
       "      <th>11</th>\n",
       "      <td>0.000</td>\n",
       "      <td>0.000</td>\n",
       "      <td>0.000</td>\n",
       "      <td>0.000</td>\n",
       "      <td>0.000</td>\n",
       "      <td>0.000</td>\n",
       "      <td>0.000</td>\n",
       "      <td>0.000</td>\n",
       "      <td>0.000</td>\n",
       "      <td>0.000</td>\n",
       "      <td>...</td>\n",
       "      <td>0</td>\n",
       "      <td>0</td>\n",
       "      <td>0</td>\n",
       "      <td>0</td>\n",
       "      <td>0</td>\n",
       "      <td>0</td>\n",
       "      <td>0</td>\n",
       "      <td>0.000</td>\n",
       "      <td>0.000</td>\n",
       "      <td>0</td>\n",
       "    </tr>\n",
       "    <tr>\n",
       "      <th>12</th>\n",
       "      <td>0.000</td>\n",
       "      <td>0.000</td>\n",
       "      <td>0.000</td>\n",
       "      <td>0.000</td>\n",
       "      <td>0.000</td>\n",
       "      <td>0.000</td>\n",
       "      <td>0.000</td>\n",
       "      <td>0.000</td>\n",
       "      <td>0.000</td>\n",
       "      <td>0.000</td>\n",
       "      <td>...</td>\n",
       "      <td>0</td>\n",
       "      <td>0</td>\n",
       "      <td>0</td>\n",
       "      <td>0</td>\n",
       "      <td>0</td>\n",
       "      <td>0</td>\n",
       "      <td>0</td>\n",
       "      <td>1.000</td>\n",
       "      <td>0.000</td>\n",
       "      <td>0</td>\n",
       "    </tr>\n",
       "    <tr>\n",
       "      <th>13</th>\n",
       "      <td>0.000</td>\n",
       "      <td>0.000</td>\n",
       "      <td>0.000</td>\n",
       "      <td>0.000</td>\n",
       "      <td>0.000</td>\n",
       "      <td>0.000</td>\n",
       "      <td>0.000</td>\n",
       "      <td>0.000</td>\n",
       "      <td>0.000</td>\n",
       "      <td>0.000</td>\n",
       "      <td>...</td>\n",
       "      <td>0</td>\n",
       "      <td>0</td>\n",
       "      <td>0</td>\n",
       "      <td>0</td>\n",
       "      <td>0</td>\n",
       "      <td>0</td>\n",
       "      <td>0</td>\n",
       "      <td>0.333</td>\n",
       "      <td>0.000</td>\n",
       "      <td>0</td>\n",
       "    </tr>\n",
       "    <tr>\n",
       "      <th>14</th>\n",
       "      <td>0.000</td>\n",
       "      <td>0.000</td>\n",
       "      <td>0.000</td>\n",
       "      <td>0.000</td>\n",
       "      <td>0.000</td>\n",
       "      <td>0.000</td>\n",
       "      <td>0.000</td>\n",
       "      <td>0.000</td>\n",
       "      <td>0.000</td>\n",
       "      <td>0.000</td>\n",
       "      <td>...</td>\n",
       "      <td>0</td>\n",
       "      <td>0</td>\n",
       "      <td>0</td>\n",
       "      <td>0</td>\n",
       "      <td>0</td>\n",
       "      <td>0</td>\n",
       "      <td>0</td>\n",
       "      <td>5.333</td>\n",
       "      <td>0.000</td>\n",
       "      <td>0</td>\n",
       "    </tr>\n",
       "    <tr>\n",
       "      <th>15</th>\n",
       "      <td>0.000</td>\n",
       "      <td>0.000</td>\n",
       "      <td>0.000</td>\n",
       "      <td>0.000</td>\n",
       "      <td>0.000</td>\n",
       "      <td>0.000</td>\n",
       "      <td>0.000</td>\n",
       "      <td>0.000</td>\n",
       "      <td>0.000</td>\n",
       "      <td>0.000</td>\n",
       "      <td>...</td>\n",
       "      <td>0</td>\n",
       "      <td>0</td>\n",
       "      <td>0</td>\n",
       "      <td>0</td>\n",
       "      <td>0</td>\n",
       "      <td>0</td>\n",
       "      <td>0</td>\n",
       "      <td>0.833</td>\n",
       "      <td>0.000</td>\n",
       "      <td>0</td>\n",
       "    </tr>\n",
       "    <tr>\n",
       "      <th>16</th>\n",
       "      <td>0.000</td>\n",
       "      <td>0.000</td>\n",
       "      <td>0.000</td>\n",
       "      <td>0.000</td>\n",
       "      <td>0.000</td>\n",
       "      <td>0.000</td>\n",
       "      <td>0.000</td>\n",
       "      <td>0.000</td>\n",
       "      <td>0.000</td>\n",
       "      <td>0.000</td>\n",
       "      <td>...</td>\n",
       "      <td>0</td>\n",
       "      <td>0</td>\n",
       "      <td>0</td>\n",
       "      <td>0</td>\n",
       "      <td>0</td>\n",
       "      <td>0</td>\n",
       "      <td>0</td>\n",
       "      <td>4.500</td>\n",
       "      <td>0.000</td>\n",
       "      <td>0</td>\n",
       "    </tr>\n",
       "    <tr>\n",
       "      <th>17</th>\n",
       "      <td>0.000</td>\n",
       "      <td>0.000</td>\n",
       "      <td>0.000</td>\n",
       "      <td>0.000</td>\n",
       "      <td>0.000</td>\n",
       "      <td>0.000</td>\n",
       "      <td>0.000</td>\n",
       "      <td>0.000</td>\n",
       "      <td>0.000</td>\n",
       "      <td>0.000</td>\n",
       "      <td>...</td>\n",
       "      <td>0</td>\n",
       "      <td>0</td>\n",
       "      <td>0</td>\n",
       "      <td>0</td>\n",
       "      <td>0</td>\n",
       "      <td>0</td>\n",
       "      <td>0</td>\n",
       "      <td>5.500</td>\n",
       "      <td>0.000</td>\n",
       "      <td>0</td>\n",
       "    </tr>\n",
       "    <tr>\n",
       "      <th>18</th>\n",
       "      <td>0.000</td>\n",
       "      <td>0.000</td>\n",
       "      <td>0.000</td>\n",
       "      <td>0.000</td>\n",
       "      <td>0.000</td>\n",
       "      <td>0.000</td>\n",
       "      <td>0.000</td>\n",
       "      <td>0.000</td>\n",
       "      <td>0.000</td>\n",
       "      <td>0.000</td>\n",
       "      <td>...</td>\n",
       "      <td>0</td>\n",
       "      <td>0</td>\n",
       "      <td>0</td>\n",
       "      <td>0</td>\n",
       "      <td>0</td>\n",
       "      <td>0</td>\n",
       "      <td>0</td>\n",
       "      <td>4.667</td>\n",
       "      <td>0.000</td>\n",
       "      <td>0</td>\n",
       "    </tr>\n",
       "    <tr>\n",
       "      <th>19</th>\n",
       "      <td>0.000</td>\n",
       "      <td>0.000</td>\n",
       "      <td>0.000</td>\n",
       "      <td>0.000</td>\n",
       "      <td>0.000</td>\n",
       "      <td>0.000</td>\n",
       "      <td>0.000</td>\n",
       "      <td>0.000</td>\n",
       "      <td>0.000</td>\n",
       "      <td>0.000</td>\n",
       "      <td>...</td>\n",
       "      <td>0</td>\n",
       "      <td>0</td>\n",
       "      <td>0</td>\n",
       "      <td>0</td>\n",
       "      <td>0</td>\n",
       "      <td>0</td>\n",
       "      <td>0</td>\n",
       "      <td>0.333</td>\n",
       "      <td>0.000</td>\n",
       "      <td>0</td>\n",
       "    </tr>\n",
       "    <tr>\n",
       "      <th>20</th>\n",
       "      <td>0.000</td>\n",
       "      <td>0.000</td>\n",
       "      <td>0.000</td>\n",
       "      <td>0.000</td>\n",
       "      <td>0.000</td>\n",
       "      <td>0.000</td>\n",
       "      <td>0.000</td>\n",
       "      <td>0.000</td>\n",
       "      <td>0.000</td>\n",
       "      <td>0.000</td>\n",
       "      <td>...</td>\n",
       "      <td>0</td>\n",
       "      <td>0</td>\n",
       "      <td>0</td>\n",
       "      <td>0</td>\n",
       "      <td>0</td>\n",
       "      <td>0</td>\n",
       "      <td>0</td>\n",
       "      <td>1.500</td>\n",
       "      <td>0.000</td>\n",
       "      <td>0</td>\n",
       "    </tr>\n",
       "    <tr>\n",
       "      <th>21</th>\n",
       "      <td>0.000</td>\n",
       "      <td>0.000</td>\n",
       "      <td>0.000</td>\n",
       "      <td>0.000</td>\n",
       "      <td>0.000</td>\n",
       "      <td>0.000</td>\n",
       "      <td>0.000</td>\n",
       "      <td>0.000</td>\n",
       "      <td>0.000</td>\n",
       "      <td>0.000</td>\n",
       "      <td>...</td>\n",
       "      <td>0</td>\n",
       "      <td>0</td>\n",
       "      <td>0</td>\n",
       "      <td>0</td>\n",
       "      <td>0</td>\n",
       "      <td>0</td>\n",
       "      <td>0</td>\n",
       "      <td>0.667</td>\n",
       "      <td>0.000</td>\n",
       "      <td>0</td>\n",
       "    </tr>\n",
       "    <tr>\n",
       "      <th>22</th>\n",
       "      <td>0.000</td>\n",
       "      <td>0.000</td>\n",
       "      <td>0.000</td>\n",
       "      <td>0.000</td>\n",
       "      <td>0.000</td>\n",
       "      <td>0.000</td>\n",
       "      <td>0.000</td>\n",
       "      <td>0.000</td>\n",
       "      <td>0.000</td>\n",
       "      <td>0.000</td>\n",
       "      <td>...</td>\n",
       "      <td>0</td>\n",
       "      <td>0</td>\n",
       "      <td>0</td>\n",
       "      <td>0</td>\n",
       "      <td>0</td>\n",
       "      <td>0</td>\n",
       "      <td>0</td>\n",
       "      <td>0.333</td>\n",
       "      <td>0.000</td>\n",
       "      <td>0</td>\n",
       "    </tr>\n",
       "    <tr>\n",
       "      <th>23</th>\n",
       "      <td>0.000</td>\n",
       "      <td>0.000</td>\n",
       "      <td>0.000</td>\n",
       "      <td>0.000</td>\n",
       "      <td>0.000</td>\n",
       "      <td>0.000</td>\n",
       "      <td>0.000</td>\n",
       "      <td>0.000</td>\n",
       "      <td>0.000</td>\n",
       "      <td>0.000</td>\n",
       "      <td>...</td>\n",
       "      <td>0</td>\n",
       "      <td>0</td>\n",
       "      <td>0</td>\n",
       "      <td>0</td>\n",
       "      <td>0</td>\n",
       "      <td>0</td>\n",
       "      <td>0</td>\n",
       "      <td>10.333</td>\n",
       "      <td>0.000</td>\n",
       "      <td>0</td>\n",
       "    </tr>\n",
       "    <tr>\n",
       "      <th>24</th>\n",
       "      <td>0.000</td>\n",
       "      <td>0.000</td>\n",
       "      <td>0.000</td>\n",
       "      <td>0.000</td>\n",
       "      <td>0.000</td>\n",
       "      <td>0.000</td>\n",
       "      <td>0.000</td>\n",
       "      <td>0.000</td>\n",
       "      <td>0.000</td>\n",
       "      <td>0.000</td>\n",
       "      <td>...</td>\n",
       "      <td>0</td>\n",
       "      <td>0</td>\n",
       "      <td>0</td>\n",
       "      <td>0</td>\n",
       "      <td>0</td>\n",
       "      <td>0</td>\n",
       "      <td>0</td>\n",
       "      <td>0.000</td>\n",
       "      <td>0.000</td>\n",
       "      <td>0</td>\n",
       "    </tr>\n",
       "    <tr>\n",
       "      <th>26</th>\n",
       "      <td>0.000</td>\n",
       "      <td>0.000</td>\n",
       "      <td>0.000</td>\n",
       "      <td>0.000</td>\n",
       "      <td>0.000</td>\n",
       "      <td>0.000</td>\n",
       "      <td>0.000</td>\n",
       "      <td>0.000</td>\n",
       "      <td>0.000</td>\n",
       "      <td>0.000</td>\n",
       "      <td>...</td>\n",
       "      <td>0</td>\n",
       "      <td>0</td>\n",
       "      <td>0</td>\n",
       "      <td>0</td>\n",
       "      <td>0</td>\n",
       "      <td>0</td>\n",
       "      <td>0</td>\n",
       "      <td>1.833</td>\n",
       "      <td>0.000</td>\n",
       "      <td>0</td>\n",
       "    </tr>\n",
       "    <tr>\n",
       "      <th>27</th>\n",
       "      <td>0.000</td>\n",
       "      <td>0.000</td>\n",
       "      <td>0.000</td>\n",
       "      <td>0.000</td>\n",
       "      <td>0.000</td>\n",
       "      <td>0.000</td>\n",
       "      <td>0.000</td>\n",
       "      <td>0.000</td>\n",
       "      <td>0.000</td>\n",
       "      <td>0.000</td>\n",
       "      <td>...</td>\n",
       "      <td>0</td>\n",
       "      <td>0</td>\n",
       "      <td>0</td>\n",
       "      <td>0</td>\n",
       "      <td>0</td>\n",
       "      <td>0</td>\n",
       "      <td>0</td>\n",
       "      <td>3.667</td>\n",
       "      <td>0.000</td>\n",
       "      <td>0</td>\n",
       "    </tr>\n",
       "    <tr>\n",
       "      <th>28</th>\n",
       "      <td>0.000</td>\n",
       "      <td>0.000</td>\n",
       "      <td>0.000</td>\n",
       "      <td>0.000</td>\n",
       "      <td>0.000</td>\n",
       "      <td>0.000</td>\n",
       "      <td>0.000</td>\n",
       "      <td>0.000</td>\n",
       "      <td>0.000</td>\n",
       "      <td>0.000</td>\n",
       "      <td>...</td>\n",
       "      <td>0</td>\n",
       "      <td>0</td>\n",
       "      <td>0</td>\n",
       "      <td>0</td>\n",
       "      <td>0</td>\n",
       "      <td>0</td>\n",
       "      <td>0</td>\n",
       "      <td>3.500</td>\n",
       "      <td>0.000</td>\n",
       "      <td>0</td>\n",
       "    </tr>\n",
       "    <tr>\n",
       "      <th>29</th>\n",
       "      <td>0.000</td>\n",
       "      <td>0.000</td>\n",
       "      <td>0.000</td>\n",
       "      <td>0.000</td>\n",
       "      <td>0.000</td>\n",
       "      <td>0.000</td>\n",
       "      <td>0.000</td>\n",
       "      <td>0.000</td>\n",
       "      <td>0.000</td>\n",
       "      <td>0.000</td>\n",
       "      <td>...</td>\n",
       "      <td>0</td>\n",
       "      <td>0</td>\n",
       "      <td>0</td>\n",
       "      <td>0</td>\n",
       "      <td>0</td>\n",
       "      <td>0</td>\n",
       "      <td>0</td>\n",
       "      <td>24.167</td>\n",
       "      <td>0.000</td>\n",
       "      <td>0</td>\n",
       "    </tr>\n",
       "    <tr>\n",
       "      <th>30</th>\n",
       "      <td>0.000</td>\n",
       "      <td>0.000</td>\n",
       "      <td>0.000</td>\n",
       "      <td>0.000</td>\n",
       "      <td>0.000</td>\n",
       "      <td>0.000</td>\n",
       "      <td>0.000</td>\n",
       "      <td>0.000</td>\n",
       "      <td>0.000</td>\n",
       "      <td>0.000</td>\n",
       "      <td>...</td>\n",
       "      <td>0</td>\n",
       "      <td>0</td>\n",
       "      <td>0</td>\n",
       "      <td>0</td>\n",
       "      <td>0</td>\n",
       "      <td>0</td>\n",
       "      <td>0</td>\n",
       "      <td>2.500</td>\n",
       "      <td>0.000</td>\n",
       "      <td>0</td>\n",
       "    </tr>\n",
       "    <tr>\n",
       "      <th>...</th>\n",
       "      <td>...</td>\n",
       "      <td>...</td>\n",
       "      <td>...</td>\n",
       "      <td>...</td>\n",
       "      <td>...</td>\n",
       "      <td>...</td>\n",
       "      <td>...</td>\n",
       "      <td>...</td>\n",
       "      <td>...</td>\n",
       "      <td>...</td>\n",
       "      <td>...</td>\n",
       "      <td>...</td>\n",
       "      <td>...</td>\n",
       "      <td>...</td>\n",
       "      <td>...</td>\n",
       "      <td>...</td>\n",
       "      <td>...</td>\n",
       "      <td>...</td>\n",
       "      <td>...</td>\n",
       "      <td>...</td>\n",
       "      <td>...</td>\n",
       "    </tr>\n",
       "    <tr>\n",
       "      <th>2287976</th>\n",
       "      <td>247365.000</td>\n",
       "      <td>148707.000</td>\n",
       "      <td>0.000</td>\n",
       "      <td>0.000</td>\n",
       "      <td>9000.000</td>\n",
       "      <td>0.000</td>\n",
       "      <td>401031.000</td>\n",
       "      <td>206242.000</td>\n",
       "      <td>0.000</td>\n",
       "      <td>0.000</td>\n",
       "      <td>...</td>\n",
       "      <td>0</td>\n",
       "      <td>0</td>\n",
       "      <td>0</td>\n",
       "      <td>0</td>\n",
       "      <td>6</td>\n",
       "      <td>6</td>\n",
       "      <td>6</td>\n",
       "      <td>6.500</td>\n",
       "      <td>0.000</td>\n",
       "      <td>0</td>\n",
       "    </tr>\n",
       "    <tr>\n",
       "      <th>2287977</th>\n",
       "      <td>360670.000</td>\n",
       "      <td>198729.000</td>\n",
       "      <td>0.000</td>\n",
       "      <td>0.000</td>\n",
       "      <td>0.000</td>\n",
       "      <td>0.000</td>\n",
       "      <td>237400.000</td>\n",
       "      <td>115773.000</td>\n",
       "      <td>32447.000</td>\n",
       "      <td>24831.000</td>\n",
       "      <td>...</td>\n",
       "      <td>0</td>\n",
       "      <td>2</td>\n",
       "      <td>0</td>\n",
       "      <td>1</td>\n",
       "      <td>3</td>\n",
       "      <td>3</td>\n",
       "      <td>3</td>\n",
       "      <td>6.167</td>\n",
       "      <td>0.000</td>\n",
       "      <td>0</td>\n",
       "    </tr>\n",
       "    <tr>\n",
       "      <th>2287978</th>\n",
       "      <td>49862.000</td>\n",
       "      <td>18240.000</td>\n",
       "      <td>0.000</td>\n",
       "      <td>0.000</td>\n",
       "      <td>0.000</td>\n",
       "      <td>0.000</td>\n",
       "      <td>50023.000</td>\n",
       "      <td>12480.000</td>\n",
       "      <td>0.000</td>\n",
       "      <td>0.000</td>\n",
       "      <td>...</td>\n",
       "      <td>0</td>\n",
       "      <td>0</td>\n",
       "      <td>0</td>\n",
       "      <td>0</td>\n",
       "      <td>1</td>\n",
       "      <td>1</td>\n",
       "      <td>1</td>\n",
       "      <td>1.833</td>\n",
       "      <td>0.000</td>\n",
       "      <td>0</td>\n",
       "    </tr>\n",
       "    <tr>\n",
       "      <th>2287979</th>\n",
       "      <td>40101.000</td>\n",
       "      <td>9930.000</td>\n",
       "      <td>0.000</td>\n",
       "      <td>0.000</td>\n",
       "      <td>0.000</td>\n",
       "      <td>0.000</td>\n",
       "      <td>42305.000</td>\n",
       "      <td>7145.000</td>\n",
       "      <td>0.000</td>\n",
       "      <td>0.000</td>\n",
       "      <td>...</td>\n",
       "      <td>0</td>\n",
       "      <td>0</td>\n",
       "      <td>0</td>\n",
       "      <td>0</td>\n",
       "      <td>1</td>\n",
       "      <td>1</td>\n",
       "      <td>1</td>\n",
       "      <td>1.167</td>\n",
       "      <td>0.000</td>\n",
       "      <td>0</td>\n",
       "    </tr>\n",
       "    <tr>\n",
       "      <th>2287980</th>\n",
       "      <td>15500.000</td>\n",
       "      <td>3700.000</td>\n",
       "      <td>0.000</td>\n",
       "      <td>0.000</td>\n",
       "      <td>0.000</td>\n",
       "      <td>0.000</td>\n",
       "      <td>13000.000</td>\n",
       "      <td>2000.000</td>\n",
       "      <td>0.000</td>\n",
       "      <td>0.000</td>\n",
       "      <td>...</td>\n",
       "      <td>0</td>\n",
       "      <td>0</td>\n",
       "      <td>0</td>\n",
       "      <td>0</td>\n",
       "      <td>0</td>\n",
       "      <td>0</td>\n",
       "      <td>0</td>\n",
       "      <td>0.500</td>\n",
       "      <td>0.000</td>\n",
       "      <td>0</td>\n",
       "    </tr>\n",
       "    <tr>\n",
       "      <th>2287981</th>\n",
       "      <td>10000.000</td>\n",
       "      <td>1600.000</td>\n",
       "      <td>0.000</td>\n",
       "      <td>0.000</td>\n",
       "      <td>0.000</td>\n",
       "      <td>0.000</td>\n",
       "      <td>10000.000</td>\n",
       "      <td>900.000</td>\n",
       "      <td>0.000</td>\n",
       "      <td>0.000</td>\n",
       "      <td>...</td>\n",
       "      <td>0</td>\n",
       "      <td>0</td>\n",
       "      <td>0</td>\n",
       "      <td>0</td>\n",
       "      <td>0</td>\n",
       "      <td>0</td>\n",
       "      <td>0</td>\n",
       "      <td>0.333</td>\n",
       "      <td>0.000</td>\n",
       "      <td>0</td>\n",
       "    </tr>\n",
       "    <tr>\n",
       "      <th>2287982</th>\n",
       "      <td>25625.000</td>\n",
       "      <td>4700.000</td>\n",
       "      <td>0.000</td>\n",
       "      <td>0.000</td>\n",
       "      <td>0.000</td>\n",
       "      <td>0.000</td>\n",
       "      <td>36475.000</td>\n",
       "      <td>2500.000</td>\n",
       "      <td>0.000</td>\n",
       "      <td>0.000</td>\n",
       "      <td>...</td>\n",
       "      <td>0</td>\n",
       "      <td>0</td>\n",
       "      <td>0</td>\n",
       "      <td>0</td>\n",
       "      <td>1</td>\n",
       "      <td>1</td>\n",
       "      <td>1</td>\n",
       "      <td>1.167</td>\n",
       "      <td>0.000</td>\n",
       "      <td>0</td>\n",
       "    </tr>\n",
       "    <tr>\n",
       "      <th>2287983</th>\n",
       "      <td>417193.000</td>\n",
       "      <td>148714.000</td>\n",
       "      <td>200000.000</td>\n",
       "      <td>0.000</td>\n",
       "      <td>203000.000</td>\n",
       "      <td>0.000</td>\n",
       "      <td>820102.000</td>\n",
       "      <td>101416.000</td>\n",
       "      <td>60000.000</td>\n",
       "      <td>0.000</td>\n",
       "      <td>...</td>\n",
       "      <td>0</td>\n",
       "      <td>0</td>\n",
       "      <td>0</td>\n",
       "      <td>0</td>\n",
       "      <td>2</td>\n",
       "      <td>2</td>\n",
       "      <td>2</td>\n",
       "      <td>3.333</td>\n",
       "      <td>0.000</td>\n",
       "      <td>0</td>\n",
       "    </tr>\n",
       "    <tr>\n",
       "      <th>2287984</th>\n",
       "      <td>3306382.000</td>\n",
       "      <td>2491920.000</td>\n",
       "      <td>1000000.000</td>\n",
       "      <td>0.000</td>\n",
       "      <td>509000.000</td>\n",
       "      <td>0.000</td>\n",
       "      <td>6434135.000</td>\n",
       "      <td>3854651.000</td>\n",
       "      <td>72642.000</td>\n",
       "      <td>24198.000</td>\n",
       "      <td>...</td>\n",
       "      <td>0</td>\n",
       "      <td>5</td>\n",
       "      <td>2</td>\n",
       "      <td>4</td>\n",
       "      <td>10</td>\n",
       "      <td>10</td>\n",
       "      <td>7</td>\n",
       "      <td>20.333</td>\n",
       "      <td>1.980</td>\n",
       "      <td>2</td>\n",
       "    </tr>\n",
       "    <tr>\n",
       "      <th>2287985</th>\n",
       "      <td>412105.000</td>\n",
       "      <td>334639.000</td>\n",
       "      <td>0.000</td>\n",
       "      <td>0.000</td>\n",
       "      <td>0.000</td>\n",
       "      <td>0.000</td>\n",
       "      <td>362829.000</td>\n",
       "      <td>283117.000</td>\n",
       "      <td>28276.000</td>\n",
       "      <td>27087.000</td>\n",
       "      <td>...</td>\n",
       "      <td>0</td>\n",
       "      <td>6</td>\n",
       "      <td>0</td>\n",
       "      <td>0</td>\n",
       "      <td>2</td>\n",
       "      <td>2</td>\n",
       "      <td>2</td>\n",
       "      <td>10.333</td>\n",
       "      <td>0.000</td>\n",
       "      <td>0</td>\n",
       "    </tr>\n",
       "    <tr>\n",
       "      <th>2287986</th>\n",
       "      <td>497560.000</td>\n",
       "      <td>407662.000</td>\n",
       "      <td>0.000</td>\n",
       "      <td>0.000</td>\n",
       "      <td>0.000</td>\n",
       "      <td>0.000</td>\n",
       "      <td>211448.000</td>\n",
       "      <td>186140.000</td>\n",
       "      <td>204550.000</td>\n",
       "      <td>0.000</td>\n",
       "      <td>...</td>\n",
       "      <td>0</td>\n",
       "      <td>0</td>\n",
       "      <td>0</td>\n",
       "      <td>0</td>\n",
       "      <td>0</td>\n",
       "      <td>0</td>\n",
       "      <td>0</td>\n",
       "      <td>6.500</td>\n",
       "      <td>0.000</td>\n",
       "      <td>0</td>\n",
       "    </tr>\n",
       "    <tr>\n",
       "      <th>2287987</th>\n",
       "      <td>110194.000</td>\n",
       "      <td>40982.000</td>\n",
       "      <td>0.000</td>\n",
       "      <td>0.000</td>\n",
       "      <td>0.000</td>\n",
       "      <td>0.000</td>\n",
       "      <td>146245.000</td>\n",
       "      <td>36041.000</td>\n",
       "      <td>1898.000</td>\n",
       "      <td>1898.000</td>\n",
       "      <td>...</td>\n",
       "      <td>0</td>\n",
       "      <td>6</td>\n",
       "      <td>3</td>\n",
       "      <td>2</td>\n",
       "      <td>1</td>\n",
       "      <td>1</td>\n",
       "      <td>1</td>\n",
       "      <td>4.167</td>\n",
       "      <td>0.000</td>\n",
       "      <td>0</td>\n",
       "    </tr>\n",
       "    <tr>\n",
       "      <th>2287988</th>\n",
       "      <td>10000.000</td>\n",
       "      <td>0.000</td>\n",
       "      <td>0.000</td>\n",
       "      <td>0.000</td>\n",
       "      <td>0.000</td>\n",
       "      <td>0.000</td>\n",
       "      <td>10000.000</td>\n",
       "      <td>0.000</td>\n",
       "      <td>0.000</td>\n",
       "      <td>0.000</td>\n",
       "      <td>...</td>\n",
       "      <td>0</td>\n",
       "      <td>0</td>\n",
       "      <td>0</td>\n",
       "      <td>0</td>\n",
       "      <td>0</td>\n",
       "      <td>0</td>\n",
       "      <td>0</td>\n",
       "      <td>0.000</td>\n",
       "      <td>0.000</td>\n",
       "      <td>0</td>\n",
       "    </tr>\n",
       "    <tr>\n",
       "      <th>2287989</th>\n",
       "      <td>422616.000</td>\n",
       "      <td>344190.000</td>\n",
       "      <td>0.000</td>\n",
       "      <td>0.000</td>\n",
       "      <td>0.000</td>\n",
       "      <td>0.000</td>\n",
       "      <td>879462.000</td>\n",
       "      <td>492668.000</td>\n",
       "      <td>167375.000</td>\n",
       "      <td>0.000</td>\n",
       "      <td>...</td>\n",
       "      <td>0</td>\n",
       "      <td>0</td>\n",
       "      <td>0</td>\n",
       "      <td>0</td>\n",
       "      <td>0</td>\n",
       "      <td>0</td>\n",
       "      <td>0</td>\n",
       "      <td>9.667</td>\n",
       "      <td>0.000</td>\n",
       "      <td>0</td>\n",
       "    </tr>\n",
       "    <tr>\n",
       "      <th>2287990</th>\n",
       "      <td>328459.000</td>\n",
       "      <td>209868.000</td>\n",
       "      <td>0.000</td>\n",
       "      <td>0.000</td>\n",
       "      <td>3000.000</td>\n",
       "      <td>0.000</td>\n",
       "      <td>296805.000</td>\n",
       "      <td>147824.000</td>\n",
       "      <td>0.000</td>\n",
       "      <td>0.000</td>\n",
       "      <td>...</td>\n",
       "      <td>0</td>\n",
       "      <td>7</td>\n",
       "      <td>2</td>\n",
       "      <td>2</td>\n",
       "      <td>4</td>\n",
       "      <td>4</td>\n",
       "      <td>2</td>\n",
       "      <td>7.500</td>\n",
       "      <td>0.000</td>\n",
       "      <td>0</td>\n",
       "    </tr>\n",
       "    <tr>\n",
       "      <th>2287991</th>\n",
       "      <td>513885.000</td>\n",
       "      <td>382549.000</td>\n",
       "      <td>0.000</td>\n",
       "      <td>0.000</td>\n",
       "      <td>6000.000</td>\n",
       "      <td>0.000</td>\n",
       "      <td>427446.000</td>\n",
       "      <td>304766.000</td>\n",
       "      <td>0.000</td>\n",
       "      <td>0.000</td>\n",
       "      <td>...</td>\n",
       "      <td>0</td>\n",
       "      <td>0</td>\n",
       "      <td>0</td>\n",
       "      <td>0</td>\n",
       "      <td>7</td>\n",
       "      <td>7</td>\n",
       "      <td>6</td>\n",
       "      <td>9.833</td>\n",
       "      <td>0.000</td>\n",
       "      <td>0</td>\n",
       "    </tr>\n",
       "    <tr>\n",
       "      <th>2287992</th>\n",
       "      <td>14600.000</td>\n",
       "      <td>2100.000</td>\n",
       "      <td>0.000</td>\n",
       "      <td>0.000</td>\n",
       "      <td>0.000</td>\n",
       "      <td>0.000</td>\n",
       "      <td>12000.000</td>\n",
       "      <td>1100.000</td>\n",
       "      <td>0.000</td>\n",
       "      <td>0.000</td>\n",
       "      <td>...</td>\n",
       "      <td>0</td>\n",
       "      <td>0</td>\n",
       "      <td>0</td>\n",
       "      <td>0</td>\n",
       "      <td>1</td>\n",
       "      <td>1</td>\n",
       "      <td>1</td>\n",
       "      <td>0.500</td>\n",
       "      <td>0.000</td>\n",
       "      <td>0</td>\n",
       "    </tr>\n",
       "    <tr>\n",
       "      <th>2287993</th>\n",
       "      <td>190314.000</td>\n",
       "      <td>114273.000</td>\n",
       "      <td>0.000</td>\n",
       "      <td>0.000</td>\n",
       "      <td>0.000</td>\n",
       "      <td>0.000</td>\n",
       "      <td>140362.000</td>\n",
       "      <td>78286.000</td>\n",
       "      <td>0.000</td>\n",
       "      <td>0.000</td>\n",
       "      <td>...</td>\n",
       "      <td>0</td>\n",
       "      <td>3</td>\n",
       "      <td>3</td>\n",
       "      <td>0</td>\n",
       "      <td>2</td>\n",
       "      <td>2</td>\n",
       "      <td>2</td>\n",
       "      <td>6.333</td>\n",
       "      <td>0.000</td>\n",
       "      <td>0</td>\n",
       "    </tr>\n",
       "    <tr>\n",
       "      <th>2287995</th>\n",
       "      <td>302161.000</td>\n",
       "      <td>93379.000</td>\n",
       "      <td>200000.000</td>\n",
       "      <td>0.000</td>\n",
       "      <td>200000.000</td>\n",
       "      <td>0.000</td>\n",
       "      <td>662251.000</td>\n",
       "      <td>42021.000</td>\n",
       "      <td>60000.000</td>\n",
       "      <td>0.000</td>\n",
       "      <td>...</td>\n",
       "      <td>0</td>\n",
       "      <td>0</td>\n",
       "      <td>0</td>\n",
       "      <td>0</td>\n",
       "      <td>0</td>\n",
       "      <td>0</td>\n",
       "      <td>0</td>\n",
       "      <td>1.333</td>\n",
       "      <td>0.000</td>\n",
       "      <td>0</td>\n",
       "    </tr>\n",
       "    <tr>\n",
       "      <th>2287996</th>\n",
       "      <td>167783.000</td>\n",
       "      <td>79367.000</td>\n",
       "      <td>0.000</td>\n",
       "      <td>0.000</td>\n",
       "      <td>0.000</td>\n",
       "      <td>0.000</td>\n",
       "      <td>352834.000</td>\n",
       "      <td>50751.000</td>\n",
       "      <td>0.000</td>\n",
       "      <td>0.000</td>\n",
       "      <td>...</td>\n",
       "      <td>0</td>\n",
       "      <td>3</td>\n",
       "      <td>1</td>\n",
       "      <td>0</td>\n",
       "      <td>1</td>\n",
       "      <td>1</td>\n",
       "      <td>1</td>\n",
       "      <td>6.667</td>\n",
       "      <td>0.000</td>\n",
       "      <td>0</td>\n",
       "    </tr>\n",
       "    <tr>\n",
       "      <th>2287997</th>\n",
       "      <td>462603.000</td>\n",
       "      <td>313148.000</td>\n",
       "      <td>0.000</td>\n",
       "      <td>0.000</td>\n",
       "      <td>0.000</td>\n",
       "      <td>0.000</td>\n",
       "      <td>391466.000</td>\n",
       "      <td>211257.000</td>\n",
       "      <td>179325.000</td>\n",
       "      <td>0.000</td>\n",
       "      <td>...</td>\n",
       "      <td>0</td>\n",
       "      <td>0</td>\n",
       "      <td>0</td>\n",
       "      <td>0</td>\n",
       "      <td>0</td>\n",
       "      <td>0</td>\n",
       "      <td>0</td>\n",
       "      <td>7.000</td>\n",
       "      <td>0.000</td>\n",
       "      <td>0</td>\n",
       "    </tr>\n",
       "    <tr>\n",
       "      <th>2287998</th>\n",
       "      <td>127342.000</td>\n",
       "      <td>88717.000</td>\n",
       "      <td>0.000</td>\n",
       "      <td>0.000</td>\n",
       "      <td>0.000</td>\n",
       "      <td>0.000</td>\n",
       "      <td>130954.000</td>\n",
       "      <td>50290.000</td>\n",
       "      <td>0.000</td>\n",
       "      <td>0.000</td>\n",
       "      <td>...</td>\n",
       "      <td>0</td>\n",
       "      <td>0</td>\n",
       "      <td>0</td>\n",
       "      <td>0</td>\n",
       "      <td>2</td>\n",
       "      <td>2</td>\n",
       "      <td>2</td>\n",
       "      <td>3.833</td>\n",
       "      <td>0.000</td>\n",
       "      <td>0</td>\n",
       "    </tr>\n",
       "    <tr>\n",
       "      <th>2287999</th>\n",
       "      <td>261018.000</td>\n",
       "      <td>192018.000</td>\n",
       "      <td>0.000</td>\n",
       "      <td>0.000</td>\n",
       "      <td>0.000</td>\n",
       "      <td>0.000</td>\n",
       "      <td>216264.000</td>\n",
       "      <td>147264.000</td>\n",
       "      <td>14164.000</td>\n",
       "      <td>14164.000</td>\n",
       "      <td>...</td>\n",
       "      <td>0</td>\n",
       "      <td>5</td>\n",
       "      <td>4</td>\n",
       "      <td>1</td>\n",
       "      <td>4</td>\n",
       "      <td>4</td>\n",
       "      <td>4</td>\n",
       "      <td>9.833</td>\n",
       "      <td>0.000</td>\n",
       "      <td>0</td>\n",
       "    </tr>\n",
       "    <tr>\n",
       "      <th>2288000</th>\n",
       "      <td>15500.000</td>\n",
       "      <td>3700.000</td>\n",
       "      <td>0.000</td>\n",
       "      <td>0.000</td>\n",
       "      <td>0.000</td>\n",
       "      <td>0.000</td>\n",
       "      <td>13000.000</td>\n",
       "      <td>2000.000</td>\n",
       "      <td>0.000</td>\n",
       "      <td>0.000</td>\n",
       "      <td>...</td>\n",
       "      <td>0</td>\n",
       "      <td>0</td>\n",
       "      <td>0</td>\n",
       "      <td>0</td>\n",
       "      <td>0</td>\n",
       "      <td>0</td>\n",
       "      <td>0</td>\n",
       "      <td>0.500</td>\n",
       "      <td>0.000</td>\n",
       "      <td>0</td>\n",
       "    </tr>\n",
       "    <tr>\n",
       "      <th>2288001</th>\n",
       "      <td>70794.000</td>\n",
       "      <td>34239.000</td>\n",
       "      <td>0.000</td>\n",
       "      <td>0.000</td>\n",
       "      <td>0.000</td>\n",
       "      <td>0.000</td>\n",
       "      <td>78125.000</td>\n",
       "      <td>19548.000</td>\n",
       "      <td>0.000</td>\n",
       "      <td>0.000</td>\n",
       "      <td>...</td>\n",
       "      <td>0</td>\n",
       "      <td>0</td>\n",
       "      <td>0</td>\n",
       "      <td>0</td>\n",
       "      <td>1</td>\n",
       "      <td>1</td>\n",
       "      <td>1</td>\n",
       "      <td>1.833</td>\n",
       "      <td>0.000</td>\n",
       "      <td>0</td>\n",
       "    </tr>\n",
       "    <tr>\n",
       "      <th>2288002</th>\n",
       "      <td>15500.000</td>\n",
       "      <td>3700.000</td>\n",
       "      <td>0.000</td>\n",
       "      <td>0.000</td>\n",
       "      <td>0.000</td>\n",
       "      <td>0.000</td>\n",
       "      <td>13000.000</td>\n",
       "      <td>2000.000</td>\n",
       "      <td>0.000</td>\n",
       "      <td>0.000</td>\n",
       "      <td>...</td>\n",
       "      <td>0</td>\n",
       "      <td>0</td>\n",
       "      <td>0</td>\n",
       "      <td>0</td>\n",
       "      <td>0</td>\n",
       "      <td>0</td>\n",
       "      <td>0</td>\n",
       "      <td>0.500</td>\n",
       "      <td>0.000</td>\n",
       "      <td>0</td>\n",
       "    </tr>\n",
       "    <tr>\n",
       "      <th>2288003</th>\n",
       "      <td>10000.000</td>\n",
       "      <td>0.000</td>\n",
       "      <td>0.000</td>\n",
       "      <td>0.000</td>\n",
       "      <td>0.000</td>\n",
       "      <td>0.000</td>\n",
       "      <td>10000.000</td>\n",
       "      <td>0.000</td>\n",
       "      <td>0.000</td>\n",
       "      <td>0.000</td>\n",
       "      <td>...</td>\n",
       "      <td>0</td>\n",
       "      <td>0</td>\n",
       "      <td>0</td>\n",
       "      <td>0</td>\n",
       "      <td>0</td>\n",
       "      <td>0</td>\n",
       "      <td>0</td>\n",
       "      <td>0.833</td>\n",
       "      <td>0.000</td>\n",
       "      <td>0</td>\n",
       "    </tr>\n",
       "    <tr>\n",
       "      <th>2288004</th>\n",
       "      <td>131589.000</td>\n",
       "      <td>71287.000</td>\n",
       "      <td>0.000</td>\n",
       "      <td>0.000</td>\n",
       "      <td>6000.000</td>\n",
       "      <td>0.000</td>\n",
       "      <td>249356.000</td>\n",
       "      <td>39524.000</td>\n",
       "      <td>0.000</td>\n",
       "      <td>0.000</td>\n",
       "      <td>...</td>\n",
       "      <td>0</td>\n",
       "      <td>0</td>\n",
       "      <td>0</td>\n",
       "      <td>0</td>\n",
       "      <td>2</td>\n",
       "      <td>2</td>\n",
       "      <td>2</td>\n",
       "      <td>4.333</td>\n",
       "      <td>0.000</td>\n",
       "      <td>0</td>\n",
       "    </tr>\n",
       "    <tr>\n",
       "      <th>2288005</th>\n",
       "      <td>221984.000</td>\n",
       "      <td>122401.000</td>\n",
       "      <td>0.000</td>\n",
       "      <td>0.000</td>\n",
       "      <td>0.000</td>\n",
       "      <td>0.000</td>\n",
       "      <td>208184.000</td>\n",
       "      <td>74738.000</td>\n",
       "      <td>0.000</td>\n",
       "      <td>0.000</td>\n",
       "      <td>...</td>\n",
       "      <td>0</td>\n",
       "      <td>0</td>\n",
       "      <td>0</td>\n",
       "      <td>0</td>\n",
       "      <td>1</td>\n",
       "      <td>1</td>\n",
       "      <td>1</td>\n",
       "      <td>2.833</td>\n",
       "      <td>0.000</td>\n",
       "      <td>0</td>\n",
       "    </tr>\n",
       "    <tr>\n",
       "      <th>2288006</th>\n",
       "      <td>15500.000</td>\n",
       "      <td>3700.000</td>\n",
       "      <td>0.000</td>\n",
       "      <td>0.000</td>\n",
       "      <td>0.000</td>\n",
       "      <td>0.000</td>\n",
       "      <td>13000.000</td>\n",
       "      <td>2000.000</td>\n",
       "      <td>0.000</td>\n",
       "      <td>0.000</td>\n",
       "      <td>...</td>\n",
       "      <td>0</td>\n",
       "      <td>0</td>\n",
       "      <td>0</td>\n",
       "      <td>0</td>\n",
       "      <td>0</td>\n",
       "      <td>0</td>\n",
       "      <td>0</td>\n",
       "      <td>0.667</td>\n",
       "      <td>0.000</td>\n",
       "      <td>0</td>\n",
       "    </tr>\n",
       "  </tbody>\n",
       "</table>\n",
       "<p>2144942 rows × 106 columns</p>\n",
       "</div>"
      ],
      "text/plain": [
       "字段解释         木头获取数量      木头消耗数量      石头获取数量  石头消耗数量     象牙获取数量  象牙消耗数量  \\\n",
       "0         20125.000    3700.000       0.000   0.000      0.000   0.000   \n",
       "1             0.000       0.000       0.000   0.000      0.000   0.000   \n",
       "2             0.000       0.000       0.000   0.000      0.000   0.000   \n",
       "3             0.000       0.000       0.000   0.000      0.000   0.000   \n",
       "4             0.000       0.000       0.000   0.000      0.000   0.000   \n",
       "5             0.000       0.000       0.000   0.000      0.000   0.000   \n",
       "6             0.000       0.000       0.000   0.000      0.000   0.000   \n",
       "7             0.000       0.000       0.000   0.000      0.000   0.000   \n",
       "8             0.000       0.000       0.000   0.000      0.000   0.000   \n",
       "9             0.000       0.000       0.000   0.000      0.000   0.000   \n",
       "10            0.000       0.000       0.000   0.000      0.000   0.000   \n",
       "11            0.000       0.000       0.000   0.000      0.000   0.000   \n",
       "12            0.000       0.000       0.000   0.000      0.000   0.000   \n",
       "13            0.000       0.000       0.000   0.000      0.000   0.000   \n",
       "14            0.000       0.000       0.000   0.000      0.000   0.000   \n",
       "15            0.000       0.000       0.000   0.000      0.000   0.000   \n",
       "16            0.000       0.000       0.000   0.000      0.000   0.000   \n",
       "17            0.000       0.000       0.000   0.000      0.000   0.000   \n",
       "18            0.000       0.000       0.000   0.000      0.000   0.000   \n",
       "19            0.000       0.000       0.000   0.000      0.000   0.000   \n",
       "20            0.000       0.000       0.000   0.000      0.000   0.000   \n",
       "21            0.000       0.000       0.000   0.000      0.000   0.000   \n",
       "22            0.000       0.000       0.000   0.000      0.000   0.000   \n",
       "23            0.000       0.000       0.000   0.000      0.000   0.000   \n",
       "24            0.000       0.000       0.000   0.000      0.000   0.000   \n",
       "26            0.000       0.000       0.000   0.000      0.000   0.000   \n",
       "27            0.000       0.000       0.000   0.000      0.000   0.000   \n",
       "28            0.000       0.000       0.000   0.000      0.000   0.000   \n",
       "29            0.000       0.000       0.000   0.000      0.000   0.000   \n",
       "30            0.000       0.000       0.000   0.000      0.000   0.000   \n",
       "...             ...         ...         ...     ...        ...     ...   \n",
       "2287976  247365.000  148707.000       0.000   0.000   9000.000   0.000   \n",
       "2287977  360670.000  198729.000       0.000   0.000      0.000   0.000   \n",
       "2287978   49862.000   18240.000       0.000   0.000      0.000   0.000   \n",
       "2287979   40101.000    9930.000       0.000   0.000      0.000   0.000   \n",
       "2287980   15500.000    3700.000       0.000   0.000      0.000   0.000   \n",
       "2287981   10000.000    1600.000       0.000   0.000      0.000   0.000   \n",
       "2287982   25625.000    4700.000       0.000   0.000      0.000   0.000   \n",
       "2287983  417193.000  148714.000  200000.000   0.000 203000.000   0.000   \n",
       "2287984 3306382.000 2491920.000 1000000.000   0.000 509000.000   0.000   \n",
       "2287985  412105.000  334639.000       0.000   0.000      0.000   0.000   \n",
       "2287986  497560.000  407662.000       0.000   0.000      0.000   0.000   \n",
       "2287987  110194.000   40982.000       0.000   0.000      0.000   0.000   \n",
       "2287988   10000.000       0.000       0.000   0.000      0.000   0.000   \n",
       "2287989  422616.000  344190.000       0.000   0.000      0.000   0.000   \n",
       "2287990  328459.000  209868.000       0.000   0.000   3000.000   0.000   \n",
       "2287991  513885.000  382549.000       0.000   0.000   6000.000   0.000   \n",
       "2287992   14600.000    2100.000       0.000   0.000      0.000   0.000   \n",
       "2287993  190314.000  114273.000       0.000   0.000      0.000   0.000   \n",
       "2287995  302161.000   93379.000  200000.000   0.000 200000.000   0.000   \n",
       "2287996  167783.000   79367.000       0.000   0.000      0.000   0.000   \n",
       "2287997  462603.000  313148.000       0.000   0.000      0.000   0.000   \n",
       "2287998  127342.000   88717.000       0.000   0.000      0.000   0.000   \n",
       "2287999  261018.000  192018.000       0.000   0.000      0.000   0.000   \n",
       "2288000   15500.000    3700.000       0.000   0.000      0.000   0.000   \n",
       "2288001   70794.000   34239.000       0.000   0.000      0.000   0.000   \n",
       "2288002   15500.000    3700.000       0.000   0.000      0.000   0.000   \n",
       "2288003   10000.000       0.000       0.000   0.000      0.000   0.000   \n",
       "2288004  131589.000   71287.000       0.000   0.000   6000.000   0.000   \n",
       "2288005  221984.000  122401.000       0.000   0.000      0.000   0.000   \n",
       "2288006   15500.000    3700.000       0.000   0.000      0.000   0.000   \n",
       "\n",
       "字段解释          肉获取数量       肉消耗数量     魔法获取数量    魔法消耗数量  ...   科研：资源帮助容量  PVP次数  \\\n",
       "0         16375.000    2000.000      0.000     0.000  ...           0      0   \n",
       "1             0.000       0.000      0.000     0.000  ...           0      0   \n",
       "2             0.000       0.000      0.000     0.000  ...           0      0   \n",
       "3             0.000       0.000      0.000     0.000  ...           0      0   \n",
       "4             0.000       0.000      0.000     0.000  ...           0      0   \n",
       "5             0.000       0.000      0.000     0.000  ...           0      0   \n",
       "6             0.000       0.000      0.000     0.000  ...           0      0   \n",
       "7             0.000       0.000      0.000     0.000  ...           0      0   \n",
       "8             0.000       0.000      0.000     0.000  ...           0      0   \n",
       "9             0.000       0.000      0.000     0.000  ...           0      0   \n",
       "10            0.000       0.000      0.000     0.000  ...           0      0   \n",
       "11            0.000       0.000      0.000     0.000  ...           0      0   \n",
       "12            0.000       0.000      0.000     0.000  ...           0      0   \n",
       "13            0.000       0.000      0.000     0.000  ...           0      0   \n",
       "14            0.000       0.000      0.000     0.000  ...           0      0   \n",
       "15            0.000       0.000      0.000     0.000  ...           0      0   \n",
       "16            0.000       0.000      0.000     0.000  ...           0      0   \n",
       "17            0.000       0.000      0.000     0.000  ...           0      0   \n",
       "18            0.000       0.000      0.000     0.000  ...           0      0   \n",
       "19            0.000       0.000      0.000     0.000  ...           0      0   \n",
       "20            0.000       0.000      0.000     0.000  ...           0      0   \n",
       "21            0.000       0.000      0.000     0.000  ...           0      0   \n",
       "22            0.000       0.000      0.000     0.000  ...           0      0   \n",
       "23            0.000       0.000      0.000     0.000  ...           0      0   \n",
       "24            0.000       0.000      0.000     0.000  ...           0      0   \n",
       "26            0.000       0.000      0.000     0.000  ...           0      0   \n",
       "27            0.000       0.000      0.000     0.000  ...           0      0   \n",
       "28            0.000       0.000      0.000     0.000  ...           0      0   \n",
       "29            0.000       0.000      0.000     0.000  ...           0      0   \n",
       "30            0.000       0.000      0.000     0.000  ...           0      0   \n",
       "...             ...         ...        ...       ...  ...         ...    ...   \n",
       "2287976  401031.000  206242.000      0.000     0.000  ...           0      0   \n",
       "2287977  237400.000  115773.000  32447.000 24831.000  ...           0      2   \n",
       "2287978   50023.000   12480.000      0.000     0.000  ...           0      0   \n",
       "2287979   42305.000    7145.000      0.000     0.000  ...           0      0   \n",
       "2287980   13000.000    2000.000      0.000     0.000  ...           0      0   \n",
       "2287981   10000.000     900.000      0.000     0.000  ...           0      0   \n",
       "2287982   36475.000    2500.000      0.000     0.000  ...           0      0   \n",
       "2287983  820102.000  101416.000  60000.000     0.000  ...           0      0   \n",
       "2287984 6434135.000 3854651.000  72642.000 24198.000  ...           0      5   \n",
       "2287985  362829.000  283117.000  28276.000 27087.000  ...           0      6   \n",
       "2287986  211448.000  186140.000 204550.000     0.000  ...           0      0   \n",
       "2287987  146245.000   36041.000   1898.000  1898.000  ...           0      6   \n",
       "2287988   10000.000       0.000      0.000     0.000  ...           0      0   \n",
       "2287989  879462.000  492668.000 167375.000     0.000  ...           0      0   \n",
       "2287990  296805.000  147824.000      0.000     0.000  ...           0      7   \n",
       "2287991  427446.000  304766.000      0.000     0.000  ...           0      0   \n",
       "2287992   12000.000    1100.000      0.000     0.000  ...           0      0   \n",
       "2287993  140362.000   78286.000      0.000     0.000  ...           0      3   \n",
       "2287995  662251.000   42021.000  60000.000     0.000  ...           0      0   \n",
       "2287996  352834.000   50751.000      0.000     0.000  ...           0      3   \n",
       "2287997  391466.000  211257.000 179325.000     0.000  ...           0      0   \n",
       "2287998  130954.000   50290.000      0.000     0.000  ...           0      0   \n",
       "2287999  216264.000  147264.000  14164.000 14164.000  ...           0      5   \n",
       "2288000   13000.000    2000.000      0.000     0.000  ...           0      0   \n",
       "2288001   78125.000   19548.000      0.000     0.000  ...           0      0   \n",
       "2288002   13000.000    2000.000      0.000     0.000  ...           0      0   \n",
       "2288003   10000.000       0.000      0.000     0.000  ...           0      0   \n",
       "2288004  249356.000   39524.000      0.000     0.000  ...           0      0   \n",
       "2288005  208184.000   74738.000      0.000     0.000  ...           0      0   \n",
       "2288006   13000.000    2000.000      0.000     0.000  ...           0      0   \n",
       "\n",
       "字段解释     主动发起PVP次数  PVP胜利次数  PVE次数  主动发起PVE次数  PVE胜利次数   在线时长  付费金额  付费次数  \n",
       "0                0        0      0          0        0  0.333 0.000     0  \n",
       "1                0        0      0          0        0  0.333 0.000     0  \n",
       "2                0        0      0          0        0  1.167 0.000     0  \n",
       "3                0        0      0          0        0  3.167 0.000     0  \n",
       "4                0        0      0          0        0  2.333 0.000     0  \n",
       "5                0        0      0          0        0  0.167 0.000     0  \n",
       "6                0        0      0          0        0  4.000 0.000     0  \n",
       "7                0        0      0          0        0  0.667 0.000     0  \n",
       "8                0        0      0          0        0  1.833 0.000     0  \n",
       "9                0        0      0          0        0  0.500 0.000     0  \n",
       "10               0        0      0          0        0  0.833 0.000     0  \n",
       "11               0        0      0          0        0  0.000 0.000     0  \n",
       "12               0        0      0          0        0  1.000 0.000     0  \n",
       "13               0        0      0          0        0  0.333 0.000     0  \n",
       "14               0        0      0          0        0  5.333 0.000     0  \n",
       "15               0        0      0          0        0  0.833 0.000     0  \n",
       "16               0        0      0          0        0  4.500 0.000     0  \n",
       "17               0        0      0          0        0  5.500 0.000     0  \n",
       "18               0        0      0          0        0  4.667 0.000     0  \n",
       "19               0        0      0          0        0  0.333 0.000     0  \n",
       "20               0        0      0          0        0  1.500 0.000     0  \n",
       "21               0        0      0          0        0  0.667 0.000     0  \n",
       "22               0        0      0          0        0  0.333 0.000     0  \n",
       "23               0        0      0          0        0 10.333 0.000     0  \n",
       "24               0        0      0          0        0  0.000 0.000     0  \n",
       "26               0        0      0          0        0  1.833 0.000     0  \n",
       "27               0        0      0          0        0  3.667 0.000     0  \n",
       "28               0        0      0          0        0  3.500 0.000     0  \n",
       "29               0        0      0          0        0 24.167 0.000     0  \n",
       "30               0        0      0          0        0  2.500 0.000     0  \n",
       "...            ...      ...    ...        ...      ...    ...   ...   ...  \n",
       "2287976          0        0      6          6        6  6.500 0.000     0  \n",
       "2287977          0        1      3          3        3  6.167 0.000     0  \n",
       "2287978          0        0      1          1        1  1.833 0.000     0  \n",
       "2287979          0        0      1          1        1  1.167 0.000     0  \n",
       "2287980          0        0      0          0        0  0.500 0.000     0  \n",
       "2287981          0        0      0          0        0  0.333 0.000     0  \n",
       "2287982          0        0      1          1        1  1.167 0.000     0  \n",
       "2287983          0        0      2          2        2  3.333 0.000     0  \n",
       "2287984          2        4     10         10        7 20.333 1.980     2  \n",
       "2287985          0        0      2          2        2 10.333 0.000     0  \n",
       "2287986          0        0      0          0        0  6.500 0.000     0  \n",
       "2287987          3        2      1          1        1  4.167 0.000     0  \n",
       "2287988          0        0      0          0        0  0.000 0.000     0  \n",
       "2287989          0        0      0          0        0  9.667 0.000     0  \n",
       "2287990          2        2      4          4        2  7.500 0.000     0  \n",
       "2287991          0        0      7          7        6  9.833 0.000     0  \n",
       "2287992          0        0      1          1        1  0.500 0.000     0  \n",
       "2287993          3        0      2          2        2  6.333 0.000     0  \n",
       "2287995          0        0      0          0        0  1.333 0.000     0  \n",
       "2287996          1        0      1          1        1  6.667 0.000     0  \n",
       "2287997          0        0      0          0        0  7.000 0.000     0  \n",
       "2287998          0        0      2          2        2  3.833 0.000     0  \n",
       "2287999          4        1      4          4        4  9.833 0.000     0  \n",
       "2288000          0        0      0          0        0  0.500 0.000     0  \n",
       "2288001          0        0      1          1        1  1.833 0.000     0  \n",
       "2288002          0        0      0          0        0  0.500 0.000     0  \n",
       "2288003          0        0      0          0        0  0.833 0.000     0  \n",
       "2288004          0        0      2          2        2  4.333 0.000     0  \n",
       "2288005          0        0      1          1        1  2.833 0.000     0  \n",
       "2288006          0        0      0          0        0  0.667 0.000     0  \n",
       "\n",
       "[2144942 rows x 106 columns]"
      ]
     },
     "execution_count": 108,
     "metadata": {},
     "output_type": "execute_result"
    }
   ],
   "source": [
    "AbnormalCheck.loc[AbnormalCheck[\"在线时长\"] < 30,:]"
   ]
  },
  {
   "cell_type": "markdown",
   "metadata": {},
   "source": [
    "**我们先使用箱线图的法则，看看会筛选出多少异常值。**"
   ]
  },
  {
   "cell_type": "markdown",
   "metadata": {
    "jupyter": {
     "outputs_hidden": true
    }
   },
   "source": [
    "[QL - 1.5IQR   ,  QU+1.5IQR]\n",
    "\n",
    "(feature < QL - 1.5IQR).astype(int) #---->布尔值 \n",
    "+\n",
    "(feature > QU + 1.5IQR).astype(int) #---->布尔值"
   ]
  },
  {
   "cell_type": "code",
   "execution_count": 110,
   "metadata": {},
   "outputs": [],
   "source": [
    "#打印异常比例，保存异常样本的索引\n",
    "NumOfSamples = data.shape[0]\n",
    "abnormal = pd.DataFrame()\n",
    "DataNoAbnormal = data.copy()\n",
    "BoxAbnormalIdx = [] #列表：用于保存我们的异常值的索引\n",
    "for idx,column in enumerate(data.columns[2:-1]):\n",
    "    feature = data.loc[:,column]\n",
    "    QL = np.quantile(feature,0.25)\n",
    "    QU = np.quantile(feature,0.75)\n",
    "    IQR = QU - QL\n",
    "    #过小或过大的都属于异常值\n",
    "    error = feature[((feature < (QL - 1.5*IQR)).astype(int) + (feature > (QU + 1.5*IQR)).astype(int)) != 0]\n",
    "    BoxAbnormalIdx.extend(error.index)\n",
    "    abnormal.loc[idx,\"特征\"] = column\n",
    "    abnormal.loc[idx,\"异常值数量\"] = error.shape[0]\n",
    "    abnormal.loc[idx,\"异常值比例\"] = \"{:.3f}%\".format(error.shape[0]*100/NumOfSamples)"
   ]
  },
  {
   "cell_type": "code",
   "execution_count": 111,
   "metadata": {},
   "outputs": [
    {
     "data": {
      "text/plain": [
       "21155828"
      ]
     },
     "execution_count": 111,
     "metadata": {},
     "output_type": "execute_result"
    }
   ],
   "source": [
    "len(BoxAbnormalIdx) #这里面是由重复值的"
   ]
  },
  {
   "cell_type": "code",
   "execution_count": 112,
   "metadata": {},
   "outputs": [],
   "source": [
    "BoxAbnormalIdx = set(BoxAbnormalIdx) #利用集合对筛选出的异常值的索引进行去重"
   ]
  },
  {
   "cell_type": "code",
   "execution_count": 113,
   "metadata": {},
   "outputs": [
    {
     "data": {
      "text/plain": [
       "2288007"
      ]
     },
     "execution_count": 113,
     "metadata": {},
     "output_type": "execute_result"
    }
   ],
   "source": [
    "len(BoxAbnormalIdx) #超过100w数据都被归为异常，数量太多无法直接删除，何况在7日内付费的用户只有4w多，很可能被这100多万数据囊括"
   ]
  },
  {
   "cell_type": "code",
   "execution_count": 114,
   "metadata": {
    "jupyter": {
     "outputs_hidden": true
    }
   },
   "outputs": [
    {
     "data": {
      "text/html": [
       "<div>\n",
       "<style scoped>\n",
       "    .dataframe tbody tr th:only-of-type {\n",
       "        vertical-align: middle;\n",
       "    }\n",
       "\n",
       "    .dataframe tbody tr th {\n",
       "        vertical-align: top;\n",
       "    }\n",
       "\n",
       "    .dataframe thead th {\n",
       "        text-align: right;\n",
       "    }\n",
       "</style>\n",
       "<table border=\"1\" class=\"dataframe\">\n",
       "  <thead>\n",
       "    <tr style=\"text-align: right;\">\n",
       "      <th></th>\n",
       "      <th>特征</th>\n",
       "      <th>异常值数量</th>\n",
       "      <th>异常值比例</th>\n",
       "    </tr>\n",
       "  </thead>\n",
       "  <tbody>\n",
       "    <tr>\n",
       "      <th>39</th>\n",
       "      <td>建筑：联盟大厅等级</td>\n",
       "      <td>215420.000</td>\n",
       "      <td>9.415%</td>\n",
       "    </tr>\n",
       "    <tr>\n",
       "      <th>15</th>\n",
       "      <td>萨满损失数量</td>\n",
       "      <td>207173.000</td>\n",
       "      <td>9.055%</td>\n",
       "    </tr>\n",
       "    <tr>\n",
       "      <th>26</th>\n",
       "      <td>科研加速获取数量</td>\n",
       "      <td>195901.000</td>\n",
       "      <td>8.562%</td>\n",
       "    </tr>\n",
       "    <tr>\n",
       "      <th>20</th>\n",
       "      <td>萨满伤兵产生数量</td>\n",
       "      <td>183496.000</td>\n",
       "      <td>8.020%</td>\n",
       "    </tr>\n",
       "    <tr>\n",
       "      <th>84</th>\n",
       "      <td>科研：据点耐久</td>\n",
       "      <td>162146.000</td>\n",
       "      <td>7.087%</td>\n",
       "    </tr>\n",
       "    <tr>\n",
       "      <th>43</th>\n",
       "      <td>建筑：战争大厅等级</td>\n",
       "      <td>160448.000</td>\n",
       "      <td>7.013%</td>\n",
       "    </tr>\n",
       "    <tr>\n",
       "      <th>70</th>\n",
       "      <td>科研：建造速度</td>\n",
       "      <td>147491.000</td>\n",
       "      <td>6.446%</td>\n",
       "    </tr>\n",
       "    <tr>\n",
       "      <th>14</th>\n",
       "      <td>萨满招募数量</td>\n",
       "      <td>146429.000</td>\n",
       "      <td>6.400%</td>\n",
       "    </tr>\n",
       "    <tr>\n",
       "      <th>47</th>\n",
       "      <td>建筑：冒险传送门等级</td>\n",
       "      <td>145062.000</td>\n",
       "      <td>6.340%</td>\n",
       "    </tr>\n",
       "    <tr>\n",
       "      <th>17</th>\n",
       "      <td>勇士伤兵恢复数量</td>\n",
       "      <td>131702.000</td>\n",
       "      <td>5.756%</td>\n",
       "    </tr>\n",
       "    <tr>\n",
       "      <th>45</th>\n",
       "      <td>建筑：占卜台等级</td>\n",
       "      <td>128325.000</td>\n",
       "      <td>5.609%</td>\n",
       "    </tr>\n",
       "    <tr>\n",
       "      <th>19</th>\n",
       "      <td>驯兽师伤兵恢复数量</td>\n",
       "      <td>127605.000</td>\n",
       "      <td>5.577%</td>\n",
       "    </tr>\n",
       "    <tr>\n",
       "      <th>46</th>\n",
       "      <td>建筑：祭坛等级</td>\n",
       "      <td>124997.000</td>\n",
       "      <td>5.463%</td>\n",
       "    </tr>\n",
       "    <tr>\n",
       "      <th>32</th>\n",
       "      <td>建筑：士兵小屋等级</td>\n",
       "      <td>122911.000</td>\n",
       "      <td>5.372%</td>\n",
       "    </tr>\n",
       "    <tr>\n",
       "      <th>85</th>\n",
       "      <td>科研：据点二</td>\n",
       "      <td>101483.000</td>\n",
       "      <td>4.435%</td>\n",
       "    </tr>\n",
       "    <tr>\n",
       "      <th>21</th>\n",
       "      <td>萨满伤兵恢复数量</td>\n",
       "      <td>101371.000</td>\n",
       "      <td>4.431%</td>\n",
       "    </tr>\n",
       "    <tr>\n",
       "      <th>3</th>\n",
       "      <td>石头消耗数量</td>\n",
       "      <td>99772.000</td>\n",
       "      <td>4.361%</td>\n",
       "    </tr>\n",
       "    <tr>\n",
       "      <th>24</th>\n",
       "      <td>建筑加速获取数量</td>\n",
       "      <td>84767.000</td>\n",
       "      <td>3.705%</td>\n",
       "    </tr>\n",
       "    <tr>\n",
       "      <th>35</th>\n",
       "      <td>建筑：据点传送门等级</td>\n",
       "      <td>69971.000</td>\n",
       "      <td>3.058%</td>\n",
       "    </tr>\n",
       "    <tr>\n",
       "      <th>11</th>\n",
       "      <td>勇士损失数量</td>\n",
       "      <td>561890.000</td>\n",
       "      <td>24.558%</td>\n",
       "    </tr>\n",
       "    <tr>\n",
       "      <th>23</th>\n",
       "      <td>通用加速使用数量</td>\n",
       "      <td>561811.000</td>\n",
       "      <td>24.555%</td>\n",
       "    </tr>\n",
       "    <tr>\n",
       "      <th>44</th>\n",
       "      <td>建筑：联盟货车等级</td>\n",
       "      <td>518963.000</td>\n",
       "      <td>22.682%</td>\n",
       "    </tr>\n",
       "    <tr>\n",
       "      <th>48</th>\n",
       "      <td>科研：侦查等级</td>\n",
       "      <td>507576.000</td>\n",
       "      <td>22.184%</td>\n",
       "    </tr>\n",
       "    <tr>\n",
       "      <th>8</th>\n",
       "      <td>魔法获取数量</td>\n",
       "      <td>496533.000</td>\n",
       "      <td>21.702%</td>\n",
       "    </tr>\n",
       "    <tr>\n",
       "      <th>25</th>\n",
       "      <td>建筑加速使用数量</td>\n",
       "      <td>485048.000</td>\n",
       "      <td>21.200%</td>\n",
       "    </tr>\n",
       "    <tr>\n",
       "      <th>50</th>\n",
       "      <td>科研：守护者</td>\n",
       "      <td>54647.000</td>\n",
       "      <td>2.388%</td>\n",
       "    </tr>\n",
       "    <tr>\n",
       "      <th>71</th>\n",
       "      <td>科研：资源保护</td>\n",
       "      <td>53720.000</td>\n",
       "      <td>2.348%</td>\n",
       "    </tr>\n",
       "    <tr>\n",
       "      <th>51</th>\n",
       "      <td>科研：巨兽驯兽师</td>\n",
       "      <td>52503.000</td>\n",
       "      <td>2.295%</td>\n",
       "    </tr>\n",
       "    <tr>\n",
       "      <th>87</th>\n",
       "      <td>科研：领土采集奖励</td>\n",
       "      <td>52150.000</td>\n",
       "      <td>2.279%</td>\n",
       "    </tr>\n",
       "    <tr>\n",
       "      <th>72</th>\n",
       "      <td>科研：部队消耗</td>\n",
       "      <td>48535.000</td>\n",
       "      <td>2.121%</td>\n",
       "    </tr>\n",
       "    <tr>\n",
       "      <th>...</th>\n",
       "      <td>...</td>\n",
       "      <td>...</td>\n",
       "      <td>...</td>\n",
       "    </tr>\n",
       "    <tr>\n",
       "      <th>31</th>\n",
       "      <td>治疗加速使用数量</td>\n",
       "      <td>9512.000</td>\n",
       "      <td>0.416%</td>\n",
       "    </tr>\n",
       "    <tr>\n",
       "      <th>83</th>\n",
       "      <td>科研：魔法生产</td>\n",
       "      <td>9203.000</td>\n",
       "      <td>0.402%</td>\n",
       "    </tr>\n",
       "    <tr>\n",
       "      <th>34</th>\n",
       "      <td>建筑：要塞等级</td>\n",
       "      <td>7196.000</td>\n",
       "      <td>0.315%</td>\n",
       "    </tr>\n",
       "    <tr>\n",
       "      <th>74</th>\n",
       "      <td>科研：石头生产</td>\n",
       "      <td>3399.000</td>\n",
       "      <td>0.149%</td>\n",
       "    </tr>\n",
       "    <tr>\n",
       "      <th>82</th>\n",
       "      <td>科研：魔法采集</td>\n",
       "      <td>2915.000</td>\n",
       "      <td>0.127%</td>\n",
       "    </tr>\n",
       "    <tr>\n",
       "      <th>78</th>\n",
       "      <td>科研：石头采集</td>\n",
       "      <td>2436.000</td>\n",
       "      <td>0.106%</td>\n",
       "    </tr>\n",
       "    <tr>\n",
       "      <th>89</th>\n",
       "      <td>科研：据点三</td>\n",
       "      <td>2011.000</td>\n",
       "      <td>0.088%</td>\n",
       "    </tr>\n",
       "    <tr>\n",
       "      <th>75</th>\n",
       "      <td>科研：象牙生产</td>\n",
       "      <td>923.000</td>\n",
       "      <td>0.040%</td>\n",
       "    </tr>\n",
       "    <tr>\n",
       "      <th>79</th>\n",
       "      <td>科研：象牙采集</td>\n",
       "      <td>686.000</td>\n",
       "      <td>0.030%</td>\n",
       "    </tr>\n",
       "    <tr>\n",
       "      <th>91</th>\n",
       "      <td>科研：战斗行军速度</td>\n",
       "      <td>634.000</td>\n",
       "      <td>0.028%</td>\n",
       "    </tr>\n",
       "    <tr>\n",
       "      <th>56</th>\n",
       "      <td>科研：战斗大师</td>\n",
       "      <td>629.000</td>\n",
       "      <td>0.027%</td>\n",
       "    </tr>\n",
       "    <tr>\n",
       "      <th>57</th>\n",
       "      <td>科研：高阶巨兽骑兵</td>\n",
       "      <td>597.000</td>\n",
       "      <td>0.026%</td>\n",
       "    </tr>\n",
       "    <tr>\n",
       "      <th>92</th>\n",
       "      <td>科研：采集行军速度</td>\n",
       "      <td>600.000</td>\n",
       "      <td>0.026%</td>\n",
       "    </tr>\n",
       "    <tr>\n",
       "      <th>58</th>\n",
       "      <td>科研：图腾大师</td>\n",
       "      <td>535.000</td>\n",
       "      <td>0.023%</td>\n",
       "    </tr>\n",
       "    <tr>\n",
       "      <th>59</th>\n",
       "      <td>科研：部队防御</td>\n",
       "      <td>424.000</td>\n",
       "      <td>0.019%</td>\n",
       "    </tr>\n",
       "    <tr>\n",
       "      <th>90</th>\n",
       "      <td>科研：联盟行军速度</td>\n",
       "      <td>417.000</td>\n",
       "      <td>0.018%</td>\n",
       "    </tr>\n",
       "    <tr>\n",
       "      <th>60</th>\n",
       "      <td>科研：勇士防御</td>\n",
       "      <td>324.000</td>\n",
       "      <td>0.014%</td>\n",
       "    </tr>\n",
       "    <tr>\n",
       "      <th>61</th>\n",
       "      <td>科研：驯兽师防御</td>\n",
       "      <td>306.000</td>\n",
       "      <td>0.013%</td>\n",
       "    </tr>\n",
       "    <tr>\n",
       "      <th>63</th>\n",
       "      <td>科研：勇士生命</td>\n",
       "      <td>293.000</td>\n",
       "      <td>0.013%</td>\n",
       "    </tr>\n",
       "    <tr>\n",
       "      <th>62</th>\n",
       "      <td>科研：萨满防御</td>\n",
       "      <td>283.000</td>\n",
       "      <td>0.012%</td>\n",
       "    </tr>\n",
       "    <tr>\n",
       "      <th>64</th>\n",
       "      <td>科研：驯兽师生命</td>\n",
       "      <td>262.000</td>\n",
       "      <td>0.011%</td>\n",
       "    </tr>\n",
       "    <tr>\n",
       "      <th>65</th>\n",
       "      <td>科研：萨满生命</td>\n",
       "      <td>252.000</td>\n",
       "      <td>0.011%</td>\n",
       "    </tr>\n",
       "    <tr>\n",
       "      <th>66</th>\n",
       "      <td>科研：狂战士</td>\n",
       "      <td>40.000</td>\n",
       "      <td>0.002%</td>\n",
       "    </tr>\n",
       "    <tr>\n",
       "      <th>67</th>\n",
       "      <td>科研：龙骑兵</td>\n",
       "      <td>45.000</td>\n",
       "      <td>0.002%</td>\n",
       "    </tr>\n",
       "    <tr>\n",
       "      <th>68</th>\n",
       "      <td>科研：神谕者</td>\n",
       "      <td>34.000</td>\n",
       "      <td>0.001%</td>\n",
       "    </tr>\n",
       "    <tr>\n",
       "      <th>93</th>\n",
       "      <td>科研：据点四</td>\n",
       "      <td>13.000</td>\n",
       "      <td>0.001%</td>\n",
       "    </tr>\n",
       "    <tr>\n",
       "      <th>94</th>\n",
       "      <td>科研：增援部队容量</td>\n",
       "      <td>3.000</td>\n",
       "      <td>0.000%</td>\n",
       "    </tr>\n",
       "    <tr>\n",
       "      <th>95</th>\n",
       "      <td>科研：行军大小</td>\n",
       "      <td>7.000</td>\n",
       "      <td>0.000%</td>\n",
       "    </tr>\n",
       "    <tr>\n",
       "      <th>96</th>\n",
       "      <td>科研：资源帮助容量</td>\n",
       "      <td>3.000</td>\n",
       "      <td>0.000%</td>\n",
       "    </tr>\n",
       "    <tr>\n",
       "      <th>69</th>\n",
       "      <td>科研：部队攻击</td>\n",
       "      <td>9.000</td>\n",
       "      <td>0.000%</td>\n",
       "    </tr>\n",
       "  </tbody>\n",
       "</table>\n",
       "<p>106 rows × 3 columns</p>\n",
       "</div>"
      ],
      "text/plain": [
       "            特征      异常值数量    异常值比例\n",
       "39   建筑：联盟大厅等级 215420.000   9.415%\n",
       "15      萨满损失数量 207173.000   9.055%\n",
       "26    科研加速获取数量 195901.000   8.562%\n",
       "20    萨满伤兵产生数量 183496.000   8.020%\n",
       "84     科研：据点耐久 162146.000   7.087%\n",
       "43   建筑：战争大厅等级 160448.000   7.013%\n",
       "70     科研：建造速度 147491.000   6.446%\n",
       "14      萨满招募数量 146429.000   6.400%\n",
       "47  建筑：冒险传送门等级 145062.000   6.340%\n",
       "17    勇士伤兵恢复数量 131702.000   5.756%\n",
       "45    建筑：占卜台等级 128325.000   5.609%\n",
       "19   驯兽师伤兵恢复数量 127605.000   5.577%\n",
       "46     建筑：祭坛等级 124997.000   5.463%\n",
       "32   建筑：士兵小屋等级 122911.000   5.372%\n",
       "85      科研：据点二 101483.000   4.435%\n",
       "21    萨满伤兵恢复数量 101371.000   4.431%\n",
       "3       石头消耗数量  99772.000   4.361%\n",
       "24    建筑加速获取数量  84767.000   3.705%\n",
       "35  建筑：据点传送门等级  69971.000   3.058%\n",
       "11      勇士损失数量 561890.000  24.558%\n",
       "23    通用加速使用数量 561811.000  24.555%\n",
       "44   建筑：联盟货车等级 518963.000  22.682%\n",
       "48     科研：侦查等级 507576.000  22.184%\n",
       "8       魔法获取数量 496533.000  21.702%\n",
       "25    建筑加速使用数量 485048.000  21.200%\n",
       "50      科研：守护者  54647.000   2.388%\n",
       "71     科研：资源保护  53720.000   2.348%\n",
       "51    科研：巨兽驯兽师  52503.000   2.295%\n",
       "87   科研：领土采集奖励  52150.000   2.279%\n",
       "72     科研：部队消耗  48535.000   2.121%\n",
       "..         ...        ...      ...\n",
       "31    治疗加速使用数量   9512.000   0.416%\n",
       "83     科研：魔法生产   9203.000   0.402%\n",
       "34     建筑：要塞等级   7196.000   0.315%\n",
       "74     科研：石头生产   3399.000   0.149%\n",
       "82     科研：魔法采集   2915.000   0.127%\n",
       "78     科研：石头采集   2436.000   0.106%\n",
       "89      科研：据点三   2011.000   0.088%\n",
       "75     科研：象牙生产    923.000   0.040%\n",
       "79     科研：象牙采集    686.000   0.030%\n",
       "91   科研：战斗行军速度    634.000   0.028%\n",
       "56     科研：战斗大师    629.000   0.027%\n",
       "57   科研：高阶巨兽骑兵    597.000   0.026%\n",
       "92   科研：采集行军速度    600.000   0.026%\n",
       "58     科研：图腾大师    535.000   0.023%\n",
       "59     科研：部队防御    424.000   0.019%\n",
       "90   科研：联盟行军速度    417.000   0.018%\n",
       "60     科研：勇士防御    324.000   0.014%\n",
       "61    科研：驯兽师防御    306.000   0.013%\n",
       "63     科研：勇士生命    293.000   0.013%\n",
       "62     科研：萨满防御    283.000   0.012%\n",
       "64    科研：驯兽师生命    262.000   0.011%\n",
       "65     科研：萨满生命    252.000   0.011%\n",
       "66      科研：狂战士     40.000   0.002%\n",
       "67      科研：龙骑兵     45.000   0.002%\n",
       "68      科研：神谕者     34.000   0.001%\n",
       "93      科研：据点四     13.000   0.001%\n",
       "94   科研：增援部队容量      3.000   0.000%\n",
       "95     科研：行军大小      7.000   0.000%\n",
       "96   科研：资源帮助容量      3.000   0.000%\n",
       "69     科研：部队攻击      9.000   0.000%\n",
       "\n",
       "[106 rows x 3 columns]"
      ]
     },
     "execution_count": 114,
     "metadata": {},
     "output_type": "execute_result"
    }
   ],
   "source": [
    "abnormal.sort_values(\"异常值比例\",ascending=False) #左偏比较严重的特征异常值更多"
   ]
  },
  {
   "cell_type": "markdown",
   "metadata": {},
   "source": [
    "**再使用3sigma法则试试看**"
   ]
  },
  {
   "cell_type": "code",
   "execution_count": 115,
   "metadata": {},
   "outputs": [],
   "source": [
    "#打印异常比例，保存异常样本的索引\n",
    "NumOfSamples = data.shape[0]\n",
    "abnormal = pd.DataFrame()\n",
    "DataNoAbnormal = data.copy()\n",
    "SigmaAbnormalIdx = []\n",
    "for idx,column in enumerate(data.columns[2:-1]):\n",
    "    feature = data.loc[:,column]\n",
    "    mean_ = feature.mean()\n",
    "    std_ = feature.std()\n",
    "    error = feature[feature - mean_ > 3*std_]\n",
    "    SigmaAbnormalIdx.extend(error.index)\n",
    "    abnormal.loc[idx,\"特征\"] = column\n",
    "    abnormal.loc[idx,\"异常值数量\"] = error.shape[0]\n",
    "    abnormal.loc[idx,\"异常值比例\"] = \"{:.3f}%\".format(error.shape[0]*100/NumOfSamples)"
   ]
  },
  {
   "cell_type": "code",
   "execution_count": 116,
   "metadata": {},
   "outputs": [
    {
     "data": {
      "text/plain": [
       "7065592"
      ]
     },
     "execution_count": 116,
     "metadata": {},
     "output_type": "execute_result"
    }
   ],
   "source": [
    "len(SigmaAbnormalIdx)"
   ]
  },
  {
   "cell_type": "code",
   "execution_count": 117,
   "metadata": {},
   "outputs": [],
   "source": [
    "SigmaAbnormalIdx = set(SigmaAbnormalIdx) #对异常样本索引去重"
   ]
  },
  {
   "cell_type": "code",
   "execution_count": 118,
   "metadata": {},
   "outputs": [
    {
     "data": {
      "text/plain": [
       "2288007"
      ]
     },
     "execution_count": 118,
     "metadata": {},
     "output_type": "execute_result"
    }
   ],
   "source": [
    "len(SigmaAbnormalIdx) #23w样本是异常，这是一个可以接受的数字，可以直接删除，但放入模型后的效果不知道怎么样"
   ]
  },
  {
   "cell_type": "markdown",
   "metadata": {},
   "source": [
    "**在箱线图规则下，我们看看这些异常用户的游戏时间/氪金情况**"
   ]
  },
  {
   "cell_type": "code",
   "execution_count": 119,
   "metadata": {},
   "outputs": [
    {
     "data": {
      "text/plain": [
       "count   2288007.000\n",
       "mean         10.207\n",
       "std          38.959\n",
       "min           0.000\n",
       "25%           0.500\n",
       "50%           1.833\n",
       "75%           4.833\n",
       "max        2049.667\n",
       "Name: 在线时长, dtype: float64"
      ]
     },
     "execution_count": 119,
     "metadata": {},
     "output_type": "execute_result"
    }
   ],
   "source": [
    "data.loc[BoxAbnormalIdx,\"在线时长\"].describe() #在在线时长上，表现是位于氪金用户与不可尽用户之间"
   ]
  },
  {
   "cell_type": "code",
   "execution_count": 120,
   "metadata": {},
   "outputs": [
    {
     "data": {
      "text/plain": [
       "41439"
      ]
     },
     "execution_count": 120,
     "metadata": {},
     "output_type": "execute_result"
    }
   ],
   "source": [
    "(data.loc[BoxAbnormalIdx,\"付费金额\"] != 0).sum() #在异常用户中，付费用户的数量"
   ]
  },
  {
   "cell_type": "code",
   "execution_count": 121,
   "metadata": {},
   "outputs": [
    {
     "data": {
      "text/plain": [
       "41439"
      ]
     },
     "execution_count": 121,
     "metadata": {},
     "output_type": "execute_result"
    }
   ],
   "source": [
    "(data.loc[:,\"付费金额\"] != 0).sum() #所有7日付费用户数"
   ]
  },
  {
   "cell_type": "code",
   "execution_count": 122,
   "metadata": {},
   "outputs": [
    {
     "data": {
      "text/plain": [
       "45988"
      ]
     },
     "execution_count": 122,
     "metadata": {},
     "output_type": "execute_result"
    }
   ],
   "source": [
    "(data.loc[BoxAbnormalIdx,\"45日付费金额\"] != 0).sum() #在异常用户中，付费用户的数量"
   ]
  },
  {
   "cell_type": "code",
   "execution_count": 123,
   "metadata": {},
   "outputs": [
    {
     "data": {
      "text/plain": [
       "45988"
      ]
     },
     "execution_count": 123,
     "metadata": {},
     "output_type": "execute_result"
    }
   ],
   "source": [
    "(data.loc[:,\"45日付费金额\"] != 0).sum() #所有7日付费用户数"
   ]
  },
  {
   "cell_type": "markdown",
   "metadata": {},
   "source": [
    "付费用户被100%包含在了异常用户里，这说明：\n",
    "> - 付费用户的数据在现有数据的大背景下（大部分用户短时间快速流失掉）下，在统计上是完全异常的，因此建模时想要辨认出付费用户，模型需要很深入的学习，有很高的过拟合风险<br>\n",
    "> - 异常用户有100w，其中只有4w多付费，即许多与氪金用户行为高度相似的用户都没有氪金，对算法来说这部分用户是很难判断的"
   ]
  },
  {
   "cell_type": "markdown",
   "metadata": {},
   "source": [
    "## 模型构筑：从0实现用户氪金行为预测"
   ]
  },
  {
   "cell_type": "markdown",
   "metadata": {},
   "source": [
    "### 1. 导库，整合数据"
   ]
  },
  {
   "cell_type": "code",
   "execution_count": 124,
   "metadata": {},
   "outputs": [],
   "source": [
    "#更改列名为中文\n",
    "data = pd.read_csv(r\"tap_fun_train.csv\")\n",
    "column_name = pd.read_excel(r\"tap4fun 数据字段解释.xlsx\")\n",
    "data.columns = column_name[\"字段解释\"]"
   ]
  },
  {
   "cell_type": "code",
   "execution_count": 125,
   "metadata": {},
   "outputs": [
    {
     "data": {
      "text/html": [
       "<div>\n",
       "<style scoped>\n",
       "    .dataframe tbody tr th:only-of-type {\n",
       "        vertical-align: middle;\n",
       "    }\n",
       "\n",
       "    .dataframe tbody tr th {\n",
       "        vertical-align: top;\n",
       "    }\n",
       "\n",
       "    .dataframe thead th {\n",
       "        text-align: right;\n",
       "    }\n",
       "</style>\n",
       "<table border=\"1\" class=\"dataframe\">\n",
       "  <thead>\n",
       "    <tr style=\"text-align: right;\">\n",
       "      <th>字段解释</th>\n",
       "      <th>玩家唯一ID</th>\n",
       "      <th>玩家注册时间</th>\n",
       "      <th>木头获取数量</th>\n",
       "      <th>木头消耗数量</th>\n",
       "      <th>石头获取数量</th>\n",
       "      <th>石头消耗数量</th>\n",
       "      <th>象牙获取数量</th>\n",
       "      <th>象牙消耗数量</th>\n",
       "      <th>肉获取数量</th>\n",
       "      <th>肉消耗数量</th>\n",
       "      <th>...</th>\n",
       "      <th>PVP次数</th>\n",
       "      <th>主动发起PVP次数</th>\n",
       "      <th>PVP胜利次数</th>\n",
       "      <th>PVE次数</th>\n",
       "      <th>主动发起PVE次数</th>\n",
       "      <th>PVE胜利次数</th>\n",
       "      <th>在线时长</th>\n",
       "      <th>付费金额</th>\n",
       "      <th>付费次数</th>\n",
       "      <th>45日付费金额</th>\n",
       "    </tr>\n",
       "  </thead>\n",
       "  <tbody>\n",
       "    <tr>\n",
       "      <th>0</th>\n",
       "      <td>1</td>\n",
       "      <td>2018-02-02 19:47:15</td>\n",
       "      <td>20125.000</td>\n",
       "      <td>3700.000</td>\n",
       "      <td>0.000</td>\n",
       "      <td>0.000</td>\n",
       "      <td>0.000</td>\n",
       "      <td>0.000</td>\n",
       "      <td>16375.000</td>\n",
       "      <td>2000.000</td>\n",
       "      <td>...</td>\n",
       "      <td>0</td>\n",
       "      <td>0</td>\n",
       "      <td>0</td>\n",
       "      <td>0</td>\n",
       "      <td>0</td>\n",
       "      <td>0</td>\n",
       "      <td>0.333</td>\n",
       "      <td>0.000</td>\n",
       "      <td>0</td>\n",
       "      <td>0.000</td>\n",
       "    </tr>\n",
       "    <tr>\n",
       "      <th>1</th>\n",
       "      <td>1593</td>\n",
       "      <td>2018-01-26 00:01:05</td>\n",
       "      <td>0.000</td>\n",
       "      <td>0.000</td>\n",
       "      <td>0.000</td>\n",
       "      <td>0.000</td>\n",
       "      <td>0.000</td>\n",
       "      <td>0.000</td>\n",
       "      <td>0.000</td>\n",
       "      <td>0.000</td>\n",
       "      <td>...</td>\n",
       "      <td>0</td>\n",
       "      <td>0</td>\n",
       "      <td>0</td>\n",
       "      <td>0</td>\n",
       "      <td>0</td>\n",
       "      <td>0</td>\n",
       "      <td>0.333</td>\n",
       "      <td>0.000</td>\n",
       "      <td>0</td>\n",
       "      <td>0.000</td>\n",
       "    </tr>\n",
       "    <tr>\n",
       "      <th>2</th>\n",
       "      <td>1594</td>\n",
       "      <td>2018-01-26 00:01:58</td>\n",
       "      <td>0.000</td>\n",
       "      <td>0.000</td>\n",
       "      <td>0.000</td>\n",
       "      <td>0.000</td>\n",
       "      <td>0.000</td>\n",
       "      <td>0.000</td>\n",
       "      <td>0.000</td>\n",
       "      <td>0.000</td>\n",
       "      <td>...</td>\n",
       "      <td>0</td>\n",
       "      <td>0</td>\n",
       "      <td>0</td>\n",
       "      <td>0</td>\n",
       "      <td>0</td>\n",
       "      <td>0</td>\n",
       "      <td>1.167</td>\n",
       "      <td>0.000</td>\n",
       "      <td>0</td>\n",
       "      <td>0.000</td>\n",
       "    </tr>\n",
       "    <tr>\n",
       "      <th>3</th>\n",
       "      <td>1595</td>\n",
       "      <td>2018-01-26 00:02:13</td>\n",
       "      <td>0.000</td>\n",
       "      <td>0.000</td>\n",
       "      <td>0.000</td>\n",
       "      <td>0.000</td>\n",
       "      <td>0.000</td>\n",
       "      <td>0.000</td>\n",
       "      <td>0.000</td>\n",
       "      <td>0.000</td>\n",
       "      <td>...</td>\n",
       "      <td>0</td>\n",
       "      <td>0</td>\n",
       "      <td>0</td>\n",
       "      <td>0</td>\n",
       "      <td>0</td>\n",
       "      <td>0</td>\n",
       "      <td>3.167</td>\n",
       "      <td>0.000</td>\n",
       "      <td>0</td>\n",
       "      <td>0.000</td>\n",
       "    </tr>\n",
       "    <tr>\n",
       "      <th>4</th>\n",
       "      <td>1596</td>\n",
       "      <td>2018-01-26 00:02:46</td>\n",
       "      <td>0.000</td>\n",
       "      <td>0.000</td>\n",
       "      <td>0.000</td>\n",
       "      <td>0.000</td>\n",
       "      <td>0.000</td>\n",
       "      <td>0.000</td>\n",
       "      <td>0.000</td>\n",
       "      <td>0.000</td>\n",
       "      <td>...</td>\n",
       "      <td>0</td>\n",
       "      <td>0</td>\n",
       "      <td>0</td>\n",
       "      <td>0</td>\n",
       "      <td>0</td>\n",
       "      <td>0</td>\n",
       "      <td>2.333</td>\n",
       "      <td>0.000</td>\n",
       "      <td>0</td>\n",
       "      <td>0.000</td>\n",
       "    </tr>\n",
       "  </tbody>\n",
       "</table>\n",
       "<p>5 rows × 109 columns</p>\n",
       "</div>"
      ],
      "text/plain": [
       "字段解释  玩家唯一ID               玩家注册时间    木头获取数量   木头消耗数量  石头获取数量  石头消耗数量  象牙获取数量  \\\n",
       "0          1  2018-02-02 19:47:15 20125.000 3700.000   0.000   0.000   0.000   \n",
       "1       1593  2018-01-26 00:01:05     0.000    0.000   0.000   0.000   0.000   \n",
       "2       1594  2018-01-26 00:01:58     0.000    0.000   0.000   0.000   0.000   \n",
       "3       1595  2018-01-26 00:02:13     0.000    0.000   0.000   0.000   0.000   \n",
       "4       1596  2018-01-26 00:02:46     0.000    0.000   0.000   0.000   0.000   \n",
       "\n",
       "字段解释  象牙消耗数量     肉获取数量    肉消耗数量   ...     PVP次数  主动发起PVP次数  PVP胜利次数  PVE次数  \\\n",
       "0      0.000 16375.000 2000.000   ...         0          0        0      0   \n",
       "1      0.000     0.000    0.000   ...         0          0        0      0   \n",
       "2      0.000     0.000    0.000   ...         0          0        0      0   \n",
       "3      0.000     0.000    0.000   ...         0          0        0      0   \n",
       "4      0.000     0.000    0.000   ...         0          0        0      0   \n",
       "\n",
       "字段解释  主动发起PVE次数  PVE胜利次数  在线时长  付费金额  付费次数  45日付费金额  \n",
       "0             0        0 0.333 0.000     0    0.000  \n",
       "1             0        0 0.333 0.000     0    0.000  \n",
       "2             0        0 1.167 0.000     0    0.000  \n",
       "3             0        0 3.167 0.000     0    0.000  \n",
       "4             0        0 2.333 0.000     0    0.000  \n",
       "\n",
       "[5 rows x 109 columns]"
      ]
     },
     "execution_count": 125,
     "metadata": {},
     "output_type": "execute_result"
    }
   ],
   "source": [
    "data.head()"
   ]
  },
  {
   "cell_type": "markdown",
   "metadata": {},
   "source": [
    "### 2. 数据预处理：注册时间与氪金状况有关吗？"
   ]
  },
  {
   "cell_type": "markdown",
   "metadata": {},
   "source": [
    "从游戏世界的常识以及之前的分析结果来看，资源量的累计、在线时长等特征与用户体验的深度有较大的关联，也就与是否氪金、氪多少金额有较大的关联。但在我们的特征矩阵中，还有一类尚未分析的特征，玩家注册时间，这是全数据集中唯一一个object类型的对象。"
   ]
  },
  {
   "cell_type": "code",
   "execution_count": 126,
   "metadata": {},
   "outputs": [
    {
     "data": {
      "text/plain": [
       "0          2018-02-02 19:47:15\n",
       "1          2018-01-26 00:01:05\n",
       "2          2018-01-26 00:01:58\n",
       "3          2018-01-26 00:02:13\n",
       "4          2018-01-26 00:02:46\n",
       "5          2018-01-26 00:03:06\n",
       "6          2018-01-26 00:03:45\n",
       "7          2018-01-26 00:04:11\n",
       "8          2018-01-26 00:06:01\n",
       "9          2018-01-26 00:07:42\n",
       "10         2018-01-26 00:07:47\n",
       "11         2018-01-26 00:10:27\n",
       "12         2018-01-26 00:10:34\n",
       "13         2018-01-26 00:11:19\n",
       "14         2018-01-26 00:13:32\n",
       "15         2018-01-26 00:13:41\n",
       "16         2018-01-26 00:15:14\n",
       "17         2018-01-26 00:17:14\n",
       "18         2018-01-26 00:17:36\n",
       "19         2018-01-26 00:17:56\n",
       "20         2018-01-26 00:18:14\n",
       "21         2018-01-26 00:19:00\n",
       "22         2018-01-26 00:20:22\n",
       "23         2018-01-26 00:20:47\n",
       "24         2018-01-26 00:22:52\n",
       "25         2018-01-26 00:23:42\n",
       "26         2018-01-26 00:23:52\n",
       "27         2018-01-26 00:23:58\n",
       "28         2018-01-26 00:24:03\n",
       "29         2018-01-26 00:24:24\n",
       "                  ...         \n",
       "2287977    2018-02-03 14:33:31\n",
       "2287978    2018-02-03 14:33:41\n",
       "2287979    2018-02-03 14:34:42\n",
       "2287980    2018-02-03 14:34:57\n",
       "2287981    2018-02-03 14:35:03\n",
       "2287982    2018-02-03 14:35:16\n",
       "2287983    2018-02-03 14:36:30\n",
       "2287984    2018-02-03 14:37:21\n",
       "2287985    2018-02-03 14:37:32\n",
       "2287986    2018-02-03 14:38:07\n",
       "2287987    2018-02-03 14:39:11\n",
       "2287988    2018-02-03 14:39:20\n",
       "2287989    2018-02-03 14:39:27\n",
       "2287990    2018-02-03 14:41:28\n",
       "2287991    2018-02-03 14:43:29\n",
       "2287992    2018-02-03 14:43:47\n",
       "2287993    2018-02-03 14:44:22\n",
       "2287994    2018-02-03 14:46:19\n",
       "2287995    2018-02-03 14:47:38\n",
       "2287996    2018-02-03 14:48:34\n",
       "2287997    2018-02-03 14:48:45\n",
       "2287998    2018-02-03 14:48:50\n",
       "2287999    2018-02-03 14:48:54\n",
       "2288000    2018-02-03 14:53:49\n",
       "2288001    2018-02-03 14:53:54\n",
       "2288002    2018-02-03 14:54:10\n",
       "2288003    2018-02-03 14:55:21\n",
       "2288004    2018-02-03 14:56:35\n",
       "2288005    2018-02-03 14:57:51\n",
       "2288006    2018-02-03 14:58:45\n",
       "Name: 玩家注册时间, Length: 2288007, dtype: object"
      ]
     },
     "execution_count": 126,
     "metadata": {},
     "output_type": "execute_result"
    }
   ],
   "source": [
    "data.loc[:,\"玩家注册时间\"]"
   ]
  },
  {
   "cell_type": "markdown",
   "metadata": {},
   "source": [
    "从常识来看，一般注册时间与用户的氪金行为应该关系不大，在这里我们将时间分成日期和时刻来考虑，分别绘制横坐标为注册日期/注册时刻、纵坐标为该日期/该时刻注册用户氪金均值的关系图，以此来观察注册日期、时刻与氪金是否有关。"
   ]
  },
  {
   "cell_type": "code",
   "execution_count": 129,
   "metadata": {},
   "outputs": [],
   "source": [
    "#首先将玩家注册日期提取出来作为新的一列\n",
    "RegisterDate = data.loc[:,\"玩家注册时间\"].apply(lambda x: x[:10])"
   ]
  },
  {
   "cell_type": "code",
   "execution_count": 130,
   "metadata": {
    "jupyter": {
     "outputs_hidden": true
    }
   },
   "outputs": [
    {
     "data": {
      "text/plain": [
       "0          2018-02-02\n",
       "1          2018-01-26\n",
       "2          2018-01-26\n",
       "3          2018-01-26\n",
       "4          2018-01-26\n",
       "5          2018-01-26\n",
       "6          2018-01-26\n",
       "7          2018-01-26\n",
       "8          2018-01-26\n",
       "9          2018-01-26\n",
       "10         2018-01-26\n",
       "11         2018-01-26\n",
       "12         2018-01-26\n",
       "13         2018-01-26\n",
       "14         2018-01-26\n",
       "15         2018-01-26\n",
       "16         2018-01-26\n",
       "17         2018-01-26\n",
       "18         2018-01-26\n",
       "19         2018-01-26\n",
       "20         2018-01-26\n",
       "21         2018-01-26\n",
       "22         2018-01-26\n",
       "23         2018-01-26\n",
       "24         2018-01-26\n",
       "25         2018-01-26\n",
       "26         2018-01-26\n",
       "27         2018-01-26\n",
       "28         2018-01-26\n",
       "29         2018-01-26\n",
       "              ...    \n",
       "2287977    2018-02-03\n",
       "2287978    2018-02-03\n",
       "2287979    2018-02-03\n",
       "2287980    2018-02-03\n",
       "2287981    2018-02-03\n",
       "2287982    2018-02-03\n",
       "2287983    2018-02-03\n",
       "2287984    2018-02-03\n",
       "2287985    2018-02-03\n",
       "2287986    2018-02-03\n",
       "2287987    2018-02-03\n",
       "2287988    2018-02-03\n",
       "2287989    2018-02-03\n",
       "2287990    2018-02-03\n",
       "2287991    2018-02-03\n",
       "2287992    2018-02-03\n",
       "2287993    2018-02-03\n",
       "2287994    2018-02-03\n",
       "2287995    2018-02-03\n",
       "2287996    2018-02-03\n",
       "2287997    2018-02-03\n",
       "2287998    2018-02-03\n",
       "2287999    2018-02-03\n",
       "2288000    2018-02-03\n",
       "2288001    2018-02-03\n",
       "2288002    2018-02-03\n",
       "2288003    2018-02-03\n",
       "2288004    2018-02-03\n",
       "2288005    2018-02-03\n",
       "2288006    2018-02-03\n",
       "Name: 玩家注册时间, Length: 2288007, dtype: object"
      ]
     },
     "execution_count": 130,
     "metadata": {},
     "output_type": "execute_result"
    }
   ],
   "source": [
    "RegisterDate"
   ]
  },
  {
   "cell_type": "code",
   "execution_count": 131,
   "metadata": {},
   "outputs": [],
   "source": [
    "#按照玩家注册日期对付费金额进行聚合平均计算\n",
    "RegisterDateMean = data[\"付费金额\"].groupby(RegisterDate).mean()"
   ]
  },
  {
   "cell_type": "code",
   "execution_count": 132,
   "metadata": {
    "jupyter": {
     "outputs_hidden": true
    }
   },
   "outputs": [
    {
     "data": {
      "text/plain": [
       "玩家注册时间\n",
       "2018-01-26   0.829\n",
       "2018-01-27   0.412\n",
       "2018-01-28   0.425\n",
       "2018-01-29   0.565\n",
       "2018-01-30   0.777\n",
       "2018-01-31   0.354\n",
       "2018-02-01   0.305\n",
       "2018-02-02   0.847\n",
       "2018-02-03   0.741\n",
       "2018-02-04   0.440\n",
       "2018-02-05   0.684\n",
       "2018-02-06   0.413\n",
       "2018-02-07   0.455\n",
       "2018-02-08   0.478\n",
       "2018-02-09   0.654\n",
       "2018-02-10   0.682\n",
       "2018-02-11   0.405\n",
       "2018-02-12   0.820\n",
       "2018-02-13   0.460\n",
       "2018-02-14   0.485\n",
       "2018-02-15   0.253\n",
       "2018-02-16   0.811\n",
       "2018-02-17   0.400\n",
       "2018-02-18   0.397\n",
       "2018-02-19   0.371\n",
       "2018-02-20   0.271\n",
       "2018-02-21   0.436\n",
       "2018-02-22   0.478\n",
       "2018-02-23   1.042\n",
       "2018-02-24   0.702\n",
       "2018-02-25   0.515\n",
       "2018-02-26   0.957\n",
       "2018-02-27   0.413\n",
       "2018-02-28   0.527\n",
       "2018-03-01   0.503\n",
       "2018-03-02   0.702\n",
       "2018-03-03   0.390\n",
       "2018-03-04   0.382\n",
       "2018-03-05   0.695\n",
       "2018-03-06   0.808\n",
       "Name: 付费金额, dtype: float64"
      ]
     },
     "execution_count": 132,
     "metadata": {},
     "output_type": "execute_result"
    }
   ],
   "source": [
    "RegisterDateMean"
   ]
  },
  {
   "cell_type": "code",
   "execution_count": 133,
   "metadata": {},
   "outputs": [
    {
     "data": {
      "image/png": "[encoded data removed]",
      "text/plain": [
       "<Figure size 1500x300 with 1 Axes>"
      ]
     },
     "metadata": {
      "needs_background": "light"
     },
     "output_type": "display_data"
    }
   ],
   "source": [
    "#绘制图像\n",
    "plt.figure(figsize=(15,3),dpi=100)\n",
    "plt.title(\"不同注册日期的用户氪金均值\")\n",
    "plt.bar(RegisterDateMean.index, RegisterDateMean.values)\n",
    "plt.xticks(RegisterDateMean.index,rotation=60,ha=\"right\");"
   ]
  },
  {
   "cell_type": "markdown",
   "metadata": {},
   "source": [
    "从图上来看，几乎无法看出日期与氪金数额有所联系。看起来整体是比较随机而且杂乱的，但是每隔几天就会有一个高峰。查看将日期转化为一星期中的七天，观察一下星期和氪金数额是否有明显的关系。"
   ]
  },
  {
   "cell_type": "code",
   "execution_count": 134,
   "metadata": {},
   "outputs": [
    {
     "data": {
      "text/plain": [
       "4"
      ]
     },
     "execution_count": 134,
     "metadata": {},
     "output_type": "execute_result"
    }
   ],
   "source": [
    "#必须要将字符串转化为python可以读取的时间格式，这样python才能够基于日期帮助我辨别，这个日期是星期几\n",
    "datetime.datetime.strptime(data.loc[0,\"玩家注册时间\"][:10],\"%Y-%m-%d\").weekday()"
   ]
  },
  {
   "cell_type": "code",
   "execution_count": 135,
   "metadata": {},
   "outputs": [],
   "source": [
    "#weekday - [0,1,2,3,4,5,6]"
   ]
  },
  {
   "cell_type": "code",
   "execution_count": 136,
   "metadata": {},
   "outputs": [],
   "source": [
    "RegisterWeekday = data.loc[:,\"玩家注册时间\"].apply(lambda x: datetime.datetime.strptime(x[:10],\"%Y-%m-%d\").weekday()+1) #1~7分别代表周一到周日"
   ]
  },
  {
   "cell_type": "code",
   "execution_count": 137,
   "metadata": {
    "collapsed": true
   },
   "outputs": [
    {
     "data": {
      "text/plain": [
       "0          5\n",
       "1          5\n",
       "2          5\n",
       "3          5\n",
       "4          5\n",
       "5          5\n",
       "6          5\n",
       "7          5\n",
       "8          5\n",
       "9          5\n",
       "10         5\n",
       "11         5\n",
       "12         5\n",
       "13         5\n",
       "14         5\n",
       "15         5\n",
       "16         5\n",
       "17         5\n",
       "18         5\n",
       "19         5\n",
       "20         5\n",
       "21         5\n",
       "22         5\n",
       "23         5\n",
       "24         5\n",
       "25         5\n",
       "26         5\n",
       "27         5\n",
       "28         5\n",
       "29         5\n",
       "          ..\n",
       "2287977    6\n",
       "2287978    6\n",
       "2287979    6\n",
       "2287980    6\n",
       "2287981    6\n",
       "2287982    6\n",
       "2287983    6\n",
       "2287984    6\n",
       "2287985    6\n",
       "2287986    6\n",
       "2287987    6\n",
       "2287988    6\n",
       "2287989    6\n",
       "2287990    6\n",
       "2287991    6\n",
       "2287992    6\n",
       "2287993    6\n",
       "2287994    6\n",
       "2287995    6\n",
       "2287996    6\n",
       "2287997    6\n",
       "2287998    6\n",
       "2287999    6\n",
       "2288000    6\n",
       "2288001    6\n",
       "2288002    6\n",
       "2288003    6\n",
       "2288004    6\n",
       "2288005    6\n",
       "2288006    6\n",
       "Name: 玩家注册时间, Length: 2288007, dtype: int64"
      ]
     },
     "execution_count": 137,
     "metadata": {},
     "output_type": "execute_result"
    }
   ],
   "source": [
    "RegisterWeekday"
   ]
  },
  {
   "cell_type": "code",
   "execution_count": 138,
   "metadata": {},
   "outputs": [],
   "source": [
    "RegisterWeekDayMean = data[\"付费金额\"].groupby(RegisterWeekday).mean()"
   ]
  },
  {
   "cell_type": "code",
   "execution_count": 139,
   "metadata": {},
   "outputs": [
    {
     "data": {
      "text/plain": [
       "玩家注册时间\n",
       "1   0.618\n",
       "2   0.485\n",
       "3   0.448\n",
       "4   0.378\n",
       "5   0.815\n",
       "6   0.549\n",
       "7   0.426\n",
       "Name: 付费金额, dtype: float64"
      ]
     },
     "execution_count": 139,
     "metadata": {},
     "output_type": "execute_result"
    }
   ],
   "source": [
    "RegisterWeekDayMean"
   ]
  },
  {
   "cell_type": "code",
   "execution_count": 141,
   "metadata": {},
   "outputs": [
    {
     "data": {
      "image/png": "[encoded data removed]",
      "text/plain": [
       "<Figure size 400x400 with 1 Axes>"
      ]
     },
     "metadata": {
      "needs_background": "light"
     },
     "output_type": "display_data"
    }
   ],
   "source": [
    "#绘制图像\n",
    "plt.figure(figsize=(4,4),dpi=100)\n",
    "plt.title(\"不同注册日期（星期）的用户氪金均值\")\n",
    "plt.bar(RegisterWeekDayMean.index, RegisterWeekDayMean.values)\n",
    "plt.xticks(RegisterWeekDayMean.index,rotation=60,ha=\"right\");"
   ]
  },
  {
   "cell_type": "markdown",
   "metadata": {},
   "source": [
    "很明显，周五、周一注册的人有较高的氪金金额，并且在高峰之后会逐渐下降。这个趋势看起来是氪金金额与星期相关，但实际上更可能是跟游戏买量、投放的节奏和渠道有关。或许每周五、每周一都可以排到质量较高的用户所在的渠道，或者周五会吸引到大量准备过周末的玩家的注意、周一则会吸引到大量还不想投入工作的玩家的注意。周五与周一的高峰暗示这两天进入的流量可能是有规律工作、有经济收入的人。但无论真相是什么，从特征的角度来看，我们可以计算一下星期与45日付费金额的相关系数："
   ]
  },
  {
   "cell_type": "code",
   "execution_count": 142,
   "metadata": {},
   "outputs": [
    {
     "data": {
      "text/html": [
       "<div>\n",
       "<style scoped>\n",
       "    .dataframe tbody tr th:only-of-type {\n",
       "        vertical-align: middle;\n",
       "    }\n",
       "\n",
       "    .dataframe tbody tr th {\n",
       "        vertical-align: top;\n",
       "    }\n",
       "\n",
       "    .dataframe thead th {\n",
       "        text-align: right;\n",
       "    }\n",
       "</style>\n",
       "<table border=\"1\" class=\"dataframe\">\n",
       "  <thead>\n",
       "    <tr style=\"text-align: right;\">\n",
       "      <th></th>\n",
       "      <th>45日付费金额</th>\n",
       "      <th>玩家注册时间</th>\n",
       "    </tr>\n",
       "  </thead>\n",
       "  <tbody>\n",
       "    <tr>\n",
       "      <th>45日付费金额</th>\n",
       "      <td>1.000</td>\n",
       "      <td>0.000</td>\n",
       "    </tr>\n",
       "    <tr>\n",
       "      <th>玩家注册时间</th>\n",
       "      <td>0.000</td>\n",
       "      <td>1.000</td>\n",
       "    </tr>\n",
       "  </tbody>\n",
       "</table>\n",
       "</div>"
      ],
      "text/plain": [
       "         45日付费金额  玩家注册时间\n",
       "45日付费金额    1.000   0.000\n",
       "玩家注册时间     0.000   1.000"
      ]
     },
     "execution_count": 142,
     "metadata": {},
     "output_type": "execute_result"
    }
   ],
   "source": [
    "pd.concat([data[\"45日付费金额\"],RegisterWeekday],axis=1).corr()"
   ]
  },
  {
   "cell_type": "markdown",
   "metadata": {},
   "source": [
    "相关系数非常非常小，两者几乎不相关，不将星期放入特征矩阵了。"
   ]
  },
  {
   "cell_type": "code",
   "execution_count": 143,
   "metadata": {},
   "outputs": [],
   "source": [
    "#将时刻也单独列一列，提取小时数作为特征\n",
    "RegisterTime = data.loc[:,\"玩家注册时间\"].apply(lambda x: int(x[11:13]))"
   ]
  },
  {
   "cell_type": "code",
   "execution_count": 144,
   "metadata": {},
   "outputs": [
    {
     "data": {
      "text/plain": [
       "0          19\n",
       "1           0\n",
       "2           0\n",
       "3           0\n",
       "4           0\n",
       "5           0\n",
       "6           0\n",
       "7           0\n",
       "8           0\n",
       "9           0\n",
       "10          0\n",
       "11          0\n",
       "12          0\n",
       "13          0\n",
       "14          0\n",
       "15          0\n",
       "16          0\n",
       "17          0\n",
       "18          0\n",
       "19          0\n",
       "20          0\n",
       "21          0\n",
       "22          0\n",
       "23          0\n",
       "24          0\n",
       "25          0\n",
       "26          0\n",
       "27          0\n",
       "28          0\n",
       "29          0\n",
       "           ..\n",
       "2287977    14\n",
       "2287978    14\n",
       "2287979    14\n",
       "2287980    14\n",
       "2287981    14\n",
       "2287982    14\n",
       "2287983    14\n",
       "2287984    14\n",
       "2287985    14\n",
       "2287986    14\n",
       "2287987    14\n",
       "2287988    14\n",
       "2287989    14\n",
       "2287990    14\n",
       "2287991    14\n",
       "2287992    14\n",
       "2287993    14\n",
       "2287994    14\n",
       "2287995    14\n",
       "2287996    14\n",
       "2287997    14\n",
       "2287998    14\n",
       "2287999    14\n",
       "2288000    14\n",
       "2288001    14\n",
       "2288002    14\n",
       "2288003    14\n",
       "2288004    14\n",
       "2288005    14\n",
       "2288006    14\n",
       "Name: 玩家注册时间, Length: 2288007, dtype: int64"
      ]
     },
     "execution_count": 144,
     "metadata": {},
     "output_type": "execute_result"
    }
   ],
   "source": [
    "RegisterTime"
   ]
  },
  {
   "cell_type": "code",
   "execution_count": 145,
   "metadata": {},
   "outputs": [],
   "source": [
    "#按玩家注册时刻进行聚合，求均值\n",
    "RegisterTimeMean = data[\"付费金额\"].groupby(RegisterTime).mean()"
   ]
  },
  {
   "cell_type": "code",
   "execution_count": 146,
   "metadata": {},
   "outputs": [
    {
     "data": {
      "text/plain": [
       "玩家注册时间\n",
       "0    0.543\n",
       "1    0.432\n",
       "2    0.350\n",
       "3    0.400\n",
       "4    0.390\n",
       "5    0.427\n",
       "6    0.427\n",
       "7    0.363\n",
       "8    0.371\n",
       "9    0.335\n",
       "10   1.268\n",
       "11   1.028\n",
       "12   0.726\n",
       "13   0.520\n",
       "14   0.570\n",
       "15   0.640\n",
       "16   0.725\n",
       "17   0.450\n",
       "18   0.465\n",
       "19   0.383\n",
       "20   0.388\n",
       "21   0.432\n",
       "22   0.599\n",
       "23   0.571\n",
       "Name: 付费金额, dtype: float64"
      ]
     },
     "execution_count": 146,
     "metadata": {},
     "output_type": "execute_result"
    }
   ],
   "source": [
    "RegisterTimeMean"
   ]
  },
  {
   "cell_type": "code",
   "execution_count": 147,
   "metadata": {},
   "outputs": [
    {
     "data": {
      "image/png": "[encoded data removed]",
      "text/plain": [
       "<Figure size 1500x300 with 1 Axes>"
      ]
     },
     "metadata": {
      "needs_background": "light"
     },
     "output_type": "display_data"
    }
   ],
   "source": [
    "#绘制图像\n",
    "plt.figure(figsize=(15,3),dpi=100)\n",
    "plt.title(\"不同注册时刻的用户氪金均值\")\n",
    "plt.bar(RegisterTimeMean.index, RegisterTimeMean.values)\n",
    "plt.xticks(RegisterTimeMean.index,rotation=60,ha=\"right\");"
   ]
  },
  {
   "cell_type": "markdown",
   "metadata": {},
   "source": [
    "早上10点-12点之间注册的用户、以及下午4点-5点之间表现出比其他时段注册的用户更高的氪金能力，这可能是与推广渠道有关，也可能真的是注册时刻与氪金金额有关。巧合的是，上午10点与下午4点正是上班时间中摸鱼喝茶的时间，如果能够确定这个时间在推广的是哪些渠道，就能够确定相关用户的画像，来判断是否真是时间与氪金数额有关了。同时，也来看看相关系数："
   ]
  },
  {
   "cell_type": "code",
   "execution_count": 148,
   "metadata": {},
   "outputs": [
    {
     "data": {
      "text/html": [
       "<div>\n",
       "<style scoped>\n",
       "    .dataframe tbody tr th:only-of-type {\n",
       "        vertical-align: middle;\n",
       "    }\n",
       "\n",
       "    .dataframe tbody tr th {\n",
       "        vertical-align: top;\n",
       "    }\n",
       "\n",
       "    .dataframe thead th {\n",
       "        text-align: right;\n",
       "    }\n",
       "</style>\n",
       "<table border=\"1\" class=\"dataframe\">\n",
       "  <thead>\n",
       "    <tr style=\"text-align: right;\">\n",
       "      <th></th>\n",
       "      <th>45日付费金额</th>\n",
       "      <th>玩家注册时间</th>\n",
       "    </tr>\n",
       "  </thead>\n",
       "  <tbody>\n",
       "    <tr>\n",
       "      <th>45日付费金额</th>\n",
       "      <td>1.000</td>\n",
       "      <td>0.001</td>\n",
       "    </tr>\n",
       "    <tr>\n",
       "      <th>玩家注册时间</th>\n",
       "      <td>0.001</td>\n",
       "      <td>1.000</td>\n",
       "    </tr>\n",
       "  </tbody>\n",
       "</table>\n",
       "</div>"
      ],
      "text/plain": [
       "         45日付费金额  玩家注册时间\n",
       "45日付费金额    1.000   0.001\n",
       "玩家注册时间     0.001   1.000"
      ]
     },
     "execution_count": 148,
     "metadata": {},
     "output_type": "execute_result"
    }
   ],
   "source": [
    "pd.concat([data[\"45日付费金额\"],RegisterTime],axis=1).corr()"
   ]
  },
  {
   "cell_type": "markdown",
   "metadata": {},
   "source": [
    "看起来注册时刻与付费金额有一点点关系（非常微弱），我们可以保留注册时刻为建模用。"
   ]
  },
  {
   "cell_type": "markdown",
   "metadata": {},
   "source": [
    "增加玩家注册时刻作为特征，注意要添加到标签的前面，维持标签是最后一列"
   ]
  },
  {
   "cell_type": "code",
   "execution_count": 149,
   "metadata": {},
   "outputs": [
    {
     "data": {
      "text/plain": [
       "109"
      ]
     },
     "execution_count": 149,
     "metadata": {},
     "output_type": "execute_result"
    }
   ],
   "source": [
    "data.shape[1]"
   ]
  },
  {
   "cell_type": "code",
   "execution_count": 150,
   "metadata": {},
   "outputs": [],
   "source": [
    "data.insert(data.shape[1]-1,\"玩家注册时刻\",RegisterTime)"
   ]
  },
  {
   "cell_type": "markdown",
   "metadata": {},
   "source": [
    "现在可以删除最初的“注册时间”这个特征了，同时，也可以将玩家唯一ID删除，因为ID应当不是有助于建模的特征。"
   ]
  },
  {
   "cell_type": "code",
   "execution_count": 151,
   "metadata": {},
   "outputs": [],
   "source": [
    "data.drop(columns=[\"玩家注册时间\",\"玩家唯一ID\"],inplace=True) #删除不需要的特征"
   ]
  },
  {
   "cell_type": "code",
   "execution_count": 152,
   "metadata": {},
   "outputs": [
    {
     "data": {
      "text/plain": [
       "Index(['木头获取数量', '木头消耗数量', '石头获取数量', '石头消耗数量', '象牙获取数量', '象牙消耗数量', '肉获取数量',\n",
       "       '肉消耗数量', '魔法获取数量', '魔法消耗数量',\n",
       "       ...\n",
       "       '主动发起PVP次数', 'PVP胜利次数', 'PVE次数', '主动发起PVE次数', 'PVE胜利次数', '在线时长', '付费金额',\n",
       "       '付费次数', '玩家注册时刻', '45日付费金额'],\n",
       "      dtype='object', name='字段解释', length=108)"
      ]
     },
     "execution_count": 152,
     "metadata": {},
     "output_type": "execute_result"
    }
   ],
   "source": [
    "data.columns"
   ]
  },
  {
   "cell_type": "markdown",
   "metadata": {},
   "source": [
    "### 3. 模型选择与benchmark"
   ]
  },
  {
   "cell_type": "code",
   "execution_count": 153,
   "metadata": {},
   "outputs": [
    {
     "data": {
      "text/html": [
       "<div>\n",
       "<style scoped>\n",
       "    .dataframe tbody tr th:only-of-type {\n",
       "        vertical-align: middle;\n",
       "    }\n",
       "\n",
       "    .dataframe tbody tr th {\n",
       "        vertical-align: top;\n",
       "    }\n",
       "\n",
       "    .dataframe thead th {\n",
       "        text-align: right;\n",
       "    }\n",
       "</style>\n",
       "<table border=\"1\" class=\"dataframe\">\n",
       "  <thead>\n",
       "    <tr style=\"text-align: right;\">\n",
       "      <th>字段解释</th>\n",
       "      <th>木头获取数量</th>\n",
       "      <th>木头消耗数量</th>\n",
       "      <th>石头获取数量</th>\n",
       "      <th>石头消耗数量</th>\n",
       "      <th>象牙获取数量</th>\n",
       "      <th>象牙消耗数量</th>\n",
       "      <th>肉获取数量</th>\n",
       "      <th>肉消耗数量</th>\n",
       "      <th>魔法获取数量</th>\n",
       "      <th>魔法消耗数量</th>\n",
       "      <th>...</th>\n",
       "      <th>主动发起PVP次数</th>\n",
       "      <th>PVP胜利次数</th>\n",
       "      <th>PVE次数</th>\n",
       "      <th>主动发起PVE次数</th>\n",
       "      <th>PVE胜利次数</th>\n",
       "      <th>在线时长</th>\n",
       "      <th>付费金额</th>\n",
       "      <th>付费次数</th>\n",
       "      <th>玩家注册时刻</th>\n",
       "      <th>45日付费金额</th>\n",
       "    </tr>\n",
       "  </thead>\n",
       "  <tbody>\n",
       "    <tr>\n",
       "      <th>0</th>\n",
       "      <td>20125.000</td>\n",
       "      <td>3700.000</td>\n",
       "      <td>0.000</td>\n",
       "      <td>0.000</td>\n",
       "      <td>0.000</td>\n",
       "      <td>0.000</td>\n",
       "      <td>16375.000</td>\n",
       "      <td>2000.000</td>\n",
       "      <td>0.000</td>\n",
       "      <td>0.000</td>\n",
       "      <td>...</td>\n",
       "      <td>0</td>\n",
       "      <td>0</td>\n",
       "      <td>0</td>\n",
       "      <td>0</td>\n",
       "      <td>0</td>\n",
       "      <td>0.333</td>\n",
       "      <td>0.000</td>\n",
       "      <td>0</td>\n",
       "      <td>19</td>\n",
       "      <td>0.000</td>\n",
       "    </tr>\n",
       "    <tr>\n",
       "      <th>1</th>\n",
       "      <td>0.000</td>\n",
       "      <td>0.000</td>\n",
       "      <td>0.000</td>\n",
       "      <td>0.000</td>\n",
       "      <td>0.000</td>\n",
       "      <td>0.000</td>\n",
       "      <td>0.000</td>\n",
       "      <td>0.000</td>\n",
       "      <td>0.000</td>\n",
       "      <td>0.000</td>\n",
       "      <td>...</td>\n",
       "      <td>0</td>\n",
       "      <td>0</td>\n",
       "      <td>0</td>\n",
       "      <td>0</td>\n",
       "      <td>0</td>\n",
       "      <td>0.333</td>\n",
       "      <td>0.000</td>\n",
       "      <td>0</td>\n",
       "      <td>0</td>\n",
       "      <td>0.000</td>\n",
       "    </tr>\n",
       "    <tr>\n",
       "      <th>2</th>\n",
       "      <td>0.000</td>\n",
       "      <td>0.000</td>\n",
       "      <td>0.000</td>\n",
       "      <td>0.000</td>\n",
       "      <td>0.000</td>\n",
       "      <td>0.000</td>\n",
       "      <td>0.000</td>\n",
       "      <td>0.000</td>\n",
       "      <td>0.000</td>\n",
       "      <td>0.000</td>\n",
       "      <td>...</td>\n",
       "      <td>0</td>\n",
       "      <td>0</td>\n",
       "      <td>0</td>\n",
       "      <td>0</td>\n",
       "      <td>0</td>\n",
       "      <td>1.167</td>\n",
       "      <td>0.000</td>\n",
       "      <td>0</td>\n",
       "      <td>0</td>\n",
       "      <td>0.000</td>\n",
       "    </tr>\n",
       "    <tr>\n",
       "      <th>3</th>\n",
       "      <td>0.000</td>\n",
       "      <td>0.000</td>\n",
       "      <td>0.000</td>\n",
       "      <td>0.000</td>\n",
       "      <td>0.000</td>\n",
       "      <td>0.000</td>\n",
       "      <td>0.000</td>\n",
       "      <td>0.000</td>\n",
       "      <td>0.000</td>\n",
       "      <td>0.000</td>\n",
       "      <td>...</td>\n",
       "      <td>0</td>\n",
       "      <td>0</td>\n",
       "      <td>0</td>\n",
       "      <td>0</td>\n",
       "      <td>0</td>\n",
       "      <td>3.167</td>\n",
       "      <td>0.000</td>\n",
       "      <td>0</td>\n",
       "      <td>0</td>\n",
       "      <td>0.000</td>\n",
       "    </tr>\n",
       "    <tr>\n",
       "      <th>4</th>\n",
       "      <td>0.000</td>\n",
       "      <td>0.000</td>\n",
       "      <td>0.000</td>\n",
       "      <td>0.000</td>\n",
       "      <td>0.000</td>\n",
       "      <td>0.000</td>\n",
       "      <td>0.000</td>\n",
       "      <td>0.000</td>\n",
       "      <td>0.000</td>\n",
       "      <td>0.000</td>\n",
       "      <td>...</td>\n",
       "      <td>0</td>\n",
       "      <td>0</td>\n",
       "      <td>0</td>\n",
       "      <td>0</td>\n",
       "      <td>0</td>\n",
       "      <td>2.333</td>\n",
       "      <td>0.000</td>\n",
       "      <td>0</td>\n",
       "      <td>0</td>\n",
       "      <td>0.000</td>\n",
       "    </tr>\n",
       "  </tbody>\n",
       "</table>\n",
       "<p>5 rows × 108 columns</p>\n",
       "</div>"
      ],
      "text/plain": [
       "字段解释    木头获取数量   木头消耗数量  石头获取数量  石头消耗数量  象牙获取数量  象牙消耗数量     肉获取数量    肉消耗数量  \\\n",
       "0    20125.000 3700.000   0.000   0.000   0.000   0.000 16375.000 2000.000   \n",
       "1        0.000    0.000   0.000   0.000   0.000   0.000     0.000    0.000   \n",
       "2        0.000    0.000   0.000   0.000   0.000   0.000     0.000    0.000   \n",
       "3        0.000    0.000   0.000   0.000   0.000   0.000     0.000    0.000   \n",
       "4        0.000    0.000   0.000   0.000   0.000   0.000     0.000    0.000   \n",
       "\n",
       "字段解释  魔法获取数量  魔法消耗数量   ...     主动发起PVP次数  PVP胜利次数  PVE次数  主动发起PVE次数  PVE胜利次数  \\\n",
       "0      0.000   0.000   ...             0        0      0          0        0   \n",
       "1      0.000   0.000   ...             0        0      0          0        0   \n",
       "2      0.000   0.000   ...             0        0      0          0        0   \n",
       "3      0.000   0.000   ...             0        0      0          0        0   \n",
       "4      0.000   0.000   ...             0        0      0          0        0   \n",
       "\n",
       "字段解释  在线时长  付费金额  付费次数  玩家注册时刻  45日付费金额  \n",
       "0    0.333 0.000     0      19    0.000  \n",
       "1    0.333 0.000     0       0    0.000  \n",
       "2    1.167 0.000     0       0    0.000  \n",
       "3    3.167 0.000     0       0    0.000  \n",
       "4    2.333 0.000     0       0    0.000  \n",
       "\n",
       "[5 rows x 108 columns]"
      ]
     },
     "execution_count": 153,
     "metadata": {},
     "output_type": "execute_result"
    }
   ],
   "source": [
    "data.head()"
   ]
  },
  {
   "cell_type": "code",
   "execution_count": 154,
   "metadata": {},
   "outputs": [],
   "source": [
    "#将标签提取出来，分割标签与特征\n",
    "X = data.iloc[:,:-1]\n",
    "y = data.iloc[:,-1]"
   ]
  },
  {
   "cell_type": "code",
   "execution_count": 155,
   "metadata": {},
   "outputs": [
    {
     "data": {
      "text/plain": [
       "(2288007,)"
      ]
     },
     "execution_count": 155,
     "metadata": {},
     "output_type": "execute_result"
    }
   ],
   "source": [
    "y.shape"
   ]
  },
  {
   "cell_type": "code",
   "execution_count": 156,
   "metadata": {},
   "outputs": [
    {
     "data": {
      "text/plain": [
       "(2288007, 107)"
      ]
     },
     "execution_count": 156,
     "metadata": {},
     "output_type": "execute_result"
    }
   ],
   "source": [
    "X.shape"
   ]
  },
  {
   "cell_type": "code",
   "execution_count": 157,
   "metadata": {},
   "outputs": [
    {
     "data": {
      "text/plain": [
       "0   0.000\n",
       "1   0.000\n",
       "2   0.000\n",
       "3   0.000\n",
       "4   0.000\n",
       "Name: 45日付费金额, dtype: float64"
      ]
     },
     "execution_count": 157,
     "metadata": {},
     "output_type": "execute_result"
    }
   ],
   "source": [
    "y.head()"
   ]
  },
  {
   "cell_type": "markdown",
   "metadata": {},
   "source": [
    "**建立benchmark**"
   ]
  },
  {
   "cell_type": "code",
   "execution_count": 158,
   "metadata": {},
   "outputs": [],
   "source": [
    "from sklearn.linear_model import LinearRegression as LR #线性回归\n",
    "from sklearn.model_selection import train_test_split as TTS #分割训练集与测试集的类\n",
    "from sklearn.metrics import mean_squared_error as MSE #模型评估指标"
   ]
  },
  {
   "cell_type": "code",
   "execution_count": 159,
   "metadata": {},
   "outputs": [],
   "source": [
    "#数据分割\n",
    "Xtrain, Xtest, Ytrain, Ytest = TTS(X,y,test_size=0.3,random_state=1412)"
   ]
  },
  {
   "cell_type": "code",
   "execution_count": 160,
   "metadata": {},
   "outputs": [
    {
     "data": {
      "text/plain": [
       "(1601604, 107)"
      ]
     },
     "execution_count": 160,
     "metadata": {},
     "output_type": "execute_result"
    }
   ],
   "source": [
    "Xtrain.shape"
   ]
  },
  {
   "cell_type": "code",
   "execution_count": 161,
   "metadata": {},
   "outputs": [
    {
     "data": {
      "text/plain": [
       "(686403, 107)"
      ]
     },
     "execution_count": 161,
     "metadata": {},
     "output_type": "execute_result"
    }
   ],
   "source": [
    "Xtest.shape"
   ]
  },
  {
   "cell_type": "code",
   "execution_count": 162,
   "metadata": {},
   "outputs": [
    {
     "data": {
      "text/html": [
       "<div>\n",
       "<style scoped>\n",
       "    .dataframe tbody tr th:only-of-type {\n",
       "        vertical-align: middle;\n",
       "    }\n",
       "\n",
       "    .dataframe tbody tr th {\n",
       "        vertical-align: top;\n",
       "    }\n",
       "\n",
       "    .dataframe thead th {\n",
       "        text-align: right;\n",
       "    }\n",
       "</style>\n",
       "<table border=\"1\" class=\"dataframe\">\n",
       "  <thead>\n",
       "    <tr style=\"text-align: right;\">\n",
       "      <th>字段解释</th>\n",
       "      <th>木头获取数量</th>\n",
       "      <th>木头消耗数量</th>\n",
       "      <th>石头获取数量</th>\n",
       "      <th>石头消耗数量</th>\n",
       "      <th>象牙获取数量</th>\n",
       "      <th>象牙消耗数量</th>\n",
       "      <th>肉获取数量</th>\n",
       "      <th>肉消耗数量</th>\n",
       "      <th>魔法获取数量</th>\n",
       "      <th>魔法消耗数量</th>\n",
       "      <th>...</th>\n",
       "      <th>PVP次数</th>\n",
       "      <th>主动发起PVP次数</th>\n",
       "      <th>PVP胜利次数</th>\n",
       "      <th>PVE次数</th>\n",
       "      <th>主动发起PVE次数</th>\n",
       "      <th>PVE胜利次数</th>\n",
       "      <th>在线时长</th>\n",
       "      <th>付费金额</th>\n",
       "      <th>付费次数</th>\n",
       "      <th>玩家注册时刻</th>\n",
       "    </tr>\n",
       "  </thead>\n",
       "  <tbody>\n",
       "    <tr>\n",
       "      <th>243592</th>\n",
       "      <td>10000.000</td>\n",
       "      <td>600.000</td>\n",
       "      <td>0.000</td>\n",
       "      <td>0.000</td>\n",
       "      <td>0.000</td>\n",
       "      <td>0.000</td>\n",
       "      <td>10000.000</td>\n",
       "      <td>400.000</td>\n",
       "      <td>0.000</td>\n",
       "      <td>0.000</td>\n",
       "      <td>...</td>\n",
       "      <td>0</td>\n",
       "      <td>0</td>\n",
       "      <td>0</td>\n",
       "      <td>0</td>\n",
       "      <td>0</td>\n",
       "      <td>0</td>\n",
       "      <td>0.167</td>\n",
       "      <td>0.000</td>\n",
       "      <td>0</td>\n",
       "      <td>19</td>\n",
       "    </tr>\n",
       "    <tr>\n",
       "      <th>361662</th>\n",
       "      <td>39038.000</td>\n",
       "      <td>8750.000</td>\n",
       "      <td>0.000</td>\n",
       "      <td>0.000</td>\n",
       "      <td>3000.000</td>\n",
       "      <td>0.000</td>\n",
       "      <td>42434.000</td>\n",
       "      <td>6060.000</td>\n",
       "      <td>0.000</td>\n",
       "      <td>0.000</td>\n",
       "      <td>...</td>\n",
       "      <td>1</td>\n",
       "      <td>0</td>\n",
       "      <td>0</td>\n",
       "      <td>1</td>\n",
       "      <td>1</td>\n",
       "      <td>1</td>\n",
       "      <td>0.833</td>\n",
       "      <td>0.000</td>\n",
       "      <td>0</td>\n",
       "      <td>12</td>\n",
       "    </tr>\n",
       "    <tr>\n",
       "      <th>1319519</th>\n",
       "      <td>10000.000</td>\n",
       "      <td>1600.000</td>\n",
       "      <td>0.000</td>\n",
       "      <td>0.000</td>\n",
       "      <td>0.000</td>\n",
       "      <td>0.000</td>\n",
       "      <td>10000.000</td>\n",
       "      <td>900.000</td>\n",
       "      <td>0.000</td>\n",
       "      <td>0.000</td>\n",
       "      <td>...</td>\n",
       "      <td>0</td>\n",
       "      <td>0</td>\n",
       "      <td>0</td>\n",
       "      <td>0</td>\n",
       "      <td>0</td>\n",
       "      <td>0</td>\n",
       "      <td>0.167</td>\n",
       "      <td>0.000</td>\n",
       "      <td>0</td>\n",
       "      <td>15</td>\n",
       "    </tr>\n",
       "    <tr>\n",
       "      <th>276423</th>\n",
       "      <td>26625.000</td>\n",
       "      <td>6900.000</td>\n",
       "      <td>0.000</td>\n",
       "      <td>0.000</td>\n",
       "      <td>0.000</td>\n",
       "      <td>0.000</td>\n",
       "      <td>31625.000</td>\n",
       "      <td>3900.000</td>\n",
       "      <td>0.000</td>\n",
       "      <td>0.000</td>\n",
       "      <td>...</td>\n",
       "      <td>1</td>\n",
       "      <td>1</td>\n",
       "      <td>0</td>\n",
       "      <td>0</td>\n",
       "      <td>0</td>\n",
       "      <td>0</td>\n",
       "      <td>4.500</td>\n",
       "      <td>0.000</td>\n",
       "      <td>0</td>\n",
       "      <td>9</td>\n",
       "    </tr>\n",
       "    <tr>\n",
       "      <th>1060863</th>\n",
       "      <td>0.000</td>\n",
       "      <td>0.000</td>\n",
       "      <td>0.000</td>\n",
       "      <td>0.000</td>\n",
       "      <td>0.000</td>\n",
       "      <td>0.000</td>\n",
       "      <td>0.000</td>\n",
       "      <td>0.000</td>\n",
       "      <td>0.000</td>\n",
       "      <td>0.000</td>\n",
       "      <td>...</td>\n",
       "      <td>0</td>\n",
       "      <td>0</td>\n",
       "      <td>0</td>\n",
       "      <td>0</td>\n",
       "      <td>0</td>\n",
       "      <td>0</td>\n",
       "      <td>0.667</td>\n",
       "      <td>0.000</td>\n",
       "      <td>0</td>\n",
       "      <td>4</td>\n",
       "    </tr>\n",
       "  </tbody>\n",
       "</table>\n",
       "<p>5 rows × 107 columns</p>\n",
       "</div>"
      ],
      "text/plain": [
       "字段解释       木头获取数量   木头消耗数量  石头获取数量  石头消耗数量   象牙获取数量  象牙消耗数量     肉获取数量  \\\n",
       "243592  10000.000  600.000   0.000   0.000    0.000   0.000 10000.000   \n",
       "361662  39038.000 8750.000   0.000   0.000 3000.000   0.000 42434.000   \n",
       "1319519 10000.000 1600.000   0.000   0.000    0.000   0.000 10000.000   \n",
       "276423  26625.000 6900.000   0.000   0.000    0.000   0.000 31625.000   \n",
       "1060863     0.000    0.000   0.000   0.000    0.000   0.000     0.000   \n",
       "\n",
       "字段解释       肉消耗数量  魔法获取数量  魔法消耗数量   ...    PVP次数  主动发起PVP次数  PVP胜利次数  PVE次数  \\\n",
       "243592   400.000   0.000   0.000   ...        0          0        0      0   \n",
       "361662  6060.000   0.000   0.000   ...        1          0        0      1   \n",
       "1319519  900.000   0.000   0.000   ...        0          0        0      0   \n",
       "276423  3900.000   0.000   0.000   ...        1          1        0      0   \n",
       "1060863    0.000   0.000   0.000   ...        0          0        0      0   \n",
       "\n",
       "字段解释     主动发起PVE次数  PVE胜利次数  在线时长  付费金额  付费次数  玩家注册时刻  \n",
       "243592           0        0 0.167 0.000     0      19  \n",
       "361662           1        1 0.833 0.000     0      12  \n",
       "1319519          0        0 0.167 0.000     0      15  \n",
       "276423           0        0 4.500 0.000     0       9  \n",
       "1060863          0        0 0.667 0.000     0       4  \n",
       "\n",
       "[5 rows x 107 columns]"
      ]
     },
     "execution_count": 162,
     "metadata": {},
     "output_type": "execute_result"
    }
   ],
   "source": [
    "Xtrain.head()"
   ]
  },
  {
   "cell_type": "code",
   "execution_count": 163,
   "metadata": {},
   "outputs": [],
   "source": [
    "#分割完毕后需要恢复索引\n",
    "for i in [Xtrain, Xtest]:\n",
    "    i.index = range(i.shape[0])"
   ]
  },
  {
   "cell_type": "code",
   "execution_count": 164,
   "metadata": {},
   "outputs": [
    {
     "data": {
      "text/html": [
       "<div>\n",
       "<style scoped>\n",
       "    .dataframe tbody tr th:only-of-type {\n",
       "        vertical-align: middle;\n",
       "    }\n",
       "\n",
       "    .dataframe tbody tr th {\n",
       "        vertical-align: top;\n",
       "    }\n",
       "\n",
       "    .dataframe thead th {\n",
       "        text-align: right;\n",
       "    }\n",
       "</style>\n",
       "<table border=\"1\" class=\"dataframe\">\n",
       "  <thead>\n",
       "    <tr style=\"text-align: right;\">\n",
       "      <th>字段解释</th>\n",
       "      <th>木头获取数量</th>\n",
       "      <th>木头消耗数量</th>\n",
       "      <th>石头获取数量</th>\n",
       "      <th>石头消耗数量</th>\n",
       "      <th>象牙获取数量</th>\n",
       "      <th>象牙消耗数量</th>\n",
       "      <th>肉获取数量</th>\n",
       "      <th>肉消耗数量</th>\n",
       "      <th>魔法获取数量</th>\n",
       "      <th>魔法消耗数量</th>\n",
       "      <th>...</th>\n",
       "      <th>PVP次数</th>\n",
       "      <th>主动发起PVP次数</th>\n",
       "      <th>PVP胜利次数</th>\n",
       "      <th>PVE次数</th>\n",
       "      <th>主动发起PVE次数</th>\n",
       "      <th>PVE胜利次数</th>\n",
       "      <th>在线时长</th>\n",
       "      <th>付费金额</th>\n",
       "      <th>付费次数</th>\n",
       "      <th>玩家注册时刻</th>\n",
       "    </tr>\n",
       "  </thead>\n",
       "  <tbody>\n",
       "    <tr>\n",
       "      <th>0</th>\n",
       "      <td>10000.000</td>\n",
       "      <td>600.000</td>\n",
       "      <td>0.000</td>\n",
       "      <td>0.000</td>\n",
       "      <td>0.000</td>\n",
       "      <td>0.000</td>\n",
       "      <td>10000.000</td>\n",
       "      <td>400.000</td>\n",
       "      <td>0.000</td>\n",
       "      <td>0.000</td>\n",
       "      <td>...</td>\n",
       "      <td>0</td>\n",
       "      <td>0</td>\n",
       "      <td>0</td>\n",
       "      <td>0</td>\n",
       "      <td>0</td>\n",
       "      <td>0</td>\n",
       "      <td>0.167</td>\n",
       "      <td>0.000</td>\n",
       "      <td>0</td>\n",
       "      <td>19</td>\n",
       "    </tr>\n",
       "    <tr>\n",
       "      <th>1</th>\n",
       "      <td>39038.000</td>\n",
       "      <td>8750.000</td>\n",
       "      <td>0.000</td>\n",
       "      <td>0.000</td>\n",
       "      <td>3000.000</td>\n",
       "      <td>0.000</td>\n",
       "      <td>42434.000</td>\n",
       "      <td>6060.000</td>\n",
       "      <td>0.000</td>\n",
       "      <td>0.000</td>\n",
       "      <td>...</td>\n",
       "      <td>1</td>\n",
       "      <td>0</td>\n",
       "      <td>0</td>\n",
       "      <td>1</td>\n",
       "      <td>1</td>\n",
       "      <td>1</td>\n",
       "      <td>0.833</td>\n",
       "      <td>0.000</td>\n",
       "      <td>0</td>\n",
       "      <td>12</td>\n",
       "    </tr>\n",
       "    <tr>\n",
       "      <th>2</th>\n",
       "      <td>10000.000</td>\n",
       "      <td>1600.000</td>\n",
       "      <td>0.000</td>\n",
       "      <td>0.000</td>\n",
       "      <td>0.000</td>\n",
       "      <td>0.000</td>\n",
       "      <td>10000.000</td>\n",
       "      <td>900.000</td>\n",
       "      <td>0.000</td>\n",
       "      <td>0.000</td>\n",
       "      <td>...</td>\n",
       "      <td>0</td>\n",
       "      <td>0</td>\n",
       "      <td>0</td>\n",
       "      <td>0</td>\n",
       "      <td>0</td>\n",
       "      <td>0</td>\n",
       "      <td>0.167</td>\n",
       "      <td>0.000</td>\n",
       "      <td>0</td>\n",
       "      <td>15</td>\n",
       "    </tr>\n",
       "    <tr>\n",
       "      <th>3</th>\n",
       "      <td>26625.000</td>\n",
       "      <td>6900.000</td>\n",
       "      <td>0.000</td>\n",
       "      <td>0.000</td>\n",
       "      <td>0.000</td>\n",
       "      <td>0.000</td>\n",
       "      <td>31625.000</td>\n",
       "      <td>3900.000</td>\n",
       "      <td>0.000</td>\n",
       "      <td>0.000</td>\n",
       "      <td>...</td>\n",
       "      <td>1</td>\n",
       "      <td>1</td>\n",
       "      <td>0</td>\n",
       "      <td>0</td>\n",
       "      <td>0</td>\n",
       "      <td>0</td>\n",
       "      <td>4.500</td>\n",
       "      <td>0.000</td>\n",
       "      <td>0</td>\n",
       "      <td>9</td>\n",
       "    </tr>\n",
       "    <tr>\n",
       "      <th>4</th>\n",
       "      <td>0.000</td>\n",
       "      <td>0.000</td>\n",
       "      <td>0.000</td>\n",
       "      <td>0.000</td>\n",
       "      <td>0.000</td>\n",
       "      <td>0.000</td>\n",
       "      <td>0.000</td>\n",
       "      <td>0.000</td>\n",
       "      <td>0.000</td>\n",
       "      <td>0.000</td>\n",
       "      <td>...</td>\n",
       "      <td>0</td>\n",
       "      <td>0</td>\n",
       "      <td>0</td>\n",
       "      <td>0</td>\n",
       "      <td>0</td>\n",
       "      <td>0</td>\n",
       "      <td>0.667</td>\n",
       "      <td>0.000</td>\n",
       "      <td>0</td>\n",
       "      <td>4</td>\n",
       "    </tr>\n",
       "  </tbody>\n",
       "</table>\n",
       "<p>5 rows × 107 columns</p>\n",
       "</div>"
      ],
      "text/plain": [
       "字段解释    木头获取数量   木头消耗数量  石头获取数量  石头消耗数量   象牙获取数量  象牙消耗数量     肉获取数量    肉消耗数量  \\\n",
       "0    10000.000  600.000   0.000   0.000    0.000   0.000 10000.000  400.000   \n",
       "1    39038.000 8750.000   0.000   0.000 3000.000   0.000 42434.000 6060.000   \n",
       "2    10000.000 1600.000   0.000   0.000    0.000   0.000 10000.000  900.000   \n",
       "3    26625.000 6900.000   0.000   0.000    0.000   0.000 31625.000 3900.000   \n",
       "4        0.000    0.000   0.000   0.000    0.000   0.000     0.000    0.000   \n",
       "\n",
       "字段解释  魔法获取数量  魔法消耗数量   ...    PVP次数  主动发起PVP次数  PVP胜利次数  PVE次数  主动发起PVE次数  \\\n",
       "0      0.000   0.000   ...        0          0        0      0          0   \n",
       "1      0.000   0.000   ...        1          0        0      1          1   \n",
       "2      0.000   0.000   ...        0          0        0      0          0   \n",
       "3      0.000   0.000   ...        1          1        0      0          0   \n",
       "4      0.000   0.000   ...        0          0        0      0          0   \n",
       "\n",
       "字段解释  PVE胜利次数  在线时长  付费金额  付费次数  玩家注册时刻  \n",
       "0           0 0.167 0.000     0      19  \n",
       "1           1 0.833 0.000     0      12  \n",
       "2           0 0.167 0.000     0      15  \n",
       "3           0 4.500 0.000     0       9  \n",
       "4           0 0.667 0.000     0       4  \n",
       "\n",
       "[5 rows x 107 columns]"
      ]
     },
     "execution_count": 164,
     "metadata": {},
     "output_type": "execute_result"
    }
   ],
   "source": [
    "Xtrain.head()"
   ]
  },
  {
   "cell_type": "code",
   "execution_count": 165,
   "metadata": {},
   "outputs": [],
   "source": [
    "reg = LR() #实例化"
   ]
  },
  {
   "cell_type": "code",
   "execution_count": 166,
   "metadata": {},
   "outputs": [],
   "source": [
    "reg_benchmark = reg.fit(Xtrain,Ytrain) #训练"
   ]
  },
  {
   "cell_type": "code",
   "execution_count": 167,
   "metadata": {},
   "outputs": [
    {
     "data": {
      "text/plain": [
       "0.5604160157526337"
      ]
     },
     "execution_count": 167,
     "metadata": {},
     "output_type": "execute_result"
    }
   ],
   "source": [
    "reg_benchmark.score(Xtrain,Ytrain) #训练集上的分数 - R2"
   ]
  },
  {
   "cell_type": "code",
   "execution_count": 168,
   "metadata": {},
   "outputs": [
    {
     "data": {
      "text/plain": [
       "0.5581998030190543"
      ]
     },
     "execution_count": 168,
     "metadata": {},
     "output_type": "execute_result"
    }
   ],
   "source": [
    "reg_benchmark.score(Xtest,Ytest) #测试集上的分数"
   ]
  },
  {
   "cell_type": "code",
   "execution_count": 169,
   "metadata": {},
   "outputs": [],
   "source": [
    "#模型处于欠拟合的状态 - 在训练集和在测试集上的分数都不是很高，并且两者分数比较相似\n",
    "#简单的线性模型在学习能力上略显不足"
   ]
  },
  {
   "cell_type": "code",
   "execution_count": 170,
   "metadata": {},
   "outputs": [],
   "source": [
    "y_pred = reg_benchmark.predict(Xtest) #测试集上的预测标签"
   ]
  },
  {
   "cell_type": "code",
   "execution_count": 171,
   "metadata": {},
   "outputs": [
    {
     "data": {
      "text/plain": [
       "62.00116183660692"
      ]
     },
     "execution_count": 171,
     "metadata": {},
     "output_type": "execute_result"
    }
   ],
   "source": [
    "# 根均方误差(RMSE)\n",
    "np.sqrt(MSE(Ytest,y_pred)) #benchmark就是62的RMSE，以及55.8%的r2"
   ]
  },
  {
   "cell_type": "code",
   "execution_count": 172,
   "metadata": {},
   "outputs": [],
   "source": [
    "from sklearn.ensemble import RandomForestRegressor as RFR"
   ]
  },
  {
   "cell_type": "code",
   "execution_count": 173,
   "metadata": {},
   "outputs": [],
   "source": [
    "#给出非常少的树的数量，以及限制每次分枝所使用的最大特征量"
   ]
  },
  {
   "cell_type": "code",
   "execution_count": 174,
   "metadata": {},
   "outputs": [],
   "source": [
    "reg_tree = RFR(n_estimators=10,max_features=5) #100+，max_features=5"
   ]
  },
  {
   "cell_type": "code",
   "execution_count": 175,
   "metadata": {},
   "outputs": [
    {
     "data": {
      "text/plain": [
       "RandomForestRegressor(bootstrap=True, criterion='mse', max_depth=None,\n",
       "           max_features=5, max_leaf_nodes=None, min_impurity_decrease=0.0,\n",
       "           min_impurity_split=None, min_samples_leaf=1,\n",
       "           min_samples_split=2, min_weight_fraction_leaf=0.0,\n",
       "           n_estimators=10, n_jobs=None, oob_score=False,\n",
       "           random_state=None, verbose=0, warm_start=False)"
      ]
     },
     "execution_count": 175,
     "metadata": {},
     "output_type": "execute_result"
    }
   ],
   "source": [
    "##=====【TIME WARNING：2mins】======##\n",
    "reg_tree.fit(Xtrain,Ytrain)"
   ]
  },
  {
   "cell_type": "code",
   "execution_count": 176,
   "metadata": {},
   "outputs": [
    {
     "data": {
      "text/plain": [
       "0.8843586084453698"
      ]
     },
     "execution_count": 176,
     "metadata": {},
     "output_type": "execute_result"
    }
   ],
   "source": [
    "reg_tree.score(Xtrain,Ytrain) #训练集上的R2是87%"
   ]
  },
  {
   "cell_type": "code",
   "execution_count": 177,
   "metadata": {},
   "outputs": [
    {
     "data": {
      "text/plain": [
       "0.45988077452339404"
      ]
     },
     "execution_count": 177,
     "metadata": {},
     "output_type": "execute_result"
    }
   ],
   "source": [
    "reg_tree.score(Xtest,Ytest) #测试集上的R2是41%"
   ]
  },
  {
   "cell_type": "code",
   "execution_count": 178,
   "metadata": {},
   "outputs": [],
   "source": [
    "#随机森林处于过拟合的状态 - 只要有机会，可以对随机森林进行抗过拟合的调参，来试着使用树模型"
   ]
  },
  {
   "cell_type": "code",
   "execution_count": 179,
   "metadata": {},
   "outputs": [],
   "source": [
    "y_pred = reg_tree.predict(Xtest)"
   ]
  },
  {
   "cell_type": "code",
   "execution_count": 180,
   "metadata": {},
   "outputs": [
    {
     "data": {
      "text/plain": [
       "68.5538252853136"
      ]
     },
     "execution_count": 180,
     "metadata": {},
     "output_type": "execute_result"
    }
   ],
   "source": [
    "np.sqrt(MSE(Ytest,y_pred))"
   ]
  },
  {
   "cell_type": "markdown",
   "metadata": {},
   "source": [
    "这不是一个很好的征兆。通常来说，如果一个数据在线性模型上表现较好，在树模型上表现较差，则说明该数据的分布规律接近线性规律，更适用于线性回归、贝叶斯这些模型。反之，则说明该数据的分布更接近非线性规律，更适合树模型这样的非线性模型。但如果树模型和线性模型表现出差不多的结果、并且两种结果都不高，则说明数据本身的学习难度较大。可以尝试着对随机森林稍微进行调整，会发现无论对模型做什么，模型的RMSE都非常高。"
   ]
  },
  {
   "cell_type": "code",
   "execution_count": 181,
   "metadata": {},
   "outputs": [],
   "source": [
    "##=====【TIME WARNING：10mins】======##\n",
    "reg_tree2 = RFR(n_estimators=20,max_features=5).fit(Xtrain,Ytrain) #增大树的数量"
   ]
  },
  {
   "cell_type": "code",
   "execution_count": 182,
   "metadata": {},
   "outputs": [
    {
     "data": {
      "text/plain": [
       "66.69943001058651"
      ]
     },
     "execution_count": 182,
     "metadata": {},
     "output_type": "execute_result"
    }
   ],
   "source": [
    "np.sqrt(MSE(Ytest,reg_tree2.predict(Xtest)))"
   ]
  },
  {
   "cell_type": "code",
   "execution_count": 183,
   "metadata": {},
   "outputs": [],
   "source": [
    "reg_tree3 = RFR(n_estimators=20,max_depth=2,max_features=5).fit(Xtrain,Ytrain) #控制最大深度"
   ]
  },
  {
   "cell_type": "code",
   "execution_count": 184,
   "metadata": {},
   "outputs": [
    {
     "data": {
      "text/plain": [
       "70.17771944153394"
      ]
     },
     "execution_count": 184,
     "metadata": {},
     "output_type": "execute_result"
    }
   ],
   "source": [
    "np.sqrt(MSE(Ytest,reg_tree3.predict(Xtest)))"
   ]
  },
  {
   "cell_type": "markdown",
   "metadata": {},
   "source": [
    "### 4. 特征工程(1)：根据业务模式新增特征"
   ]
  },
  {
   "cell_type": "code",
   "execution_count": 185,
   "metadata": {
    "jupyter": {
     "outputs_hidden": true
    }
   },
   "outputs": [
    {
     "data": {
      "text/plain": [
       "['木头获取数量',\n",
       " '木头消耗数量',\n",
       " '石头获取数量',\n",
       " '石头消耗数量',\n",
       " '象牙获取数量',\n",
       " '象牙消耗数量',\n",
       " '肉获取数量',\n",
       " '肉消耗数量',\n",
       " '魔法获取数量',\n",
       " '魔法消耗数量',\n",
       " '勇士招募数量',\n",
       " '勇士损失数量',\n",
       " '驯兽师招募数量',\n",
       " '驯兽师损失数量',\n",
       " '萨满招募数量',\n",
       " '萨满损失数量',\n",
       " '勇士伤兵产生数量',\n",
       " '勇士伤兵恢复数量',\n",
       " '驯兽师伤兵产生数量',\n",
       " '驯兽师伤兵恢复数量',\n",
       " '萨满伤兵产生数量',\n",
       " '萨满伤兵恢复数量',\n",
       " '通用加速获取数量',\n",
       " '通用加速使用数量',\n",
       " '建筑加速获取数量',\n",
       " '建筑加速使用数量',\n",
       " '科研加速获取数量',\n",
       " '科研加速使用数量',\n",
       " '训练加速获取数量',\n",
       " '训练加速使用数量',\n",
       " '治疗加速获取数量',\n",
       " '治疗加速使用数量',\n",
       " '建筑：士兵小屋等级',\n",
       " '建筑：治疗小井等级',\n",
       " '建筑：要塞等级',\n",
       " '建筑：据点传送门等级',\n",
       " '建筑：兵营等级',\n",
       " '建筑：治疗之泉等级',\n",
       " '建筑：智慧神庙等级',\n",
       " '建筑：联盟大厅等级',\n",
       " '建筑：仓库等级',\n",
       " '建筑：瞭望塔等级',\n",
       " '建筑：魔法幸运树等级',\n",
       " '建筑：战争大厅等级',\n",
       " '建筑：联盟货车等级',\n",
       " '建筑：占卜台等级',\n",
       " '建筑：祭坛等级',\n",
       " '建筑：冒险传送门等级',\n",
       " '科研：侦查等级',\n",
       " '科研：训练速度等级',\n",
       " '科研：守护者',\n",
       " '科研：巨兽驯兽师',\n",
       " '科研：吟唱者',\n",
       " '科研：勇士攻击',\n",
       " '科研：驯兽师攻击',\n",
       " '科研：萨满攻击',\n",
       " '科研：战斗大师',\n",
       " '科研：高阶巨兽骑兵',\n",
       " '科研：图腾大师',\n",
       " '科研：部队防御',\n",
       " '科研：勇士防御',\n",
       " '科研：驯兽师防御',\n",
       " '科研：萨满防御',\n",
       " '科研：勇士生命',\n",
       " '科研：驯兽师生命',\n",
       " '科研：萨满生命',\n",
       " '科研：狂战士',\n",
       " '科研：龙骑兵',\n",
       " '科研：神谕者',\n",
       " '科研：部队攻击',\n",
       " '科研：建造速度',\n",
       " '科研：资源保护',\n",
       " '科研：部队消耗',\n",
       " '科研：木材生产',\n",
       " '科研：石头生产',\n",
       " '科研：象牙生产',\n",
       " '科研：肉类生产',\n",
       " '科研：木材采集',\n",
       " '科研：石头采集',\n",
       " '科研：象牙采集',\n",
       " '科研：肉类生产',\n",
       " '科研：部队负重',\n",
       " '科研：魔法采集',\n",
       " '科研：魔法生产',\n",
       " '科研：据点耐久',\n",
       " '科研：据点二',\n",
       " '科研：医院容量',\n",
       " '科研：领土采集奖励',\n",
       " '科研：治疗速度',\n",
       " '科研：据点三',\n",
       " '科研：联盟行军速度',\n",
       " '科研：战斗行军速度',\n",
       " '科研：采集行军速度',\n",
       " '科研：据点四',\n",
       " '科研：增援部队容量',\n",
       " '科研：行军大小',\n",
       " '科研：资源帮助容量',\n",
       " 'PVP次数',\n",
       " '主动发起PVP次数',\n",
       " 'PVP胜利次数',\n",
       " 'PVE次数',\n",
       " '主动发起PVE次数',\n",
       " 'PVE胜利次数',\n",
       " '在线时长',\n",
       " '付费金额',\n",
       " '付费次数',\n",
       " '玩家注册时刻']"
      ]
     },
     "execution_count": 185,
     "metadata": {},
     "output_type": "execute_result"
    }
   ],
   "source": [
    "X.columns.tolist() #能够从我自己的特征矩阵里分别出，哪些是技能，哪些是资源"
   ]
  },
  {
   "cell_type": "code",
   "execution_count": 186,
   "metadata": {},
   "outputs": [],
   "source": [
    "GrowthFeature = [] #发育 - 关于资源的部分\n",
    "for i in X.columns:\n",
    "    if \"招募\" in i:\n",
    "        GrowthFeature.append(i)\n",
    "    elif \"获取\" in i:\n",
    "        GrowthFeature.append(i)"
   ]
  },
  {
   "cell_type": "code",
   "execution_count": 187,
   "metadata": {},
   "outputs": [],
   "source": [
    "LevelUpFeature = [] #等级 - 关于技能的部分\n",
    "for i in X.columns:\n",
    "    if \"建筑\" in i:\n",
    "        LevelUpFeature.append(i)\n",
    "    elif \"科研\" in i:\n",
    "        LevelUpFeature.append(i)"
   ]
  },
  {
   "cell_type": "code",
   "execution_count": 188,
   "metadata": {
    "jupyter": {
     "outputs_hidden": true
    }
   },
   "outputs": [
    {
     "data": {
      "text/plain": [
       "['木头获取数量',\n",
       " '石头获取数量',\n",
       " '象牙获取数量',\n",
       " '肉获取数量',\n",
       " '魔法获取数量',\n",
       " '勇士招募数量',\n",
       " '驯兽师招募数量',\n",
       " '萨满招募数量',\n",
       " '通用加速获取数量',\n",
       " '建筑加速获取数量',\n",
       " '科研加速获取数量',\n",
       " '训练加速获取数量',\n",
       " '治疗加速获取数量']"
      ]
     },
     "execution_count": 188,
     "metadata": {},
     "output_type": "execute_result"
    }
   ],
   "source": [
    "GrowthFeature"
   ]
  },
  {
   "cell_type": "code",
   "execution_count": 189,
   "metadata": {
    "jupyter": {
     "outputs_hidden": true
    }
   },
   "outputs": [
    {
     "data": {
      "text/plain": [
       "['建筑加速获取数量',\n",
       " '建筑加速使用数量',\n",
       " '科研加速获取数量',\n",
       " '科研加速使用数量',\n",
       " '建筑：士兵小屋等级',\n",
       " '建筑：治疗小井等级',\n",
       " '建筑：要塞等级',\n",
       " '建筑：据点传送门等级',\n",
       " '建筑：兵营等级',\n",
       " '建筑：治疗之泉等级',\n",
       " '建筑：智慧神庙等级',\n",
       " '建筑：联盟大厅等级',\n",
       " '建筑：仓库等级',\n",
       " '建筑：瞭望塔等级',\n",
       " '建筑：魔法幸运树等级',\n",
       " '建筑：战争大厅等级',\n",
       " '建筑：联盟货车等级',\n",
       " '建筑：占卜台等级',\n",
       " '建筑：祭坛等级',\n",
       " '建筑：冒险传送门等级',\n",
       " '科研：侦查等级',\n",
       " '科研：训练速度等级',\n",
       " '科研：守护者',\n",
       " '科研：巨兽驯兽师',\n",
       " '科研：吟唱者',\n",
       " '科研：勇士攻击',\n",
       " '科研：驯兽师攻击',\n",
       " '科研：萨满攻击',\n",
       " '科研：战斗大师',\n",
       " '科研：高阶巨兽骑兵',\n",
       " '科研：图腾大师',\n",
       " '科研：部队防御',\n",
       " '科研：勇士防御',\n",
       " '科研：驯兽师防御',\n",
       " '科研：萨满防御',\n",
       " '科研：勇士生命',\n",
       " '科研：驯兽师生命',\n",
       " '科研：萨满生命',\n",
       " '科研：狂战士',\n",
       " '科研：龙骑兵',\n",
       " '科研：神谕者',\n",
       " '科研：部队攻击',\n",
       " '科研：建造速度',\n",
       " '科研：资源保护',\n",
       " '科研：部队消耗',\n",
       " '科研：木材生产',\n",
       " '科研：石头生产',\n",
       " '科研：象牙生产',\n",
       " '科研：肉类生产',\n",
       " '科研：木材采集',\n",
       " '科研：石头采集',\n",
       " '科研：象牙采集',\n",
       " '科研：肉类生产',\n",
       " '科研：部队负重',\n",
       " '科研：魔法采集',\n",
       " '科研：魔法生产',\n",
       " '科研：据点耐久',\n",
       " '科研：据点二',\n",
       " '科研：医院容量',\n",
       " '科研：领土采集奖励',\n",
       " '科研：治疗速度',\n",
       " '科研：据点三',\n",
       " '科研：联盟行军速度',\n",
       " '科研：战斗行军速度',\n",
       " '科研：采集行军速度',\n",
       " '科研：据点四',\n",
       " '科研：增援部队容量',\n",
       " '科研：行军大小',\n",
       " '科研：资源帮助容量']"
      ]
     },
     "execution_count": 189,
     "metadata": {},
     "output_type": "execute_result"
    }
   ],
   "source": [
    "LevelUpFeature"
   ]
  },
  {
   "cell_type": "code",
   "execution_count": 190,
   "metadata": {},
   "outputs": [],
   "source": [
    "X[\"PVP胜率\"] = X[\"PVP胜利次数\"]/X[\"PVP次数\"]\n",
    "X[\"主动发起PVP的概率\"] = X[\"主动发起PVP次数\"]/X[\"PVP次数\"]\n",
    "X[\"玩家发育效率\"] = X.loc[:,GrowthFeature].mean(axis=1)/X[\"在线时长\"]\n",
    "X[\"氪金发育效率\"] = X.loc[:,GrowthFeature].mean(axis=1)/X[\"付费金额\"]\n",
    "X[\"玩家升级效率\"] = X.loc[:,LevelUpFeature].mean(axis=1)/X[\"在线时长\"]\n",
    "X[\"氪金升级效率\"] = X.loc[:,LevelUpFeature].mean(axis=1)/X[\"付费金额\"]"
   ]
  },
  {
   "cell_type": "code",
   "execution_count": 191,
   "metadata": {},
   "outputs": [
    {
     "data": {
      "text/plain": [
       "1712305"
      ]
     },
     "execution_count": 191,
     "metadata": {},
     "output_type": "execute_result"
    }
   ],
   "source": [
    "X[\"PVP胜率\"].isnull().sum()"
   ]
  },
  {
   "cell_type": "code",
   "execution_count": 192,
   "metadata": {},
   "outputs": [
    {
     "name": "stderr",
     "output_type": "stream",
     "text": [
      "/Users/songbeibei/anaconda3/lib/python3.7/site-packages/numpy/lib/function_base.py:3768: RuntimeWarning: invalid value encountered in multiply\n",
      "  x2 = take(ap, indices_above, axis=axis) * weights_above\n"
     ]
    },
    {
     "data": {
      "text/plain": [
       "count   1665563.000\n",
       "mean            inf\n",
       "std             nan\n",
       "min           0.000\n",
       "25%             inf\n",
       "50%             nan\n",
       "75%             inf\n",
       "max             inf\n",
       "Name: 氪金发育效率, dtype: float64"
      ]
     },
     "execution_count": 192,
     "metadata": {},
     "output_type": "execute_result"
    }
   ],
   "source": [
    "X[\"氪金发育效率\"].describe()"
   ]
  },
  {
   "cell_type": "markdown",
   "metadata": {},
   "source": [
    "极限值为什么出现？虽然有些分子的确比较大，但是大部分分母其实都是个位数或者很小<br>\n",
    "氪金发育效率出现问题的根本还是因为许多氪金数额过小（分母过小），而不是因为分子过高<br>\n",
    "因此对于出现inf问题的样本，使用0覆盖"
   ]
  },
  {
   "cell_type": "code",
   "execution_count": 193,
   "metadata": {},
   "outputs": [],
   "source": [
    "#处理除0错误，处理极值错误\n",
    "for newfeature in [\"PVP胜率\",\"主动发起PVP的概率\",\"玩家发育效率\",\"玩家升级效率\",\"氪金发育效率\",\"氪金升级效率\"]:\n",
    "    X.loc[X[newfeature].isnull(),newfeature] = 0 #将所有的空值，变为0\n",
    "    X.loc[X[newfeature] == float(\"inf\"), newfeature] = 0 #分母很小的这样的情况"
   ]
  },
  {
   "cell_type": "code",
   "execution_count": 194,
   "metadata": {},
   "outputs": [
    {
     "data": {
      "text/plain": [
       "0"
      ]
     },
     "execution_count": 194,
     "metadata": {},
     "output_type": "execute_result"
    }
   ],
   "source": [
    "X[\"玩家发育效率\"].isnull().sum()"
   ]
  },
  {
   "cell_type": "code",
   "execution_count": 195,
   "metadata": {},
   "outputs": [
    {
     "data": {
      "text/plain": [
       "0"
      ]
     },
     "execution_count": 195,
     "metadata": {},
     "output_type": "execute_result"
    }
   ],
   "source": [
    "(X[\"氪金发育效率\"] == float(\"inf\")).sum()"
   ]
  },
  {
   "cell_type": "markdown",
   "metadata": {},
   "source": [
    "除此之外，我们在之前分析游戏的经营状况时，已经得出了一些关于用户价值的关键结论：\n",
    "> - 分析营收状况时，我们发现如果用户**7日内付费超过6元**，则他/她在7日后继续付费的概率大于不再付费的概率，是高价值用户<br><br>\n",
    "> - 分析用户在线时间时，当用户的**在线时间小于15（20）或者大于800（900）分钟**，用户对氪金金额的贡献率较小，是低价值用户<br><br>\n",
    "> - 分析游戏竞争状况与游戏平衡性时，我们发现，**主动发起PVP概率大于50%**的用户贡献了较多氪金金额，是高价值用户<br><br>\n",
    "> - 在分析资源获取难度、新手友好程度时，我们发现**初始资源（木头）获取数量为0或很低**的玩家是低价值用户<br><br>\n",
    "> - 在分析异常值时，我们发现异常用户覆盖了全部氪金用户，因为氪金用户的资源量往往都很大。然而不氪金的用户也有许多拥有大量资源，他们是肝帝，肝到一定程度就不会氪金，因此**资源量巨大（异常）但7日内没有付费**的用户是低价值用户"
   ]
  },
  {
   "cell_type": "markdown",
   "metadata": {},
   "source": [
    "基于这些发现，我们统一让低价值用户被标记为0，高价值用户被标记为1，为特征矩阵创造如下新特征：\n",
    "\n",
    "- **高价值玩家**\n",
    "> - 潜力玩家：7日内付费超过6元\n",
    "> - 好战玩家：主动发起PVP概率大于50%\n",
    "\n",
    "- **低价值玩家**\n",
    "> - 佛系玩家：主动发起PVP概率小于20%，或一次也没有参与过PVP\n",
    "> - 肝帝玩家：7日在线时间过长，或资源量巨大但7日内没有付费\n",
    "> - 菜鸡玩家：参与过PVP且个人PVP胜率小于10%\n",
    "> - 流失玩家：7日在线时间过短，或初始资源获取数量小于10000"
   ]
  },
  {
   "cell_type": "code",
   "execution_count": 196,
   "metadata": {},
   "outputs": [],
   "source": [
    "#高价值玩家，符合条件的被标注为1\n",
    "X[\"潜力玩家\"] = (X[\"付费金额\"] >= 5.98).astype(int)\n",
    "X[\"好战玩家\"] = (X[\"主动发起PVP的概率\"] >= 0.5).astype(int)\n",
    "\n",
    "#低价值玩家，符合条件的被标注为0\n",
    "X[\"肝帝玩家\"] = (X[\"在线时长\"] > 800).apply(lambda x: not x).astype(int)\n",
    "X[\"佛系玩家\"] = ((X[\"主动发起PVP的概率\"] < 0.2) | (X[\"PVP次数\"] == 0)).apply(lambda x: not x).astype(int)\n",
    "X[\"菜鸡玩家\"] = ((X[\"PVP胜率\"]< 0.1) & (X[\"PVP次数\"] != 0)).apply(lambda x: not x).astype(int)\n",
    "X[\"流失玩家\"] = ((X[\"在线时长\"] <= 15) | (X[\"木头获取数量\"] <= 10000)).apply(lambda x: not x).astype(int)"
   ]
  },
  {
   "cell_type": "code",
   "execution_count": 197,
   "metadata": {},
   "outputs": [
    {
     "data": {
      "text/plain": [
       "0"
      ]
     },
     "execution_count": 197,
     "metadata": {},
     "output_type": "execute_result"
    }
   ],
   "source": [
    "X.isnull().sum().sum()"
   ]
  },
  {
   "cell_type": "code",
   "execution_count": 198,
   "metadata": {},
   "outputs": [
    {
     "data": {
      "text/html": [
       "<div>\n",
       "<style scoped>\n",
       "    .dataframe tbody tr th:only-of-type {\n",
       "        vertical-align: middle;\n",
       "    }\n",
       "\n",
       "    .dataframe tbody tr th {\n",
       "        vertical-align: top;\n",
       "    }\n",
       "\n",
       "    .dataframe thead th {\n",
       "        text-align: right;\n",
       "    }\n",
       "</style>\n",
       "<table border=\"1\" class=\"dataframe\">\n",
       "  <thead>\n",
       "    <tr style=\"text-align: right;\">\n",
       "      <th>字段解释</th>\n",
       "      <th>木头获取数量</th>\n",
       "      <th>木头消耗数量</th>\n",
       "      <th>石头获取数量</th>\n",
       "      <th>石头消耗数量</th>\n",
       "      <th>象牙获取数量</th>\n",
       "      <th>象牙消耗数量</th>\n",
       "      <th>肉获取数量</th>\n",
       "      <th>肉消耗数量</th>\n",
       "      <th>魔法获取数量</th>\n",
       "      <th>魔法消耗数量</th>\n",
       "      <th>...</th>\n",
       "      <th>玩家发育效率</th>\n",
       "      <th>氪金发育效率</th>\n",
       "      <th>玩家升级效率</th>\n",
       "      <th>氪金升级效率</th>\n",
       "      <th>潜力玩家</th>\n",
       "      <th>好战玩家</th>\n",
       "      <th>肝帝玩家</th>\n",
       "      <th>佛系玩家</th>\n",
       "      <th>菜鸡玩家</th>\n",
       "      <th>流失玩家</th>\n",
       "    </tr>\n",
       "  </thead>\n",
       "  <tbody>\n",
       "    <tr>\n",
       "      <th>0</th>\n",
       "      <td>20125.000</td>\n",
       "      <td>3700.000</td>\n",
       "      <td>0.000</td>\n",
       "      <td>0.000</td>\n",
       "      <td>0.000</td>\n",
       "      <td>0.000</td>\n",
       "      <td>16375.000</td>\n",
       "      <td>2000.000</td>\n",
       "      <td>0.000</td>\n",
       "      <td>0.000</td>\n",
       "      <td>...</td>\n",
       "      <td>8446.162</td>\n",
       "      <td>0.000</td>\n",
       "      <td>2.197</td>\n",
       "      <td>0.000</td>\n",
       "      <td>0</td>\n",
       "      <td>0</td>\n",
       "      <td>1</td>\n",
       "      <td>0</td>\n",
       "      <td>1</td>\n",
       "      <td>0</td>\n",
       "    </tr>\n",
       "    <tr>\n",
       "      <th>1</th>\n",
       "      <td>0.000</td>\n",
       "      <td>0.000</td>\n",
       "      <td>0.000</td>\n",
       "      <td>0.000</td>\n",
       "      <td>0.000</td>\n",
       "      <td>0.000</td>\n",
       "      <td>0.000</td>\n",
       "      <td>0.000</td>\n",
       "      <td>0.000</td>\n",
       "      <td>0.000</td>\n",
       "      <td>...</td>\n",
       "      <td>0.000</td>\n",
       "      <td>0.000</td>\n",
       "      <td>0.000</td>\n",
       "      <td>0.000</td>\n",
       "      <td>0</td>\n",
       "      <td>0</td>\n",
       "      <td>1</td>\n",
       "      <td>0</td>\n",
       "      <td>1</td>\n",
       "      <td>0</td>\n",
       "    </tr>\n",
       "    <tr>\n",
       "      <th>2</th>\n",
       "      <td>0.000</td>\n",
       "      <td>0.000</td>\n",
       "      <td>0.000</td>\n",
       "      <td>0.000</td>\n",
       "      <td>0.000</td>\n",
       "      <td>0.000</td>\n",
       "      <td>0.000</td>\n",
       "      <td>0.000</td>\n",
       "      <td>0.000</td>\n",
       "      <td>0.000</td>\n",
       "      <td>...</td>\n",
       "      <td>0.000</td>\n",
       "      <td>0.000</td>\n",
       "      <td>0.000</td>\n",
       "      <td>0.000</td>\n",
       "      <td>0</td>\n",
       "      <td>0</td>\n",
       "      <td>1</td>\n",
       "      <td>0</td>\n",
       "      <td>1</td>\n",
       "      <td>0</td>\n",
       "    </tr>\n",
       "    <tr>\n",
       "      <th>3</th>\n",
       "      <td>0.000</td>\n",
       "      <td>0.000</td>\n",
       "      <td>0.000</td>\n",
       "      <td>0.000</td>\n",
       "      <td>0.000</td>\n",
       "      <td>0.000</td>\n",
       "      <td>0.000</td>\n",
       "      <td>0.000</td>\n",
       "      <td>0.000</td>\n",
       "      <td>0.000</td>\n",
       "      <td>...</td>\n",
       "      <td>0.000</td>\n",
       "      <td>0.000</td>\n",
       "      <td>0.000</td>\n",
       "      <td>0.000</td>\n",
       "      <td>0</td>\n",
       "      <td>0</td>\n",
       "      <td>1</td>\n",
       "      <td>0</td>\n",
       "      <td>1</td>\n",
       "      <td>0</td>\n",
       "    </tr>\n",
       "    <tr>\n",
       "      <th>4</th>\n",
       "      <td>0.000</td>\n",
       "      <td>0.000</td>\n",
       "      <td>0.000</td>\n",
       "      <td>0.000</td>\n",
       "      <td>0.000</td>\n",
       "      <td>0.000</td>\n",
       "      <td>0.000</td>\n",
       "      <td>0.000</td>\n",
       "      <td>0.000</td>\n",
       "      <td>0.000</td>\n",
       "      <td>...</td>\n",
       "      <td>0.000</td>\n",
       "      <td>0.000</td>\n",
       "      <td>0.000</td>\n",
       "      <td>0.000</td>\n",
       "      <td>0</td>\n",
       "      <td>0</td>\n",
       "      <td>1</td>\n",
       "      <td>0</td>\n",
       "      <td>1</td>\n",
       "      <td>0</td>\n",
       "    </tr>\n",
       "  </tbody>\n",
       "</table>\n",
       "<p>5 rows × 119 columns</p>\n",
       "</div>"
      ],
      "text/plain": [
       "字段解释    木头获取数量   木头消耗数量  石头获取数量  石头消耗数量  象牙获取数量  象牙消耗数量     肉获取数量    肉消耗数量  \\\n",
       "0    20125.000 3700.000   0.000   0.000   0.000   0.000 16375.000 2000.000   \n",
       "1        0.000    0.000   0.000   0.000   0.000   0.000     0.000    0.000   \n",
       "2        0.000    0.000   0.000   0.000   0.000   0.000     0.000    0.000   \n",
       "3        0.000    0.000   0.000   0.000   0.000   0.000     0.000    0.000   \n",
       "4        0.000    0.000   0.000   0.000   0.000   0.000     0.000    0.000   \n",
       "\n",
       "字段解释  魔法获取数量  魔法消耗数量  ...    玩家发育效率  氪金发育效率  玩家升级效率  氪金升级效率  潜力玩家  好战玩家  肝帝玩家  \\\n",
       "0      0.000   0.000  ...  8446.162   0.000   2.197   0.000     0     0     1   \n",
       "1      0.000   0.000  ...     0.000   0.000   0.000   0.000     0     0     1   \n",
       "2      0.000   0.000  ...     0.000   0.000   0.000   0.000     0     0     1   \n",
       "3      0.000   0.000  ...     0.000   0.000   0.000   0.000     0     0     1   \n",
       "4      0.000   0.000  ...     0.000   0.000   0.000   0.000     0     0     1   \n",
       "\n",
       "字段解释  佛系玩家  菜鸡玩家  流失玩家  \n",
       "0        0     1     0  \n",
       "1        0     1     0  \n",
       "2        0     1     0  \n",
       "3        0     1     0  \n",
       "4        0     1     0  \n",
       "\n",
       "[5 rows x 119 columns]"
      ]
     },
     "execution_count": 198,
     "metadata": {},
     "output_type": "execute_result"
    }
   ],
   "source": [
    "X.head()"
   ]
  },
  {
   "cell_type": "markdown",
   "metadata": {},
   "source": [
    "### 5. 特征工程(2)：达成建模所需的统计假设"
   ]
  },
  {
   "cell_type": "markdown",
   "metadata": {},
   "source": [
    "#### 5.1 相关性分析：筛选特征/特征重要性\n"
   ]
  },
  {
   "cell_type": "code",
   "execution_count": 199,
   "metadata": {},
   "outputs": [],
   "source": [
    "corr_list = pd.DataFrame() #空的DataFrame"
   ]
  },
  {
   "cell_type": "code",
   "execution_count": 200,
   "metadata": {},
   "outputs": [],
   "source": [
    "for idx, column in enumerate(X.columns):\n",
    "    corr_ = pd.concat([y,X.loc[:,column]],axis=1).corr().iloc[0,1] #每一列我计算这一列与标签的相关系数\n",
    "    corr_list.loc[idx,\"特征\"] = column\n",
    "    corr_list.loc[idx,\"相关系数\"] = corr_"
   ]
  },
  {
   "cell_type": "code",
   "execution_count": 201,
   "metadata": {},
   "outputs": [
    {
     "data": {
      "text/html": [
       "<div>\n",
       "<style scoped>\n",
       "    .dataframe tbody tr th:only-of-type {\n",
       "        vertical-align: middle;\n",
       "    }\n",
       "\n",
       "    .dataframe tbody tr th {\n",
       "        vertical-align: top;\n",
       "    }\n",
       "\n",
       "    .dataframe thead th {\n",
       "        text-align: right;\n",
       "    }\n",
       "</style>\n",
       "<table border=\"1\" class=\"dataframe\">\n",
       "  <thead>\n",
       "    <tr style=\"text-align: right;\">\n",
       "      <th></th>\n",
       "      <th>特征</th>\n",
       "      <th>相关系数</th>\n",
       "    </tr>\n",
       "  </thead>\n",
       "  <tbody>\n",
       "    <tr>\n",
       "      <th>0</th>\n",
       "      <td>木头获取数量</td>\n",
       "      <td>0.640</td>\n",
       "    </tr>\n",
       "    <tr>\n",
       "      <th>1</th>\n",
       "      <td>木头消耗数量</td>\n",
       "      <td>0.619</td>\n",
       "    </tr>\n",
       "    <tr>\n",
       "      <th>2</th>\n",
       "      <td>石头获取数量</td>\n",
       "      <td>0.648</td>\n",
       "    </tr>\n",
       "    <tr>\n",
       "      <th>3</th>\n",
       "      <td>石头消耗数量</td>\n",
       "      <td>0.631</td>\n",
       "    </tr>\n",
       "    <tr>\n",
       "      <th>4</th>\n",
       "      <td>象牙获取数量</td>\n",
       "      <td>0.658</td>\n",
       "    </tr>\n",
       "  </tbody>\n",
       "</table>\n",
       "</div>"
      ],
      "text/plain": [
       "       特征  相关系数\n",
       "0  木头获取数量 0.640\n",
       "1  木头消耗数量 0.619\n",
       "2  石头获取数量 0.648\n",
       "3  石头消耗数量 0.631\n",
       "4  象牙获取数量 0.658"
      ]
     },
     "execution_count": 201,
     "metadata": {},
     "output_type": "execute_result"
    }
   ],
   "source": [
    "corr_list.head()"
   ]
  },
  {
   "cell_type": "code",
   "execution_count": 202,
   "metadata": {},
   "outputs": [
    {
     "data": {
      "text/html": [
       "<div>\n",
       "<style scoped>\n",
       "    .dataframe tbody tr th:only-of-type {\n",
       "        vertical-align: middle;\n",
       "    }\n",
       "\n",
       "    .dataframe tbody tr th {\n",
       "        vertical-align: top;\n",
       "    }\n",
       "\n",
       "    .dataframe thead th {\n",
       "        text-align: right;\n",
       "    }\n",
       "</style>\n",
       "<table border=\"1\" class=\"dataframe\">\n",
       "  <thead>\n",
       "    <tr style=\"text-align: right;\">\n",
       "      <th></th>\n",
       "      <th>特征</th>\n",
       "      <th>相关系数</th>\n",
       "    </tr>\n",
       "  </thead>\n",
       "  <tbody>\n",
       "    <tr>\n",
       "      <th>104</th>\n",
       "      <td>付费金额</td>\n",
       "      <td>0.735</td>\n",
       "    </tr>\n",
       "    <tr>\n",
       "      <th>4</th>\n",
       "      <td>象牙获取数量</td>\n",
       "      <td>0.658</td>\n",
       "    </tr>\n",
       "    <tr>\n",
       "      <th>2</th>\n",
       "      <td>石头获取数量</td>\n",
       "      <td>0.648</td>\n",
       "    </tr>\n",
       "    <tr>\n",
       "      <th>5</th>\n",
       "      <td>象牙消耗数量</td>\n",
       "      <td>0.641</td>\n",
       "    </tr>\n",
       "    <tr>\n",
       "      <th>0</th>\n",
       "      <td>木头获取数量</td>\n",
       "      <td>0.640</td>\n",
       "    </tr>\n",
       "    <tr>\n",
       "      <th>22</th>\n",
       "      <td>通用加速获取数量</td>\n",
       "      <td>0.633</td>\n",
       "    </tr>\n",
       "    <tr>\n",
       "      <th>3</th>\n",
       "      <td>石头消耗数量</td>\n",
       "      <td>0.631</td>\n",
       "    </tr>\n",
       "    <tr>\n",
       "      <th>28</th>\n",
       "      <td>训练加速获取数量</td>\n",
       "      <td>0.621</td>\n",
       "    </tr>\n",
       "    <tr>\n",
       "      <th>1</th>\n",
       "      <td>木头消耗数量</td>\n",
       "      <td>0.619</td>\n",
       "    </tr>\n",
       "    <tr>\n",
       "      <th>6</th>\n",
       "      <td>肉获取数量</td>\n",
       "      <td>0.608</td>\n",
       "    </tr>\n",
       "  </tbody>\n",
       "</table>\n",
       "</div>"
      ],
      "text/plain": [
       "           特征  相关系数\n",
       "104      付费金额 0.735\n",
       "4      象牙获取数量 0.658\n",
       "2      石头获取数量 0.648\n",
       "5      象牙消耗数量 0.641\n",
       "0      木头获取数量 0.640\n",
       "22   通用加速获取数量 0.633\n",
       "3      石头消耗数量 0.631\n",
       "28   训练加速获取数量 0.621\n",
       "1      木头消耗数量 0.619\n",
       "6       肉获取数量 0.608"
      ]
     },
     "execution_count": 202,
     "metadata": {},
     "output_type": "execute_result"
    }
   ],
   "source": [
    "corr_list.sort_values(\"相关系数\",ascending=False).head(10) #越深入参与游戏，氪金的可能性应该就越高"
   ]
  },
  {
   "cell_type": "code",
   "execution_count": 203,
   "metadata": {},
   "outputs": [
    {
     "data": {
      "text/html": [
       "<div>\n",
       "<style scoped>\n",
       "    .dataframe tbody tr th:only-of-type {\n",
       "        vertical-align: middle;\n",
       "    }\n",
       "\n",
       "    .dataframe tbody tr th {\n",
       "        vertical-align: top;\n",
       "    }\n",
       "\n",
       "    .dataframe thead th {\n",
       "        text-align: right;\n",
       "    }\n",
       "</style>\n",
       "<table border=\"1\" class=\"dataframe\">\n",
       "  <thead>\n",
       "    <tr style=\"text-align: right;\">\n",
       "      <th></th>\n",
       "      <th>特征</th>\n",
       "      <th>相关系数</th>\n",
       "    </tr>\n",
       "  </thead>\n",
       "  <tbody>\n",
       "    <tr>\n",
       "      <th>106</th>\n",
       "      <td>玩家注册时刻</td>\n",
       "      <td>0.001</td>\n",
       "    </tr>\n",
       "    <tr>\n",
       "      <th>117</th>\n",
       "      <td>菜鸡玩家</td>\n",
       "      <td>0.006</td>\n",
       "    </tr>\n",
       "  </tbody>\n",
       "</table>\n",
       "</div>"
      ],
      "text/plain": [
       "         特征  相关系数\n",
       "106  玩家注册时刻 0.001\n",
       "117    菜鸡玩家 0.006"
      ]
     },
     "execution_count": 203,
     "metadata": {},
     "output_type": "execute_result"
    }
   ],
   "source": [
    "corr_list[abs(corr_list[\"相关系数\"]) < 0.01]"
   ]
  },
  {
   "cell_type": "markdown",
   "metadata": {},
   "source": [
    "只有两个特征的相关系数低于0.01，可以考虑都统一保留这些特征。"
   ]
  },
  {
   "cell_type": "markdown",
   "metadata": {},
   "source": [
    "#### 5.2 训练/测试集分割的调优"
   ]
  },
  {
   "cell_type": "code",
   "execution_count": 204,
   "metadata": {},
   "outputs": [
    {
     "data": {
      "text/plain": [
       "(2288007, 119)"
      ]
     },
     "execution_count": 204,
     "metadata": {},
     "output_type": "execute_result"
    }
   ],
   "source": [
    "X.shape"
   ]
  },
  {
   "cell_type": "code",
   "execution_count": 205,
   "metadata": {},
   "outputs": [],
   "source": [
    "#相当于使用学习曲线在对test_size这个参数进行调参"
   ]
  },
  {
   "cell_type": "code",
   "execution_count": 206,
   "metadata": {},
   "outputs": [
    {
     "name": "stdout",
     "output_type": "stream",
     "text": [
      "done\n",
      "done\n",
      "done\n",
      "done\n"
     ]
    }
   ],
   "source": [
    "trainr2 = [] #训练集上的R2\n",
    "testr2 = [] #测试集上的R2\n",
    "testRMSE = [] #测试集上的RMSE\n",
    "for i in [0.2,0.3,0.4,0.5]:\n",
    "    Xtrain, Xtest, Ytrain, Ytest = TTS(X,y,test_size=i,random_state=0)\n",
    "    model = LR().fit(Xtrain,Ytrain)\n",
    "    trainr2.append(model.score(Xtrain,Ytrain))\n",
    "    testr2.append(model.score(Xtest,Ytest))\n",
    "    testRMSE.append(np.sqrt(MSE(Ytest,model.predict(Xtest))))\n",
    "    print(\"done\")"
   ]
  },
  {
   "cell_type": "code",
   "execution_count": 207,
   "metadata": {},
   "outputs": [
    {
     "data": {
      "image/png": "[encoded data removed]",
      "text/plain": [
       "<Figure size 432x288 with 1 Axes>"
      ]
     },
     "metadata": {
      "needs_background": "light"
     },
     "output_type": "display_data"
    }
   ],
   "source": [
    "plt.plot(trainr2,label=\"trainR2\")\n",
    "plt.plot(testr2,label=\"testR2\")\n",
    "plt.xticks(ticks=[0,1,2,3],labels=[0.2,0.3,0.4,0.5])\n",
    "plt.legend();"
   ]
  },
  {
   "cell_type": "code",
   "execution_count": 208,
   "metadata": {},
   "outputs": [
    {
     "data": {
      "image/png": "[encoded data removed]",
      "text/plain": [
       "<Figure size 432x288 with 1 Axes>"
      ]
     },
     "metadata": {
      "needs_background": "light"
     },
     "output_type": "display_data"
    }
   ],
   "source": [
    "plt.plot(testRMSE)\n",
    "plt.xticks(ticks=[0,1,2,3],labels=[0.2,0.3,0.4,0.5]);"
   ]
  },
  {
   "cell_type": "code",
   "execution_count": 209,
   "metadata": {},
   "outputs": [
    {
     "data": {
      "text/plain": [
       "[65.40794949571959, 61.25139186202897, 57.41019115381894, 72.69578060100807]"
      ]
     },
     "execution_count": 209,
     "metadata": {},
     "output_type": "execute_result"
    }
   ],
   "source": [
    "testRMSE"
   ]
  },
  {
   "cell_type": "markdown",
   "metadata": {},
   "source": [
    "从结果上看，在测试集上RMSE最低的训练集数量是0.4，从R2的表现来看，测试集比例为0.4时，训练集上R2表现出过拟合的倾向，但并不严重。但考虑到现在模型的核心评估指标是RMSE，因此R2稍有问题，但RMSE明显有优势时，则优先考虑RMSE上的表现。"
   ]
  },
  {
   "cell_type": "code",
   "execution_count": 210,
   "metadata": {},
   "outputs": [],
   "source": [
    "Xtrain, Xtest, Ytrain, Ytest = TTS(X,y,test_size=0.4,random_state=0)"
   ]
  },
  {
   "cell_type": "code",
   "execution_count": 211,
   "metadata": {},
   "outputs": [],
   "source": [
    "Ytrain = pd.DataFrame(Ytrain)\n",
    "Ytest = pd.DataFrame(Ytest)\n",
    "\n",
    "Ytrain.index = Xtrain.index\n",
    "Ytest.index = Xtest.index"
   ]
  },
  {
   "cell_type": "code",
   "execution_count": 212,
   "metadata": {},
   "outputs": [
    {
     "data": {
      "text/html": [
       "<div>\n",
       "<style scoped>\n",
       "    .dataframe tbody tr th:only-of-type {\n",
       "        vertical-align: middle;\n",
       "    }\n",
       "\n",
       "    .dataframe tbody tr th {\n",
       "        vertical-align: top;\n",
       "    }\n",
       "\n",
       "    .dataframe thead th {\n",
       "        text-align: right;\n",
       "    }\n",
       "</style>\n",
       "<table border=\"1\" class=\"dataframe\">\n",
       "  <thead>\n",
       "    <tr style=\"text-align: right;\">\n",
       "      <th>字段解释</th>\n",
       "      <th>木头获取数量</th>\n",
       "      <th>木头消耗数量</th>\n",
       "      <th>石头获取数量</th>\n",
       "      <th>石头消耗数量</th>\n",
       "      <th>象牙获取数量</th>\n",
       "      <th>象牙消耗数量</th>\n",
       "      <th>肉获取数量</th>\n",
       "      <th>肉消耗数量</th>\n",
       "      <th>魔法获取数量</th>\n",
       "      <th>魔法消耗数量</th>\n",
       "      <th>...</th>\n",
       "      <th>玩家发育效率</th>\n",
       "      <th>氪金发育效率</th>\n",
       "      <th>玩家升级效率</th>\n",
       "      <th>氪金升级效率</th>\n",
       "      <th>潜力玩家</th>\n",
       "      <th>好战玩家</th>\n",
       "      <th>肝帝玩家</th>\n",
       "      <th>佛系玩家</th>\n",
       "      <th>菜鸡玩家</th>\n",
       "      <th>流失玩家</th>\n",
       "    </tr>\n",
       "  </thead>\n",
       "  <tbody>\n",
       "    <tr>\n",
       "      <th>1914412</th>\n",
       "      <td>0.000</td>\n",
       "      <td>0.000</td>\n",
       "      <td>0.000</td>\n",
       "      <td>0.000</td>\n",
       "      <td>0.000</td>\n",
       "      <td>0.000</td>\n",
       "      <td>0.000</td>\n",
       "      <td>0.000</td>\n",
       "      <td>0.000</td>\n",
       "      <td>0.000</td>\n",
       "      <td>...</td>\n",
       "      <td>0.000</td>\n",
       "      <td>0.000</td>\n",
       "      <td>0.000</td>\n",
       "      <td>0.000</td>\n",
       "      <td>0</td>\n",
       "      <td>0</td>\n",
       "      <td>1</td>\n",
       "      <td>0</td>\n",
       "      <td>1</td>\n",
       "      <td>0</td>\n",
       "    </tr>\n",
       "    <tr>\n",
       "      <th>188838</th>\n",
       "      <td>26375.000</td>\n",
       "      <td>4200.000</td>\n",
       "      <td>0.000</td>\n",
       "      <td>0.000</td>\n",
       "      <td>0.000</td>\n",
       "      <td>0.000</td>\n",
       "      <td>32000.000</td>\n",
       "      <td>2250.000</td>\n",
       "      <td>0.000</td>\n",
       "      <td>0.000</td>\n",
       "      <td>...</td>\n",
       "      <td>8996.154</td>\n",
       "      <td>0.000</td>\n",
       "      <td>1.493</td>\n",
       "      <td>0.000</td>\n",
       "      <td>0</td>\n",
       "      <td>0</td>\n",
       "      <td>1</td>\n",
       "      <td>0</td>\n",
       "      <td>1</td>\n",
       "      <td>0</td>\n",
       "    </tr>\n",
       "    <tr>\n",
       "      <th>1879427</th>\n",
       "      <td>2063.000</td>\n",
       "      <td>1350.000</td>\n",
       "      <td>0.000</td>\n",
       "      <td>0.000</td>\n",
       "      <td>0.000</td>\n",
       "      <td>0.000</td>\n",
       "      <td>1531.000</td>\n",
       "      <td>675.000</td>\n",
       "      <td>0.000</td>\n",
       "      <td>0.000</td>\n",
       "      <td>...</td>\n",
       "      <td>184.308</td>\n",
       "      <td>0.000</td>\n",
       "      <td>0.009</td>\n",
       "      <td>0.000</td>\n",
       "      <td>0</td>\n",
       "      <td>0</td>\n",
       "      <td>1</td>\n",
       "      <td>0</td>\n",
       "      <td>1</td>\n",
       "      <td>0</td>\n",
       "    </tr>\n",
       "    <tr>\n",
       "      <th>1616849</th>\n",
       "      <td>56314.000</td>\n",
       "      <td>17460.000</td>\n",
       "      <td>0.000</td>\n",
       "      <td>0.000</td>\n",
       "      <td>0.000</td>\n",
       "      <td>0.000</td>\n",
       "      <td>76717.000</td>\n",
       "      <td>10850.000</td>\n",
       "      <td>0.000</td>\n",
       "      <td>0.000</td>\n",
       "      <td>...</td>\n",
       "      <td>12294.005</td>\n",
       "      <td>0.000</td>\n",
       "      <td>0.997</td>\n",
       "      <td>0.000</td>\n",
       "      <td>0</td>\n",
       "      <td>0</td>\n",
       "      <td>1</td>\n",
       "      <td>0</td>\n",
       "      <td>1</td>\n",
       "      <td>0</td>\n",
       "    </tr>\n",
       "    <tr>\n",
       "      <th>2046255</th>\n",
       "      <td>220125.000</td>\n",
       "      <td>3700.000</td>\n",
       "      <td>200000.000</td>\n",
       "      <td>0.000</td>\n",
       "      <td>200000.000</td>\n",
       "      <td>0.000</td>\n",
       "      <td>616375.000</td>\n",
       "      <td>2000.000</td>\n",
       "      <td>60000.000</td>\n",
       "      <td>0.000</td>\n",
       "      <td>...</td>\n",
       "      <td>299367.992</td>\n",
       "      <td>0.000</td>\n",
       "      <td>2.197</td>\n",
       "      <td>0.000</td>\n",
       "      <td>0</td>\n",
       "      <td>0</td>\n",
       "      <td>1</td>\n",
       "      <td>0</td>\n",
       "      <td>1</td>\n",
       "      <td>0</td>\n",
       "    </tr>\n",
       "  </tbody>\n",
       "</table>\n",
       "<p>5 rows × 119 columns</p>\n",
       "</div>"
      ],
      "text/plain": [
       "字段解释        木头获取数量    木头消耗数量     石头获取数量  石头消耗数量     象牙获取数量  象牙消耗数量      肉获取数量  \\\n",
       "1914412      0.000     0.000      0.000   0.000      0.000   0.000      0.000   \n",
       "188838   26375.000  4200.000      0.000   0.000      0.000   0.000  32000.000   \n",
       "1879427   2063.000  1350.000      0.000   0.000      0.000   0.000   1531.000   \n",
       "1616849  56314.000 17460.000      0.000   0.000      0.000   0.000  76717.000   \n",
       "2046255 220125.000  3700.000 200000.000   0.000 200000.000   0.000 616375.000   \n",
       "\n",
       "字段解释        肉消耗数量    魔法获取数量  魔法消耗数量  ...      玩家发育效率  氪金发育效率  玩家升级效率  氪金升级效率  \\\n",
       "1914412     0.000     0.000   0.000  ...       0.000   0.000   0.000   0.000   \n",
       "188838   2250.000     0.000   0.000  ...    8996.154   0.000   1.493   0.000   \n",
       "1879427   675.000     0.000   0.000  ...     184.308   0.000   0.009   0.000   \n",
       "1616849 10850.000     0.000   0.000  ...   12294.005   0.000   0.997   0.000   \n",
       "2046255  2000.000 60000.000   0.000  ...  299367.992   0.000   2.197   0.000   \n",
       "\n",
       "字段解释     潜力玩家  好战玩家  肝帝玩家  佛系玩家  菜鸡玩家  流失玩家  \n",
       "1914412     0     0     1     0     1     0  \n",
       "188838      0     0     1     0     1     0  \n",
       "1879427     0     0     1     0     1     0  \n",
       "1616849     0     0     1     0     1     0  \n",
       "2046255     0     0     1     0     1     0  \n",
       "\n",
       "[5 rows x 119 columns]"
      ]
     },
     "execution_count": 212,
     "metadata": {},
     "output_type": "execute_result"
    }
   ],
   "source": [
    "Xtrain.head()"
   ]
  },
  {
   "cell_type": "markdown",
   "metadata": {},
   "source": [
    "#### 5.3 异常值处理"
   ]
  },
  {
   "cell_type": "code",
   "execution_count": 213,
   "metadata": {},
   "outputs": [],
   "source": [
    "import warnings #消除警告的代码\n",
    "warnings.filterwarnings('ignore')\n",
    "warnings.simplefilter('ignore')"
   ]
  },
  {
   "cell_type": "code",
   "execution_count": 219,
   "metadata": {},
   "outputs": [],
   "source": [
    "def AbnormalReplace(Xtrain,Xtest):\n",
    "    #先对所有特征进行异常检测\n",
    "    #对7日内付过费的用户，不处理\n",
    "    #对7日内没付过费的用户，替换所有异常值为当前特征的中位数或者0\n",
    "    \n",
    "    Xtrain_ = Xtrain.copy()\n",
    "    Xtest_ = Xtest.copy()\n",
    "    for column in Xtrain_.columns:\n",
    "        #提取当前要检测的列\n",
    "        f_train = Xtrain_.loc[:,column]\n",
    "        f_test = Xtest_.loc[:,column]\n",
    "\n",
    "        #从训练集中计算出QL、QU、IQR、中位数\n",
    "        QL = np.quantile(f_train,0.25)\n",
    "        QU = np.quantile(f_train,0.75)\n",
    "        IQR = QU - QL\n",
    "        medium_ = f_train.median()\n",
    "        \n",
    "        #对训练集和测试集同时进行检测，得到True/False列表\n",
    "        errortrain = ((f_train < (QL - 1.5*IQR)).astype(int) + (f_train > (QU + 1.5*IQR)).astype(int)) != 0\n",
    "        errortest = ((f_test < (QL - 1.5*IQR)).astype(int) + (f_test > (QU + 1.5*IQR)).astype(int)) != 0\n",
    "\n",
    "        #将原矩阵中的异常值替换为中位数，主题排除7日付费用户\n",
    "        #如果效果不够强烈，试试看替换为0\n",
    "        Xtrain_.loc[((Xtrain_[\"付费金额\"]==0).values & errortrain.values),column] = 0 #medium_\n",
    "        Xtest_.loc[((Xtest_[\"付费金额\"]==0).values & errortest.values),column] = 0 #medium_\n",
    "        \n",
    "    return Xtrain_, Xtest_"
   ]
  },
  {
   "cell_type": "code",
   "execution_count": 215,
   "metadata": {},
   "outputs": [
    {
     "data": {
      "text/plain": [
       "count      1372804.000\n",
       "mean        459707.645\n",
       "std        5253011.374\n",
       "min              0.000\n",
       "25%              0.000\n",
       "50%          41934.000\n",
       "75%         153061.750\n",
       "max     1239962311.000\n",
       "Name: 木头获取数量, dtype: float64"
      ]
     },
     "execution_count": 215,
     "metadata": {},
     "output_type": "execute_result"
    }
   ],
   "source": [
    "Xtrain[\"木头获取数量\"].describe()"
   ]
  },
  {
   "cell_type": "code",
   "execution_count": 220,
   "metadata": {},
   "outputs": [
    {
     "ename": "ValueError",
     "evalue": "operands could not be broadcast together with shapes (1372804,) (1372804,2) ",
     "output_type": "error",
     "traceback": [
      "\u001b[0;31m---------------------------------------------------------------------------\u001b[0m",
      "\u001b[0;31mValueError\u001b[0m                                Traceback (most recent call last)",
      "\u001b[0;32m<ipython-input-220-8edaaf4cf3f6>\u001b[0m in \u001b[0;36m<module>\u001b[0;34m\u001b[0m\n\u001b[0;32m----> 1\u001b[0;31m \u001b[0mxtrain\u001b[0m\u001b[0;34m,\u001b[0m \u001b[0mxtest\u001b[0m \u001b[0;34m=\u001b[0m \u001b[0mAbnormalReplace\u001b[0m\u001b[0;34m(\u001b[0m\u001b[0mXtrain\u001b[0m\u001b[0;34m,\u001b[0m\u001b[0mXtest\u001b[0m\u001b[0;34m)\u001b[0m \u001b[0;31m#为了保留原始的Xtrain和Xtest，新生成的值写作小写\u001b[0m\u001b[0;34m\u001b[0m\u001b[0;34m\u001b[0m\u001b[0m\n\u001b[0m",
      "\u001b[0;32m<ipython-input-219-6d15e6fdd65c>\u001b[0m in \u001b[0;36mAbnormalReplace\u001b[0;34m(Xtrain, Xtest)\u001b[0m\n\u001b[1;32m     23\u001b[0m         \u001b[0;31m#将原矩阵中的异常值替换为中位数，主题排除7日付费用户\u001b[0m\u001b[0;34m\u001b[0m\u001b[0;34m\u001b[0m\u001b[0;34m\u001b[0m\u001b[0m\n\u001b[1;32m     24\u001b[0m         \u001b[0;31m#如果效果不够强烈，试试看替换为0\u001b[0m\u001b[0;34m\u001b[0m\u001b[0;34m\u001b[0m\u001b[0;34m\u001b[0m\u001b[0m\n\u001b[0;32m---> 25\u001b[0;31m         \u001b[0mXtrain_\u001b[0m\u001b[0;34m.\u001b[0m\u001b[0mloc\u001b[0m\u001b[0;34m[\u001b[0m\u001b[0;34m(\u001b[0m\u001b[0;34m(\u001b[0m\u001b[0mXtrain_\u001b[0m\u001b[0;34m[\u001b[0m\u001b[0;34m\"付费金额\"\u001b[0m\u001b[0;34m]\u001b[0m\u001b[0;34m==\u001b[0m\u001b[0;36m0\u001b[0m\u001b[0;34m)\u001b[0m\u001b[0;34m.\u001b[0m\u001b[0mvalues\u001b[0m \u001b[0;34m&\u001b[0m \u001b[0merrortrain\u001b[0m\u001b[0;34m.\u001b[0m\u001b[0mvalues\u001b[0m\u001b[0;34m)\u001b[0m\u001b[0;34m,\u001b[0m\u001b[0mcolumn\u001b[0m\u001b[0;34m]\u001b[0m \u001b[0;34m=\u001b[0m \u001b[0;36m0\u001b[0m \u001b[0;31m#medium_\u001b[0m\u001b[0;34m\u001b[0m\u001b[0;34m\u001b[0m\u001b[0m\n\u001b[0m\u001b[1;32m     26\u001b[0m         \u001b[0mXtest_\u001b[0m\u001b[0;34m.\u001b[0m\u001b[0mloc\u001b[0m\u001b[0;34m[\u001b[0m\u001b[0;34m(\u001b[0m\u001b[0;34m(\u001b[0m\u001b[0mXtest_\u001b[0m\u001b[0;34m[\u001b[0m\u001b[0;34m\"付费金额\"\u001b[0m\u001b[0;34m]\u001b[0m\u001b[0;34m==\u001b[0m\u001b[0;36m0\u001b[0m\u001b[0;34m)\u001b[0m\u001b[0;34m.\u001b[0m\u001b[0mvalues\u001b[0m \u001b[0;34m&\u001b[0m \u001b[0merrortest\u001b[0m\u001b[0;34m.\u001b[0m\u001b[0mvalues\u001b[0m\u001b[0;34m)\u001b[0m\u001b[0;34m,\u001b[0m\u001b[0mcolumn\u001b[0m\u001b[0;34m]\u001b[0m \u001b[0;34m=\u001b[0m \u001b[0;36m0\u001b[0m \u001b[0;31m#medium_\u001b[0m\u001b[0;34m\u001b[0m\u001b[0;34m\u001b[0m\u001b[0m\n\u001b[1;32m     27\u001b[0m \u001b[0;34m\u001b[0m\u001b[0m\n",
      "\u001b[0;31mValueError\u001b[0m: operands could not be broadcast together with shapes (1372804,) (1372804,2) "
     ]
    }
   ],
   "source": [
    "xtrain, xtest = AbnormalReplace(Xtrain,Xtest) #为了保留原始的Xtrain和Xtest，新生成的值写作小写"
   ]
  },
  {
   "cell_type": "code",
   "execution_count": 221,
   "metadata": {},
   "outputs": [
    {
     "ename": "NameError",
     "evalue": "name 'xtrain' is not defined",
     "output_type": "error",
     "traceback": [
      "\u001b[0;31m---------------------------------------------------------------------------\u001b[0m",
      "\u001b[0;31mNameError\u001b[0m                                 Traceback (most recent call last)",
      "\u001b[0;32m<ipython-input-221-8ca9769263c0>\u001b[0m in \u001b[0;36m<module>\u001b[0;34m\u001b[0m\n\u001b[0;32m----> 1\u001b[0;31m \u001b[0mxtrain\u001b[0m\u001b[0;34m[\u001b[0m\u001b[0;34m\"木头获取数量\"\u001b[0m\u001b[0;34m]\u001b[0m\u001b[0;34m.\u001b[0m\u001b[0mdescribe\u001b[0m\u001b[0;34m(\u001b[0m\u001b[0;34m)\u001b[0m \u001b[0;31m#查看处理数据确认数据变化\u001b[0m\u001b[0;34m\u001b[0m\u001b[0;34m\u001b[0m\u001b[0m\n\u001b[0m",
      "\u001b[0;31mNameError\u001b[0m: name 'xtrain' is not defined"
     ]
    }
   ],
   "source": [
    "xtrain[\"木头获取数量\"].describe() #查看处理数据确认数据变化"
   ]
  },
  {
   "cell_type": "markdown",
   "metadata": {},
   "source": [
    "#### 5.4 归一化处理"
   ]
  },
  {
   "cell_type": "code",
   "execution_count": 222,
   "metadata": {},
   "outputs": [],
   "source": [
    "#加速运算，各个特征量纲统一 - 使用线性回归的时候就可以查看系数来决定特征的重要性"
   ]
  },
  {
   "cell_type": "code",
   "execution_count": 223,
   "metadata": {},
   "outputs": [],
   "source": [
    "from sklearn.preprocessing import MinMaxScaler #[0,1]最常使用的基本方式，x - x.min() / x.max() - x.min()"
   ]
  },
  {
   "cell_type": "code",
   "execution_count": 224,
   "metadata": {},
   "outputs": [],
   "source": [
    "mm = MinMaxScaler(feature_range = [0,1]) #实例化，[0,1]"
   ]
  },
  {
   "cell_type": "code",
   "execution_count": 225,
   "metadata": {},
   "outputs": [
    {
     "ename": "NameError",
     "evalue": "name 'xtrain' is not defined",
     "output_type": "error",
     "traceback": [
      "\u001b[0;31m---------------------------------------------------------------------------\u001b[0m",
      "\u001b[0;31mNameError\u001b[0m                                 Traceback (most recent call last)",
      "\u001b[0;32m<ipython-input-225-d0a52f03732e>\u001b[0m in \u001b[0;36m<module>\u001b[0;34m\u001b[0m\n\u001b[0;32m----> 1\u001b[0;31m \u001b[0mmm\u001b[0m \u001b[0;34m=\u001b[0m \u001b[0mmm\u001b[0m\u001b[0;34m.\u001b[0m\u001b[0mfit\u001b[0m\u001b[0;34m(\u001b[0m\u001b[0mxtrain\u001b[0m\u001b[0;34m)\u001b[0m \u001b[0;31m#训练 - 生成了训练集上的最小值和最大值\u001b[0m\u001b[0;34m\u001b[0m\u001b[0;34m\u001b[0m\u001b[0m\n\u001b[0m",
      "\u001b[0;31mNameError\u001b[0m: name 'xtrain' is not defined"
     ]
    }
   ],
   "source": [
    "mm = mm.fit(xtrain) #训练 - 生成了训练集上的最小值和最大值"
   ]
  },
  {
   "cell_type": "code",
   "execution_count": 226,
   "metadata": {},
   "outputs": [
    {
     "ename": "NameError",
     "evalue": "name 'xtrain' is not defined",
     "output_type": "error",
     "traceback": [
      "\u001b[0;31m---------------------------------------------------------------------------\u001b[0m",
      "\u001b[0;31mNameError\u001b[0m                                 Traceback (most recent call last)",
      "\u001b[0;32m<ipython-input-226-335c91fa673a>\u001b[0m in \u001b[0;36m<module>\u001b[0;34m\u001b[0m\n\u001b[0;32m----> 1\u001b[0;31m \u001b[0mxtrain\u001b[0m \u001b[0;34m=\u001b[0m \u001b[0mmm\u001b[0m\u001b[0;34m.\u001b[0m\u001b[0mtransform\u001b[0m\u001b[0;34m(\u001b[0m\u001b[0mxtrain\u001b[0m\u001b[0;34m)\u001b[0m \u001b[0;31m#使用训练集上的最小值和最大值对训练集/测试集同时进行归一化\u001b[0m\u001b[0;34m\u001b[0m\u001b[0;34m\u001b[0m\u001b[0m\n\u001b[0m\u001b[1;32m      2\u001b[0m \u001b[0mxtest\u001b[0m \u001b[0;34m=\u001b[0m \u001b[0mmm\u001b[0m\u001b[0;34m.\u001b[0m\u001b[0mtransform\u001b[0m\u001b[0;34m(\u001b[0m\u001b[0mxtest\u001b[0m\u001b[0;34m)\u001b[0m\u001b[0;34m\u001b[0m\u001b[0;34m\u001b[0m\u001b[0m\n",
      "\u001b[0;31mNameError\u001b[0m: name 'xtrain' is not defined"
     ]
    }
   ],
   "source": [
    "xtrain = mm.transform(xtrain) #使用训练集上的最小值和最大值对训练集/测试集同时进行归一化\n",
    "xtest = mm.transform(xtest)"
   ]
  },
  {
   "cell_type": "code",
   "execution_count": 237,
   "metadata": {},
   "outputs": [
    {
     "data": {
      "text/plain": [
       "0.0"
      ]
     },
     "execution_count": 237,
     "metadata": {},
     "output_type": "execute_result"
    }
   ],
   "source": [
    "xtrain.min()"
   ]
  },
  {
   "cell_type": "code",
   "execution_count": 238,
   "metadata": {},
   "outputs": [
    {
     "data": {
      "text/plain": [
       "1.0"
      ]
     },
     "execution_count": 238,
     "metadata": {},
     "output_type": "execute_result"
    }
   ],
   "source": [
    "xtrain.max()"
   ]
  },
  {
   "cell_type": "code",
   "execution_count": 239,
   "metadata": {},
   "outputs": [
    {
     "data": {
      "text/plain": [
       "0.0"
      ]
     },
     "execution_count": 239,
     "metadata": {},
     "output_type": "execute_result"
    }
   ],
   "source": [
    "xtest.min()"
   ]
  },
  {
   "cell_type": "code",
   "execution_count": 240,
   "metadata": {},
   "outputs": [
    {
     "data": {
      "text/plain": [
       "1.3636363636363638"
      ]
     },
     "execution_count": 240,
     "metadata": {},
     "output_type": "execute_result"
    }
   ],
   "source": [
    "xtest.max()"
   ]
  },
  {
   "cell_type": "markdown",
   "metadata": {},
   "source": [
    "#### 5.5 正态化处理 (选做)"
   ]
  },
  {
   "cell_type": "markdown",
   "metadata": {},
   "source": [
    "### 6. 模型融合：处理极度偏态的数据带来的问题"
   ]
  },
  {
   "cell_type": "markdown",
   "metadata": {},
   "source": [
    "在进行异常值处理时，发现所有的氪金用户都被包括在了异常用户中，这说明有大量未氪金的用户表现在游戏资源积累、游戏参与深度上的行为与氪金用户极为相似。同时，氪金用户与不氪金用户的用户组成都相对复杂。\n",
    "\n",
    "在氪金用户中，有进入游戏1分钟就闭眼氪0.99的羊毛玩家，也有在游戏中7日都未氪、7日后不知为何突然磕了一点点的玩家。在不氪金用户中，有深度参与游戏但一分钱不氪肝帝，又有玩得很糟但一直不退游的玩家。因此在预测前其实就可以想象到，模型在用户辨别、金额预测上的效果恐怕不会太好。\n",
    "\n",
    "在之前的特征处理中，我们已经对异常值进行过“盖帽”处理，并在特征中增加我们认为可以让氪金和非氪金用户区别变大的特征，但直接让单一模型对氪金用户的氪金数额进行预测是非常困难的。因此，我们可以使用2个模型进行融合预测，第一个模型是分类模型逻辑回归，我们让逻辑回归先对用户进行“氪与不氪”的预测，然后将逻辑回归认为会氪的用户放入线性回归，再让线性回归直接对“本来就很可能会氪金”的用户进行氪金金额预测。这样的方式经过适当调整后，应该能够提升模型表现。"
   ]
  },
  {
   "cell_type": "markdown",
   "metadata": {},
   "source": [
    "- 创造逻辑回归使用的y"
   ]
  },
  {
   "cell_type": "code",
   "execution_count": 227,
   "metadata": {},
   "outputs": [],
   "source": [
    "#逻辑回归的标签：氪金(1)与不氪金(0)，1类远远少于0类"
   ]
  },
  {
   "cell_type": "code",
   "execution_count": 228,
   "metadata": {},
   "outputs": [],
   "source": [
    "y2 = (y != 0).astype(int) #所有氪金用户转化为1，不氪金用户转化为0"
   ]
  },
  {
   "cell_type": "code",
   "execution_count": 229,
   "metadata": {},
   "outputs": [
    {
     "data": {
      "text/plain": [
       "0    0\n",
       "1    0\n",
       "2    0\n",
       "3    0\n",
       "4    0\n",
       "Name: 45日付费金额, dtype: int64"
      ]
     },
     "execution_count": 229,
     "metadata": {},
     "output_type": "execute_result"
    }
   ],
   "source": [
    "y2.head()"
   ]
  },
  {
   "cell_type": "code",
   "execution_count": 230,
   "metadata": {},
   "outputs": [
    {
     "data": {
      "text/plain": [
       "0    2242019\n",
       "1      45988\n",
       "Name: 45日付费金额, dtype: int64"
      ]
     },
     "execution_count": 230,
     "metadata": {},
     "output_type": "execute_result"
    }
   ],
   "source": [
    "y2.value_counts() #45988 - 45天的时候有氪金金额的用户"
   ]
  },
  {
   "cell_type": "code",
   "execution_count": 231,
   "metadata": {},
   "outputs": [
    {
     "data": {
      "text/plain": [
       "0.9799004111438471"
      ]
     },
     "execution_count": 231,
     "metadata": {},
     "output_type": "execute_result"
    }
   ],
   "source": [
    "1 - 45988/y2.shape[0]"
   ]
  },
  {
   "cell_type": "code",
   "execution_count": 232,
   "metadata": {},
   "outputs": [],
   "source": [
    "#Xtrain,Xtest,线性回归用的Ytrain, Ytest，我有逻辑回归的y2 --> 变成可以和Xtrain、Xtest相匹配的y2train, y2test"
   ]
  },
  {
   "cell_type": "code",
   "execution_count": 233,
   "metadata": {},
   "outputs": [
    {
     "data": {
      "text/html": [
       "<div>\n",
       "<style scoped>\n",
       "    .dataframe tbody tr th:only-of-type {\n",
       "        vertical-align: middle;\n",
       "    }\n",
       "\n",
       "    .dataframe tbody tr th {\n",
       "        vertical-align: top;\n",
       "    }\n",
       "\n",
       "    .dataframe thead th {\n",
       "        text-align: right;\n",
       "    }\n",
       "</style>\n",
       "<table border=\"1\" class=\"dataframe\">\n",
       "  <thead>\n",
       "    <tr style=\"text-align: right;\">\n",
       "      <th>字段解释</th>\n",
       "      <th>木头获取数量</th>\n",
       "      <th>木头消耗数量</th>\n",
       "      <th>石头获取数量</th>\n",
       "      <th>石头消耗数量</th>\n",
       "      <th>象牙获取数量</th>\n",
       "      <th>象牙消耗数量</th>\n",
       "      <th>肉获取数量</th>\n",
       "      <th>肉消耗数量</th>\n",
       "      <th>魔法获取数量</th>\n",
       "      <th>魔法消耗数量</th>\n",
       "      <th>...</th>\n",
       "      <th>玩家发育效率</th>\n",
       "      <th>氪金发育效率</th>\n",
       "      <th>玩家升级效率</th>\n",
       "      <th>氪金升级效率</th>\n",
       "      <th>潜力玩家</th>\n",
       "      <th>好战玩家</th>\n",
       "      <th>肝帝玩家</th>\n",
       "      <th>佛系玩家</th>\n",
       "      <th>菜鸡玩家</th>\n",
       "      <th>流失玩家</th>\n",
       "    </tr>\n",
       "  </thead>\n",
       "  <tbody>\n",
       "    <tr>\n",
       "      <th>1914412</th>\n",
       "      <td>0.000</td>\n",
       "      <td>0.000</td>\n",
       "      <td>0.000</td>\n",
       "      <td>0.000</td>\n",
       "      <td>0.000</td>\n",
       "      <td>0.000</td>\n",
       "      <td>0.000</td>\n",
       "      <td>0.000</td>\n",
       "      <td>0.000</td>\n",
       "      <td>0.000</td>\n",
       "      <td>...</td>\n",
       "      <td>0.000</td>\n",
       "      <td>0.000</td>\n",
       "      <td>0.000</td>\n",
       "      <td>0.000</td>\n",
       "      <td>0</td>\n",
       "      <td>0</td>\n",
       "      <td>1</td>\n",
       "      <td>0</td>\n",
       "      <td>1</td>\n",
       "      <td>0</td>\n",
       "    </tr>\n",
       "    <tr>\n",
       "      <th>188838</th>\n",
       "      <td>26375.000</td>\n",
       "      <td>4200.000</td>\n",
       "      <td>0.000</td>\n",
       "      <td>0.000</td>\n",
       "      <td>0.000</td>\n",
       "      <td>0.000</td>\n",
       "      <td>32000.000</td>\n",
       "      <td>2250.000</td>\n",
       "      <td>0.000</td>\n",
       "      <td>0.000</td>\n",
       "      <td>...</td>\n",
       "      <td>8996.154</td>\n",
       "      <td>0.000</td>\n",
       "      <td>1.493</td>\n",
       "      <td>0.000</td>\n",
       "      <td>0</td>\n",
       "      <td>0</td>\n",
       "      <td>1</td>\n",
       "      <td>0</td>\n",
       "      <td>1</td>\n",
       "      <td>0</td>\n",
       "    </tr>\n",
       "    <tr>\n",
       "      <th>1879427</th>\n",
       "      <td>2063.000</td>\n",
       "      <td>1350.000</td>\n",
       "      <td>0.000</td>\n",
       "      <td>0.000</td>\n",
       "      <td>0.000</td>\n",
       "      <td>0.000</td>\n",
       "      <td>1531.000</td>\n",
       "      <td>675.000</td>\n",
       "      <td>0.000</td>\n",
       "      <td>0.000</td>\n",
       "      <td>...</td>\n",
       "      <td>184.308</td>\n",
       "      <td>0.000</td>\n",
       "      <td>0.009</td>\n",
       "      <td>0.000</td>\n",
       "      <td>0</td>\n",
       "      <td>0</td>\n",
       "      <td>1</td>\n",
       "      <td>0</td>\n",
       "      <td>1</td>\n",
       "      <td>0</td>\n",
       "    </tr>\n",
       "    <tr>\n",
       "      <th>1616849</th>\n",
       "      <td>56314.000</td>\n",
       "      <td>17460.000</td>\n",
       "      <td>0.000</td>\n",
       "      <td>0.000</td>\n",
       "      <td>0.000</td>\n",
       "      <td>0.000</td>\n",
       "      <td>76717.000</td>\n",
       "      <td>10850.000</td>\n",
       "      <td>0.000</td>\n",
       "      <td>0.000</td>\n",
       "      <td>...</td>\n",
       "      <td>12294.005</td>\n",
       "      <td>0.000</td>\n",
       "      <td>0.997</td>\n",
       "      <td>0.000</td>\n",
       "      <td>0</td>\n",
       "      <td>0</td>\n",
       "      <td>1</td>\n",
       "      <td>0</td>\n",
       "      <td>1</td>\n",
       "      <td>0</td>\n",
       "    </tr>\n",
       "    <tr>\n",
       "      <th>2046255</th>\n",
       "      <td>220125.000</td>\n",
       "      <td>3700.000</td>\n",
       "      <td>200000.000</td>\n",
       "      <td>0.000</td>\n",
       "      <td>200000.000</td>\n",
       "      <td>0.000</td>\n",
       "      <td>616375.000</td>\n",
       "      <td>2000.000</td>\n",
       "      <td>60000.000</td>\n",
       "      <td>0.000</td>\n",
       "      <td>...</td>\n",
       "      <td>299367.992</td>\n",
       "      <td>0.000</td>\n",
       "      <td>2.197</td>\n",
       "      <td>0.000</td>\n",
       "      <td>0</td>\n",
       "      <td>0</td>\n",
       "      <td>1</td>\n",
       "      <td>0</td>\n",
       "      <td>1</td>\n",
       "      <td>0</td>\n",
       "    </tr>\n",
       "  </tbody>\n",
       "</table>\n",
       "<p>5 rows × 119 columns</p>\n",
       "</div>"
      ],
      "text/plain": [
       "字段解释        木头获取数量    木头消耗数量     石头获取数量  石头消耗数量     象牙获取数量  象牙消耗数量      肉获取数量  \\\n",
       "1914412      0.000     0.000      0.000   0.000      0.000   0.000      0.000   \n",
       "188838   26375.000  4200.000      0.000   0.000      0.000   0.000  32000.000   \n",
       "1879427   2063.000  1350.000      0.000   0.000      0.000   0.000   1531.000   \n",
       "1616849  56314.000 17460.000      0.000   0.000      0.000   0.000  76717.000   \n",
       "2046255 220125.000  3700.000 200000.000   0.000 200000.000   0.000 616375.000   \n",
       "\n",
       "字段解释        肉消耗数量    魔法获取数量  魔法消耗数量  ...      玩家发育效率  氪金发育效率  玩家升级效率  氪金升级效率  \\\n",
       "1914412     0.000     0.000   0.000  ...       0.000   0.000   0.000   0.000   \n",
       "188838   2250.000     0.000   0.000  ...    8996.154   0.000   1.493   0.000   \n",
       "1879427   675.000     0.000   0.000  ...     184.308   0.000   0.009   0.000   \n",
       "1616849 10850.000     0.000   0.000  ...   12294.005   0.000   0.997   0.000   \n",
       "2046255  2000.000 60000.000   0.000  ...  299367.992   0.000   2.197   0.000   \n",
       "\n",
       "字段解释     潜力玩家  好战玩家  肝帝玩家  佛系玩家  菜鸡玩家  流失玩家  \n",
       "1914412     0     0     1     0     1     0  \n",
       "188838      0     0     1     0     1     0  \n",
       "1879427     0     0     1     0     1     0  \n",
       "1616849     0     0     1     0     1     0  \n",
       "2046255     0     0     1     0     1     0  \n",
       "\n",
       "[5 rows x 119 columns]"
      ]
     },
     "execution_count": 233,
     "metadata": {},
     "output_type": "execute_result"
    }
   ],
   "source": [
    "Xtrain.head()"
   ]
  },
  {
   "cell_type": "code",
   "execution_count": 234,
   "metadata": {},
   "outputs": [],
   "source": [
    "Ytrain2 = y2[Xtrain.index] #以Xtrain,Xtest的分割方式来分割y2，这样y2就是与Ytrain相匹配的"
   ]
  },
  {
   "cell_type": "code",
   "execution_count": 235,
   "metadata": {},
   "outputs": [],
   "source": [
    "Ytest2 = y2[Xtest.index]"
   ]
  },
  {
   "cell_type": "code",
   "execution_count": 236,
   "metadata": {},
   "outputs": [
    {
     "data": {
      "text/plain": [
       "1914412    0\n",
       "188838     0\n",
       "1879427    0\n",
       "1616849    0\n",
       "2046255    0\n",
       "Name: 45日付费金额, dtype: int64"
      ]
     },
     "execution_count": 236,
     "metadata": {},
     "output_type": "execute_result"
    }
   ],
   "source": [
    "Ytrain2.head() #注意索引与原来相对"
   ]
  },
  {
   "cell_type": "markdown",
   "metadata": {},
   "source": [
    "- 使用逻辑回归进行建模并使用ROC进行评估"
   ]
  },
  {
   "cell_type": "code",
   "execution_count": 237,
   "metadata": {},
   "outputs": [],
   "source": [
    "from sklearn.linear_model import LogisticRegression as LogiR\n",
    "from sklearn.metrics import roc_auc_score as ROC #ROC\n",
    "from sklearn.metrics import recall_score as Recall #召回\n",
    "from sklearn.metrics import precision_score as Precision #精确度"
   ]
  },
  {
   "cell_type": "code",
   "execution_count": 238,
   "metadata": {},
   "outputs": [],
   "source": [
    "clf = LogiR(random_state=0) #逻辑回归的实例化"
   ]
  },
  {
   "cell_type": "code",
   "execution_count": 239,
   "metadata": {},
   "outputs": [
    {
     "ename": "NameError",
     "evalue": "name 'xtrain' is not defined",
     "output_type": "error",
     "traceback": [
      "\u001b[0;31m---------------------------------------------------------------------------\u001b[0m",
      "\u001b[0;31mNameError\u001b[0m                                 Traceback (most recent call last)",
      "\u001b[0;32m<ipython-input-239-706d1633e54a>\u001b[0m in \u001b[0;36m<module>\u001b[0;34m\u001b[0m\n\u001b[0;32m----> 1\u001b[0;31m \u001b[0mclf\u001b[0m\u001b[0;34m.\u001b[0m\u001b[0mfit\u001b[0m\u001b[0;34m(\u001b[0m\u001b[0mxtrain\u001b[0m\u001b[0;34m,\u001b[0m\u001b[0mYtrain2\u001b[0m\u001b[0;34m)\u001b[0m \u001b[0;31m#训练，使用经过一切特征工程的特征矩阵xtrain\u001b[0m\u001b[0;34m\u001b[0m\u001b[0;34m\u001b[0m\u001b[0m\n\u001b[0m",
      "\u001b[0;31mNameError\u001b[0m: name 'xtrain' is not defined"
     ]
    }
   ],
   "source": [
    "clf.fit(xtrain,Ytrain2) #训练，使用经过一切特征工程的特征矩阵xtrain"
   ]
  },
  {
   "cell_type": "code",
   "execution_count": 256,
   "metadata": {},
   "outputs": [
    {
     "data": {
      "text/plain": [
       "0.9968094498559154"
      ]
     },
     "execution_count": 256,
     "metadata": {},
     "output_type": "execute_result"
    }
   ],
   "source": [
    "clf.score(xtrain,Ytrain2) #逻辑回归在训练集上的准确率"
   ]
  },
  {
   "cell_type": "code",
   "execution_count": 257,
   "metadata": {},
   "outputs": [
    {
     "data": {
      "text/plain": [
       "0.9968302114394293"
      ]
     },
     "execution_count": 257,
     "metadata": {},
     "output_type": "execute_result"
    }
   ],
   "source": [
    "clf.score(xtest,Ytest2) #逻辑回归在测试集上的准确率"
   ]
  },
  {
   "cell_type": "code",
   "execution_count": 262,
   "metadata": {},
   "outputs": [],
   "source": [
    "#测试集的拟合情况\n",
    "y2_proba = clf.predict_proba(xtest) #找出了逻辑回归在测试集上对每个样本预测的概率"
   ]
  },
  {
   "cell_type": "code",
   "execution_count": 263,
   "metadata": {},
   "outputs": [
    {
     "data": {
      "text/plain": [
       "array([[0.99489246, 0.00510754],\n",
       "       [0.99814666, 0.00185334],\n",
       "       [0.99821666, 0.00178334],\n",
       "       ...,\n",
       "       [0.99808411, 0.00191589],\n",
       "       [0.99753833, 0.00246167],\n",
       "       [0.99817061, 0.00182939]])"
      ]
     },
     "execution_count": 263,
     "metadata": {},
     "output_type": "execute_result"
    }
   ],
   "source": [
    "y2_proba"
   ]
  },
  {
   "cell_type": "code",
   "execution_count": 258,
   "metadata": {},
   "outputs": [
    {
     "data": {
      "text/plain": [
       "array([0.00510754, 0.00185334, 0.00178334, ..., 0.00191589, 0.00246167,\n",
       "       0.00182939])"
      ]
     },
     "execution_count": 258,
     "metadata": {},
     "output_type": "execute_result"
    }
   ],
   "source": [
    "y2_proba[:,1] #提取出为1的概率"
   ]
  },
  {
   "cell_type": "code",
   "execution_count": 259,
   "metadata": {},
   "outputs": [
    {
     "data": {
      "text/plain": [
       "0.9712748966963473"
      ]
     },
     "execution_count": 259,
     "metadata": {},
     "output_type": "execute_result"
    }
   ],
   "source": [
    "ROC(Ytest2,y2_proba[:,1]) #越接近1越好（越接近0越好），最糟糕的情况是接近0.5"
   ]
  },
  {
   "cell_type": "code",
   "execution_count": 260,
   "metadata": {},
   "outputs": [
    {
     "data": {
      "text/plain": [
       "0.8421310404875925"
      ]
     },
     "execution_count": 260,
     "metadata": {},
     "output_type": "execute_result"
    }
   ],
   "source": [
    "Recall(Ytest2,clf.predict(xtest))"
   ]
  },
  {
   "cell_type": "code",
   "execution_count": 261,
   "metadata": {},
   "outputs": [
    {
     "data": {
      "text/plain": [
       "1.0"
      ]
     },
     "execution_count": 261,
     "metadata": {},
     "output_type": "execute_result"
    }
   ],
   "source": [
    "Precision(Ytest2,clf.predict(xtest))"
   ]
  },
  {
   "cell_type": "markdown",
   "metadata": {},
   "source": [
    "逻辑回归的结果出乎意料地好，能够在样本不均衡如此严重的情况下达到0.98的ROC，证明该数据与逻辑回归非常适配。"
   ]
  },
  {
   "cell_type": "markdown",
   "metadata": {},
   "source": [
    "- 调节阈值提升Recall"
   ]
  },
  {
   "cell_type": "markdown",
   "metadata": {},
   "source": [
    "recall和precision结合起来看说明，所有被预测为1的值都预测正确了，但是还有部分被预测为0的值，实际上真正的值是1。在该recall和precision下，测试集捕捉出的1类（付费用户）数为："
   ]
  },
  {
   "cell_type": "code",
   "execution_count": 102,
   "metadata": {},
   "outputs": [
    {
     "data": {
      "text/plain": [
       "15771"
      ]
     },
     "execution_count": 102,
     "metadata": {},
     "output_type": "execute_result"
    }
   ],
   "source": [
    "(y2_proba[:,1] > 0.5).sum()"
   ]
  },
  {
   "cell_type": "markdown",
   "metadata": {},
   "source": [
    "实际付费用户数为："
   ]
  },
  {
   "cell_type": "code",
   "execution_count": 103,
   "metadata": {},
   "outputs": [
    {
     "data": {
      "text/plain": [
       "45日付费金额    18376\n",
       "dtype: int64"
      ]
     },
     "execution_count": 103,
     "metadata": {},
     "output_type": "execute_result"
    }
   ],
   "source": [
    "(Ytest != 0).sum()"
   ]
  },
  {
   "cell_type": "markdown",
   "metadata": {},
   "source": [
    "也就是说，有许多氪金用户被逻辑回归分类到“不氪金”的范畴了，如果按照现在的结果建模，那RMSE的主要来源就是**没有被逻辑回归包括的氪金用户的氪金数额 + 被逻辑回归指向付费、受线性回归预测后的金额差异（状况A）**。\n",
    "\n",
    "如果我们希望逻辑回归能够捕捉到所有真实氪金的用户，为此即便误伤一些没有氪金的用户，那我们就要努力提升Recall，此时RMSE的主要来源就是**被逻辑回归误认为是氪金用户的非氪用户在线性回归中的预测值 + 全部真实氪金用户经过线性回归预测后的金额差异（状况B）**。注意该状况下需要线性回归预测的值会更多。\n",
    "\n",
    "为难的是，我们现在并不知道这两种状况中哪种会有整体更低的RMSE，但我们知道现状就是状况A，如果我们需要提升Recall的话就可以降低逻辑回归中用于分类的阈值。\n",
    "\n",
    "在逻辑回归中，当预测出概率后，一般我们认为阈值是0.5，当概率大于0.5时样本的标签为1，当概率小于0.5时样本的标签为0。如果想要提升Recall，可以降低模型的阈值。然而，sklearn中的逻辑回归并不提供该功能，因此我们需要自己计算调整阈值后的Recall。来看下面的代码："
   ]
  },
  {
   "cell_type": "code",
   "execution_count": 104,
   "metadata": {},
   "outputs": [],
   "source": [
    "#找出模型之前预测的1类概率\n",
    "prob = y2_proba[:,1]"
   ]
  },
  {
   "cell_type": "code",
   "execution_count": 105,
   "metadata": {},
   "outputs": [
    {
     "data": {
      "text/plain": [
       "array([0, 0, 0, ..., 0, 0, 0])"
      ]
     },
     "execution_count": 105,
     "metadata": {},
     "output_type": "execute_result"
    }
   ],
   "source": [
    "#尝试更换阈值\n",
    "(prob > 0.3).astype(int) #阈值为0.3下的预测标签"
   ]
  },
  {
   "cell_type": "code",
   "execution_count": 106,
   "metadata": {},
   "outputs": [
    {
     "name": "stdout",
     "output_type": "stream",
     "text": [
      "0.000 Recall:1.000\n",
      "0.026 Recall:0.913\n",
      "0.053 Recall:0.888\n",
      "0.079 Recall:0.868\n",
      "0.105 Recall:0.867\n",
      "0.132 Recall:0.867\n",
      "0.158 Recall:0.866\n",
      "0.184 Recall:0.866\n",
      "0.211 Recall:0.866\n",
      "0.237 Recall:0.865\n",
      "0.263 Recall:0.865\n",
      "0.289 Recall:0.864\n",
      "0.316 Recall:0.863\n",
      "0.342 Recall:0.863\n",
      "0.368 Recall:0.862\n",
      "0.395 Recall:0.861\n",
      "0.421 Recall:0.860\n",
      "0.447 Recall:0.859\n",
      "0.474 Recall:0.859\n",
      "0.500 Recall:0.858\n"
     ]
    }
   ],
   "source": [
    "#在0~0.5中循环20个阈值备选数，会发现阈值越低，recall越高\n",
    "for tol in np.linspace(0,0.5,20):\n",
    "    pred = (prob >= tol).astype(int)\n",
    "    recall = Recall(Ytest2,pred)\n",
    "    print(\"{:.3f} Recall:{:.3f}\".format(tol,recall))"
   ]
  },
  {
   "cell_type": "code",
   "execution_count": 107,
   "metadata": {},
   "outputs": [
    {
     "name": "stdout",
     "output_type": "stream",
     "text": [
      "0.000 Recall:1.000\n",
      "0.014 Recall:0.936\n",
      "0.027 Recall:0.913\n",
      "0.041 Recall:0.902\n",
      "0.055 Recall:0.885\n",
      "0.068 Recall:0.871\n",
      "0.082 Recall:0.868\n",
      "0.096 Recall:0.867\n",
      "0.109 Recall:0.867\n",
      "0.123 Recall:0.867\n",
      "0.137 Recall:0.867\n",
      "0.151 Recall:0.866\n",
      "0.164 Recall:0.866\n",
      "0.178 Recall:0.866\n",
      "0.192 Recall:0.866\n",
      "0.205 Recall:0.866\n",
      "0.219 Recall:0.865\n",
      "0.233 Recall:0.865\n",
      "0.246 Recall:0.865\n",
      "0.260 Recall:0.865\n"
     ]
    }
   ],
   "source": [
    "for tol in np.linspace(0,0.026,20): #在0~0.026之间再选择一个更小的阈值\n",
    "    pred = (prob >= tol).astype(int)\n",
    "    recall = Recall(Ytest2,pred)\n",
    "    print(\"{:.3f} Recall:{:.3f}\".format(tol,recall))"
   ]
  },
  {
   "cell_type": "code",
   "execution_count": 108,
   "metadata": {},
   "outputs": [],
   "source": [
    "#预设阈值\n",
    "#现状：0.5\n",
    "#可能的让recall升高并且降低RMSE的值：尝试0.026\n",
    "#可能让recall升高但或许会误伤太多0类导致RMSE升高的值：尝试0.014\n",
    "\n",
    "tol_ = 0.02 #多次实验之后，确认了阈值0.02可能是一个比较合适的值"
   ]
  },
  {
   "cell_type": "code",
   "execution_count": 109,
   "metadata": {},
   "outputs": [
    {
     "data": {
      "text/plain": [
       "38184"
      ]
     },
     "execution_count": 109,
     "metadata": {},
     "output_type": "execute_result"
    }
   ],
   "source": [
    "#在0.02阈值下，逻辑回归预测了测试集中的多少样本为1\n",
    "(y2_proba[:,1] >= tol_).sum()"
   ]
  },
  {
   "cell_type": "code",
   "execution_count": 110,
   "metadata": {},
   "outputs": [
    {
     "data": {
      "text/plain": [
       "57165"
      ]
     },
     "execution_count": 110,
     "metadata": {},
     "output_type": "execute_result"
    }
   ],
   "source": [
    "#训练集中的多少样本被预测为1\n",
    "(clf.predict_proba(xtrain)[:,1] >= tol_).sum()"
   ]
  },
  {
   "cell_type": "markdown",
   "metadata": {},
   "source": [
    "以上就是需要带入线性回归进行建模的数据量。"
   ]
  },
  {
   "cell_type": "markdown",
   "metadata": {},
   "source": [
    "- 保留逻辑回归按阈值为0.02时的预测结果"
   ]
  },
  {
   "cell_type": "code",
   "execution_count": 111,
   "metadata": {},
   "outputs": [],
   "source": [
    "#对于所有不氪金的样本而言，预测已经到此结束了 - 标签y为0\n",
    "#测试集，千万别忘记将Xtest的索引导入\n",
    "result = pd.DataFrame(y2_proba[:,1],index=Xtest.index)\n",
    "result.columns = [\"logi_proba\"]\n",
    "result[\"logi_y_pred\"] = (result[\"logi_proba\"] >= tol_).astype(int)"
   ]
  },
  {
   "cell_type": "code",
   "execution_count": 112,
   "metadata": {},
   "outputs": [
    {
     "data": {
      "text/html": [
       "<div>\n",
       "<style scoped>\n",
       "    .dataframe tbody tr th:only-of-type {\n",
       "        vertical-align: middle;\n",
       "    }\n",
       "\n",
       "    .dataframe tbody tr th {\n",
       "        vertical-align: top;\n",
       "    }\n",
       "\n",
       "    .dataframe thead th {\n",
       "        text-align: right;\n",
       "    }\n",
       "</style>\n",
       "<table border=\"1\" class=\"dataframe\">\n",
       "  <thead>\n",
       "    <tr style=\"text-align: right;\">\n",
       "      <th></th>\n",
       "      <th>logi_proba</th>\n",
       "      <th>logi_y_pred</th>\n",
       "    </tr>\n",
       "  </thead>\n",
       "  <tbody>\n",
       "    <tr>\n",
       "      <th>660869</th>\n",
       "      <td>0.001033</td>\n",
       "      <td>0</td>\n",
       "    </tr>\n",
       "    <tr>\n",
       "      <th>1002543</th>\n",
       "      <td>0.001454</td>\n",
       "      <td>0</td>\n",
       "    </tr>\n",
       "    <tr>\n",
       "      <th>2044898</th>\n",
       "      <td>0.001400</td>\n",
       "      <td>0</td>\n",
       "    </tr>\n",
       "    <tr>\n",
       "      <th>961802</th>\n",
       "      <td>0.001083</td>\n",
       "      <td>0</td>\n",
       "    </tr>\n",
       "    <tr>\n",
       "      <th>793236</th>\n",
       "      <td>0.001191</td>\n",
       "      <td>0</td>\n",
       "    </tr>\n",
       "  </tbody>\n",
       "</table>\n",
       "</div>"
      ],
      "text/plain": [
       "         logi_proba  logi_y_pred\n",
       "660869     0.001033            0\n",
       "1002543    0.001454            0\n",
       "2044898    0.001400            0\n",
       "961802     0.001083            0\n",
       "793236     0.001191            0"
      ]
     },
     "execution_count": 112,
     "metadata": {},
     "output_type": "execute_result"
    }
   ],
   "source": [
    "result.head()"
   ]
  },
  {
   "cell_type": "code",
   "execution_count": 113,
   "metadata": {},
   "outputs": [],
   "source": [
    "#训练集，同样索引需要导入\n",
    "logi_train_result = pd.DataFrame(clf.predict_proba(xtrain)[:,1],index=Xtrain.index)\n",
    "logi_train_result.columns = [\"logi_train_proba\"]\n",
    "logi_train_result[\"logi_y_pred_train\"] = (logi_train_result[\"logi_train_proba\"] >= tol_).astype(int)"
   ]
  },
  {
   "cell_type": "code",
   "execution_count": 114,
   "metadata": {},
   "outputs": [
    {
     "data": {
      "text/html": [
       "<div>\n",
       "<style scoped>\n",
       "    .dataframe tbody tr th:only-of-type {\n",
       "        vertical-align: middle;\n",
       "    }\n",
       "\n",
       "    .dataframe tbody tr th {\n",
       "        vertical-align: top;\n",
       "    }\n",
       "\n",
       "    .dataframe thead th {\n",
       "        text-align: right;\n",
       "    }\n",
       "</style>\n",
       "<table border=\"1\" class=\"dataframe\">\n",
       "  <thead>\n",
       "    <tr style=\"text-align: right;\">\n",
       "      <th></th>\n",
       "      <th>logi_train_proba</th>\n",
       "      <th>logi_y_pred_train</th>\n",
       "    </tr>\n",
       "  </thead>\n",
       "  <tbody>\n",
       "    <tr>\n",
       "      <th>1914412</th>\n",
       "      <td>0.001444</td>\n",
       "      <td>0</td>\n",
       "    </tr>\n",
       "    <tr>\n",
       "      <th>188838</th>\n",
       "      <td>0.001325</td>\n",
       "      <td>0</td>\n",
       "    </tr>\n",
       "    <tr>\n",
       "      <th>1879427</th>\n",
       "      <td>0.001293</td>\n",
       "      <td>0</td>\n",
       "    </tr>\n",
       "    <tr>\n",
       "      <th>1616849</th>\n",
       "      <td>0.001350</td>\n",
       "      <td>0</td>\n",
       "    </tr>\n",
       "    <tr>\n",
       "      <th>2046255</th>\n",
       "      <td>0.001498</td>\n",
       "      <td>0</td>\n",
       "    </tr>\n",
       "  </tbody>\n",
       "</table>\n",
       "</div>"
      ],
      "text/plain": [
       "         logi_train_proba  logi_y_pred_train\n",
       "1914412          0.001444                  0\n",
       "188838           0.001325                  0\n",
       "1879427          0.001293                  0\n",
       "1616849          0.001350                  0\n",
       "2046255          0.001498                  0"
      ]
     },
     "execution_count": 114,
     "metadata": {},
     "output_type": "execute_result"
    }
   ],
   "source": [
    "logi_train_result.head()"
   ]
  },
  {
   "cell_type": "markdown",
   "metadata": {},
   "source": [
    "- 选出应该放出线性回归中的训练集与测试集"
   ]
  },
  {
   "cell_type": "code",
   "execution_count": 115,
   "metadata": {},
   "outputs": [],
   "source": [
    "#训练集：逻辑回归的预测标签为1的部分\n",
    "xtrain_linear_reg = xtrain[logi_train_result[\"logi_y_pred_train\"] == 1]\n",
    "ytrain_linear_reg = Ytrain[logi_train_result[\"logi_y_pred_train\"] == 1]"
   ]
  },
  {
   "cell_type": "code",
   "execution_count": 116,
   "metadata": {},
   "outputs": [
    {
     "data": {
      "text/plain": [
       "(57165, 119)"
      ]
     },
     "execution_count": 116,
     "metadata": {},
     "output_type": "execute_result"
    }
   ],
   "source": [
    "xtrain_linear_reg.shape #确认与训练集中被预测为1的样本数一致"
   ]
  },
  {
   "cell_type": "code",
   "execution_count": 117,
   "metadata": {},
   "outputs": [],
   "source": [
    "#测试集\n",
    "xtest_linear_reg = xtest[result[\"logi_y_pred\"] == 1]\n",
    "ytest_linear_reg = Ytest[result[\"logi_y_pred\"] == 1]"
   ]
  },
  {
   "cell_type": "code",
   "execution_count": 118,
   "metadata": {},
   "outputs": [
    {
     "data": {
      "text/plain": [
       "(38184, 119)"
      ]
     },
     "execution_count": 118,
     "metadata": {},
     "output_type": "execute_result"
    }
   ],
   "source": [
    "xtest_linear_reg.shape"
   ]
  },
  {
   "cell_type": "markdown",
   "metadata": {},
   "source": [
    "- 开始回归预测"
   ]
  },
  {
   "cell_type": "code",
   "execution_count": 119,
   "metadata": {},
   "outputs": [],
   "source": [
    "def reg_predict(model):\n",
    "    reg = model.fit(xtrain_linear_reg, ytrain_linear_reg) #训练\n",
    "    y_linear_pred = reg.predict(xtest_linear_reg) #对测试集进行预测\n",
    "    print(\"训练集R2:{:.3f}\".format(reg.score(xtrain_linear_reg, ytrain_linear_reg)))\n",
    "    print(\"测试集R2:{:.3f}\".format(reg.score(xtest_linear_reg, ytest_linear_reg)))\n",
    "    print(\"测试集RMSE:{:.3f}\".format(np.sqrt(MSE(ytest_linear_reg,y_linear_pred))))\n",
    "    return y_linear_pred #融合模型预测出的结果中的 - 回归部分"
   ]
  },
  {
   "cell_type": "code",
   "execution_count": 120,
   "metadata": {},
   "outputs": [],
   "source": [
    "#线性回归\n",
    "reg0 = LR()"
   ]
  },
  {
   "cell_type": "code",
   "execution_count": 121,
   "metadata": {},
   "outputs": [
    {
     "name": "stdout",
     "output_type": "stream",
     "text": [
      "训练集R2:0.582\n",
      "测试集R2:0.538\n",
      "测试集RMSE:277.579\n"
     ]
    }
   ],
   "source": [
    "y_linear_pred0 = reg_predict(reg0) #没有什么参数可以调整的"
   ]
  },
  {
   "cell_type": "code",
   "execution_count": 122,
   "metadata": {},
   "outputs": [],
   "source": [
    "from sklearn.ensemble import RandomForestRegressor as RFR\n",
    "from sklearn.ensemble import GradientBoostingRegressor as GBR"
   ]
  },
  {
   "cell_type": "code",
   "execution_count": 123,
   "metadata": {},
   "outputs": [],
   "source": [
    "reg1 = RFR(n_estimators=100,max_depth=2,max_features=20,random_state=1412)\n",
    "reg2 = GBR(n_estimators=100,max_depth=2,max_features=20,random_state=1412)"
   ]
  },
  {
   "cell_type": "code",
   "execution_count": 124,
   "metadata": {},
   "outputs": [
    {
     "name": "stdout",
     "output_type": "stream",
     "text": [
      "训练集R2:0.521\n",
      "测试集R2:0.430\n",
      "测试集RMSE:308.283\n"
     ]
    }
   ],
   "source": [
    "y_linear_pred1 = reg_predict(reg1) #随机森林这个算法就是不太适合现在的数据"
   ]
  },
  {
   "cell_type": "code",
   "execution_count": 125,
   "metadata": {},
   "outputs": [
    {
     "name": "stdout",
     "output_type": "stream",
     "text": [
      "训练集R2:0.735\n",
      "测试集R2:0.533\n",
      "测试集RMSE:279.156\n"
     ]
    }
   ],
   "source": [
    "y_linear_pred2 = reg_predict(reg2)"
   ]
  },
  {
   "cell_type": "markdown",
   "metadata": {},
   "source": [
    "### 7. 模型调优"
   ]
  },
  {
   "cell_type": "code",
   "execution_count": 265,
   "metadata": {},
   "outputs": [],
   "source": [
    "#学习曲线、交叉验证、网格搜索 - 通通靠边"
   ]
  },
  {
   "cell_type": "markdown",
   "metadata": {},
   "source": [
    "- 经验调参"
   ]
  },
  {
   "cell_type": "code",
   "execution_count": 126,
   "metadata": {},
   "outputs": [],
   "source": [
    "reg2 = GBR(n_estimators = 490 #首先考虑的是增大模型的树的数量，来提升整体拟合能力\n",
    "           ,max_depth= 2 #但又很容易过拟合，因此控制住树的深度\n",
    "           ,learning_rate= 0.05 #当n_estimators和max_depth调不出好结果时，有限考虑降低学习率，学习率对树模型的效果影响很大\n",
    "           ,max_features = 50 #max_features的存在一开始主要是为了控制建模速度的，但是也可以控制过拟合，可以使用学习曲线找适合的阶段和位置\n",
    "           ,min_samples_split = 25 #如果模型仍然过拟合，可以试着增加min_samples_split，增大允许分叶子的样本数量，以此来减少树的拟合程度\n",
    "           ,random_state= 1412)"
   ]
  },
  {
   "cell_type": "code",
   "execution_count": 127,
   "metadata": {},
   "outputs": [
    {
     "name": "stdout",
     "output_type": "stream",
     "text": [
      "训练集R2:0.795\n",
      "测试集R2:0.586\n",
      "测试集RMSE:262.749\n"
     ]
    }
   ],
   "source": [
    "y_linear_pred2 = reg_predict(reg2)"
   ]
  },
  {
   "cell_type": "markdown",
   "metadata": {},
   "source": [
    "- 将线性回归与逻辑回归的预测值合并"
   ]
  },
  {
   "cell_type": "code",
   "execution_count": 128,
   "metadata": {},
   "outputs": [],
   "source": [
    "result[\"reg_result\"] = 0 #创建新列，全部为0"
   ]
  },
  {
   "cell_type": "code",
   "execution_count": 129,
   "metadata": {},
   "outputs": [],
   "source": [
    "#将逻辑回归的预测标签为1的样本提出来，对所有这些样本的“reg_result”回归结果列填入回归的预测结果y_linear_pred\n",
    "result.loc[result[\"logi_y_pred\"] == 1,\"reg_result\"] = y_linear_pred2"
   ]
  },
  {
   "cell_type": "code",
   "execution_count": 130,
   "metadata": {},
   "outputs": [
    {
     "data": {
      "text/html": [
       "<div>\n",
       "<style scoped>\n",
       "    .dataframe tbody tr th:only-of-type {\n",
       "        vertical-align: middle;\n",
       "    }\n",
       "\n",
       "    .dataframe tbody tr th {\n",
       "        vertical-align: top;\n",
       "    }\n",
       "\n",
       "    .dataframe thead th {\n",
       "        text-align: right;\n",
       "    }\n",
       "</style>\n",
       "<table border=\"1\" class=\"dataframe\">\n",
       "  <thead>\n",
       "    <tr style=\"text-align: right;\">\n",
       "      <th></th>\n",
       "      <th>logi_proba</th>\n",
       "      <th>logi_y_pred</th>\n",
       "      <th>reg_result</th>\n",
       "    </tr>\n",
       "  </thead>\n",
       "  <tbody>\n",
       "    <tr>\n",
       "      <th>660869</th>\n",
       "      <td>0.001033</td>\n",
       "      <td>0</td>\n",
       "      <td>0.0</td>\n",
       "    </tr>\n",
       "    <tr>\n",
       "      <th>1002543</th>\n",
       "      <td>0.001454</td>\n",
       "      <td>0</td>\n",
       "      <td>0.0</td>\n",
       "    </tr>\n",
       "    <tr>\n",
       "      <th>2044898</th>\n",
       "      <td>0.001400</td>\n",
       "      <td>0</td>\n",
       "      <td>0.0</td>\n",
       "    </tr>\n",
       "    <tr>\n",
       "      <th>961802</th>\n",
       "      <td>0.001083</td>\n",
       "      <td>0</td>\n",
       "      <td>0.0</td>\n",
       "    </tr>\n",
       "    <tr>\n",
       "      <th>793236</th>\n",
       "      <td>0.001191</td>\n",
       "      <td>0</td>\n",
       "      <td>0.0</td>\n",
       "    </tr>\n",
       "  </tbody>\n",
       "</table>\n",
       "</div>"
      ],
      "text/plain": [
       "         logi_proba  logi_y_pred  reg_result\n",
       "660869     0.001033            0         0.0\n",
       "1002543    0.001454            0         0.0\n",
       "2044898    0.001400            0         0.0\n",
       "961802     0.001083            0         0.0\n",
       "793236     0.001191            0         0.0"
      ]
     },
     "execution_count": 130,
     "metadata": {},
     "output_type": "execute_result"
    }
   ],
   "source": [
    "result.head()"
   ]
  },
  {
   "cell_type": "code",
   "execution_count": 131,
   "metadata": {},
   "outputs": [
    {
     "data": {
      "text/html": [
       "<div>\n",
       "<style scoped>\n",
       "    .dataframe tbody tr th:only-of-type {\n",
       "        vertical-align: middle;\n",
       "    }\n",
       "\n",
       "    .dataframe tbody tr th {\n",
       "        vertical-align: top;\n",
       "    }\n",
       "\n",
       "    .dataframe thead th {\n",
       "        text-align: right;\n",
       "    }\n",
       "</style>\n",
       "<table border=\"1\" class=\"dataframe\">\n",
       "  <thead>\n",
       "    <tr style=\"text-align: right;\">\n",
       "      <th></th>\n",
       "      <th>45日付费金额</th>\n",
       "    </tr>\n",
       "  </thead>\n",
       "  <tbody>\n",
       "    <tr>\n",
       "      <th>660869</th>\n",
       "      <td>0.0</td>\n",
       "    </tr>\n",
       "    <tr>\n",
       "      <th>1002543</th>\n",
       "      <td>0.0</td>\n",
       "    </tr>\n",
       "    <tr>\n",
       "      <th>2044898</th>\n",
       "      <td>0.0</td>\n",
       "    </tr>\n",
       "    <tr>\n",
       "      <th>961802</th>\n",
       "      <td>0.0</td>\n",
       "    </tr>\n",
       "    <tr>\n",
       "      <th>793236</th>\n",
       "      <td>0.0</td>\n",
       "    </tr>\n",
       "  </tbody>\n",
       "</table>\n",
       "</div>"
      ],
      "text/plain": [
       "         45日付费金额\n",
       "660869       0.0\n",
       "1002543      0.0\n",
       "2044898      0.0\n",
       "961802       0.0\n",
       "793236       0.0"
      ]
     },
     "execution_count": 131,
     "metadata": {},
     "output_type": "execute_result"
    }
   ],
   "source": [
    "Ytest.head() #确认索引一致"
   ]
  },
  {
   "cell_type": "code",
   "execution_count": 132,
   "metadata": {},
   "outputs": [
    {
     "data": {
      "text/plain": [
       "54.422094868663"
      ]
     },
     "execution_count": 132,
     "metadata": {},
     "output_type": "execute_result"
    }
   ],
   "source": [
    "np.sqrt(MSE(Ytest,result[\"reg_result\"]))"
   ]
  },
  {
   "cell_type": "code",
   "execution_count": 144,
   "metadata": {},
   "outputs": [],
   "source": [
    "FeatureImportance = pd.concat([pd.DataFrame(Xtrain.columns),pd.DataFrame(reg2.feature_importances_)],axis=1)"
   ]
  },
  {
   "cell_type": "code",
   "execution_count": 147,
   "metadata": {},
   "outputs": [
    {
     "data": {
      "text/html": [
       "<div>\n",
       "<style scoped>\n",
       "    .dataframe tbody tr th:only-of-type {\n",
       "        vertical-align: middle;\n",
       "    }\n",
       "\n",
       "    .dataframe tbody tr th {\n",
       "        vertical-align: top;\n",
       "    }\n",
       "\n",
       "    .dataframe thead th {\n",
       "        text-align: right;\n",
       "    }\n",
       "</style>\n",
       "<table border=\"1\" class=\"dataframe\">\n",
       "  <thead>\n",
       "    <tr style=\"text-align: right;\">\n",
       "      <th></th>\n",
       "      <th>字段解释</th>\n",
       "      <th>0</th>\n",
       "    </tr>\n",
       "  </thead>\n",
       "  <tbody>\n",
       "    <tr>\n",
       "      <th>104</th>\n",
       "      <td>付费金额</td>\n",
       "      <td>0.249891</td>\n",
       "    </tr>\n",
       "    <tr>\n",
       "      <th>105</th>\n",
       "      <td>付费次数</td>\n",
       "      <td>0.083299</td>\n",
       "    </tr>\n",
       "    <tr>\n",
       "      <th>28</th>\n",
       "      <td>训练加速获取数量</td>\n",
       "      <td>0.068863</td>\n",
       "    </tr>\n",
       "    <tr>\n",
       "      <th>4</th>\n",
       "      <td>象牙获取数量</td>\n",
       "      <td>0.066772</td>\n",
       "    </tr>\n",
       "    <tr>\n",
       "      <th>23</th>\n",
       "      <td>通用加速使用数量</td>\n",
       "      <td>0.062143</td>\n",
       "    </tr>\n",
       "    <tr>\n",
       "      <th>...</th>\n",
       "      <td>...</td>\n",
       "      <td>...</td>\n",
       "    </tr>\n",
       "    <tr>\n",
       "      <th>82</th>\n",
       "      <td>科研：魔法采集</td>\n",
       "      <td>0.000000</td>\n",
       "    </tr>\n",
       "    <tr>\n",
       "      <th>85</th>\n",
       "      <td>科研：据点二</td>\n",
       "      <td>0.000000</td>\n",
       "    </tr>\n",
       "    <tr>\n",
       "      <th>57</th>\n",
       "      <td>科研：高阶巨兽骑兵</td>\n",
       "      <td>0.000000</td>\n",
       "    </tr>\n",
       "    <tr>\n",
       "      <th>94</th>\n",
       "      <td>科研：增援部队容量</td>\n",
       "      <td>0.000000</td>\n",
       "    </tr>\n",
       "    <tr>\n",
       "      <th>118</th>\n",
       "      <td>流失玩家</td>\n",
       "      <td>0.000000</td>\n",
       "    </tr>\n",
       "  </tbody>\n",
       "</table>\n",
       "<p>119 rows × 2 columns</p>\n",
       "</div>"
      ],
      "text/plain": [
       "          字段解释         0\n",
       "104       付费金额  0.249891\n",
       "105       付费次数  0.083299\n",
       "28    训练加速获取数量  0.068863\n",
       "4       象牙获取数量  0.066772\n",
       "23    通用加速使用数量  0.062143\n",
       "..         ...       ...\n",
       "82     科研：魔法采集  0.000000\n",
       "85      科研：据点二  0.000000\n",
       "57   科研：高阶巨兽骑兵  0.000000\n",
       "94   科研：增援部队容量  0.000000\n",
       "118       流失玩家  0.000000\n",
       "\n",
       "[119 rows x 2 columns]"
      ]
     },
     "execution_count": 147,
     "metadata": {},
     "output_type": "execute_result"
    }
   ],
   "source": [
    "FeatureImportance.sort_values(0,ascending=False) #特征重要性"
   ]
  },
  {
   "cell_type": "markdown",
   "metadata": {},
   "source": [
    "- **改进空间**\n",
    "> 1. 使用聚合方式创造特征\n",
    "> 2. 使用分箱处理连续型特征（对线性回归有异常好的效果）\n",
    "> 3. 更换更强大的算法（如神经网络/LGBM）"
   ]
  },
  {
   "cell_type": "code",
   "execution_count": null,
   "metadata": {},
   "outputs": [],
   "source": []
  }
 ],
 "metadata": {
  "kernelspec": {
   "display_name": "Python 3",
   "language": "python",
   "name": "python3"
  },
  "language_info": {
   "codemirror_mode": {
    "name": "ipython",
    "version": 3
   },
   "file_extension": ".py",
   "mimetype": "text/x-python",
   "name": "python",
   "nbconvert_exporter": "python",
   "pygments_lexer": "ipython3",
   "version": "3.7.1"
  }
 },
 "nbformat": 4,
 "nbformat_minor": 4
}
